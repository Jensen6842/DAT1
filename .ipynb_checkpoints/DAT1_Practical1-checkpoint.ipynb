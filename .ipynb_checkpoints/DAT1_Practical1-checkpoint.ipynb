{
 "cells": [
  {
   "cell_type": "code",
   "execution_count": 3,
   "metadata": {},
   "outputs": [],
   "source": [
    "import numpy as np"
   ]
  },
  {
   "cell_type": "markdown",
   "metadata": {},
   "source": [
    "Lists with % of low emission Licensed Taxis operating in York and Leeds per year from 2011 to 2019"
   ]
  },
  {
   "cell_type": "code",
   "execution_count": 4,
   "metadata": {},
   "outputs": [],
   "source": [
    "yorkTaxis = [0.00,1.00,3.00,6.00,8.00,13.00,16.10,17.60,19.90]\n",
    "leedsTaxis=[0.50,1.20,2.30,5.00,7.80,14.30,17.10,17.30,20.90]"
   ]
  },
  {
   "cell_type": "markdown",
   "metadata": {},
   "source": [
    "Converting the lists into arrays"
   ]
  },
  {
   "cell_type": "code",
   "execution_count": 5,
   "metadata": {},
   "outputs": [],
   "source": [
    "york=np.array(yorkTaxis)\n",
    "leeds=np.array(leedsTaxis)"
   ]
  },
  {
   "cell_type": "markdown",
   "metadata": {},
   "source": [
    "Printing the shape of the arrays"
   ]
  },
  {
   "cell_type": "code",
   "execution_count": 6,
   "metadata": {},
   "outputs": [
    {
     "name": "stdout",
     "output_type": "stream",
     "text": [
      "(9,)\n",
      "(9,)\n"
     ]
    }
   ],
   "source": [
    "print(york.shape)\n",
    "print(leeds.shape)"
   ]
  },
  {
   "cell_type": "markdown",
   "metadata": {},
   "source": [
    "Printing the data types of the arrays"
   ]
  },
  {
   "cell_type": "code",
   "execution_count": 7,
   "metadata": {},
   "outputs": [
    {
     "name": "stdout",
     "output_type": "stream",
     "text": [
      "float64\n",
      "float64\n"
     ]
    }
   ],
   "source": [
    "print(york.dtype)\n",
    "print(leeds.dtype)"
   ]
  },
  {
   "cell_type": "markdown",
   "metadata": {},
   "source": [
    "Getting the values of York and Leeds from 2015 until 2019"
   ]
  },
  {
   "cell_type": "code",
   "execution_count": 8,
   "metadata": {},
   "outputs": [
    {
     "name": "stdout",
     "output_type": "stream",
     "text": [
      "[ 8.  13.  16.1 17.6 19.9]\n",
      "[ 7.8 14.3 17.1 17.3 20.9]\n"
     ]
    }
   ],
   "source": [
    "print(york[4:])\n",
    "print(leeds[4:])"
   ]
  },
  {
   "cell_type": "markdown",
   "metadata": {},
   "source": [
    "Finding the min, max and mean of each city"
   ]
  },
  {
   "cell_type": "code",
   "execution_count": 9,
   "metadata": {},
   "outputs": [
    {
     "name": "stdout",
     "output_type": "stream",
     "text": [
      "0.0 19.9 9.399999999999999\n",
      "0.5 20.9 9.600000000000001\n"
     ]
    }
   ],
   "source": [
    "yorkMin=np.min(york)\n",
    "yorkMax=np.max(york)\n",
    "yorkMean=np.mean(york)\n",
    "print(yorkMin,yorkMax,yorkMean)\n",
    "\n",
    "leedsMin=np.min(leeds)\n",
    "leedsMax=np.max(leeds)\n",
    "leedsMean=np.mean(leeds)\n",
    "print(leedsMin,leedsMax,leedsMean)"
   ]
  },
  {
   "cell_type": "markdown",
   "metadata": {},
   "source": [
    "Concatenating the two arrays"
   ]
  },
  {
   "cell_type": "code",
   "execution_count": 10,
   "metadata": {},
   "outputs": [
    {
     "name": "stdout",
     "output_type": "stream",
     "text": [
      "[ 0.   1.   3.   6.   8.  13.  16.1 17.6 19.9  0.5  1.2  2.3  5.   7.8\n",
      " 14.3 17.1 17.3 20.9]\n"
     ]
    }
   ],
   "source": [
    "allData=np.concatenate((york,leeds))\n",
    "print(allData)"
   ]
  },
  {
   "cell_type": "markdown",
   "metadata": {},
   "source": [
    "Sorting the concatenated array"
   ]
  },
  {
   "cell_type": "code",
   "execution_count": 11,
   "metadata": {},
   "outputs": [
    {
     "name": "stdout",
     "output_type": "stream",
     "text": [
      "[ 0.   0.5  1.   1.2  2.3  3.   5.   6.   7.8  8.  13.  14.3 16.1 17.1\n",
      " 17.3 17.6 19.9 20.9]\n"
     ]
    }
   ],
   "source": [
    "sortedAllData=np.sort(allData)\n",
    "print(sortedAllData)"
   ]
  },
  {
   "cell_type": "markdown",
   "metadata": {},
   "source": [
    "Transforming the concatenated array into a 2D array where each column holds values for each city"
   ]
  },
  {
   "cell_type": "code",
   "execution_count": 12,
   "metadata": {},
   "outputs": [
    {
     "name": "stdout",
     "output_type": "stream",
     "text": [
      "[[ 0.   1. ]\n",
      " [ 3.   6. ]\n",
      " [ 8.  13. ]\n",
      " [16.1 17.6]\n",
      " [19.9  0.5]\n",
      " [ 1.2  2.3]\n",
      " [ 5.   7.8]\n",
      " [14.3 17.1]\n",
      " [17.3 20.9]]\n"
     ]
    }
   ],
   "source": [
    "allData2D=allData.reshape(9,2)\n",
    "print(allData2D)"
   ]
  },
  {
   "cell_type": "markdown",
   "metadata": {},
   "source": [
    "Transposing the allData2D array"
   ]
  },
  {
   "cell_type": "code",
   "execution_count": 13,
   "metadata": {},
   "outputs": [
    {
     "name": "stdout",
     "output_type": "stream",
     "text": [
      "[[ 0.   3.   8.  16.1 19.9  1.2  5.  14.3 17.3]\n",
      " [ 1.   6.  13.  17.6  0.5  2.3  7.8 17.1 20.9]]\n"
     ]
    }
   ],
   "source": [
    "print(allData2D.T)"
   ]
  },
  {
   "cell_type": "markdown",
   "metadata": {},
   "source": [
    "Finding the difference in % of low emission licensed taxis between York and Leeds each year"
   ]
  },
  {
   "cell_type": "code",
   "execution_count": 40,
   "metadata": {},
   "outputs": [
    {
     "name": "stdout",
     "output_type": "stream",
     "text": [
      "[-0.5 -0.2  0.7  1.   0.2 -1.3 -1.   0.3 -1. ]\n"
     ]
    }
   ],
   "source": [
    "diff = np.subtract(york,leeds)\n",
    "print(diff)"
   ]
  },
  {
   "cell_type": "markdown",
   "metadata": {},
   "source": [
    "A function that returns the min and max value of the differences"
   ]
  },
  {
   "cell_type": "code",
   "execution_count": 41,
   "metadata": {},
   "outputs": [
    {
     "name": "stdout",
     "output_type": "stream",
     "text": [
      "(-1.3000000000000007, 1.0)\n"
     ]
    }
   ],
   "source": [
    "def minMaxDiff(diff):\n",
    "    return (np.min(diff),np.max(diff))\n",
    "\n",
    "print(minMaxDiff(diff))"
   ]
  },
  {
   "cell_type": "markdown",
   "metadata": {},
   "source": [
    "A function that counts how many years York had taxis with lower emissions than Leeds"
   ]
  },
  {
   "cell_type": "code",
   "execution_count": 42,
   "metadata": {},
   "outputs": [
    {
     "name": "stdout",
     "output_type": "stream",
     "text": [
      "5\n"
     ]
    }
   ],
   "source": [
    "def countEmissions(a):\n",
    "    return np.count_nonzero(a<0)\n",
    "\n",
    "print(countEmissions(diff))"
   ]
  },
  {
   "cell_type": "markdown",
   "metadata": {},
   "source": [
    "Creating a 2D array in which each entry from the york array is associated with its year"
   ]
  },
  {
   "cell_type": "code",
   "execution_count": 47,
   "metadata": {},
   "outputs": [
    {
     "name": "stdout",
     "output_type": "stream",
     "text": [
      "[[2011.  2012.  2013.  2014.  2015.  2016.  2017.  2018.  2019. ]\n",
      " [   0.     1.     3.     6.     8.    13.    16.1   17.6   19.9]]\n"
     ]
    }
   ],
   "source": [
    "np.set_printoptions(suppress=True)\n",
    "years = []\n",
    "for i in range(len(york)):\n",
    "    years.append(2011+i)\n",
    "years = np.array(years)\n",
    "data = np.vstack(np.arange((years,york))\n",
    "\n",
    "print(data)"
   ]
  },
  {
   "cell_type": "code",
   "execution_count": null,
   "metadata": {},
   "outputs": [],
   "source": []
  }
 ],
 "metadata": {
  "kernelspec": {
   "display_name": "Python 3",
   "language": "python",
   "name": "python3"
  },
  "language_info": {
   "codemirror_mode": {
    "name": "ipython",
    "version": 3
   },
   "file_extension": ".py",
   "mimetype": "text/x-python",
   "name": "python",
   "nbconvert_exporter": "python",
   "pygments_lexer": "ipython3",
   "version": "3.8.3"
  }
 },
 "nbformat": 4,
 "nbformat_minor": 4
}
