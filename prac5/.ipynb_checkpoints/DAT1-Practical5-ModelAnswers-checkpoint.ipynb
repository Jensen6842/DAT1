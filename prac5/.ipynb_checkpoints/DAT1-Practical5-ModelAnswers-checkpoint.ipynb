{
 "cells": [
  {
   "cell_type": "markdown",
   "metadata": {
    "id": "zF7tBkX4pilf"
   },
   "source": [
    "# DATA 1 Practical 5\n",
    "\n",
    "Simos Gerasimou\n",
    "\n",
    "\n",
    "## All You Need to Know About Google Play Store\n",
    "\n",
    "**Google Play store** ([https://play.google.com/store?hl=en](https://play.google.com/store?hl=en)) is a digital distribution service operated and developed by Google. It serves as the official app store for the Android operating system, allowing users to browse and download applications developed with the Android software development kit (SDK) and published through Google. [Wikipedia](https://en.wikipedia.org/wiki/Google_Play).\n",
    "\n",
    "**DataVision** has scraped the Google Play store  and acquired data for several Android applications. Since data from the Play Store apps has great potential to drive app-making businesses to success, DataVision wants to investigate whether any actionable insights can be drawn for developers to work on and capture the Android market!\n",
    "\n",
    "#### Your tasks are to explore this dataset and generade some actionable knowledge. \n",
    "\n",
    "\n",
    "#### This Jupyter Notebook will be presented to  Google stakeholders who have limited knowledge about data science. So, your findings should be complemented by a suitable justification explaining what you observe and, when applicable, what does this observation  mean and, possibly, why it occurs.\n",
    "\n",
    "* For each question (task) a description is provided accompanied (most of the time) by two cells: one for writing the Python code and another for providing the justification. Feel free to add more cells if you feel they are needed, but keep the cells corresponding to the same question close by.\n",
    "\n",
    "(1) To answer these exercises, you **must first read Chapter 3: Dapa Manipulation with Pandas from the Python Data Science Handbook** (https://jakevdp.github.io/PythonDataScienceHandbook/03.00-introduction-to-pandas.html)\n",
    "\n",
    "(2) If you haven't already done so, complete the exercises on Pandas tutorial to become familiar with the library.\n",
    "\n",
    "**Pandas API Reference**: https://pandas.pydata.org/pandas-docs/stable/reference/index.html\n",
    "\n",
    "***"
   ]
  },
  {
   "cell_type": "markdown",
   "metadata": {
    "id": "JSMd71Q2pill"
   },
   "source": [
    "### Part 1: Reading dataset\n",
    "\n",
    "The Google dataset is available on VLE (look for googleplaystore.csv in the Practicals section)\n",
    "\n",
    "Before doing the tasks below, you may want to explore the dataset using a spreadsheet editor (e.g., Excel) to get a high-level view of the dataset.\n",
    "\n",
    "**T1) Load the Google Play Store dataset using Pandas**\n",
    "\n",
    "**Note**: You have to download the dataset on your local machine and then load it onto the Jupyter Notebook"
   ]
  },
  {
   "cell_type": "code",
   "execution_count": 1,
   "metadata": {
    "executionInfo": {
     "elapsed": 625,
     "status": "ok",
     "timestamp": 1613316844452,
     "user": {
      "displayName": "Simos Gerasimou",
      "photoUrl": "https://lh3.googleusercontent.com/a-/AOh14GiyuWEDBGgnFKbsa3BAO5bWW-MwC5_V7MnUQz5JiA=s64",
      "userId": "13902192774339425778"
     },
     "user_tz": 0
    },
    "id": "Nd3k6O6Gpilo"
   },
   "outputs": [],
   "source": [
    "import pandas as pd \n",
    "import numpy as np\n",
    "\n",
    "# Answer:\n",
    "file = \"googleplaystore.csv\"\n",
    "df = pd.read_csv(file) "
   ]
  },
  {
   "cell_type": "markdown",
   "metadata": {
    "id": "GA46YePHpilr"
   },
   "source": [
    "***\n",
    "\n",
    "### Part 2: Cleaning and analysing the dataset"
   ]
  },
  {
   "cell_type": "markdown",
   "metadata": {
    "id": "tNP03BoptJCV"
   },
   "source": [
    "**T2i) Print the first 10 records of the dataframe**"
   ]
  },
  {
   "cell_type": "code",
   "execution_count": 2,
   "metadata": {
    "colab": {
     "base_uri": "https://localhost:8080/",
     "height": 554
    },
    "executionInfo": {
     "elapsed": 1042,
     "status": "ok",
     "timestamp": 1613316844880,
     "user": {
      "displayName": "Simos Gerasimou",
      "photoUrl": "https://lh3.googleusercontent.com/a-/AOh14GiyuWEDBGgnFKbsa3BAO5bWW-MwC5_V7MnUQz5JiA=s64",
      "userId": "13902192774339425778"
     },
     "user_tz": 0
    },
    "id": "JIL4cdSqpilt",
    "outputId": "f84c49d5-d133-4780-9049-ec99dc151c0f"
   },
   "outputs": [
    {
     "data": {
      "text/html": [
       "<div>\n",
       "<style scoped>\n",
       "    .dataframe tbody tr th:only-of-type {\n",
       "        vertical-align: middle;\n",
       "    }\n",
       "\n",
       "    .dataframe tbody tr th {\n",
       "        vertical-align: top;\n",
       "    }\n",
       "\n",
       "    .dataframe thead th {\n",
       "        text-align: right;\n",
       "    }\n",
       "</style>\n",
       "<table border=\"1\" class=\"dataframe\">\n",
       "  <thead>\n",
       "    <tr style=\"text-align: right;\">\n",
       "      <th></th>\n",
       "      <th>App</th>\n",
       "      <th>Category</th>\n",
       "      <th>Rating</th>\n",
       "      <th>Reviews</th>\n",
       "      <th>Size</th>\n",
       "      <th>Installs</th>\n",
       "      <th>Type</th>\n",
       "      <th>Price</th>\n",
       "      <th>Content Rating</th>\n",
       "      <th>Genres</th>\n",
       "      <th>Last Updated</th>\n",
       "      <th>Current Ver</th>\n",
       "      <th>Android Ver</th>\n",
       "    </tr>\n",
       "  </thead>\n",
       "  <tbody>\n",
       "    <tr>\n",
       "      <th>0</th>\n",
       "      <td>Photo Editor &amp; Candy Camera &amp; Grid &amp; ScrapBook</td>\n",
       "      <td>ART_AND_DESIGN</td>\n",
       "      <td>4.1</td>\n",
       "      <td>159</td>\n",
       "      <td>19M</td>\n",
       "      <td>10,000+</td>\n",
       "      <td>Free</td>\n",
       "      <td>0</td>\n",
       "      <td>Everyone</td>\n",
       "      <td>Art &amp; Design</td>\n",
       "      <td>January 7, 2018</td>\n",
       "      <td>1.0.0</td>\n",
       "      <td>4.0.3 and up</td>\n",
       "    </tr>\n",
       "    <tr>\n",
       "      <th>1</th>\n",
       "      <td>Coloring book moana</td>\n",
       "      <td>ART_AND_DESIGN</td>\n",
       "      <td>3.9</td>\n",
       "      <td>967</td>\n",
       "      <td>14M</td>\n",
       "      <td>500,000+</td>\n",
       "      <td>Free</td>\n",
       "      <td>0</td>\n",
       "      <td>Everyone</td>\n",
       "      <td>Art &amp; Design;Pretend Play</td>\n",
       "      <td>January 15, 2018</td>\n",
       "      <td>2.0.0</td>\n",
       "      <td>4.0.3 and up</td>\n",
       "    </tr>\n",
       "    <tr>\n",
       "      <th>2</th>\n",
       "      <td>U Launcher Lite – FREE Live Cool Themes, Hide ...</td>\n",
       "      <td>ART_AND_DESIGN</td>\n",
       "      <td>4.7</td>\n",
       "      <td>87510</td>\n",
       "      <td>8.7M</td>\n",
       "      <td>5,000,000+</td>\n",
       "      <td>Free</td>\n",
       "      <td>0</td>\n",
       "      <td>Everyone</td>\n",
       "      <td>Art &amp; Design</td>\n",
       "      <td>August 1, 2018</td>\n",
       "      <td>1.2.4</td>\n",
       "      <td>4.0.3 and up</td>\n",
       "    </tr>\n",
       "    <tr>\n",
       "      <th>3</th>\n",
       "      <td>Sketch - Draw &amp; Paint</td>\n",
       "      <td>ART_AND_DESIGN</td>\n",
       "      <td>4.5</td>\n",
       "      <td>215644</td>\n",
       "      <td>25M</td>\n",
       "      <td>50,000,000+</td>\n",
       "      <td>Free</td>\n",
       "      <td>0</td>\n",
       "      <td>Teen</td>\n",
       "      <td>Art &amp; Design</td>\n",
       "      <td>June 8, 2018</td>\n",
       "      <td>Varies with device</td>\n",
       "      <td>4.2 and up</td>\n",
       "    </tr>\n",
       "    <tr>\n",
       "      <th>4</th>\n",
       "      <td>Pixel Draw - Number Art Coloring Book</td>\n",
       "      <td>ART_AND_DESIGN</td>\n",
       "      <td>4.3</td>\n",
       "      <td>967</td>\n",
       "      <td>2.8M</td>\n",
       "      <td>100,000+</td>\n",
       "      <td>Free</td>\n",
       "      <td>0</td>\n",
       "      <td>Everyone</td>\n",
       "      <td>Art &amp; Design;Creativity</td>\n",
       "      <td>June 20, 2018</td>\n",
       "      <td>1.1</td>\n",
       "      <td>4.4 and up</td>\n",
       "    </tr>\n",
       "    <tr>\n",
       "      <th>5</th>\n",
       "      <td>Paper flowers instructions</td>\n",
       "      <td>ART_AND_DESIGN</td>\n",
       "      <td>4.4</td>\n",
       "      <td>167</td>\n",
       "      <td>5.6M</td>\n",
       "      <td>50,000+</td>\n",
       "      <td>Free</td>\n",
       "      <td>0</td>\n",
       "      <td>Everyone</td>\n",
       "      <td>Art &amp; Design</td>\n",
       "      <td>March 26, 2017</td>\n",
       "      <td>1</td>\n",
       "      <td>2.3 and up</td>\n",
       "    </tr>\n",
       "    <tr>\n",
       "      <th>6</th>\n",
       "      <td>Smoke Effect Photo Maker - Smoke Editor</td>\n",
       "      <td>ART_AND_DESIGN</td>\n",
       "      <td>3.8</td>\n",
       "      <td>178</td>\n",
       "      <td>19M</td>\n",
       "      <td>50,000+</td>\n",
       "      <td>Free</td>\n",
       "      <td>0</td>\n",
       "      <td>Everyone</td>\n",
       "      <td>Art &amp; Design</td>\n",
       "      <td>April 26, 2018</td>\n",
       "      <td>1.1</td>\n",
       "      <td>4.0.3 and up</td>\n",
       "    </tr>\n",
       "    <tr>\n",
       "      <th>7</th>\n",
       "      <td>Infinite Painter</td>\n",
       "      <td>ART_AND_DESIGN</td>\n",
       "      <td>4.1</td>\n",
       "      <td>36815</td>\n",
       "      <td>29M</td>\n",
       "      <td>1,000,000+</td>\n",
       "      <td>Free</td>\n",
       "      <td>0</td>\n",
       "      <td>Everyone</td>\n",
       "      <td>Art &amp; Design</td>\n",
       "      <td>June 14, 2018</td>\n",
       "      <td>6.1.61.1</td>\n",
       "      <td>4.2 and up</td>\n",
       "    </tr>\n",
       "    <tr>\n",
       "      <th>8</th>\n",
       "      <td>Garden Coloring Book</td>\n",
       "      <td>ART_AND_DESIGN</td>\n",
       "      <td>4.4</td>\n",
       "      <td>13791</td>\n",
       "      <td>33M</td>\n",
       "      <td>1,000,000+</td>\n",
       "      <td>Free</td>\n",
       "      <td>0</td>\n",
       "      <td>Everyone</td>\n",
       "      <td>Art &amp; Design</td>\n",
       "      <td>September 20, 2017</td>\n",
       "      <td>2.9.2</td>\n",
       "      <td>3.0 and up</td>\n",
       "    </tr>\n",
       "    <tr>\n",
       "      <th>9</th>\n",
       "      <td>Kids Paint Free - Drawing Fun</td>\n",
       "      <td>ART_AND_DESIGN</td>\n",
       "      <td>4.7</td>\n",
       "      <td>121</td>\n",
       "      <td>3.1M</td>\n",
       "      <td>10,000+</td>\n",
       "      <td>Free</td>\n",
       "      <td>0</td>\n",
       "      <td>Everyone</td>\n",
       "      <td>Art &amp; Design;Creativity</td>\n",
       "      <td>July 3, 2018</td>\n",
       "      <td>2.8</td>\n",
       "      <td>4.0.3 and up</td>\n",
       "    </tr>\n",
       "  </tbody>\n",
       "</table>\n",
       "</div>"
      ],
      "text/plain": [
       "                                                 App        Category  Rating  \\\n",
       "0     Photo Editor & Candy Camera & Grid & ScrapBook  ART_AND_DESIGN     4.1   \n",
       "1                                Coloring book moana  ART_AND_DESIGN     3.9   \n",
       "2  U Launcher Lite – FREE Live Cool Themes, Hide ...  ART_AND_DESIGN     4.7   \n",
       "3                              Sketch - Draw & Paint  ART_AND_DESIGN     4.5   \n",
       "4              Pixel Draw - Number Art Coloring Book  ART_AND_DESIGN     4.3   \n",
       "5                         Paper flowers instructions  ART_AND_DESIGN     4.4   \n",
       "6            Smoke Effect Photo Maker - Smoke Editor  ART_AND_DESIGN     3.8   \n",
       "7                                   Infinite Painter  ART_AND_DESIGN     4.1   \n",
       "8                               Garden Coloring Book  ART_AND_DESIGN     4.4   \n",
       "9                      Kids Paint Free - Drawing Fun  ART_AND_DESIGN     4.7   \n",
       "\n",
       "   Reviews  Size     Installs  Type Price Content Rating  \\\n",
       "0      159   19M      10,000+  Free     0       Everyone   \n",
       "1      967   14M     500,000+  Free     0       Everyone   \n",
       "2    87510  8.7M   5,000,000+  Free     0       Everyone   \n",
       "3   215644   25M  50,000,000+  Free     0           Teen   \n",
       "4      967  2.8M     100,000+  Free     0       Everyone   \n",
       "5      167  5.6M      50,000+  Free     0       Everyone   \n",
       "6      178   19M      50,000+  Free     0       Everyone   \n",
       "7    36815   29M   1,000,000+  Free     0       Everyone   \n",
       "8    13791   33M   1,000,000+  Free     0       Everyone   \n",
       "9      121  3.1M      10,000+  Free     0       Everyone   \n",
       "\n",
       "                      Genres        Last Updated         Current Ver  \\\n",
       "0               Art & Design     January 7, 2018               1.0.0   \n",
       "1  Art & Design;Pretend Play    January 15, 2018               2.0.0   \n",
       "2               Art & Design      August 1, 2018               1.2.4   \n",
       "3               Art & Design        June 8, 2018  Varies with device   \n",
       "4    Art & Design;Creativity       June 20, 2018                 1.1   \n",
       "5               Art & Design      March 26, 2017                   1   \n",
       "6               Art & Design      April 26, 2018                 1.1   \n",
       "7               Art & Design       June 14, 2018            6.1.61.1   \n",
       "8               Art & Design  September 20, 2017               2.9.2   \n",
       "9    Art & Design;Creativity        July 3, 2018                 2.8   \n",
       "\n",
       "    Android Ver  \n",
       "0  4.0.3 and up  \n",
       "1  4.0.3 and up  \n",
       "2  4.0.3 and up  \n",
       "3    4.2 and up  \n",
       "4    4.4 and up  \n",
       "5    2.3 and up  \n",
       "6  4.0.3 and up  \n",
       "7    4.2 and up  \n",
       "8    3.0 and up  \n",
       "9  4.0.3 and up  "
      ]
     },
     "execution_count": 2,
     "metadata": {},
     "output_type": "execute_result"
    }
   ],
   "source": [
    "#All commands below are equivalent\n",
    "df.head(10)\n",
    "# df[0:10]\n",
    "# df.iloc[0:10]"
   ]
  },
  {
   "cell_type": "markdown",
   "metadata": {
    "id": "J-3Llu8tuD3U"
   },
   "source": [
    "**T2ii) Print the last 3 records of the dataframe**"
   ]
  },
  {
   "cell_type": "code",
   "execution_count": 3,
   "metadata": {
    "colab": {
     "base_uri": "https://localhost:8080/",
     "height": 248
    },
    "executionInfo": {
     "elapsed": 1032,
     "status": "ok",
     "timestamp": 1613316844881,
     "user": {
      "displayName": "Simos Gerasimou",
      "photoUrl": "https://lh3.googleusercontent.com/a-/AOh14GiyuWEDBGgnFKbsa3BAO5bWW-MwC5_V7MnUQz5JiA=s64",
      "userId": "13902192774339425778"
     },
     "user_tz": 0
    },
    "id": "JX6ch_uopilv",
    "outputId": "7f2ccb54-ef6f-4888-ccd1-874fe742b407"
   },
   "outputs": [
    {
     "data": {
      "text/html": [
       "<div>\n",
       "<style scoped>\n",
       "    .dataframe tbody tr th:only-of-type {\n",
       "        vertical-align: middle;\n",
       "    }\n",
       "\n",
       "    .dataframe tbody tr th {\n",
       "        vertical-align: top;\n",
       "    }\n",
       "\n",
       "    .dataframe thead th {\n",
       "        text-align: right;\n",
       "    }\n",
       "</style>\n",
       "<table border=\"1\" class=\"dataframe\">\n",
       "  <thead>\n",
       "    <tr style=\"text-align: right;\">\n",
       "      <th></th>\n",
       "      <th>App</th>\n",
       "      <th>Category</th>\n",
       "      <th>Rating</th>\n",
       "      <th>Reviews</th>\n",
       "      <th>Size</th>\n",
       "      <th>Installs</th>\n",
       "      <th>Type</th>\n",
       "      <th>Price</th>\n",
       "      <th>Content Rating</th>\n",
       "      <th>Genres</th>\n",
       "      <th>Last Updated</th>\n",
       "      <th>Current Ver</th>\n",
       "      <th>Android Ver</th>\n",
       "    </tr>\n",
       "  </thead>\n",
       "  <tbody>\n",
       "    <tr>\n",
       "      <th>10836</th>\n",
       "      <td>Parkinson Exercices FR</td>\n",
       "      <td>MEDICAL</td>\n",
       "      <td>NaN</td>\n",
       "      <td>3</td>\n",
       "      <td>9.5M</td>\n",
       "      <td>1,000+</td>\n",
       "      <td>Free</td>\n",
       "      <td>0</td>\n",
       "      <td>Everyone</td>\n",
       "      <td>Medical</td>\n",
       "      <td>January 20, 2017</td>\n",
       "      <td>1</td>\n",
       "      <td>2.2 and up</td>\n",
       "    </tr>\n",
       "    <tr>\n",
       "      <th>10837</th>\n",
       "      <td>The SCP Foundation DB fr nn5n</td>\n",
       "      <td>BOOKS_AND_REFERENCE</td>\n",
       "      <td>4.5</td>\n",
       "      <td>114</td>\n",
       "      <td>Varies with device</td>\n",
       "      <td>1,000+</td>\n",
       "      <td>Free</td>\n",
       "      <td>0</td>\n",
       "      <td>Mature 17+</td>\n",
       "      <td>Books &amp; Reference</td>\n",
       "      <td>January 19, 2015</td>\n",
       "      <td>Varies with device</td>\n",
       "      <td>Varies with device</td>\n",
       "    </tr>\n",
       "    <tr>\n",
       "      <th>10838</th>\n",
       "      <td>iHoroscope - 2018 Daily Horoscope &amp; Astrology</td>\n",
       "      <td>LIFESTYLE</td>\n",
       "      <td>4.5</td>\n",
       "      <td>398307</td>\n",
       "      <td>19M</td>\n",
       "      <td>10,000,000+</td>\n",
       "      <td>Free</td>\n",
       "      <td>0</td>\n",
       "      <td>Everyone</td>\n",
       "      <td>Lifestyle</td>\n",
       "      <td>July 25, 2018</td>\n",
       "      <td>Varies with device</td>\n",
       "      <td>Varies with device</td>\n",
       "    </tr>\n",
       "  </tbody>\n",
       "</table>\n",
       "</div>"
      ],
      "text/plain": [
       "                                                 App             Category  \\\n",
       "10836                         Parkinson Exercices FR              MEDICAL   \n",
       "10837                  The SCP Foundation DB fr nn5n  BOOKS_AND_REFERENCE   \n",
       "10838  iHoroscope - 2018 Daily Horoscope & Astrology            LIFESTYLE   \n",
       "\n",
       "       Rating  Reviews                Size     Installs  Type Price  \\\n",
       "10836     NaN        3                9.5M       1,000+  Free     0   \n",
       "10837     4.5      114  Varies with device       1,000+  Free     0   \n",
       "10838     4.5   398307                 19M  10,000,000+  Free     0   \n",
       "\n",
       "      Content Rating             Genres      Last Updated         Current Ver  \\\n",
       "10836       Everyone            Medical  January 20, 2017                   1   \n",
       "10837     Mature 17+  Books & Reference  January 19, 2015  Varies with device   \n",
       "10838       Everyone          Lifestyle     July 25, 2018  Varies with device   \n",
       "\n",
       "              Android Ver  \n",
       "10836          2.2 and up  \n",
       "10837  Varies with device  \n",
       "10838  Varies with device  "
      ]
     },
     "execution_count": 3,
     "metadata": {},
     "output_type": "execute_result"
    }
   ],
   "source": [
    "#All commands below are equivalent\n",
    "# df.tail(3)\n",
    "# df[-3:]\n",
    "df.iloc[-3:]"
   ]
  },
  {
   "cell_type": "markdown",
   "metadata": {
    "id": "0ypuvQBvpilx"
   },
   "source": [
    "**T3) Get general info about the dataset**"
   ]
  },
  {
   "cell_type": "code",
   "execution_count": 4,
   "metadata": {
    "colab": {
     "base_uri": "https://localhost:8080/"
    },
    "executionInfo": {
     "elapsed": 1023,
     "status": "ok",
     "timestamp": 1613316844882,
     "user": {
      "displayName": "Simos Gerasimou",
      "photoUrl": "https://lh3.googleusercontent.com/a-/AOh14GiyuWEDBGgnFKbsa3BAO5bWW-MwC5_V7MnUQz5JiA=s64",
      "userId": "13902192774339425778"
     },
     "user_tz": 0
    },
    "id": "FbzVNiLEpily",
    "outputId": "d8e0295d-8dfb-4b66-f538-899104acd20c"
   },
   "outputs": [
    {
     "name": "stdout",
     "output_type": "stream",
     "text": [
      "<class 'pandas.core.frame.DataFrame'>\n",
      "RangeIndex: 10839 entries, 0 to 10838\n",
      "Data columns (total 13 columns):\n",
      " #   Column          Non-Null Count  Dtype  \n",
      "---  ------          --------------  -----  \n",
      " 0   App             10839 non-null  object \n",
      " 1   Category        10839 non-null  object \n",
      " 2   Rating          9365 non-null   float64\n",
      " 3   Reviews         10839 non-null  int64  \n",
      " 4   Size            10839 non-null  object \n",
      " 5   Installs        10839 non-null  object \n",
      " 6   Type            10838 non-null  object \n",
      " 7   Price           10839 non-null  object \n",
      " 8   Content Rating  10839 non-null  object \n",
      " 9   Genres          10839 non-null  object \n",
      " 10  Last Updated    10839 non-null  object \n",
      " 11  Current Ver     10831 non-null  object \n",
      " 12  Android Ver     10837 non-null  object \n",
      "dtypes: float64(1), int64(1), object(11)\n",
      "memory usage: 1.1+ MB\n"
     ]
    }
   ],
   "source": [
    "df.info()"
   ]
  },
  {
   "cell_type": "markdown",
   "metadata": {
    "id": "okNuSdnjpilz"
   },
   "source": [
    "**T4) Explore the dataset and try to understand the meaning of each column. For each column, write its meaning and its data type**"
   ]
  },
  {
   "cell_type": "markdown",
   "metadata": {
    "id": "4MOAWIbAvD7a"
   },
   "source": [
    "- App:            Name of the application (Text)\n",
    "- Category:       Category the app belongs to (Categorical - nominal)\n",
    "- Rating          Overall user rating (Numerical - continuous)\n",
    "- Reviews         Number of user reviews (Numerical - continuous)\n",
    "- Size            Size of the application in MBs (Numerical - continuous)\n",
    "- Installs        Number of user installs (Numerical - discrete)\n",
    "- Type            Free/Paid (Categorical - nominal)\n",
    "- Price           Price of the application (Numerical - continuous)\n",
    "- Content Rating  Age group that can use the app (Categorical - ordinal)\n",
    "- Genres          Genres the application belongs to (Categorical - nominal)\n",
    "- Last Updated    When it was updated last time (Text; or integer if you transform the date into Unix time)\n",
    "- Current Ver     Current version on Play Store (Text)\n",
    "- Android Ver     Min required Android version  (Text)"
   ]
  },
  {
   "cell_type": "markdown",
   "metadata": {
    "id": "HYxnGDLKpil2"
   },
   "source": [
    "**T5) Get the shape of the dataframe**"
   ]
  },
  {
   "cell_type": "code",
   "execution_count": 5,
   "metadata": {
    "colab": {
     "base_uri": "https://localhost:8080/"
    },
    "executionInfo": {
     "elapsed": 1014,
     "status": "ok",
     "timestamp": 1613316844884,
     "user": {
      "displayName": "Simos Gerasimou",
      "photoUrl": "https://lh3.googleusercontent.com/a-/AOh14GiyuWEDBGgnFKbsa3BAO5bWW-MwC5_V7MnUQz5JiA=s64",
      "userId": "13902192774339425778"
     },
     "user_tz": 0
    },
    "id": "8Z0XUlOSpil5",
    "outputId": "5eb5db1e-ad1a-42db-fc5c-896e9a6b445d"
   },
   "outputs": [
    {
     "data": {
      "text/plain": [
       "(10839, 13)"
      ]
     },
     "execution_count": 5,
     "metadata": {},
     "output_type": "execute_result"
    }
   ],
   "source": [
    "df.shape"
   ]
  },
  {
   "cell_type": "markdown",
   "metadata": {
    "id": "BMmauN4Opil7"
   },
   "source": [
    "**T6) Get the name of the columns for the dataframe**"
   ]
  },
  {
   "cell_type": "code",
   "execution_count": 6,
   "metadata": {
    "colab": {
     "base_uri": "https://localhost:8080/"
    },
    "executionInfo": {
     "elapsed": 1007,
     "status": "ok",
     "timestamp": 1613316844885,
     "user": {
      "displayName": "Simos Gerasimou",
      "photoUrl": "https://lh3.googleusercontent.com/a-/AOh14GiyuWEDBGgnFKbsa3BAO5bWW-MwC5_V7MnUQz5JiA=s64",
      "userId": "13902192774339425778"
     },
     "user_tz": 0
    },
    "id": "iEpHm4g7pil7",
    "outputId": "2ef9e2e6-4c9e-45ed-d2ec-7fc2ed5234f1"
   },
   "outputs": [
    {
     "data": {
      "text/plain": [
       "Index(['App', 'Category', 'Rating', 'Reviews', 'Size', 'Installs', 'Type',\n",
       "       'Price', 'Content Rating', 'Genres', 'Last Updated', 'Current Ver',\n",
       "       'Android Ver'],\n",
       "      dtype='object')"
      ]
     },
     "execution_count": 6,
     "metadata": {},
     "output_type": "execute_result"
    }
   ],
   "source": [
    "df.columns"
   ]
  },
  {
   "cell_type": "markdown",
   "metadata": {
    "id": "kTny7cHppil7"
   },
   "source": [
    "**T7) Do you think the columns (variables) need to be more readable? If so, rename them (e.g., suitable capitalisation, eliminate underscores, full words)**"
   ]
  },
  {
   "cell_type": "code",
   "execution_count": 7,
   "metadata": {
    "colab": {
     "base_uri": "https://localhost:8080/"
    },
    "executionInfo": {
     "elapsed": 1001,
     "status": "ok",
     "timestamp": 1613316844887,
     "user": {
      "displayName": "Simos Gerasimou",
      "photoUrl": "https://lh3.googleusercontent.com/a-/AOh14GiyuWEDBGgnFKbsa3BAO5bWW-MwC5_V7MnUQz5JiA=s64",
      "userId": "13902192774339425778"
     },
     "user_tz": 0
    },
    "id": "6mQqaiejpil9",
    "outputId": "5f94f74c-f307-435f-8e31-42e140a27db6"
   },
   "outputs": [
    {
     "data": {
      "text/plain": [
       "Index(['App', 'Category', 'Rating', 'Reviews', 'Size', 'Installs', 'Type',\n",
       "       'Price', 'ContentRating', 'Genres', 'LastUpdated', 'CurrentVersion',\n",
       "       'AndroidVersion'],\n",
       "      dtype='object')"
      ]
     },
     "execution_count": 7,
     "metadata": {},
     "output_type": "execute_result"
    }
   ],
   "source": [
    "#You can eliminate spaces in columns simply because it would be easier to reference them later\n",
    "df.rename(index=str, columns={\"Content Rating\":\"ContentRating\", \"Last Updated\":\"LastUpdated\", \"Current Ver\":\"CurrentVersion\", \"Android Ver\":\"AndroidVersion\"}, inplace=True)\n",
    "df.columns"
   ]
  },
  {
   "cell_type": "markdown",
   "metadata": {
    "id": "5o5-LKDEpil9"
   },
   "source": [
    "**T8) How many duplicated records exist?**\n",
    "\n",
    "**Note**: A record is duplicated if all its entries are identical with another record\n",
    "\n"
   ]
  },
  {
   "cell_type": "code",
   "execution_count": 8,
   "metadata": {
    "colab": {
     "base_uri": "https://localhost:8080/"
    },
    "executionInfo": {
     "elapsed": 995,
     "status": "ok",
     "timestamp": 1613316844888,
     "user": {
      "displayName": "Simos Gerasimou",
      "photoUrl": "https://lh3.googleusercontent.com/a-/AOh14GiyuWEDBGgnFKbsa3BAO5bWW-MwC5_V7MnUQz5JiA=s64",
      "userId": "13902192774339425778"
     },
     "user_tz": 0
    },
    "id": "fmJa-u1mpil-",
    "outputId": "49d86bae-ebef-486d-f516-f1a3aa738c88"
   },
   "outputs": [
    {
     "name": "stdout",
     "output_type": "stream",
     "text": [
      "There are 483 duplicate records\n"
     ]
    }
   ],
   "source": [
    "duplicatesNum = df.duplicated().sum()\n",
    "print(\"There are %d duplicate records\"% (duplicatesNum))"
   ]
  },
  {
   "cell_type": "markdown",
   "metadata": {
    "id": "8NAcEIUPpimB"
   },
   "source": [
    "**T9i) How many of the duplicated records refer to 'blood pressure' in their name?**"
   ]
  },
  {
   "cell_type": "code",
   "execution_count": 9,
   "metadata": {
    "colab": {
     "base_uri": "https://localhost:8080/"
    },
    "executionInfo": {
     "elapsed": 988,
     "status": "ok",
     "timestamp": 1613316844889,
     "user": {
      "displayName": "Simos Gerasimou",
      "photoUrl": "https://lh3.googleusercontent.com/a-/AOh14GiyuWEDBGgnFKbsa3BAO5bWW-MwC5_V7MnUQz5JiA=s64",
      "userId": "13902192774339425778"
     },
     "user_tz": 0
    },
    "id": "DjBTHp5vEu-U",
    "outputId": "ab1c8b09-a46f-46ed-a917-28b1947d31e9"
   },
   "outputs": [
    {
     "name": "stdout",
     "output_type": "stream",
     "text": [
      "9 duplicated records have 'blood pressure' in their name\n",
      "9 duplicated records have 'blood pressure' in their name\n"
     ]
    }
   ],
   "source": [
    "duplicates = df[(df.duplicated())] \n",
    "duplicatedWithBloodPressure = duplicates[duplicates['App'].str.contains('Blood pressure', case=False)]\n",
    "\n",
    "print(\"%d duplicated records have 'blood pressure' in their name\" % (duplicatedWithBloodPressure.shape[0]))\n",
    "print(\"%d duplicated records have 'blood pressure' in their name\" % (len(duplicatedWithBloodPressure)))"
   ]
  },
  {
   "cell_type": "markdown",
   "metadata": {
    "id": "diz4XEm2FuJ3"
   },
   "source": [
    "**T9ii) Print the records you found in task T9i**"
   ]
  },
  {
   "cell_type": "code",
   "execution_count": 10,
   "metadata": {
    "colab": {
     "base_uri": "https://localhost:8080/",
     "height": 419
    },
    "executionInfo": {
     "elapsed": 981,
     "status": "ok",
     "timestamp": 1613316844890,
     "user": {
      "displayName": "Simos Gerasimou",
      "photoUrl": "https://lh3.googleusercontent.com/a-/AOh14GiyuWEDBGgnFKbsa3BAO5bWW-MwC5_V7MnUQz5JiA=s64",
      "userId": "13902192774339425778"
     },
     "user_tz": 0
    },
    "id": "6V6RRcYeF3HF",
    "outputId": "5473a416-a838-4ef5-a6e9-e7228ee6fd49"
   },
   "outputs": [
    {
     "data": {
      "text/html": [
       "<div>\n",
       "<style scoped>\n",
       "    .dataframe tbody tr th:only-of-type {\n",
       "        vertical-align: middle;\n",
       "    }\n",
       "\n",
       "    .dataframe tbody tr th {\n",
       "        vertical-align: top;\n",
       "    }\n",
       "\n",
       "    .dataframe thead th {\n",
       "        text-align: right;\n",
       "    }\n",
       "</style>\n",
       "<table border=\"1\" class=\"dataframe\">\n",
       "  <thead>\n",
       "    <tr style=\"text-align: right;\">\n",
       "      <th></th>\n",
       "      <th>App</th>\n",
       "      <th>Category</th>\n",
       "      <th>Rating</th>\n",
       "      <th>Reviews</th>\n",
       "      <th>Size</th>\n",
       "      <th>Installs</th>\n",
       "      <th>Type</th>\n",
       "      <th>Price</th>\n",
       "      <th>ContentRating</th>\n",
       "      <th>Genres</th>\n",
       "      <th>LastUpdated</th>\n",
       "      <th>CurrentVersion</th>\n",
       "      <th>AndroidVersion</th>\n",
       "    </tr>\n",
       "  </thead>\n",
       "  <tbody>\n",
       "    <tr>\n",
       "      <th>2502</th>\n",
       "      <td>Free Blood Pressure</td>\n",
       "      <td>MEDICAL</td>\n",
       "      <td>NaN</td>\n",
       "      <td>7</td>\n",
       "      <td>5.7M</td>\n",
       "      <td>5,000+</td>\n",
       "      <td>Free</td>\n",
       "      <td>0</td>\n",
       "      <td>Everyone</td>\n",
       "      <td>Medical</td>\n",
       "      <td>October 13, 2016</td>\n",
       "      <td>3.0.0</td>\n",
       "      <td>4.0.3 and up</td>\n",
       "    </tr>\n",
       "    <tr>\n",
       "      <th>2512</th>\n",
       "      <td>JH Blood Pressure Monitor</td>\n",
       "      <td>MEDICAL</td>\n",
       "      <td>3.7</td>\n",
       "      <td>9</td>\n",
       "      <td>2.9M</td>\n",
       "      <td>500+</td>\n",
       "      <td>Free</td>\n",
       "      <td>0</td>\n",
       "      <td>Everyone</td>\n",
       "      <td>Medical</td>\n",
       "      <td>July 21, 2018</td>\n",
       "      <td>1.1</td>\n",
       "      <td>4.0.3 and up</td>\n",
       "    </tr>\n",
       "    <tr>\n",
       "      <th>6584</th>\n",
       "      <td>iBP Blood Pressure</td>\n",
       "      <td>MEDICAL</td>\n",
       "      <td>4.4</td>\n",
       "      <td>578</td>\n",
       "      <td>704k</td>\n",
       "      <td>10,000+</td>\n",
       "      <td>Paid</td>\n",
       "      <td>$0.99</td>\n",
       "      <td>Everyone</td>\n",
       "      <td>Medical</td>\n",
       "      <td>November 30, 2014</td>\n",
       "      <td>7.0.1</td>\n",
       "      <td>2.2 and up</td>\n",
       "    </tr>\n",
       "    <tr>\n",
       "      <th>6585</th>\n",
       "      <td>Blood Pressure</td>\n",
       "      <td>MEDICAL</td>\n",
       "      <td>4.2</td>\n",
       "      <td>33033</td>\n",
       "      <td>7.4M</td>\n",
       "      <td>5,000,000+</td>\n",
       "      <td>Free</td>\n",
       "      <td>0</td>\n",
       "      <td>Everyone</td>\n",
       "      <td>Medical</td>\n",
       "      <td>July 24, 2018</td>\n",
       "      <td>3.27.3</td>\n",
       "      <td>4.1 and up</td>\n",
       "    </tr>\n",
       "    <tr>\n",
       "      <th>6590</th>\n",
       "      <td>Blood Pressure(BP) Diary</td>\n",
       "      <td>MEDICAL</td>\n",
       "      <td>3.7</td>\n",
       "      <td>3596</td>\n",
       "      <td>8.4M</td>\n",
       "      <td>1,000,000+</td>\n",
       "      <td>Free</td>\n",
       "      <td>0</td>\n",
       "      <td>Everyone</td>\n",
       "      <td>Medical</td>\n",
       "      <td>July 18, 2018</td>\n",
       "      <td>4.0.9</td>\n",
       "      <td>4.0.3 and up</td>\n",
       "    </tr>\n",
       "    <tr>\n",
       "      <th>6593</th>\n",
       "      <td>BP Journal - Blood Pressure Diary</td>\n",
       "      <td>MEDICAL</td>\n",
       "      <td>5.0</td>\n",
       "      <td>6</td>\n",
       "      <td>26M</td>\n",
       "      <td>1,000+</td>\n",
       "      <td>Free</td>\n",
       "      <td>0</td>\n",
       "      <td>Everyone</td>\n",
       "      <td>Medical</td>\n",
       "      <td>May 25, 2018</td>\n",
       "      <td>1.0.32</td>\n",
       "      <td>4.4 and up</td>\n",
       "    </tr>\n",
       "    <tr>\n",
       "      <th>6594</th>\n",
       "      <td>Blood Pressure Monitor</td>\n",
       "      <td>MEDICAL</td>\n",
       "      <td>4.3</td>\n",
       "      <td>17</td>\n",
       "      <td>6.0M</td>\n",
       "      <td>10,000+</td>\n",
       "      <td>Free</td>\n",
       "      <td>0</td>\n",
       "      <td>Everyone</td>\n",
       "      <td>Medical</td>\n",
       "      <td>February 25, 2017</td>\n",
       "      <td>1.0.1</td>\n",
       "      <td>4.4 and up</td>\n",
       "    </tr>\n",
       "    <tr>\n",
       "      <th>6595</th>\n",
       "      <td>Blood Pressure Companion</td>\n",
       "      <td>MEDICAL</td>\n",
       "      <td>4.2</td>\n",
       "      <td>178</td>\n",
       "      <td>4.8M</td>\n",
       "      <td>1,000+</td>\n",
       "      <td>Paid</td>\n",
       "      <td>$0.99</td>\n",
       "      <td>Everyone</td>\n",
       "      <td>Medical</td>\n",
       "      <td>July 22, 2018</td>\n",
       "      <td>4.1.5 (Steglitz)</td>\n",
       "      <td>4.1 and up</td>\n",
       "    </tr>\n",
       "    <tr>\n",
       "      <th>6598</th>\n",
       "      <td>Free Blood Pressure</td>\n",
       "      <td>MEDICAL</td>\n",
       "      <td>NaN</td>\n",
       "      <td>7</td>\n",
       "      <td>5.7M</td>\n",
       "      <td>5,000+</td>\n",
       "      <td>Free</td>\n",
       "      <td>0</td>\n",
       "      <td>Everyone</td>\n",
       "      <td>Medical</td>\n",
       "      <td>October 13, 2016</td>\n",
       "      <td>3.0.0</td>\n",
       "      <td>4.0.3 and up</td>\n",
       "    </tr>\n",
       "  </tbody>\n",
       "</table>\n",
       "</div>"
      ],
      "text/plain": [
       "                                    App Category  Rating  Reviews  Size  \\\n",
       "2502                Free Blood Pressure  MEDICAL     NaN        7  5.7M   \n",
       "2512          JH Blood Pressure Monitor  MEDICAL     3.7        9  2.9M   \n",
       "6584                 iBP Blood Pressure  MEDICAL     4.4      578  704k   \n",
       "6585                     Blood Pressure  MEDICAL     4.2    33033  7.4M   \n",
       "6590           Blood Pressure(BP) Diary  MEDICAL     3.7     3596  8.4M   \n",
       "6593  BP Journal - Blood Pressure Diary  MEDICAL     5.0        6   26M   \n",
       "6594             Blood Pressure Monitor  MEDICAL     4.3       17  6.0M   \n",
       "6595           Blood Pressure Companion  MEDICAL     4.2      178  4.8M   \n",
       "6598                Free Blood Pressure  MEDICAL     NaN        7  5.7M   \n",
       "\n",
       "        Installs  Type  Price ContentRating   Genres        LastUpdated  \\\n",
       "2502      5,000+  Free      0      Everyone  Medical   October 13, 2016   \n",
       "2512        500+  Free      0      Everyone  Medical      July 21, 2018   \n",
       "6584     10,000+  Paid  $0.99      Everyone  Medical  November 30, 2014   \n",
       "6585  5,000,000+  Free      0      Everyone  Medical      July 24, 2018   \n",
       "6590  1,000,000+  Free      0      Everyone  Medical      July 18, 2018   \n",
       "6593      1,000+  Free      0      Everyone  Medical       May 25, 2018   \n",
       "6594     10,000+  Free      0      Everyone  Medical  February 25, 2017   \n",
       "6595      1,000+  Paid  $0.99      Everyone  Medical      July 22, 2018   \n",
       "6598      5,000+  Free      0      Everyone  Medical   October 13, 2016   \n",
       "\n",
       "        CurrentVersion AndroidVersion  \n",
       "2502             3.0.0   4.0.3 and up  \n",
       "2512               1.1   4.0.3 and up  \n",
       "6584             7.0.1     2.2 and up  \n",
       "6585            3.27.3     4.1 and up  \n",
       "6590             4.0.9   4.0.3 and up  \n",
       "6593            1.0.32     4.4 and up  \n",
       "6594             1.0.1     4.4 and up  \n",
       "6595  4.1.5 (Steglitz)     4.1 and up  \n",
       "6598             3.0.0   4.0.3 and up  "
      ]
     },
     "execution_count": 10,
     "metadata": {},
     "output_type": "execute_result"
    }
   ],
   "source": [
    "# Printing the duplicated records that contain 'blood pressure' in their name\n",
    "duplicatedWithBloodPressure"
   ]
  },
  {
   "cell_type": "markdown",
   "metadata": {
    "id": "lO_TXFuT7xUx"
   },
   "source": [
    "**T10) Let's look more closely into the dataset. Are there more duplicates?**\n",
    "\n",
    "**Hint:** Check the duplicated function of Pandas to understand how the function operates. Do you need to specify what information to consider when checking for duplicates?"
   ]
  },
  {
   "cell_type": "code",
   "execution_count": 11,
   "metadata": {
    "colab": {
     "base_uri": "https://localhost:8080/"
    },
    "executionInfo": {
     "elapsed": 1165,
     "status": "ok",
     "timestamp": 1613316845084,
     "user": {
      "displayName": "Simos Gerasimou",
      "photoUrl": "https://lh3.googleusercontent.com/a-/AOh14GiyuWEDBGgnFKbsa3BAO5bWW-MwC5_V7MnUQz5JiA=s64",
      "userId": "13902192774339425778"
     },
     "user_tz": 0
    },
    "id": "albqSW1t83Ms",
    "outputId": "6f9afb40-f181-482b-febf-3ca9b39a6d62"
   },
   "outputs": [
    {
     "name": "stdout",
     "output_type": "stream",
     "text": [
      "In fact, there are 1181 duplicate records\n"
     ]
    }
   ],
   "source": [
    "#Two records are the same if they contain information for the same application\n",
    "#So, we need to constraint our check to the applications' name column\n",
    "duplicatedAppsSum = df.duplicated(subset='App').sum()\n",
    "\n",
    "print(\"In fact, there are %d duplicate records\"% (duplicatedAppsSum))"
   ]
  },
  {
   "cell_type": "markdown",
   "metadata": {
    "id": "rAjnzdgt-XeP"
   },
   "source": [
    "**T11) Find the app with the highest number of duplicated records and the number of duplicated records for this app**\n",
    "\n",
    "**Hint:** How can you count the records of a dataframe?"
   ]
  },
  {
   "cell_type": "code",
   "execution_count": 12,
   "metadata": {
    "colab": {
     "base_uri": "https://localhost:8080/"
    },
    "executionInfo": {
     "elapsed": 1158,
     "status": "ok",
     "timestamp": 1613316845086,
     "user": {
      "displayName": "Simos Gerasimou",
      "photoUrl": "https://lh3.googleusercontent.com/a-/AOh14GiyuWEDBGgnFKbsa3BAO5bWW-MwC5_V7MnUQz5JiA=s64",
      "userId": "13902192774339425778"
     },
     "user_tz": 0
    },
    "id": "6kx0QrFk98LT",
    "outputId": "0d27c078-2c35-41b6-ac9a-04f4da89dd35"
   },
   "outputs": [
    {
     "name": "stdout",
     "output_type": "stream",
     "text": [
      "The app ROBLOX has 8 duplicated records\n"
     ]
    }
   ],
   "source": [
    "duplicatedApps = df[df.duplicated(subset='App')]\n",
    "duplicatedAppsSummary =  duplicatedApps['App'].value_counts()\n",
    "\n",
    "print(\"The app %s has %d duplicated records\" % (duplicatedAppsSummary.index[0], duplicatedAppsSummary[0]))"
   ]
  },
  {
   "cell_type": "code",
   "execution_count": null,
   "metadata": {
    "colab": {
     "base_uri": "https://localhost:8080/"
    },
    "executionInfo": {
     "elapsed": 1396,
     "status": "ok",
     "timestamp": 1613316845331,
     "user": {
      "displayName": "Simos Gerasimou",
      "photoUrl": "https://lh3.googleusercontent.com/a-/AOh14GiyuWEDBGgnFKbsa3BAO5bWW-MwC5_V7MnUQz5JiA=s64",
      "userId": "13902192774339425778"
     },
     "user_tz": 0
    },
    "id": "tKNxGooQ_5gB",
    "outputId": "01a766ab-00f2-4118-9e5c-7ce21f99d7a9"
   },
   "outputs": [],
   "source": [
    "#Solution#2 using Python functions\n",
    "duplicatedApps = df[df.duplicated(subset='App')]\n",
    "dupsPerApp = []\n",
    "\n",
    "duplicatedAppsNames = duplicatedApps['App'].unique()\n",
    "for u in duplicatedAppsNames:\n",
    "  dupsPerApp.append(len(duplicatedApps[duplicatedApps['App']==u]))\n",
    "\n",
    "dupsPerAppArray = np.array(dupsPerApp)\n",
    "\n",
    "maxDupRecords     = np.max(dupsPerAppArray)\n",
    "maxDupRecordsApp  = duplicatedAppsNames[dupsPerAppArray.argmax()]\n",
    "\n",
    "print(\"The app %s has %d duplicated records\" % (maxDupRecordsApp, maxDupRecords))"
   ]
  },
  {
   "cell_type": "markdown",
   "metadata": {
    "id": "YrcVW-xaCVYq"
   },
   "source": [
    "**T12) Investigate the records for the app you found in task T10. What can you observe? Can you identiy the reason why the duplicate records exist?**"
   ]
  },
  {
   "cell_type": "code",
   "execution_count": 14,
   "metadata": {
    "colab": {
     "base_uri": "https://localhost:8080/",
     "height": 439
    },
    "executionInfo": {
     "elapsed": 1389,
     "status": "ok",
     "timestamp": 1613316845333,
     "user": {
      "displayName": "Simos Gerasimou",
      "photoUrl": "https://lh3.googleusercontent.com/a-/AOh14GiyuWEDBGgnFKbsa3BAO5bWW-MwC5_V7MnUQz5JiA=s64",
      "userId": "13902192774339425778"
     },
     "user_tz": 0
    },
    "id": "mpvkOjwHGbk8",
    "outputId": "b696ef19-d0b3-4a0b-b185-a786b0483a9f"
   },
   "outputs": [
    {
     "data": {
      "text/html": [
       "<div>\n",
       "<style scoped>\n",
       "    .dataframe tbody tr th:only-of-type {\n",
       "        vertical-align: middle;\n",
       "    }\n",
       "\n",
       "    .dataframe tbody tr th {\n",
       "        vertical-align: top;\n",
       "    }\n",
       "\n",
       "    .dataframe thead th {\n",
       "        text-align: right;\n",
       "    }\n",
       "</style>\n",
       "<table border=\"1\" class=\"dataframe\">\n",
       "  <thead>\n",
       "    <tr style=\"text-align: right;\">\n",
       "      <th></th>\n",
       "      <th>App</th>\n",
       "      <th>Category</th>\n",
       "      <th>Rating</th>\n",
       "      <th>Reviews</th>\n",
       "      <th>Size</th>\n",
       "      <th>Installs</th>\n",
       "      <th>Type</th>\n",
       "      <th>Price</th>\n",
       "      <th>ContentRating</th>\n",
       "      <th>Genres</th>\n",
       "      <th>LastUpdated</th>\n",
       "      <th>CurrentVersion</th>\n",
       "      <th>AndroidVersion</th>\n",
       "    </tr>\n",
       "  </thead>\n",
       "  <tbody>\n",
       "    <tr>\n",
       "      <th>1701</th>\n",
       "      <td>ROBLOX</td>\n",
       "      <td>GAME</td>\n",
       "      <td>4.5</td>\n",
       "      <td>4447346</td>\n",
       "      <td>67M</td>\n",
       "      <td>100,000,000+</td>\n",
       "      <td>Free</td>\n",
       "      <td>0</td>\n",
       "      <td>Everyone 10+</td>\n",
       "      <td>Adventure;Action &amp; Adventure</td>\n",
       "      <td>July 31, 2018</td>\n",
       "      <td>2.347.225742</td>\n",
       "      <td>4.1 and up</td>\n",
       "    </tr>\n",
       "    <tr>\n",
       "      <th>1748</th>\n",
       "      <td>ROBLOX</td>\n",
       "      <td>GAME</td>\n",
       "      <td>4.5</td>\n",
       "      <td>4448791</td>\n",
       "      <td>67M</td>\n",
       "      <td>100,000,000+</td>\n",
       "      <td>Free</td>\n",
       "      <td>0</td>\n",
       "      <td>Everyone 10+</td>\n",
       "      <td>Adventure;Action &amp; Adventure</td>\n",
       "      <td>July 31, 2018</td>\n",
       "      <td>2.347.225742</td>\n",
       "      <td>4.1 and up</td>\n",
       "    </tr>\n",
       "    <tr>\n",
       "      <th>1841</th>\n",
       "      <td>ROBLOX</td>\n",
       "      <td>GAME</td>\n",
       "      <td>4.5</td>\n",
       "      <td>4449882</td>\n",
       "      <td>67M</td>\n",
       "      <td>100,000,000+</td>\n",
       "      <td>Free</td>\n",
       "      <td>0</td>\n",
       "      <td>Everyone 10+</td>\n",
       "      <td>Adventure;Action &amp; Adventure</td>\n",
       "      <td>July 31, 2018</td>\n",
       "      <td>2.347.225742</td>\n",
       "      <td>4.1 and up</td>\n",
       "    </tr>\n",
       "    <tr>\n",
       "      <th>1870</th>\n",
       "      <td>ROBLOX</td>\n",
       "      <td>GAME</td>\n",
       "      <td>4.5</td>\n",
       "      <td>4449910</td>\n",
       "      <td>67M</td>\n",
       "      <td>100,000,000+</td>\n",
       "      <td>Free</td>\n",
       "      <td>0</td>\n",
       "      <td>Everyone 10+</td>\n",
       "      <td>Adventure;Action &amp; Adventure</td>\n",
       "      <td>July 31, 2018</td>\n",
       "      <td>2.347.225742</td>\n",
       "      <td>4.1 and up</td>\n",
       "    </tr>\n",
       "    <tr>\n",
       "      <th>2016</th>\n",
       "      <td>ROBLOX</td>\n",
       "      <td>FAMILY</td>\n",
       "      <td>4.5</td>\n",
       "      <td>4449910</td>\n",
       "      <td>67M</td>\n",
       "      <td>100,000,000+</td>\n",
       "      <td>Free</td>\n",
       "      <td>0</td>\n",
       "      <td>Everyone 10+</td>\n",
       "      <td>Adventure;Action &amp; Adventure</td>\n",
       "      <td>July 31, 2018</td>\n",
       "      <td>2.347.225742</td>\n",
       "      <td>4.1 and up</td>\n",
       "    </tr>\n",
       "    <tr>\n",
       "      <th>2088</th>\n",
       "      <td>ROBLOX</td>\n",
       "      <td>FAMILY</td>\n",
       "      <td>4.5</td>\n",
       "      <td>4450855</td>\n",
       "      <td>67M</td>\n",
       "      <td>100,000,000+</td>\n",
       "      <td>Free</td>\n",
       "      <td>0</td>\n",
       "      <td>Everyone 10+</td>\n",
       "      <td>Adventure;Action &amp; Adventure</td>\n",
       "      <td>July 31, 2018</td>\n",
       "      <td>2.347.225742</td>\n",
       "      <td>4.1 and up</td>\n",
       "    </tr>\n",
       "    <tr>\n",
       "      <th>2206</th>\n",
       "      <td>ROBLOX</td>\n",
       "      <td>FAMILY</td>\n",
       "      <td>4.5</td>\n",
       "      <td>4450890</td>\n",
       "      <td>67M</td>\n",
       "      <td>100,000,000+</td>\n",
       "      <td>Free</td>\n",
       "      <td>0</td>\n",
       "      <td>Everyone 10+</td>\n",
       "      <td>Adventure;Action &amp; Adventure</td>\n",
       "      <td>July 31, 2018</td>\n",
       "      <td>2.347.225742</td>\n",
       "      <td>4.1 and up</td>\n",
       "    </tr>\n",
       "    <tr>\n",
       "      <th>4527</th>\n",
       "      <td>ROBLOX</td>\n",
       "      <td>FAMILY</td>\n",
       "      <td>4.5</td>\n",
       "      <td>4443407</td>\n",
       "      <td>67M</td>\n",
       "      <td>100,000,000+</td>\n",
       "      <td>Free</td>\n",
       "      <td>0</td>\n",
       "      <td>Everyone 10+</td>\n",
       "      <td>Adventure;Action &amp; Adventure</td>\n",
       "      <td>July 31, 2018</td>\n",
       "      <td>2.347.225742</td>\n",
       "      <td>4.1 and up</td>\n",
       "    </tr>\n",
       "  </tbody>\n",
       "</table>\n",
       "</div>"
      ],
      "text/plain": [
       "         App Category  Rating  Reviews Size      Installs  Type Price  \\\n",
       "1701  ROBLOX     GAME     4.5  4447346  67M  100,000,000+  Free     0   \n",
       "1748  ROBLOX     GAME     4.5  4448791  67M  100,000,000+  Free     0   \n",
       "1841  ROBLOX     GAME     4.5  4449882  67M  100,000,000+  Free     0   \n",
       "1870  ROBLOX     GAME     4.5  4449910  67M  100,000,000+  Free     0   \n",
       "2016  ROBLOX   FAMILY     4.5  4449910  67M  100,000,000+  Free     0   \n",
       "2088  ROBLOX   FAMILY     4.5  4450855  67M  100,000,000+  Free     0   \n",
       "2206  ROBLOX   FAMILY     4.5  4450890  67M  100,000,000+  Free     0   \n",
       "4527  ROBLOX   FAMILY     4.5  4443407  67M  100,000,000+  Free     0   \n",
       "\n",
       "     ContentRating                        Genres    LastUpdated  \\\n",
       "1701  Everyone 10+  Adventure;Action & Adventure  July 31, 2018   \n",
       "1748  Everyone 10+  Adventure;Action & Adventure  July 31, 2018   \n",
       "1841  Everyone 10+  Adventure;Action & Adventure  July 31, 2018   \n",
       "1870  Everyone 10+  Adventure;Action & Adventure  July 31, 2018   \n",
       "2016  Everyone 10+  Adventure;Action & Adventure  July 31, 2018   \n",
       "2088  Everyone 10+  Adventure;Action & Adventure  July 31, 2018   \n",
       "2206  Everyone 10+  Adventure;Action & Adventure  July 31, 2018   \n",
       "4527  Everyone 10+  Adventure;Action & Adventure  July 31, 2018   \n",
       "\n",
       "     CurrentVersion AndroidVersion  \n",
       "1701   2.347.225742     4.1 and up  \n",
       "1748   2.347.225742     4.1 and up  \n",
       "1841   2.347.225742     4.1 and up  \n",
       "1870   2.347.225742     4.1 and up  \n",
       "2016   2.347.225742     4.1 and up  \n",
       "2088   2.347.225742     4.1 and up  \n",
       "2206   2.347.225742     4.1 and up  \n",
       "4527   2.347.225742     4.1 and up  "
      ]
     },
     "execution_count": 14,
     "metadata": {},
     "output_type": "execute_result"
    }
   ],
   "source": [
    "duplicatedApps[duplicatedApps['App']==maxDupRecordsApp]"
   ]
  },
  {
   "cell_type": "markdown",
   "metadata": {
    "id": "r4ItGsPQDPAI"
   },
   "source": [
    "The duplicate records exist because:\n",
    "\n",
    "* two or more records are identical (for all variables); e.g., rows 2976, 3007, 3015, 3020\n",
    "* two or more records correspond to the same application. However, they may have different number of reviews; e.g., rows 3020 and 3056. This indicates that the collection of information ocurred at different timepoints resulting in a dataset with inconsistent information"
   ]
  },
  {
   "cell_type": "markdown",
   "metadata": {
    "id": "xlmfXnU6FnDe"
   },
   "source": [
    "**T13) Assuming that the data has been scraped sequentially, remove all duplicates by specifying which record to keep**\n",
    "\n",
    "**Hint:** You may want to check the documentation of the drop_duplicates function"
   ]
  },
  {
   "cell_type": "code",
   "execution_count": 15,
   "metadata": {
    "colab": {
     "base_uri": "https://localhost:8080/"
    },
    "executionInfo": {
     "elapsed": 1716,
     "status": "ok",
     "timestamp": 1613316845670,
     "user": {
      "displayName": "Simos Gerasimou",
      "photoUrl": "https://lh3.googleusercontent.com/a-/AOh14GiyuWEDBGgnFKbsa3BAO5bWW-MwC5_V7MnUQz5JiA=s64",
      "userId": "13902192774339425778"
     },
     "user_tz": 0
    },
    "id": "zZJrqxFwGJIT",
    "outputId": "8df8350b-bea7-4ca7-d9fc-5687b7ab36f6"
   },
   "outputs": [
    {
     "data": {
      "text/plain": [
       "(9658, 13)"
      ]
     },
     "execution_count": 15,
     "metadata": {},
     "output_type": "execute_result"
    }
   ],
   "source": [
    "#Since the data has been scraped sequentially, that means that the latest duplicate \n",
    "#is the most recent. Hence, we need to keep the last duplicate\n",
    "dfClean = df.drop_duplicates(subset='App', keep='last')\n",
    "dfClean.shape"
   ]
  },
  {
   "cell_type": "markdown",
   "metadata": {
    "id": "75BvTequ2TOE"
   },
   "source": [
    "**T14i) Check the type of variable indicating the last time the application was update and convert it into the appropriate format**\n",
    "\n",
    "**Hint:** \n",
    "\n",
    "* You may want to check https://pandas.pydata.org/pandas-docs/stable/reference/api/pandas.to_datetime.html\n",
    "\n",
    "* Pay attention to the date format and the month type\n",
    "\n",
    "* You may also want to check https://pandas.pydata.org/pandas-docs/stable/reference/api/pandas.DataFrame.loc.html"
   ]
  },
  {
   "cell_type": "code",
   "execution_count": 16,
   "metadata": {
    "colab": {
     "base_uri": "https://localhost:8080/"
    },
    "executionInfo": {
     "elapsed": 1710,
     "status": "ok",
     "timestamp": 1613316845671,
     "user": {
      "displayName": "Simos Gerasimou",
      "photoUrl": "https://lh3.googleusercontent.com/a-/AOh14GiyuWEDBGgnFKbsa3BAO5bWW-MwC5_V7MnUQz5JiA=s64",
      "userId": "13902192774339425778"
     },
     "user_tz": 0
    },
    "id": "WfqLzfWpvLCW",
    "outputId": "c61f2aaf-8191-400d-b4ac-d097c107d504"
   },
   "outputs": [
    {
     "name": "stderr",
     "output_type": "stream",
     "text": [
      "/usr/local/lib/python3.9/site-packages/pandas/core/indexing.py:1743: SettingWithCopyWarning: \n",
      "A value is trying to be set on a copy of a slice from a DataFrame.\n",
      "Try using .loc[row_indexer,col_indexer] = value instead\n",
      "\n",
      "See the caveats in the documentation: https://pandas.pydata.org/pandas-docs/stable/user_guide/indexing.html#returning-a-view-versus-a-copy\n",
      "  isetter(ilocs[0], value)\n"
     ]
    }
   ],
   "source": [
    "dfClean.loc[:, 'LastUpdated'] = pd.to_datetime(dfClean['LastUpdated'], format='%B %d, %Y')"
   ]
  },
  {
   "cell_type": "markdown",
   "metadata": {
    "id": "ADn1cUAJ4lgY"
   },
   "source": [
    "**T14ii) Which application was updated least recently and when did this happen?**"
   ]
  },
  {
   "cell_type": "code",
   "execution_count": 17,
   "metadata": {
    "colab": {
     "base_uri": "https://localhost:8080/"
    },
    "executionInfo": {
     "elapsed": 1705,
     "status": "ok",
     "timestamp": 1613316845672,
     "user": {
      "displayName": "Simos Gerasimou",
      "photoUrl": "https://lh3.googleusercontent.com/a-/AOh14GiyuWEDBGgnFKbsa3BAO5bWW-MwC5_V7MnUQz5JiA=s64",
      "userId": "13902192774339425778"
     },
     "user_tz": 0
    },
    "id": "bhGlOTgzyqf5",
    "outputId": "052f6be9-0720-4df8-9d32-01d86ad2204e"
   },
   "outputs": [
    {
     "name": "stdout",
     "output_type": "stream",
     "text": [
      "CJ Poker Odds Calculator is the least recently updated application and was updated on 2011-01-30 00:00:00\n"
     ]
    }
   ],
   "source": [
    "sortedLastUpdated = dfClean['LastUpdated'].sort_values()\n",
    "\n",
    "print(\"%s is the least recently updated application and was updated on %s\"% (dfClean.loc[sortedLastUpdated.index[0]]['App'], str(sortedLastUpdated[0])))"
   ]
  },
  {
   "cell_type": "markdown",
   "metadata": {
    "id": "0FCz6WwAdqBi"
   },
   "source": [
    "**T15) How many unique values exist under the Price variable? Print the first five unique prices.**"
   ]
  },
  {
   "cell_type": "code",
   "execution_count": 18,
   "metadata": {
    "colab": {
     "base_uri": "https://localhost:8080/"
    },
    "executionInfo": {
     "elapsed": 1699,
     "status": "ok",
     "timestamp": 1613316845673,
     "user": {
      "displayName": "Simos Gerasimou",
      "photoUrl": "https://lh3.googleusercontent.com/a-/AOh14GiyuWEDBGgnFKbsa3BAO5bWW-MwC5_V7MnUQz5JiA=s64",
      "userId": "13902192774339425778"
     },
     "user_tz": 0
    },
    "id": "FnxwCk2sdxiM",
    "outputId": "9de27757-a873-4336-95cb-ab7e445a14c0"
   },
   "outputs": [
    {
     "name": "stdout",
     "output_type": "stream",
     "text": [
      "There are 92 unique price values. The first five are ['0' '$4.99' '$3.99' '$1.49' '$2.99']\n",
      "There are 92 unique price values. The first five are ['0' '$4.99' '$3.99' '$1.49' '$2.99']\n"
     ]
    }
   ],
   "source": [
    "uniquePricesNum = dfClean['Price'].nunique()\n",
    "uniquePrices = dfClean['Price'].unique()\n",
    "\n",
    "print(\"There are %d unique price values. The first five are %s\" % (uniquePricesNum, uniquePrices[:5]))\n",
    "\n",
    "print(\"There are %d unique price values. The first five are %s\" % (len(uniquePrices), uniquePrices[:5]))"
   ]
  },
  {
   "cell_type": "markdown",
   "metadata": {
    "id": "NNuuClnoeoJv"
   },
   "source": [
    "**T16i) Write a function moneyWithoutCurrencySymbol that takes a string and returns the string as a float without the currency symbol (if exists)**"
   ]
  },
  {
   "cell_type": "code",
   "execution_count": 19,
   "metadata": {
    "executionInfo": {
     "elapsed": 1695,
     "status": "ok",
     "timestamp": 1613316845673,
     "user": {
      "displayName": "Simos Gerasimou",
      "photoUrl": "https://lh3.googleusercontent.com/a-/AOh14GiyuWEDBGgnFKbsa3BAO5bWW-MwC5_V7MnUQz5JiA=s64",
      "userId": "13902192774339425778"
     },
     "user_tz": 0
    },
    "id": "SnMVUnVLqK35"
   },
   "outputs": [],
   "source": [
    "#This is a generic function that takes a string with a $ symbol\n",
    "#and returns a float after removing the $ symbol and converting the  rest of the string into a float\n",
    "def moneyWithoutCurrencySymbol(v):\n",
    "  if type(v) is not float:\n",
    "    return float(v.replace(\"$\", \"\"))\n",
    "  else:\n",
    "    return v"
   ]
  },
  {
   "cell_type": "markdown",
   "metadata": {
    "id": "mzyr0QyYqR9P"
   },
   "source": [
    "**T16ii) Perform the necessary processing tasks to convert the Price variable into a float**\n",
    "\n",
    "**Hint:**\n",
    "\n",
    "* You may want to use the function from task T16i\n",
    "* You may want to check https://pandas.pydata.org/pandas-docs/stable/reference/api/pandas.Series.apply.html\n",
    "* Alternatively, you may want to check https://pandas.pydata.org/pandas-docs/stable/reference/api/pandas.to_numeric.html"
   ]
  },
  {
   "cell_type": "code",
   "execution_count": 20,
   "metadata": {
    "colab": {
     "base_uri": "https://localhost:8080/"
    },
    "executionInfo": {
     "elapsed": 1690,
     "status": "ok",
     "timestamp": 1613316845674,
     "user": {
      "displayName": "Simos Gerasimou",
      "photoUrl": "https://lh3.googleusercontent.com/a-/AOh14GiyuWEDBGgnFKbsa3BAO5bWW-MwC5_V7MnUQz5JiA=s64",
      "userId": "13902192774339425778"
     },
     "user_tz": 0
    },
    "id": "k4RCDZ9GqgV1",
    "outputId": "abe37182-d8b7-4560-ddcd-1b7ee195e4df"
   },
   "outputs": [],
   "source": [
    "# Solution 1\n",
    "dfClean.loc[:, 'Price'] = dfClean['Price'].apply(moneyWithoutCurrencySymbol) \n",
    "\n",
    "#Solution 2\n",
    "# dfClean[\"Price\"] = pd.to_numeric(dfClean[\"Price\"].str.strip(\"$\"))"
   ]
  },
  {
   "cell_type": "markdown",
   "metadata": {
    "id": "KOgK0zeU-h3G"
   },
   "source": [
    "**T17i) How many missing data exist for each variable? Is this a messy or a clean dataset?**"
   ]
  },
  {
   "cell_type": "code",
   "execution_count": 21,
   "metadata": {
    "colab": {
     "base_uri": "https://localhost:8080/"
    },
    "executionInfo": {
     "elapsed": 1685,
     "status": "ok",
     "timestamp": 1613316845675,
     "user": {
      "displayName": "Simos Gerasimou",
      "photoUrl": "https://lh3.googleusercontent.com/a-/AOh14GiyuWEDBGgnFKbsa3BAO5bWW-MwC5_V7MnUQz5JiA=s64",
      "userId": "13902192774339425778"
     },
     "user_tz": 0
    },
    "id": "IIQidrOA-DgL",
    "outputId": "822eeb72-ef2e-4b17-95f7-a0306e3569b6"
   },
   "outputs": [
    {
     "data": {
      "text/plain": [
       "App                  0\n",
       "Category             0\n",
       "Rating            1463\n",
       "Reviews              0\n",
       "Size                 0\n",
       "Installs             0\n",
       "Type                 1\n",
       "Price                0\n",
       "ContentRating        0\n",
       "Genres               0\n",
       "LastUpdated          0\n",
       "CurrentVersion       8\n",
       "AndroidVersion       2\n",
       "dtype: int64"
      ]
     },
     "execution_count": 21,
     "metadata": {},
     "output_type": "execute_result"
    }
   ],
   "source": [
    "dfClean.isna().sum()"
   ]
  },
  {
   "cell_type": "markdown",
   "metadata": {
    "id": "M3gS7DfP-tCy"
   },
   "source": [
    "**T17ii) Impute the categorical columns with the mode value**\n",
    "\n",
    "**Hint:** Check Chapter 3 of the Python Data Science Handbook "
   ]
  },
  {
   "cell_type": "code",
   "execution_count": 22,
   "metadata": {
    "colab": {
     "base_uri": "https://localhost:8080/"
    },
    "executionInfo": {
     "elapsed": 1679,
     "status": "ok",
     "timestamp": 1613316845675,
     "user": {
      "displayName": "Simos Gerasimou",
      "photoUrl": "https://lh3.googleusercontent.com/a-/AOh14GiyuWEDBGgnFKbsa3BAO5bWW-MwC5_V7MnUQz5JiA=s64",
      "userId": "13902192774339425778"
     },
     "user_tz": 0
    },
    "id": "U7Tx_qat_EaF",
    "outputId": "c4375316-2a78-4678-d0b1-a31212d64ce4"
   },
   "outputs": [
    {
     "name": "stderr",
     "output_type": "stream",
     "text": [
      "/usr/local/lib/python3.9/site-packages/pandas/core/indexing.py:1763: SettingWithCopyWarning: \n",
      "A value is trying to be set on a copy of a slice from a DataFrame.\n",
      "Try using .loc[row_indexer,col_indexer] = value instead\n",
      "\n",
      "See the caveats in the documentation: https://pandas.pydata.org/pandas-docs/stable/user_guide/indexing.html#returning-a-view-versus-a-copy\n",
      "  isetter(loc, value)\n"
     ]
    }
   ],
   "source": [
    "# Replace missing data (NaN) in the categorical columns \"Type\", \"Content Rating\", \"Android Version\" and\n",
    "# \"Current Version\" with the mode of each column\n",
    "# dfClean['Type'] = dfClean['Type'].fillna(dfClean['Type'].mode()[0])\n",
    "# dfClean['AndroidVersion'] = dfClean['AndroidVersion'].fillna(dfClean['AndroidVersion'].mode()[0])\n",
    "# dfClean['CurrentVersion'] = dfClean['CurrentVersion'].fillna(dfClean['CurrentVersion'].mode()[0])\n",
    "\n",
    "#Solution2\n",
    "dfClean.loc[dfClean['Type'].isna(), 'Type'] = dfClean['Type'].mode()[0]\n",
    "dfClean.loc[dfClean['AndroidVersion'].isna(), 'AndroidVersion'] = dfClean['AndroidVersion'].mode()[0]\n",
    "dfClean.loc[dfClean['CurrentVersion'].isna(), 'CurrentVersion'] = dfClean['CurrentVersion'].mode()[0]\n"
   ]
  },
  {
   "cell_type": "markdown",
   "metadata": {
    "id": "0Ci6Jr7i_zFU"
   },
   "source": [
    "**T17iii) What would be an appropriate value to impute for the other variable? Apply the imputation.**"
   ]
  },
  {
   "cell_type": "code",
   "execution_count": 23,
   "metadata": {
    "colab": {
     "base_uri": "https://localhost:8080/"
    },
    "executionInfo": {
     "elapsed": 2011,
     "status": "ok",
     "timestamp": 1613316846013,
     "user": {
      "displayName": "Simos Gerasimou",
      "photoUrl": "https://lh3.googleusercontent.com/a-/AOh14GiyuWEDBGgnFKbsa3BAO5bWW-MwC5_V7MnUQz5JiA=s64",
      "userId": "13902192774339425778"
     },
     "user_tz": 0
    },
    "id": "eXrzXx1z_4O9",
    "outputId": "450bc224-42f3-4126-8b01-808372b41d4e"
   },
   "outputs": [
    {
     "name": "stderr",
     "output_type": "stream",
     "text": [
      "<ipython-input-23-5529ef860ce5>:6: SettingWithCopyWarning: \n",
      "A value is trying to be set on a copy of a slice from a DataFrame.\n",
      "Try using .loc[row_indexer,col_indexer] = value instead\n",
      "\n",
      "See the caveats in the documentation: https://pandas.pydata.org/pandas-docs/stable/user_guide/indexing.html#returning-a-view-versus-a-copy\n",
      "  dfClean['Rating'] = dfClean['Rating'].fillna(0)\n"
     ]
    }
   ],
   "source": [
    "# We assume that applications with NaN rating are either new applications with only a few reviews \n",
    "# or applications that do not have any reviews, perhaps, because they are not well-designed and built. \n",
    "# So the best strategy is to impute those NaN Rating records with the minimum value, i.e., 0\n",
    "\n",
    "#Solution1\n",
    "dfClean['Rating'] = dfClean['Rating'].fillna(0)\n",
    "\n",
    "#Solution2\n",
    "# dfClean.loc[dfClean['Rating'].isna(), 'Rating'] = 0\n"
   ]
  },
  {
   "cell_type": "markdown",
   "metadata": {
    "id": "o4HCestaAtua"
   },
   "source": [
    "**T18i) Which are the possible values for the variable Installs?**"
   ]
  },
  {
   "cell_type": "code",
   "execution_count": 24,
   "metadata": {
    "colab": {
     "base_uri": "https://localhost:8080/"
    },
    "executionInfo": {
     "elapsed": 2007,
     "status": "ok",
     "timestamp": 1613316846016,
     "user": {
      "displayName": "Simos Gerasimou",
      "photoUrl": "https://lh3.googleusercontent.com/a-/AOh14GiyuWEDBGgnFKbsa3BAO5bWW-MwC5_V7MnUQz5JiA=s64",
      "userId": "13902192774339425778"
     },
     "user_tz": 0
    },
    "id": "Cv1b-ceaCU43",
    "outputId": "bbf1bb49-7147-47d4-eb45-c86521367e87"
   },
   "outputs": [
    {
     "data": {
      "text/plain": [
       "array(['10,000+', '5,000,000+', '50,000,000+', '100,000+', '50,000+',\n",
       "       '1,000,000+', '10,000,000+', '5,000+', '500,000+',\n",
       "       '1,000,000,000+', '100,000,000+', '1,000+', '50+', '100+', '500+',\n",
       "       '10+', '1+', '5+', '500,000,000+', '0+', '0'], dtype=object)"
      ]
     },
     "execution_count": 24,
     "metadata": {},
     "output_type": "execute_result"
    }
   ],
   "source": [
    "#Let's check the unique values of Installs\n",
    "dfClean['Installs'].unique()"
   ]
  },
  {
   "cell_type": "markdown",
   "metadata": {
    "id": "T-eNNDDuCaxk"
   },
   "source": [
    "**T18ii) Based on the result from task T18i, do you see any odd value? Do think any cleaning is needed?**"
   ]
  },
  {
   "cell_type": "code",
   "execution_count": 25,
   "metadata": {
    "colab": {
     "base_uri": "https://localhost:8080/"
    },
    "executionInfo": {
     "elapsed": 1999,
     "status": "ok",
     "timestamp": 1613316846016,
     "user": {
      "displayName": "Simos Gerasimou",
      "photoUrl": "https://lh3.googleusercontent.com/a-/AOh14GiyuWEDBGgnFKbsa3BAO5bWW-MwC5_V7MnUQz5JiA=s64",
      "userId": "13902192774339425778"
     },
     "user_tz": 0
    },
    "id": "Dt30oayZCmUp",
    "outputId": "ef847add-bf02-4424-fd88-643478ab3c17"
   },
   "outputs": [],
   "source": [
    "#It seems that there are entries both with \"0+\" and \"0\". Let's homogenise them and turn \"0\" to \"0+\"\n",
    "# newStr = dfClean.loc[dfClean[\"Installs\"]==\"0\",\"Installs\"].str.replace(\"0\", \"0+\")\n",
    "dfClean.loc[dfClean[\"Installs\"]==\"0+\",\"Installs\"] = \"0\""
   ]
  },
  {
   "cell_type": "markdown",
   "metadata": {
    "id": "Fp6Z9u22DLiB"
   },
   "source": [
    "**T18iii) If you did any cleaning in T18ii, check that the cleaning has taken place**"
   ]
  },
  {
   "cell_type": "code",
   "execution_count": 26,
   "metadata": {
    "colab": {
     "base_uri": "https://localhost:8080/",
     "height": 49
    },
    "executionInfo": {
     "elapsed": 1993,
     "status": "ok",
     "timestamp": 1613316846018,
     "user": {
      "displayName": "Simos Gerasimou",
      "photoUrl": "https://lh3.googleusercontent.com/a-/AOh14GiyuWEDBGgnFKbsa3BAO5bWW-MwC5_V7MnUQz5JiA=s64",
      "userId": "13902192774339425778"
     },
     "user_tz": 0
    },
    "id": "6nLgMXiqAtXb",
    "outputId": "41d527cd-51f8-406c-877c-c9bb8246513d"
   },
   "outputs": [
    {
     "data": {
      "text/html": [
       "<div>\n",
       "<style scoped>\n",
       "    .dataframe tbody tr th:only-of-type {\n",
       "        vertical-align: middle;\n",
       "    }\n",
       "\n",
       "    .dataframe tbody tr th {\n",
       "        vertical-align: top;\n",
       "    }\n",
       "\n",
       "    .dataframe thead th {\n",
       "        text-align: right;\n",
       "    }\n",
       "</style>\n",
       "<table border=\"1\" class=\"dataframe\">\n",
       "  <thead>\n",
       "    <tr style=\"text-align: right;\">\n",
       "      <th></th>\n",
       "      <th>App</th>\n",
       "      <th>Category</th>\n",
       "      <th>Rating</th>\n",
       "      <th>Reviews</th>\n",
       "      <th>Size</th>\n",
       "      <th>Installs</th>\n",
       "      <th>Type</th>\n",
       "      <th>Price</th>\n",
       "      <th>ContentRating</th>\n",
       "      <th>Genres</th>\n",
       "      <th>LastUpdated</th>\n",
       "      <th>CurrentVersion</th>\n",
       "      <th>AndroidVersion</th>\n",
       "    </tr>\n",
       "  </thead>\n",
       "  <tbody>\n",
       "  </tbody>\n",
       "</table>\n",
       "</div>"
      ],
      "text/plain": [
       "Empty DataFrame\n",
       "Columns: [App, Category, Rating, Reviews, Size, Installs, Type, Price, ContentRating, Genres, LastUpdated, CurrentVersion, AndroidVersion]\n",
       "Index: []"
      ]
     },
     "execution_count": 26,
     "metadata": {},
     "output_type": "execute_result"
    }
   ],
   "source": [
    "dfClean[(dfClean['Installs']==\"0+\")]"
   ]
  },
  {
   "cell_type": "markdown",
   "metadata": {
    "id": "3hKrivsXHUNv"
   },
   "source": [
    "**T19i) Perform the necessary processing tasks to convert the Size variable into a float using a common metric (i.e., which will enable to compare records between each other using the size value). Set records whose value is \"Varies with device\" to 1**"
   ]
  },
  {
   "cell_type": "code",
   "execution_count": 27,
   "metadata": {
    "colab": {
     "base_uri": "https://localhost:8080/"
    },
    "executionInfo": {
     "elapsed": 1988,
     "status": "ok",
     "timestamp": 1613316846021,
     "user": {
      "displayName": "Simos Gerasimou",
      "photoUrl": "https://lh3.googleusercontent.com/a-/AOh14GiyuWEDBGgnFKbsa3BAO5bWW-MwC5_V7MnUQz5JiA=s64",
      "userId": "13902192774339425778"
     },
     "user_tz": 0
    },
    "id": "-qxVrfRbGg6X",
    "outputId": "c9a12028-1988-4da5-90ed-362eab7bf770"
   },
   "outputs": [
    {
     "name": "stderr",
     "output_type": "stream",
     "text": [
      "<ipython-input-27-d2c24372f909>:12: SettingWithCopyWarning: \n",
      "A value is trying to be set on a copy of a slice from a DataFrame.\n",
      "Try using .loc[row_indexer,col_indexer] = value instead\n",
      "\n",
      "See the caveats in the documentation: https://pandas.pydata.org/pandas-docs/stable/user_guide/indexing.html#returning-a-view-versus-a-copy\n",
      "  dfClean['Size'] = dfClean['Size'].apply(sizeToFloat)\n"
     ]
    }
   ],
   "source": [
    "#Since the size of some applications is in Megabytes whereas others is in Kilobytes,\n",
    "#we need to convert them into a common metric. Here, we convert everything into Megabytes\n",
    "def sizeToFloat (v):\n",
    "  if \"M\" in v:\n",
    "    return float(v.strip(\"M\"))\n",
    "  elif v[-1]==\"k\":\n",
    "    return float(v.strip(\"k\"))/1024\n",
    "  else:\n",
    "    return 1.0\n",
    "\n",
    "# dfClean.loc[:, 'Size'] = \n",
    "dfClean['Size'] = dfClean['Size'].apply(sizeToFloat) "
   ]
  },
  {
   "cell_type": "markdown",
   "metadata": {
    "id": "K9IUOqNJJz2k"
   },
   "source": [
    "**T19ii) Which is the smallest application and what is its size?**"
   ]
  },
  {
   "cell_type": "code",
   "execution_count": 28,
   "metadata": {
    "colab": {
     "base_uri": "https://localhost:8080/"
    },
    "executionInfo": {
     "elapsed": 1982,
     "status": "ok",
     "timestamp": 1613316846021,
     "user": {
      "displayName": "Simos Gerasimou",
      "photoUrl": "https://lh3.googleusercontent.com/a-/AOh14GiyuWEDBGgnFKbsa3BAO5bWW-MwC5_V7MnUQz5JiA=s64",
      "userId": "13902192774339425778"
     },
     "user_tz": 0
    },
    "id": "IPJNN6GdJ8G4",
    "outputId": "b786fde7-6b2a-482c-82e7-88e03043cd6d"
   },
   "outputs": [
    {
     "name": "stdout",
     "output_type": "stream",
     "text": [
      "Essential Resources is the smallest application and its size is 0.0083M\n"
     ]
    }
   ],
   "source": [
    "sortedSize = dfClean['Size'].sort_values()\n",
    "\n",
    "print(\"%s is the smallest application and its size is %.4fM\" % (dfClean.loc[sortedSize.index[0]]['App'], sortedSize[0]))"
   ]
  },
  {
   "cell_type": "markdown",
   "metadata": {
    "id": "PrwbjmM_LW_P"
   },
   "source": [
    "**T19iii) What is the most common Category of the largest applications and which applications belong to this Category?**"
   ]
  },
  {
   "cell_type": "code",
   "execution_count": 29,
   "metadata": {
    "colab": {
     "base_uri": "https://localhost:8080/"
    },
    "executionInfo": {
     "elapsed": 1977,
     "status": "ok",
     "timestamp": 1613316846023,
     "user": {
      "displayName": "Simos Gerasimou",
      "photoUrl": "https://lh3.googleusercontent.com/a-/AOh14GiyuWEDBGgnFKbsa3BAO5bWW-MwC5_V7MnUQz5JiA=s64",
      "userId": "13902192774339425778"
     },
     "user_tz": 0
    },
    "id": "qBYY1FCnKugz",
    "outputId": "e28a2baa-f675-4ebd-9fcb-006a4012d374"
   },
   "outputs": [
    {
     "name": "stdout",
     "output_type": "stream",
     "text": [
      "The most common category of the largest applications is   GAME\n",
      "The applications that belong to this category are\n",
      " ['Car Crash III Beam DH Real Damage Simulator 2018'\n",
      " 'Mini Golf King - Multiplayer Game' 'The Walking Dead: Our World'\n",
      " 'Miami crime simulator' 'Stickman Legends: Shadow Wars'\n",
      " 'Hungry Shark Evolution']\n"
     ]
    }
   ],
   "source": [
    "largestApps = dfClean.loc[sortedSize[sortedSize==sortedSize[-1]].index]\n",
    "\n",
    "largestAppsCategory = largestApps['Category'].mode()[0]\n",
    "largestAppsCategoryNames = largestApps[largestApps['Category']==largestAppsCategory]['App']\n",
    "print(\"The most common category of the largest applications is  \", largestAppsCategory) \n",
    "print(\"The applications that belong to this category are\\n\", largestAppsCategoryNames.values)"
   ]
  },
  {
   "cell_type": "markdown",
   "metadata": {
    "id": "U0Legs9DO8wx"
   },
   "source": [
    "**T20) Are there any logical errors in the Type and Price variables? Are there any applications whose type if Free and you have to pay? Are there any application with type Paid which you can get for free? Check the integrity of the dataset using these conditions**"
   ]
  },
  {
   "cell_type": "code",
   "execution_count": 30,
   "metadata": {
    "colab": {
     "base_uri": "https://localhost:8080/"
    },
    "executionInfo": {
     "elapsed": 1969,
     "status": "ok",
     "timestamp": 1613316846023,
     "user": {
      "displayName": "Simos Gerasimou",
      "photoUrl": "https://lh3.googleusercontent.com/a-/AOh14GiyuWEDBGgnFKbsa3BAO5bWW-MwC5_V7MnUQz5JiA=s64",
      "userId": "13902192774339425778"
     },
     "user_tz": 0
    },
    "id": "x18qkWP8DroK",
    "outputId": "9899c8c1-31e4-4207-d180-6be5ada8aeab"
   },
   "outputs": [
    {
     "name": "stdout",
     "output_type": "stream",
     "text": [
      "The are 0 Free applications for which you have to pay\n",
      "The are 0 Paid applications which are given for free\n"
     ]
    }
   ],
   "source": [
    "free = dfClean[(dfClean['Price']>0) & (dfClean['Type']==\"Free\") ]\n",
    "paid = dfClean[(dfClean['Price']<=0) & (dfClean['Type']==\"Paid\") ]\n",
    "\n",
    "print (\"The are %d Free applications for which you have to pay\" % (len(free)))\n",
    "print (\"The are %d Paid applications which are given for free\" % (len(paid)))"
   ]
  },
  {
   "cell_type": "markdown",
   "metadata": {
    "id": "vKilGP1dP9th"
   },
   "source": [
    "**T21) A reviewer of an application may or may not rate the review. Check the consistency of the dataset concerning this matter**"
   ]
  },
  {
   "cell_type": "code",
   "execution_count": 31,
   "metadata": {
    "colab": {
     "base_uri": "https://localhost:8080/",
     "height": 49
    },
    "executionInfo": {
     "elapsed": 1963,
     "status": "ok",
     "timestamp": 1613316846024,
     "user": {
      "displayName": "Simos Gerasimou",
      "photoUrl": "https://lh3.googleusercontent.com/a-/AOh14GiyuWEDBGgnFKbsa3BAO5bWW-MwC5_V7MnUQz5JiA=s64",
      "userId": "13902192774339425778"
     },
     "user_tz": 0
    },
    "id": "eGlKl_L3P9bq",
    "outputId": "7374c218-af3d-42a8-991a-77f33363f44c"
   },
   "outputs": [
    {
     "data": {
      "text/html": [
       "<div>\n",
       "<style scoped>\n",
       "    .dataframe tbody tr th:only-of-type {\n",
       "        vertical-align: middle;\n",
       "    }\n",
       "\n",
       "    .dataframe tbody tr th {\n",
       "        vertical-align: top;\n",
       "    }\n",
       "\n",
       "    .dataframe thead th {\n",
       "        text-align: right;\n",
       "    }\n",
       "</style>\n",
       "<table border=\"1\" class=\"dataframe\">\n",
       "  <thead>\n",
       "    <tr style=\"text-align: right;\">\n",
       "      <th></th>\n",
       "      <th>App</th>\n",
       "      <th>Category</th>\n",
       "      <th>Rating</th>\n",
       "      <th>Reviews</th>\n",
       "      <th>Size</th>\n",
       "      <th>Installs</th>\n",
       "      <th>Type</th>\n",
       "      <th>Price</th>\n",
       "      <th>ContentRating</th>\n",
       "      <th>Genres</th>\n",
       "      <th>LastUpdated</th>\n",
       "      <th>CurrentVersion</th>\n",
       "      <th>AndroidVersion</th>\n",
       "    </tr>\n",
       "  </thead>\n",
       "  <tbody>\n",
       "  </tbody>\n",
       "</table>\n",
       "</div>"
      ],
      "text/plain": [
       "Empty DataFrame\n",
       "Columns: [App, Category, Rating, Reviews, Size, Installs, Type, Price, ContentRating, Genres, LastUpdated, CurrentVersion, AndroidVersion]\n",
       "Index: []"
      ]
     },
     "execution_count": 31,
     "metadata": {},
     "output_type": "execute_result"
    }
   ],
   "source": [
    "#Here we need to check that no application without any review has a rating above 0\n",
    "dfClean[(dfClean['Reviews']==0) & (dfClean['Rating']>0)]"
   ]
  },
  {
   "cell_type": "markdown",
   "metadata": {
    "id": "KlX4ueSUpimG"
   },
   "source": [
    "**T22) Get some descriptive statistics for the dataset**\n"
   ]
  },
  {
   "cell_type": "code",
   "execution_count": 32,
   "metadata": {
    "colab": {
     "base_uri": "https://localhost:8080/",
     "height": 300
    },
    "executionInfo": {
     "elapsed": 1952,
     "status": "ok",
     "timestamp": 1613316846024,
     "user": {
      "displayName": "Simos Gerasimou",
      "photoUrl": "https://lh3.googleusercontent.com/a-/AOh14GiyuWEDBGgnFKbsa3BAO5bWW-MwC5_V7MnUQz5JiA=s64",
      "userId": "13902192774339425778"
     },
     "user_tz": 0
    },
    "id": "tFunlPgBpimH",
    "outputId": "3584bf68-e1cb-448a-e7ab-35d84ed820eb"
   },
   "outputs": [
    {
     "data": {
      "text/html": [
       "<div>\n",
       "<style scoped>\n",
       "    .dataframe tbody tr th:only-of-type {\n",
       "        vertical-align: middle;\n",
       "    }\n",
       "\n",
       "    .dataframe tbody tr th {\n",
       "        vertical-align: top;\n",
       "    }\n",
       "\n",
       "    .dataframe thead th {\n",
       "        text-align: right;\n",
       "    }\n",
       "</style>\n",
       "<table border=\"1\" class=\"dataframe\">\n",
       "  <thead>\n",
       "    <tr style=\"text-align: right;\">\n",
       "      <th></th>\n",
       "      <th>Rating</th>\n",
       "      <th>Reviews</th>\n",
       "      <th>Size</th>\n",
       "      <th>Price</th>\n",
       "    </tr>\n",
       "  </thead>\n",
       "  <tbody>\n",
       "    <tr>\n",
       "      <th>count</th>\n",
       "      <td>9658.000000</td>\n",
       "      <td>9.658000e+03</td>\n",
       "      <td>9658.000000</td>\n",
       "      <td>9658.000000</td>\n",
       "    </tr>\n",
       "    <tr>\n",
       "      <th>mean</th>\n",
       "      <td>3.541054</td>\n",
       "      <td>2.166735e+05</td>\n",
       "      <td>17.935304</td>\n",
       "      <td>1.097344</td>\n",
       "    </tr>\n",
       "    <tr>\n",
       "      <th>std</th>\n",
       "      <td>1.575689</td>\n",
       "      <td>1.830831e+06</td>\n",
       "      <td>21.393800</td>\n",
       "      <td>16.852487</td>\n",
       "    </tr>\n",
       "    <tr>\n",
       "      <th>min</th>\n",
       "      <td>0.000000</td>\n",
       "      <td>0.000000e+00</td>\n",
       "      <td>0.008301</td>\n",
       "      <td>0.000000</td>\n",
       "    </tr>\n",
       "    <tr>\n",
       "      <th>25%</th>\n",
       "      <td>3.600000</td>\n",
       "      <td>2.500000e+01</td>\n",
       "      <td>2.900000</td>\n",
       "      <td>0.000000</td>\n",
       "    </tr>\n",
       "    <tr>\n",
       "      <th>50%</th>\n",
       "      <td>4.200000</td>\n",
       "      <td>9.680000e+02</td>\n",
       "      <td>9.100000</td>\n",
       "      <td>0.000000</td>\n",
       "    </tr>\n",
       "    <tr>\n",
       "      <th>75%</th>\n",
       "      <td>4.500000</td>\n",
       "      <td>2.940800e+04</td>\n",
       "      <td>25.000000</td>\n",
       "      <td>0.000000</td>\n",
       "    </tr>\n",
       "    <tr>\n",
       "      <th>max</th>\n",
       "      <td>5.000000</td>\n",
       "      <td>7.812821e+07</td>\n",
       "      <td>100.000000</td>\n",
       "      <td>400.000000</td>\n",
       "    </tr>\n",
       "  </tbody>\n",
       "</table>\n",
       "</div>"
      ],
      "text/plain": [
       "            Rating       Reviews         Size        Price\n",
       "count  9658.000000  9.658000e+03  9658.000000  9658.000000\n",
       "mean      3.541054  2.166735e+05    17.935304     1.097344\n",
       "std       1.575689  1.830831e+06    21.393800    16.852487\n",
       "min       0.000000  0.000000e+00     0.008301     0.000000\n",
       "25%       3.600000  2.500000e+01     2.900000     0.000000\n",
       "50%       4.200000  9.680000e+02     9.100000     0.000000\n",
       "75%       4.500000  2.940800e+04    25.000000     0.000000\n",
       "max       5.000000  7.812821e+07   100.000000   400.000000"
      ]
     },
     "execution_count": 32,
     "metadata": {},
     "output_type": "execute_result"
    }
   ],
   "source": [
    "dfClean.describe()"
   ]
  },
  {
   "cell_type": "markdown",
   "metadata": {
    "id": "gznzJ93NpimV"
   },
   "source": [
    "**T23) Create a new column that indicates the difference between the Last Updated variable column and the current date.**\n"
   ]
  },
  {
   "cell_type": "code",
   "execution_count": 33,
   "metadata": {
    "colab": {
     "base_uri": "https://localhost:8080/",
     "height": 660
    },
    "executionInfo": {
     "elapsed": 1942,
     "status": "ok",
     "timestamp": 1613316846025,
     "user": {
      "displayName": "Simos Gerasimou",
      "photoUrl": "https://lh3.googleusercontent.com/a-/AOh14GiyuWEDBGgnFKbsa3BAO5bWW-MwC5_V7MnUQz5JiA=s64",
      "userId": "13902192774339425778"
     },
     "user_tz": 0
    },
    "id": "n3bbieRdpimV",
    "outputId": "b11c3a02-9d50-46c9-a577-b8faf993360a"
   },
   "outputs": [
    {
     "name": "stderr",
     "output_type": "stream",
     "text": [
      "<ipython-input-33-68423a96b341>:2: SettingWithCopyWarning: \n",
      "A value is trying to be set on a copy of a slice from a DataFrame.\n",
      "Try using .loc[row_indexer,col_indexer] = value instead\n",
      "\n",
      "See the caveats in the documentation: https://pandas.pydata.org/pandas-docs/stable/user_guide/indexing.html#returning-a-view-versus-a-copy\n",
      "  dfClean[\"NotUpdatedFor\"]  = pd.to_datetime(datetime.today().strftime(\"%m-%d-%Y\")) - dfClean[\"LastUpdated\"]\n"
     ]
    },
    {
     "data": {
      "text/html": [
       "<div>\n",
       "<style scoped>\n",
       "    .dataframe tbody tr th:only-of-type {\n",
       "        vertical-align: middle;\n",
       "    }\n",
       "\n",
       "    .dataframe tbody tr th {\n",
       "        vertical-align: top;\n",
       "    }\n",
       "\n",
       "    .dataframe thead th {\n",
       "        text-align: right;\n",
       "    }\n",
       "</style>\n",
       "<table border=\"1\" class=\"dataframe\">\n",
       "  <thead>\n",
       "    <tr style=\"text-align: right;\">\n",
       "      <th></th>\n",
       "      <th>App</th>\n",
       "      <th>Category</th>\n",
       "      <th>Rating</th>\n",
       "      <th>Reviews</th>\n",
       "      <th>Size</th>\n",
       "      <th>Installs</th>\n",
       "      <th>Type</th>\n",
       "      <th>Price</th>\n",
       "      <th>ContentRating</th>\n",
       "      <th>Genres</th>\n",
       "      <th>LastUpdated</th>\n",
       "      <th>CurrentVersion</th>\n",
       "      <th>AndroidVersion</th>\n",
       "      <th>NotUpdatedFor</th>\n",
       "    </tr>\n",
       "  </thead>\n",
       "  <tbody>\n",
       "    <tr>\n",
       "      <th>0</th>\n",
       "      <td>Photo Editor &amp; Candy Camera &amp; Grid &amp; ScrapBook</td>\n",
       "      <td>ART_AND_DESIGN</td>\n",
       "      <td>4.1</td>\n",
       "      <td>159</td>\n",
       "      <td>19.0</td>\n",
       "      <td>10,000+</td>\n",
       "      <td>Free</td>\n",
       "      <td>0.0</td>\n",
       "      <td>Everyone</td>\n",
       "      <td>Art &amp; Design</td>\n",
       "      <td>2018-01-07</td>\n",
       "      <td>1.0.0</td>\n",
       "      <td>4.0.3 and up</td>\n",
       "      <td>1134 days</td>\n",
       "    </tr>\n",
       "    <tr>\n",
       "      <th>2</th>\n",
       "      <td>U Launcher Lite – FREE Live Cool Themes, Hide ...</td>\n",
       "      <td>ART_AND_DESIGN</td>\n",
       "      <td>4.7</td>\n",
       "      <td>87510</td>\n",
       "      <td>8.7</td>\n",
       "      <td>5,000,000+</td>\n",
       "      <td>Free</td>\n",
       "      <td>0.0</td>\n",
       "      <td>Everyone</td>\n",
       "      <td>Art &amp; Design</td>\n",
       "      <td>2018-08-01</td>\n",
       "      <td>1.2.4</td>\n",
       "      <td>4.0.3 and up</td>\n",
       "      <td>928 days</td>\n",
       "    </tr>\n",
       "    <tr>\n",
       "      <th>3</th>\n",
       "      <td>Sketch - Draw &amp; Paint</td>\n",
       "      <td>ART_AND_DESIGN</td>\n",
       "      <td>4.5</td>\n",
       "      <td>215644</td>\n",
       "      <td>25.0</td>\n",
       "      <td>50,000,000+</td>\n",
       "      <td>Free</td>\n",
       "      <td>0.0</td>\n",
       "      <td>Teen</td>\n",
       "      <td>Art &amp; Design</td>\n",
       "      <td>2018-06-08</td>\n",
       "      <td>Varies with device</td>\n",
       "      <td>4.2 and up</td>\n",
       "      <td>982 days</td>\n",
       "    </tr>\n",
       "    <tr>\n",
       "      <th>4</th>\n",
       "      <td>Pixel Draw - Number Art Coloring Book</td>\n",
       "      <td>ART_AND_DESIGN</td>\n",
       "      <td>4.3</td>\n",
       "      <td>967</td>\n",
       "      <td>2.8</td>\n",
       "      <td>100,000+</td>\n",
       "      <td>Free</td>\n",
       "      <td>0.0</td>\n",
       "      <td>Everyone</td>\n",
       "      <td>Art &amp; Design;Creativity</td>\n",
       "      <td>2018-06-20</td>\n",
       "      <td>1.1</td>\n",
       "      <td>4.4 and up</td>\n",
       "      <td>970 days</td>\n",
       "    </tr>\n",
       "    <tr>\n",
       "      <th>5</th>\n",
       "      <td>Paper flowers instructions</td>\n",
       "      <td>ART_AND_DESIGN</td>\n",
       "      <td>4.4</td>\n",
       "      <td>167</td>\n",
       "      <td>5.6</td>\n",
       "      <td>50,000+</td>\n",
       "      <td>Free</td>\n",
       "      <td>0.0</td>\n",
       "      <td>Everyone</td>\n",
       "      <td>Art &amp; Design</td>\n",
       "      <td>2017-03-26</td>\n",
       "      <td>1</td>\n",
       "      <td>2.3 and up</td>\n",
       "      <td>1421 days</td>\n",
       "    </tr>\n",
       "  </tbody>\n",
       "</table>\n",
       "</div>"
      ],
      "text/plain": [
       "                                                 App        Category  Rating  \\\n",
       "0     Photo Editor & Candy Camera & Grid & ScrapBook  ART_AND_DESIGN     4.1   \n",
       "2  U Launcher Lite – FREE Live Cool Themes, Hide ...  ART_AND_DESIGN     4.7   \n",
       "3                              Sketch - Draw & Paint  ART_AND_DESIGN     4.5   \n",
       "4              Pixel Draw - Number Art Coloring Book  ART_AND_DESIGN     4.3   \n",
       "5                         Paper flowers instructions  ART_AND_DESIGN     4.4   \n",
       "\n",
       "   Reviews  Size     Installs  Type  Price ContentRating  \\\n",
       "0      159  19.0      10,000+  Free    0.0      Everyone   \n",
       "2    87510   8.7   5,000,000+  Free    0.0      Everyone   \n",
       "3   215644  25.0  50,000,000+  Free    0.0          Teen   \n",
       "4      967   2.8     100,000+  Free    0.0      Everyone   \n",
       "5      167   5.6      50,000+  Free    0.0      Everyone   \n",
       "\n",
       "                    Genres LastUpdated      CurrentVersion AndroidVersion  \\\n",
       "0             Art & Design  2018-01-07               1.0.0   4.0.3 and up   \n",
       "2             Art & Design  2018-08-01               1.2.4   4.0.3 and up   \n",
       "3             Art & Design  2018-06-08  Varies with device     4.2 and up   \n",
       "4  Art & Design;Creativity  2018-06-20                 1.1     4.4 and up   \n",
       "5             Art & Design  2017-03-26                   1     2.3 and up   \n",
       "\n",
       "  NotUpdatedFor  \n",
       "0     1134 days  \n",
       "2      928 days  \n",
       "3      982 days  \n",
       "4      970 days  \n",
       "5     1421 days  "
      ]
     },
     "execution_count": 33,
     "metadata": {},
     "output_type": "execute_result"
    }
   ],
   "source": [
    "from datetime import datetime,date\n",
    "dfClean[\"NotUpdatedFor\"]  = pd.to_datetime(datetime.today().strftime(\"%m-%d-%Y\")) - dfClean[\"LastUpdated\"]\n",
    "dfClean.head()"
   ]
  },
  {
   "cell_type": "markdown",
   "metadata": {
    "id": "5rpldxmopimd"
   },
   "source": [
    "**T24) (Funny) What is weird about the most expensive appslications which are at or above the 99.9th percentile?**"
   ]
  },
  {
   "cell_type": "code",
   "execution_count": 34,
   "metadata": {
    "colab": {
     "base_uri": "https://localhost:8080/",
     "height": 703
    },
    "executionInfo": {
     "elapsed": 1932,
     "status": "ok",
     "timestamp": 1613316846026,
     "user": {
      "displayName": "Simos Gerasimou",
      "photoUrl": "https://lh3.googleusercontent.com/a-/AOh14GiyuWEDBGgnFKbsa3BAO5bWW-MwC5_V7MnUQz5JiA=s64",
      "userId": "13902192774339425778"
     },
     "user_tz": 0
    },
    "id": "dNQjZSZ3pimd",
    "outputId": "a0dbb0fd-92ac-4035-c43b-95ec777d8f01"
   },
   "outputs": [
    {
     "data": {
      "text/html": [
       "<div>\n",
       "<style scoped>\n",
       "    .dataframe tbody tr th:only-of-type {\n",
       "        vertical-align: middle;\n",
       "    }\n",
       "\n",
       "    .dataframe tbody tr th {\n",
       "        vertical-align: top;\n",
       "    }\n",
       "\n",
       "    .dataframe thead th {\n",
       "        text-align: right;\n",
       "    }\n",
       "</style>\n",
       "<table border=\"1\" class=\"dataframe\">\n",
       "  <thead>\n",
       "    <tr style=\"text-align: right;\">\n",
       "      <th></th>\n",
       "      <th>App</th>\n",
       "      <th>Category</th>\n",
       "      <th>Rating</th>\n",
       "      <th>Reviews</th>\n",
       "      <th>Size</th>\n",
       "      <th>Installs</th>\n",
       "      <th>Type</th>\n",
       "      <th>Price</th>\n",
       "      <th>ContentRating</th>\n",
       "      <th>Genres</th>\n",
       "      <th>LastUpdated</th>\n",
       "      <th>CurrentVersion</th>\n",
       "      <th>AndroidVersion</th>\n",
       "      <th>NotUpdatedFor</th>\n",
       "    </tr>\n",
       "  </thead>\n",
       "  <tbody>\n",
       "    <tr>\n",
       "      <th>4197</th>\n",
       "      <td>most expensive app (H)</td>\n",
       "      <td>FAMILY</td>\n",
       "      <td>4.3</td>\n",
       "      <td>6</td>\n",
       "      <td>1.500000</td>\n",
       "      <td>100+</td>\n",
       "      <td>Paid</td>\n",
       "      <td>399.99</td>\n",
       "      <td>Everyone</td>\n",
       "      <td>Entertainment</td>\n",
       "      <td>2018-07-16</td>\n",
       "      <td>1</td>\n",
       "      <td>7.0 and up</td>\n",
       "      <td>944 days</td>\n",
       "    </tr>\n",
       "    <tr>\n",
       "      <th>4362</th>\n",
       "      <td>💎 I'm rich</td>\n",
       "      <td>LIFESTYLE</td>\n",
       "      <td>3.8</td>\n",
       "      <td>718</td>\n",
       "      <td>26.000000</td>\n",
       "      <td>10,000+</td>\n",
       "      <td>Paid</td>\n",
       "      <td>399.99</td>\n",
       "      <td>Everyone</td>\n",
       "      <td>Lifestyle</td>\n",
       "      <td>2018-03-11</td>\n",
       "      <td>1.0.0</td>\n",
       "      <td>4.4 and up</td>\n",
       "      <td>1071 days</td>\n",
       "    </tr>\n",
       "    <tr>\n",
       "      <th>4367</th>\n",
       "      <td>I'm Rich - Trump Edition</td>\n",
       "      <td>LIFESTYLE</td>\n",
       "      <td>3.6</td>\n",
       "      <td>275</td>\n",
       "      <td>7.300000</td>\n",
       "      <td>10,000+</td>\n",
       "      <td>Paid</td>\n",
       "      <td>400.00</td>\n",
       "      <td>Everyone</td>\n",
       "      <td>Lifestyle</td>\n",
       "      <td>2018-05-03</td>\n",
       "      <td>1.0.1</td>\n",
       "      <td>4.1 and up</td>\n",
       "      <td>1018 days</td>\n",
       "    </tr>\n",
       "    <tr>\n",
       "      <th>5351</th>\n",
       "      <td>I am rich</td>\n",
       "      <td>LIFESTYLE</td>\n",
       "      <td>3.8</td>\n",
       "      <td>3547</td>\n",
       "      <td>1.800000</td>\n",
       "      <td>100,000+</td>\n",
       "      <td>Paid</td>\n",
       "      <td>399.99</td>\n",
       "      <td>Everyone</td>\n",
       "      <td>Lifestyle</td>\n",
       "      <td>2018-01-12</td>\n",
       "      <td>2</td>\n",
       "      <td>4.0.3 and up</td>\n",
       "      <td>1129 days</td>\n",
       "    </tr>\n",
       "    <tr>\n",
       "      <th>5354</th>\n",
       "      <td>I am Rich Plus</td>\n",
       "      <td>FAMILY</td>\n",
       "      <td>4.0</td>\n",
       "      <td>856</td>\n",
       "      <td>8.700000</td>\n",
       "      <td>10,000+</td>\n",
       "      <td>Paid</td>\n",
       "      <td>399.99</td>\n",
       "      <td>Everyone</td>\n",
       "      <td>Entertainment</td>\n",
       "      <td>2018-05-19</td>\n",
       "      <td>3</td>\n",
       "      <td>4.4 and up</td>\n",
       "      <td>1002 days</td>\n",
       "    </tr>\n",
       "    <tr>\n",
       "      <th>5356</th>\n",
       "      <td>I Am Rich Premium</td>\n",
       "      <td>FINANCE</td>\n",
       "      <td>4.1</td>\n",
       "      <td>1867</td>\n",
       "      <td>4.700000</td>\n",
       "      <td>50,000+</td>\n",
       "      <td>Paid</td>\n",
       "      <td>399.99</td>\n",
       "      <td>Everyone</td>\n",
       "      <td>Finance</td>\n",
       "      <td>2017-11-12</td>\n",
       "      <td>1.6</td>\n",
       "      <td>4.0 and up</td>\n",
       "      <td>1190 days</td>\n",
       "    </tr>\n",
       "    <tr>\n",
       "      <th>5358</th>\n",
       "      <td>I am Rich!</td>\n",
       "      <td>FINANCE</td>\n",
       "      <td>3.8</td>\n",
       "      <td>93</td>\n",
       "      <td>22.000000</td>\n",
       "      <td>1,000+</td>\n",
       "      <td>Paid</td>\n",
       "      <td>399.99</td>\n",
       "      <td>Everyone</td>\n",
       "      <td>Finance</td>\n",
       "      <td>2017-12-11</td>\n",
       "      <td>1</td>\n",
       "      <td>4.1 and up</td>\n",
       "      <td>1161 days</td>\n",
       "    </tr>\n",
       "    <tr>\n",
       "      <th>5359</th>\n",
       "      <td>I am rich(premium)</td>\n",
       "      <td>FINANCE</td>\n",
       "      <td>3.5</td>\n",
       "      <td>472</td>\n",
       "      <td>0.942383</td>\n",
       "      <td>5,000+</td>\n",
       "      <td>Paid</td>\n",
       "      <td>399.99</td>\n",
       "      <td>Everyone</td>\n",
       "      <td>Finance</td>\n",
       "      <td>2017-05-01</td>\n",
       "      <td>3.4</td>\n",
       "      <td>4.4 and up</td>\n",
       "      <td>1385 days</td>\n",
       "    </tr>\n",
       "    <tr>\n",
       "      <th>5362</th>\n",
       "      <td>I Am Rich Pro</td>\n",
       "      <td>FAMILY</td>\n",
       "      <td>4.4</td>\n",
       "      <td>201</td>\n",
       "      <td>2.700000</td>\n",
       "      <td>5,000+</td>\n",
       "      <td>Paid</td>\n",
       "      <td>399.99</td>\n",
       "      <td>Everyone</td>\n",
       "      <td>Entertainment</td>\n",
       "      <td>2017-05-30</td>\n",
       "      <td>1.54</td>\n",
       "      <td>1.6 and up</td>\n",
       "      <td>1356 days</td>\n",
       "    </tr>\n",
       "    <tr>\n",
       "      <th>5364</th>\n",
       "      <td>I am rich (Most expensive app)</td>\n",
       "      <td>FINANCE</td>\n",
       "      <td>4.1</td>\n",
       "      <td>129</td>\n",
       "      <td>2.700000</td>\n",
       "      <td>1,000+</td>\n",
       "      <td>Paid</td>\n",
       "      <td>399.99</td>\n",
       "      <td>Teen</td>\n",
       "      <td>Finance</td>\n",
       "      <td>2017-12-06</td>\n",
       "      <td>2</td>\n",
       "      <td>4.0.3 and up</td>\n",
       "      <td>1166 days</td>\n",
       "    </tr>\n",
       "    <tr>\n",
       "      <th>5369</th>\n",
       "      <td>I am Rich</td>\n",
       "      <td>FINANCE</td>\n",
       "      <td>4.3</td>\n",
       "      <td>180</td>\n",
       "      <td>3.800000</td>\n",
       "      <td>5,000+</td>\n",
       "      <td>Paid</td>\n",
       "      <td>399.99</td>\n",
       "      <td>Everyone</td>\n",
       "      <td>Finance</td>\n",
       "      <td>2018-03-22</td>\n",
       "      <td>1</td>\n",
       "      <td>4.2 and up</td>\n",
       "      <td>1060 days</td>\n",
       "    </tr>\n",
       "    <tr>\n",
       "      <th>5373</th>\n",
       "      <td>I AM RICH PRO PLUS</td>\n",
       "      <td>FINANCE</td>\n",
       "      <td>4.0</td>\n",
       "      <td>36</td>\n",
       "      <td>41.000000</td>\n",
       "      <td>1,000+</td>\n",
       "      <td>Paid</td>\n",
       "      <td>399.99</td>\n",
       "      <td>Everyone</td>\n",
       "      <td>Finance</td>\n",
       "      <td>2018-06-25</td>\n",
       "      <td>1.0.2</td>\n",
       "      <td>4.1 and up</td>\n",
       "      <td>965 days</td>\n",
       "    </tr>\n",
       "    <tr>\n",
       "      <th>9933</th>\n",
       "      <td>I'm Rich/Eu sou Rico/أنا غني/我很有錢</td>\n",
       "      <td>LIFESTYLE</td>\n",
       "      <td>0.0</td>\n",
       "      <td>0</td>\n",
       "      <td>40.000000</td>\n",
       "      <td>0</td>\n",
       "      <td>Paid</td>\n",
       "      <td>399.99</td>\n",
       "      <td>Everyone</td>\n",
       "      <td>Lifestyle</td>\n",
       "      <td>2017-12-01</td>\n",
       "      <td>MONEY</td>\n",
       "      <td>4.1 and up</td>\n",
       "      <td>1171 days</td>\n",
       "    </tr>\n",
       "  </tbody>\n",
       "</table>\n",
       "</div>"
      ],
      "text/plain": [
       "                                    App   Category  Rating  Reviews  \\\n",
       "4197             most expensive app (H)     FAMILY     4.3        6   \n",
       "4362                         💎 I'm rich  LIFESTYLE     3.8      718   \n",
       "4367           I'm Rich - Trump Edition  LIFESTYLE     3.6      275   \n",
       "5351                          I am rich  LIFESTYLE     3.8     3547   \n",
       "5354                     I am Rich Plus     FAMILY     4.0      856   \n",
       "5356                  I Am Rich Premium    FINANCE     4.1     1867   \n",
       "5358                         I am Rich!    FINANCE     3.8       93   \n",
       "5359                 I am rich(premium)    FINANCE     3.5      472   \n",
       "5362                      I Am Rich Pro     FAMILY     4.4      201   \n",
       "5364     I am rich (Most expensive app)    FINANCE     4.1      129   \n",
       "5369                          I am Rich    FINANCE     4.3      180   \n",
       "5373                 I AM RICH PRO PLUS    FINANCE     4.0       36   \n",
       "9933  I'm Rich/Eu sou Rico/أنا غني/我很有錢  LIFESTYLE     0.0        0   \n",
       "\n",
       "           Size  Installs  Type   Price ContentRating         Genres  \\\n",
       "4197   1.500000      100+  Paid  399.99      Everyone  Entertainment   \n",
       "4362  26.000000   10,000+  Paid  399.99      Everyone      Lifestyle   \n",
       "4367   7.300000   10,000+  Paid  400.00      Everyone      Lifestyle   \n",
       "5351   1.800000  100,000+  Paid  399.99      Everyone      Lifestyle   \n",
       "5354   8.700000   10,000+  Paid  399.99      Everyone  Entertainment   \n",
       "5356   4.700000   50,000+  Paid  399.99      Everyone        Finance   \n",
       "5358  22.000000    1,000+  Paid  399.99      Everyone        Finance   \n",
       "5359   0.942383    5,000+  Paid  399.99      Everyone        Finance   \n",
       "5362   2.700000    5,000+  Paid  399.99      Everyone  Entertainment   \n",
       "5364   2.700000    1,000+  Paid  399.99          Teen        Finance   \n",
       "5369   3.800000    5,000+  Paid  399.99      Everyone        Finance   \n",
       "5373  41.000000    1,000+  Paid  399.99      Everyone        Finance   \n",
       "9933  40.000000         0  Paid  399.99      Everyone      Lifestyle   \n",
       "\n",
       "     LastUpdated CurrentVersion AndroidVersion NotUpdatedFor  \n",
       "4197  2018-07-16              1     7.0 and up      944 days  \n",
       "4362  2018-03-11          1.0.0     4.4 and up     1071 days  \n",
       "4367  2018-05-03          1.0.1     4.1 and up     1018 days  \n",
       "5351  2018-01-12              2   4.0.3 and up     1129 days  \n",
       "5354  2018-05-19              3     4.4 and up     1002 days  \n",
       "5356  2017-11-12            1.6     4.0 and up     1190 days  \n",
       "5358  2017-12-11              1     4.1 and up     1161 days  \n",
       "5359  2017-05-01            3.4     4.4 and up     1385 days  \n",
       "5362  2017-05-30           1.54     1.6 and up     1356 days  \n",
       "5364  2017-12-06              2   4.0.3 and up     1166 days  \n",
       "5369  2018-03-22              1     4.2 and up     1060 days  \n",
       "5373  2018-06-25          1.0.2     4.1 and up      965 days  \n",
       "9933  2017-12-01          MONEY     4.1 and up     1171 days  "
      ]
     },
     "execution_count": 34,
     "metadata": {},
     "output_type": "execute_result"
    }
   ],
   "source": [
    "#Check the name of the applications\n",
    "dfClean[dfClean['Price']>=dfClean['Price'].quantile(0.999)]"
   ]
  },
  {
   "cell_type": "markdown",
   "metadata": {
    "id": "nvCqJSl_pimd"
   },
   "source": [
    "### Should you finish earlier/want to practice at home, you could\n",
    "\n",
    "* Check that the Price variable does not have logical error (values below 0)\n",
    "* Check that the values of Rating variable is within the limits [0,5]\n",
    "* Any other analysis that you might could generate some useful insight."
   ]
  }
 ],
 "metadata": {
  "colab": {
   "collapsed_sections": [],
   "name": "DAT1-Practical5-ModelAnswers.ipynb",
   "provenance": [],
   "toc_visible": true
  },
  "kernelspec": {
   "display_name": "Python 3",
   "language": "python",
   "name": "python3"
  },
  "language_info": {
   "codemirror_mode": {
    "name": "ipython",
    "version": 3
   },
   "file_extension": ".py",
   "mimetype": "text/x-python",
   "name": "python",
   "nbconvert_exporter": "python",
   "pygments_lexer": "ipython3",
   "version": "3.8.3"
  }
 },
 "nbformat": 4,
 "nbformat_minor": 1
}
