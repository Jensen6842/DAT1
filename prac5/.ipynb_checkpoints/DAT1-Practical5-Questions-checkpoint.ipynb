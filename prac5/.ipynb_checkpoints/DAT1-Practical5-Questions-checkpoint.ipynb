{
 "cells": [
  {
   "cell_type": "markdown",
   "metadata": {
    "id": "zF7tBkX4pilf"
   },
   "source": [
    "# DATA 1 Practical 5\n",
    "\n",
    "Simos Gerasimou\n",
    "\n",
    "\n",
    "## All You Need to Know About Google Play Store\n",
    "\n",
    "**Google Play store** ([https://play.google.com/store?hl=en](https://play.google.com/store?hl=en)) is a digital distribution service operated and developed by Google. It serves as the official app store for the Android operating system, allowing users to browse and download applications developed with the Android software development kit (SDK) and published through Google. [Wikipedia](https://en.wikipedia.org/wiki/Google_Play).\n",
    "\n",
    "**DataVision** has scraped the Google Play store  and acquired data for several Android applications. Since data from the Play Store apps has great potential to drive app-making businesses to success, DataVision wants to investigate whether any actionable insights can be drawn for developers to work on and capture the Android market!\n",
    "\n",
    "#### Your tasks are to explore this dataset and generade some actionable knowledge. \n",
    "\n",
    "\n",
    "#### This Jupyter Notebook will be presented to  Google stakeholders who have limited knowledge about data science. So, your findings should be complemented by a suitable justification explaining what you observe and, when applicable, what does this observation  mean and, possibly, why it occurs.\n",
    "\n",
    "* For each question (task) a description is provided accompanied (most of the time) by two cells: one for writing the Python code and another for providing the justification. Feel free to add more cells if you feel they are needed, but keep the cells corresponding to the same question close by.\n",
    "\n",
    "(1) To answer these exercises, you **must first read Chapter 3: Dapa Manipulation with Pandas from the Python Data Science Handbook** (https://jakevdp.github.io/PythonDataScienceHandbook/03.00-introduction-to-pandas.html)\n",
    "\n",
    "(2) If you haven't already done so, complete the exercises on Pandas tutorial to become familiar with the library.\n",
    "\n",
    "**Pandas API Reference**: https://pandas.pydata.org/pandas-docs/stable/reference/index.html\n",
    "\n",
    "***"
   ]
  },
  {
   "cell_type": "markdown",
   "metadata": {
    "id": "JSMd71Q2pill"
   },
   "source": [
    "### Part 1: Reading dataset\n",
    "\n",
    "The Google dataset is available on VLE (look for googleplaystore.csv in the Practicals section)\n",
    "\n",
    "Before doing the tasks below, you may want to explore the dataset using a spreadsheet editor (e.g., Excel) to get a high-level view of the dataset.\n",
    "\n",
    "**T1) Load the Google Play Store dataset using Pandas**\n",
    "\n",
    "**Note**: You have to download the dataset on your local machine and then load it onto the Jupyter Notebook"
   ]
  },
  {
   "cell_type": "code",
   "execution_count": null,
   "metadata": {
    "id": "Nd3k6O6Gpilo"
   },
   "outputs": [],
   "source": [
    "import pandas as pd \n",
    "import numpy as np\n",
    "\n",
    "#Write your answer here\n",
    "pd.read_csv(file, header=None, names=['Name', 'Births'])"
   ]
  },
  {
   "cell_type": "markdown",
   "metadata": {
    "id": "GA46YePHpilr"
   },
   "source": [
    "***\n",
    "\n",
    "### Part 2: Cleaning and analysing the dataset"
   ]
  },
  {
   "cell_type": "markdown",
   "metadata": {
    "id": "tNP03BoptJCV"
   },
   "source": [
    "**T2i) Print the first 10 records of the dataframe**"
   ]
  },
  {
   "cell_type": "code",
   "execution_count": null,
   "metadata": {
    "id": "JIL4cdSqpilt"
   },
   "outputs": [],
   "source": [
    "#Write your answer here\n"
   ]
  },
  {
   "cell_type": "markdown",
   "metadata": {
    "id": "J-3Llu8tuD3U"
   },
   "source": [
    "**T2ii) Print the last 3 records of the dataframe**"
   ]
  },
  {
   "cell_type": "code",
   "execution_count": null,
   "metadata": {
    "id": "JX6ch_uopilv"
   },
   "outputs": [],
   "source": [
    "#Write your answer here\n"
   ]
  },
  {
   "cell_type": "markdown",
   "metadata": {
    "id": "0ypuvQBvpilx"
   },
   "source": [
    "**T3) Get general info about the dataset**"
   ]
  },
  {
   "cell_type": "code",
   "execution_count": null,
   "metadata": {
    "id": "FbzVNiLEpily"
   },
   "outputs": [],
   "source": [
    "#Write your answer here\n"
   ]
  },
  {
   "cell_type": "markdown",
   "metadata": {
    "id": "okNuSdnjpilz"
   },
   "source": [
    "**T4) Explore the dataset and try to understand the meaning of each column. For each column, write its meaning and its data type**"
   ]
  },
  {
   "cell_type": "code",
   "execution_count": null,
   "metadata": {},
   "outputs": [],
   "source": [
    "#Write your answer here\n"
   ]
  },
  {
   "cell_type": "markdown",
   "metadata": {
    "id": "HYxnGDLKpil2"
   },
   "source": [
    "**T5) Get the shape of the dataframe**"
   ]
  },
  {
   "cell_type": "code",
   "execution_count": null,
   "metadata": {
    "id": "8Z0XUlOSpil5"
   },
   "outputs": [],
   "source": [
    "#Write your answer here\n"
   ]
  },
  {
   "cell_type": "markdown",
   "metadata": {
    "id": "BMmauN4Opil7"
   },
   "source": [
    "**T6) Get the name of the columns for the dataframe**"
   ]
  },
  {
   "cell_type": "code",
   "execution_count": null,
   "metadata": {
    "id": "iEpHm4g7pil7"
   },
   "outputs": [],
   "source": [
    "#Write your answer here\n"
   ]
  },
  {
   "cell_type": "markdown",
   "metadata": {
    "id": "kTny7cHppil7"
   },
   "source": [
    "**T7) Do you think the columns (variables) need to be more readable? If so, rename them (e.g., suitable capitalisation, eliminate underscores, full words)**"
   ]
  },
  {
   "cell_type": "code",
   "execution_count": null,
   "metadata": {
    "id": "6mQqaiejpil9"
   },
   "outputs": [],
   "source": [
    "#Write your answer here\n"
   ]
  },
  {
   "cell_type": "markdown",
   "metadata": {
    "id": "5o5-LKDEpil9"
   },
   "source": [
    "**T8) How many duplicated records exist?**\n",
    "\n",
    "**Note**: A record is duplicated if all its entries are identical with another record\n",
    "\n"
   ]
  },
  {
   "cell_type": "code",
   "execution_count": null,
   "metadata": {
    "id": "fmJa-u1mpil-"
   },
   "outputs": [],
   "source": [
    "#Write your answer here\n"
   ]
  },
  {
   "cell_type": "markdown",
   "metadata": {
    "id": "8NAcEIUPpimB"
   },
   "source": [
    "**T9i) How many of the duplicated records refer to 'blood pressure' in their name?**"
   ]
  },
  {
   "cell_type": "code",
   "execution_count": null,
   "metadata": {
    "id": "DjBTHp5vEu-U"
   },
   "outputs": [],
   "source": [
    "#Write your answer here\n"
   ]
  },
  {
   "cell_type": "markdown",
   "metadata": {
    "id": "diz4XEm2FuJ3"
   },
   "source": [
    "**T9ii) Print the records you found in task T9i**"
   ]
  },
  {
   "cell_type": "code",
   "execution_count": null,
   "metadata": {
    "id": "6V6RRcYeF3HF"
   },
   "outputs": [],
   "source": [
    "#Write your answer here\n"
   ]
  },
  {
   "cell_type": "markdown",
   "metadata": {
    "id": "lO_TXFuT7xUx"
   },
   "source": [
    "**T10) Let's look more closely into the dataset. Are there more duplicates?**\n",
    "\n",
    "**Hint:** Check the duplicated function of Pandas to understand how the function operates. Do you need to specify what information to consider when checking for duplicates?"
   ]
  },
  {
   "cell_type": "code",
   "execution_count": null,
   "metadata": {
    "id": "albqSW1t83Ms"
   },
   "outputs": [],
   "source": [
    "#Write your answer here\n"
   ]
  },
  {
   "cell_type": "markdown",
   "metadata": {
    "id": "rAjnzdgt-XeP"
   },
   "source": [
    "**T11) Find the app with the highest number of duplicated records and the number of duplicated records for this app**\n",
    "\n",
    "**Hint:** How can you count the records of a dataframe?"
   ]
  },
  {
   "cell_type": "code",
   "execution_count": null,
   "metadata": {
    "id": "6kx0QrFk98LT"
   },
   "outputs": [],
   "source": [
    "#Write your answer here\n"
   ]
  },
  {
   "cell_type": "markdown",
   "metadata": {
    "id": "YrcVW-xaCVYq"
   },
   "source": [
    "**T12) Investigate the records for the app you found in task T10. What can you observe? Can you identiy the reason why the duplicate records exist?**"
   ]
  },
  {
   "cell_type": "code",
   "execution_count": null,
   "metadata": {
    "id": "mpvkOjwHGbk8"
   },
   "outputs": [],
   "source": [
    "#Write your answer here\n"
   ]
  },
  {
   "cell_type": "markdown",
   "metadata": {
    "id": "xlmfXnU6FnDe"
   },
   "source": [
    "**T13) Assuming that the data has been scaped sequentially, remove all duplicates by specifying which record to keep**\n",
    "\n",
    "**Hint:** You may want to check the documentation of the drop_duplicates function"
   ]
  },
  {
   "cell_type": "code",
   "execution_count": null,
   "metadata": {
    "id": "zZJrqxFwGJIT"
   },
   "outputs": [],
   "source": [
    "#Write your answer here\n"
   ]
  },
  {
   "cell_type": "markdown",
   "metadata": {
    "id": "75BvTequ2TOE"
   },
   "source": [
    "**T14i) Check the type of variable indicating the last timethe application was update and convert it into the appropriate format**\n",
    "\n",
    "**Hint:** \n",
    "\n",
    "* You may want to check https://pandas.pydata.org/pandas-docs/stable/reference/api/pandas.to_datetime.html\n",
    "\n",
    "* Pay attention to the date format and the month type\n",
    "\n",
    "* You may also want to check https://pandas.pydata.org/pandas-docs/stable/reference/api/pandas.DataFrame.loc.html"
   ]
  },
  {
   "cell_type": "code",
   "execution_count": null,
   "metadata": {
    "id": "WfqLzfWpvLCW"
   },
   "outputs": [],
   "source": [
    "#Write your answer here\n"
   ]
  },
  {
   "cell_type": "markdown",
   "metadata": {
    "id": "ADn1cUAJ4lgY"
   },
   "source": [
    "**T14ii) Which application was updated least recently and when did this happen?**"
   ]
  },
  {
   "cell_type": "code",
   "execution_count": null,
   "metadata": {
    "id": "bhGlOTgzyqf5"
   },
   "outputs": [],
   "source": [
    "#Write your answer here\n"
   ]
  },
  {
   "cell_type": "markdown",
   "metadata": {
    "id": "0FCz6WwAdqBi"
   },
   "source": [
    "**T15) How many unique values exist under the Price variable? Print the first five unique prices.**"
   ]
  },
  {
   "cell_type": "code",
   "execution_count": null,
   "metadata": {
    "id": "FnxwCk2sdxiM"
   },
   "outputs": [],
   "source": [
    "#Write your answer here\n"
   ]
  },
  {
   "cell_type": "markdown",
   "metadata": {
    "id": "NNuuClnoeoJv"
   },
   "source": [
    "**T16i) Write a function moneyWithoutCurrencySymbol that takes a string and returns the string as a float without the currency symbol (if exists)**"
   ]
  },
  {
   "cell_type": "code",
   "execution_count": null,
   "metadata": {
    "id": "SnMVUnVLqK35"
   },
   "outputs": [],
   "source": [
    "#Write your answer here\n"
   ]
  },
  {
   "cell_type": "markdown",
   "metadata": {
    "id": "mzyr0QyYqR9P"
   },
   "source": [
    "**T16ii) Perform the necessary processing tasks to convert the Price variable into a float**\n",
    "\n",
    "**Hint:**\n",
    "\n",
    "* You may want to use the function from task T16i\n",
    "* You may want to check https://pandas.pydata.org/pandas-docs/stable/reference/api/pandas.Series.apply.html\n",
    "* Alternatively, you may want to check https://pandas.pydata.org/pandas-docs/stable/reference/api/pandas.to_numeric.html"
   ]
  },
  {
   "cell_type": "code",
   "execution_count": null,
   "metadata": {
    "id": "k4RCDZ9GqgV1"
   },
   "outputs": [],
   "source": [
    "#Write your answer here\n"
   ]
  },
  {
   "cell_type": "markdown",
   "metadata": {
    "id": "KOgK0zeU-h3G"
   },
   "source": [
    "**T17i) How many missing data exist for each variable? Is this a messy or a clean dataset?**"
   ]
  },
  {
   "cell_type": "code",
   "execution_count": null,
   "metadata": {
    "id": "IIQidrOA-DgL"
   },
   "outputs": [],
   "source": [
    "#Write your answer here\n"
   ]
  },
  {
   "cell_type": "markdown",
   "metadata": {
    "id": "M3gS7DfP-tCy"
   },
   "source": [
    "**T17ii) Impute the categorical columns with the mode value**\n",
    "\n",
    "**Hint:** Check Chapter 3 of the Python Data Science Handbook "
   ]
  },
  {
   "cell_type": "code",
   "execution_count": null,
   "metadata": {
    "id": "U7Tx_qat_EaF"
   },
   "outputs": [],
   "source": [
    "#Write your answer here\n"
   ]
  },
  {
   "cell_type": "markdown",
   "metadata": {
    "id": "0Ci6Jr7i_zFU"
   },
   "source": [
    "**T17iii) What would be an appropriate value to impute for the other variable? Apply the imputation.**"
   ]
  },
  {
   "cell_type": "code",
   "execution_count": null,
   "metadata": {
    "id": "eXrzXx1z_4O9"
   },
   "outputs": [],
   "source": [
    "#Write your answer here\n"
   ]
  },
  {
   "cell_type": "markdown",
   "metadata": {
    "id": "o4HCestaAtua"
   },
   "source": [
    "**T18i) Which are the possible values for the variable Installs?**"
   ]
  },
  {
   "cell_type": "code",
   "execution_count": null,
   "metadata": {
    "id": "Cv1b-ceaCU43"
   },
   "outputs": [],
   "source": [
    "#Write your answer here\n"
   ]
  },
  {
   "cell_type": "markdown",
   "metadata": {
    "id": "T-eNNDDuCaxk"
   },
   "source": [
    "**T18ii) Based on the result from task T18i, do you see any odd value? Do think any cleaning is needed?**"
   ]
  },
  {
   "cell_type": "code",
   "execution_count": null,
   "metadata": {
    "id": "Dt30oayZCmUp"
   },
   "outputs": [],
   "source": [
    "#Write your answer here\n"
   ]
  },
  {
   "cell_type": "markdown",
   "metadata": {
    "id": "Fp6Z9u22DLiB"
   },
   "source": [
    "**T18iii) If you did any cleaning in task T18ii, check that the cleaning has taken place**"
   ]
  },
  {
   "cell_type": "code",
   "execution_count": null,
   "metadata": {
    "id": "6nLgMXiqAtXb"
   },
   "outputs": [],
   "source": [
    "#Write your answer here\n"
   ]
  },
  {
   "cell_type": "markdown",
   "metadata": {
    "id": "3hKrivsXHUNv"
   },
   "source": [
    "**T19i) Perform the necessary processing tasks to convert the Size variable into a float using a common metric (i.e., which will enable to compare records between each other using the size value). Set records whose value is \"Varies with device\" to 1**"
   ]
  },
  {
   "cell_type": "code",
   "execution_count": null,
   "metadata": {
    "id": "-qxVrfRbGg6X"
   },
   "outputs": [],
   "source": [
    "#Write your answer here\n"
   ]
  },
  {
   "cell_type": "markdown",
   "metadata": {
    "id": "K9IUOqNJJz2k"
   },
   "source": [
    "**T19ii) Which is the smallest application and what is its size?**"
   ]
  },
  {
   "cell_type": "code",
   "execution_count": null,
   "metadata": {
    "id": "IPJNN6GdJ8G4"
   },
   "outputs": [],
   "source": [
    "#Write your answer here\n"
   ]
  },
  {
   "cell_type": "markdown",
   "metadata": {
    "id": "PrwbjmM_LW_P"
   },
   "source": [
    "**T19iii) What is the most common Category of the largest applications and which applications belong to this Category?**"
   ]
  },
  {
   "cell_type": "code",
   "execution_count": null,
   "metadata": {
    "id": "qBYY1FCnKugz"
   },
   "outputs": [],
   "source": [
    "#Write your answer here\n"
   ]
  },
  {
   "cell_type": "markdown",
   "metadata": {
    "id": "U0Legs9DO8wx"
   },
   "source": [
    "**T20) Are there any logical errors in the Type and Price variables? Are there any applications whose type if Free and you have to pay? Are there any application with type Paid which you can get for free? Check the integrity of the dataset using these conditions**"
   ]
  },
  {
   "cell_type": "code",
   "execution_count": null,
   "metadata": {
    "id": "x18qkWP8DroK"
   },
   "outputs": [],
   "source": [
    "#Write your answer here\n"
   ]
  },
  {
   "cell_type": "markdown",
   "metadata": {
    "id": "vKilGP1dP9th"
   },
   "source": [
    "**T21) A reviewer of an application may or may not rate the review. Check the consistency of the dataset concerning this matter**"
   ]
  },
  {
   "cell_type": "code",
   "execution_count": null,
   "metadata": {
    "id": "eGlKl_L3P9bq"
   },
   "outputs": [],
   "source": [
    "#Write your answer here\n"
   ]
  },
  {
   "cell_type": "markdown",
   "metadata": {
    "id": "KlX4ueSUpimG"
   },
   "source": [
    "**T22) Get some descriptive statistics for the dataset**\n"
   ]
  },
  {
   "cell_type": "code",
   "execution_count": null,
   "metadata": {
    "id": "tFunlPgBpimH"
   },
   "outputs": [],
   "source": [
    "#Write your answer here\n"
   ]
  },
  {
   "cell_type": "markdown",
   "metadata": {
    "id": "gznzJ93NpimV"
   },
   "source": [
    "**T23) Create a new column that indicates the difference between the Last Updated variable column and the current date.**\n"
   ]
  },
  {
   "cell_type": "code",
   "execution_count": null,
   "metadata": {
    "id": "n3bbieRdpimV"
   },
   "outputs": [],
   "source": [
    "#Write your answer here\n"
   ]
  },
  {
   "cell_type": "markdown",
   "metadata": {
    "id": "5rpldxmopimd"
   },
   "source": [
    "**T24) (Funny) What is weird about the most expensive appslications which are at or above the 99.9th percentile?**"
   ]
  },
  {
   "cell_type": "code",
   "execution_count": null,
   "metadata": {
    "id": "dNQjZSZ3pimd"
   },
   "outputs": [],
   "source": [
    "#Write your answer here\n"
   ]
  },
  {
   "cell_type": "markdown",
   "metadata": {
    "id": "nvCqJSl_pimd"
   },
   "source": [
    "### Should you finish earlier/want to practice at home, you could\n",
    "\n",
    "* Check that the Price variable does not have logical error (values below 0)\n",
    "* Check that the values of Rating variable is within the limits [0,5]\n",
    "* Any other analysis that you might could generate some useful insight."
   ]
  }
 ],
 "metadata": {
  "colab": {
   "collapsed_sections": [],
   "name": "DAT1-Practical5-Questions.ipynb",
   "provenance": []
  },
  "kernelspec": {
   "display_name": "Python 3",
   "language": "python",
   "name": "python3"
  },
  "language_info": {
   "codemirror_mode": {
    "name": "ipython",
    "version": 3
   },
   "file_extension": ".py",
   "mimetype": "text/x-python",
   "name": "python",
   "nbconvert_exporter": "python",
   "pygments_lexer": "ipython3",
   "version": "3.8.3"
  }
 },
 "nbformat": 4,
 "nbformat_minor": 1
}
