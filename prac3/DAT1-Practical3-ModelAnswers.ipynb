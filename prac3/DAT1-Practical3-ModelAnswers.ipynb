{
 "cells": [
  {
   "cell_type": "markdown",
   "metadata": {
    "id": "t21A_LdjaSZA"
   },
   "source": [
    "# DATA 1 Practical 3 - Model Answers\n",
    "\n",
    "Simos Gerasimou\n",
    "\n",
    "\n",
    "## Wine Exploration"
   ]
  },
  {
   "cell_type": "markdown",
   "metadata": {
    "id": "mkoefaAPaSZK"
   },
   "source": [
    "**WineEnthusiast** is a website for buying wine products and in which customers can also review products. The company has collected reviews for a wide variety of their products on November 22nd, 2017. The company wants to analyse this data to extract insights from its products and answer questions including:\n",
    "* how its products are rated by customers?\n",
    "* are there patterns that might increase its revenue and/or profit?\n",
    "\n",
    "#### Your tasks are to explore this dataset and generade actionable knowledge. \n",
    "\n",
    "\n",
    "This Jupyter Notebook will be presented to the WineEnthusiast main stakeholders who have limited knowledge about data science. Your findings should be complemented by a suitable justification explaining what you observe and, when applicable, what this observation means and, possibly, why it occurs.\n",
    "\n",
    "\n",
    "***"
   ]
  },
  {
   "cell_type": "markdown",
   "metadata": {
    "id": "tadicbCfdZoi"
   },
   "source": [
    "### **Important Information**\n",
    "\n",
    "(1) To answer these exercises, you **must first read Chapter 2: Introduction to NumPy from the Python Data Science Handbook** (https://jakevdp.github.io/PythonDataScienceHandbook/02.00-introduction-to-numpy.html)\n",
    "\n",
    "\n",
    "(2) For each question (task) a description is provided accompanied (most of the time) by two cells: one for writing the Python code and another for providing the justification. Feel free to add more cells if you feel they are needed, but keep the cells corresponding to the same question close by.\n",
    "\n",
    "**Hint**: If you find difficulties in solving a task, look at Chapter 2 from the Python Data Science Handbook.\n"
   ]
  },
  {
   "cell_type": "markdown",
   "metadata": {
    "id": "NknUE6umgA8t"
   },
   "source": [
    "#### **T1) Explore the dataset and for each column write its name, data type (categorical/numerical - nominal,ordinal,discrete,continuous) and its meaning (i.e., what does it capture?)**\n",
    "\n",
    "* You may want to open the CSV file using a text editor (e.g., Notepad) or a spreadsheet editor (e.g., Excel)"
   ]
  },
  {
   "cell_type": "markdown",
   "metadata": {
    "id": "h4tiYhy5gF_6"
   },
   "source": [
    "**Write your answer here**\n",
    "\n",
    "* **ID**: identifier in WineEnthusiast's website\n",
    "* **country**: the country where the wine is from\n",
    "* **points**: the number of points WineEnthusiast rated the wine on a scale of 1–100 \n",
    "* **price**: the cost for a bottle of the wine (no currency is given)\n",
    "* **province**: the province or state that the wine is from\n",
    "* **tasterName**:\tthe name of the person who tasted the wine\n",
    "* **title**:\tA brief title of the wine\n",
    "* **variety**: the type of grapes used to make the wine\n",
    "* **winery**:\tthe winery that made the wine"
   ]
  },
  {
   "cell_type": "markdown",
   "metadata": {
    "id": "ltW7YyZ7g7DG"
   },
   "source": [
    "### 1) Reading dataset\n",
    "\n",
    "The WineEnthusiast dataset is available on VLE (look for \"wine-data-filtered-500.csv\" in the Practicals section)"
   ]
  },
  {
   "cell_type": "code",
   "execution_count": 1,
   "metadata": {
    "executionInfo": {
     "elapsed": 1046,
     "status": "ok",
     "timestamp": 1612553726649,
     "user": {
      "displayName": "Simos Gerasimou",
      "photoUrl": "https://lh3.googleusercontent.com/a-/AOh14GiyuWEDBGgnFKbsa3BAO5bWW-MwC5_V7MnUQz5JiA=s64",
      "userId": "13902192774339425778"
     },
     "user_tz": 0
    },
    "id": "Eef1smmDf6sT"
   },
   "outputs": [],
   "source": [
    "#Using NumPy to read the dataset\n",
    "import numpy as np\n",
    "#Define the path to the dataset\n",
    "data_path = \"wine-data-filtered-500.csv\"\n",
    "#Define the type of each dataset column. \n",
    "#This is needed because NumPy arrays cannot directly read files with different data types\n",
    "#Hence, we are using Structured arrays. \n",
    "#But, we will soon move to Pandas which makes data manipulation easier\n",
    "types = ['i4', 'U30', 'i4', 'i4', 'U50', 'U50', 'U100', 'U100', 'U100']\n",
    "#Read the dataset\n",
    "data = np.genfromtxt(data_path, dtype=types, delimiter=',', names=True)"
   ]
  },
  {
   "cell_type": "markdown",
   "metadata": {
    "id": "Doh4SF003--5"
   },
   "source": [
    "##### **Since we are using Structured Arrays, we can extract the entries of a column by specifying its name. We can further slice the array by using the standard [Python slicing mechanism](https://www.w3schools.com/python/numpy_array_slicing.asp)**\n",
    "\n"
   ]
  },
  {
   "cell_type": "code",
   "execution_count": 2,
   "metadata": {
    "colab": {
     "base_uri": "https://localhost:8080/"
    },
    "executionInfo": {
     "elapsed": 2359,
     "status": "ok",
     "timestamp": 1612553727986,
     "user": {
      "displayName": "Simos Gerasimou",
      "photoUrl": "https://lh3.googleusercontent.com/a-/AOh14GiyuWEDBGgnFKbsa3BAO5bWW-MwC5_V7MnUQz5JiA=s64",
      "userId": "13902192774339425778"
     },
     "user_tz": 0
    },
    "id": "H3aA0ZsI4MUC",
    "outputId": "fe7b9efa-b091-4d97-8381-cff54100e94c"
   },
   "outputs": [
    {
     "name": "stdout",
     "output_type": "stream",
     "text": [
      "[(1, 'Portugal', 87, 15, 'Douro', 'Roger Voss', 'Quinta dos Avidagos 2011 Avidagos Red (Douro)', 'Portuguese Red', 'Quinta dos Avidagos')\n",
      " (2, 'US', 87, 14, 'Oregon', 'Paul Gregutt', 'Rainstorm 2013 Pinot Gris (Willamette Valley)', 'Pinot Gris', 'Rainstorm')\n",
      " (3, 'US', 87, 13, 'Michigan', 'Alexander Peartree', 'St. Julian 2013 Reserve Late Harvest Riesling (Lake Michigan Shore)', 'Riesling', 'St. Julian')\n",
      " (4, 'US', 87, 65, 'Oregon', 'Paul Gregutt', \"Sweet Cheeks 2012 Vintner's Reserve Wild Child Block Pinot Noir (Willamette Valley)\", 'Pinot Noir', 'Sweet Cheeks')\n",
      " (5, 'Spain', 87, 15, 'Northern Spain', 'Michael Schachner', 'Tandem 2011 Ars In Vitro Tempranillo-Merlot (Navarra)', 'Tempranillo-Merlot', 'Tandem')]\n"
     ]
    }
   ],
   "source": [
    "#Print the first 5 entries with \n",
    "print(data[0:5])"
   ]
  },
  {
   "cell_type": "code",
   "execution_count": 3,
   "metadata": {
    "colab": {
     "base_uri": "https://localhost:8080/"
    },
    "executionInfo": {
     "elapsed": 2346,
     "status": "ok",
     "timestamp": 1612553727986,
     "user": {
      "displayName": "Simos Gerasimou",
      "photoUrl": "https://lh3.googleusercontent.com/a-/AOh14GiyuWEDBGgnFKbsa3BAO5bWW-MwC5_V7MnUQz5JiA=s64",
      "userId": "13902192774339425778"
     },
     "user_tz": 0
    },
    "id": "JYceY6Zz4-ui",
    "outputId": "b7c91e77-7048-489e-b855-b87ebeb7990c"
   },
   "outputs": [
    {
     "name": "stdout",
     "output_type": "stream",
     "text": [
      "['Quinta dos Avidagos 2011 Avidagos Red (Douro)'\n",
      " 'Rainstorm 2013 Pinot Gris (Willamette Valley)'\n",
      " 'St. Julian 2013 Reserve Late Harvest Riesling (Lake Michigan Shore)'\n",
      " \"Sweet Cheeks 2012 Vintner's Reserve Wild Child Block Pinot Noir (Willamette Valley)\"\n",
      " 'Tandem 2011 Ars In Vitro Tempranillo-Merlot (Navarra)'\n",
      " 'Terre di Giurfo 2013 Belsito Frappato (Vittoria)'\n",
      " 'Trimbach 2012 Gewurztraminer (Alsace)'\n",
      " 'Heinz Eifel 2013 Shine Gewurztraminer (Rheinhessen)'\n",
      " 'Jean-Baptiste Adam 2012 Les Natures Pinot Gris (Alsace)'\n",
      " 'Kirkland Signature 2011 Mountain Cuvee Cabernet Sauvignon (Napa Valley)']\n"
     ]
    }
   ],
   "source": [
    "#Print the first ten wine titles\n",
    "print(data['title'][0:10])"
   ]
  },
  {
   "cell_type": "markdown",
   "metadata": {
    "id": "6YU2QMmJ65YJ"
   },
   "source": [
    "***\n",
    "### **How do the wine prices look like?**\n"
   ]
  },
  {
   "cell_type": "markdown",
   "metadata": {
    "id": "o7LrmCWM6P2c"
   },
   "source": [
    "#### **T2) Calculate the mean and median prices for all the wines**"
   ]
  },
  {
   "cell_type": "code",
   "execution_count": 4,
   "metadata": {
    "colab": {
     "base_uri": "https://localhost:8080/"
    },
    "executionInfo": {
     "elapsed": 2338,
     "status": "ok",
     "timestamp": 1612553727988,
     "user": {
      "displayName": "Simos Gerasimou",
      "photoUrl": "https://lh3.googleusercontent.com/a-/AOh14GiyuWEDBGgnFKbsa3BAO5bWW-MwC5_V7MnUQz5JiA=s64",
      "userId": "13902192774339425778"
     },
     "user_tz": 0
    },
    "id": "PVvVfMa_08Ds",
    "outputId": "22d40439-6a61-48f5-a486-2c19035809d1"
   },
   "outputs": [
    {
     "name": "stdout",
     "output_type": "stream",
     "text": [
      "Mean wine price: 42.428\n",
      "Median wine price: 30.0\n"
     ]
    }
   ],
   "source": [
    "#Write your answer here\n",
    "winePrices = data['price']\n",
    "print('Mean wine price:',   np.mean(winePrices)) \n",
    "print('Median wine price:', np.median(winePrices))"
   ]
  },
  {
   "cell_type": "markdown",
   "metadata": {
    "id": "KWIQWq7C1W3C"
   },
   "source": [
    "#### **T3) Calculate the min, max, range and standard deviation of wine prices**"
   ]
  },
  {
   "cell_type": "code",
   "execution_count": 5,
   "metadata": {
    "colab": {
     "base_uri": "https://localhost:8080/"
    },
    "executionInfo": {
     "elapsed": 2331,
     "status": "ok",
     "timestamp": 1612553727989,
     "user": {
      "displayName": "Simos Gerasimou",
      "photoUrl": "https://lh3.googleusercontent.com/a-/AOh14GiyuWEDBGgnFKbsa3BAO5bWW-MwC5_V7MnUQz5JiA=s64",
      "userId": "13902192774339425778"
     },
     "user_tz": 0
    },
    "id": "9lMEnZ6M08HK",
    "outputId": "afff30cc-548f-4559-efa8-56cd98a544ac"
   },
   "outputs": [
    {
     "name": "stdout",
     "output_type": "stream",
     "text": [
      "Min wine price: 7\n",
      "Max wine price: 775\n",
      "Range: 768\n",
      "Std: 60.58020087020965\n"
     ]
    }
   ],
   "source": [
    "#Write your answer here\n",
    "min=np.min(winePrices)\n",
    "max=np.max(winePrices)\n",
    "print('Min wine price:', min)\n",
    "print('Max wine price:', max)\n",
    "print('Range:', max-min)\n",
    "\n",
    "print('Std:', np.std(winePrices, ddof=1))"
   ]
  },
  {
   "cell_type": "markdown",
   "metadata": {
    "id": "-Haj6qSO7J5k"
   },
   "source": [
    "#### **T4) What insights can you extract from these values? Which metric of central tendency should we use?**"
   ]
  },
  {
   "cell_type": "markdown",
   "metadata": {
    "id": "WXbnryk57Pel"
   },
   "source": [
    "**Write your answer here**\n",
    "\n",
    "* There is a significant difference between the mean and median wine price.\n",
    "* This is a potential sign that some very expensive wines exist in the dataset. \n",
    "* This observation is enhanced by the large standard deviation value.\n",
    "* Given these insights, using the median is a better choice."
   ]
  },
  {
   "cell_type": "markdown",
   "metadata": {
    "id": "79i7K__v7obW"
   },
   "source": [
    "***\n",
    "### **What do the reviewers think about the quality of wines?**"
   ]
  },
  {
   "cell_type": "markdown",
   "metadata": {
    "id": "D36aM_u38fea"
   },
   "source": [
    "#### **T5) Calculate the metrics of central tendency for wine ratings (points)**"
   ]
  },
  {
   "cell_type": "code",
   "execution_count": 6,
   "metadata": {
    "colab": {
     "base_uri": "https://localhost:8080/"
    },
    "executionInfo": {
     "elapsed": 2323,
     "status": "ok",
     "timestamp": 1612553727990,
     "user": {
      "displayName": "Simos Gerasimou",
      "photoUrl": "https://lh3.googleusercontent.com/a-/AOh14GiyuWEDBGgnFKbsa3BAO5bWW-MwC5_V7MnUQz5JiA=s64",
      "userId": "13902192774339425778"
     },
     "user_tz": 0
    },
    "id": "AXCDKAHX8jII",
    "outputId": "a5ca553d-a4fb-4d81-af07-1f7c95105f50"
   },
   "outputs": [
    {
     "name": "stdout",
     "output_type": "stream",
     "text": [
      "Mean rating: 89.244\n",
      "Median rating: 89.0\n"
     ]
    }
   ],
   "source": [
    "#Write your answer here \n",
    "wineRatings = data['points']\n",
    "print('Mean rating:', np.mean(wineRatings)) \n",
    "print('Median rating:', np.median(wineRatings)) "
   ]
  },
  {
   "cell_type": "markdown",
   "metadata": {
    "id": "nCYOYEgW7q2y"
   },
   "source": [
    "#### **T6) Calculate the metrics of dispersion for wine ratings (points)**"
   ]
  },
  {
   "cell_type": "code",
   "execution_count": 7,
   "metadata": {
    "colab": {
     "base_uri": "https://localhost:8080/"
    },
    "executionInfo": {
     "elapsed": 2316,
     "status": "ok",
     "timestamp": 1612553727993,
     "user": {
      "displayName": "Simos Gerasimou",
      "photoUrl": "https://lh3.googleusercontent.com/a-/AOh14GiyuWEDBGgnFKbsa3BAO5bWW-MwC5_V7MnUQz5JiA=s64",
      "userId": "13902192774339425778"
     },
     "user_tz": 0
    },
    "id": "833qUWEW08Aw",
    "outputId": "c0daeb8e-6101-462b-9df3-2cc3c89bc947"
   },
   "outputs": [
    {
     "name": "stdout",
     "output_type": "stream",
     "text": [
      "Min wine rating: 80\n",
      "Max wine rating: 100\n",
      "Range: 20\n",
      "Std: 2.813591404803898\n"
     ]
    }
   ],
   "source": [
    "#Write your answer here \n",
    "minR = np.min(wineRatings)\n",
    "maxR = np.max(wineRatings)\n",
    "print('Min wine rating:', minR)\n",
    "print('Max wine rating:', maxR)\n",
    "print('Range:', maxR-minR)\n",
    "print(\"Std:\", np.std(wineRatings, ddof=1))"
   ]
  },
  {
   "cell_type": "markdown",
   "metadata": {
    "id": "JrOXzTTZ-gUv"
   },
   "source": [
    "#### **T7) Calculate the interquartile range for the ratings of all reviewed wines**"
   ]
  },
  {
   "cell_type": "code",
   "execution_count": 8,
   "metadata": {
    "colab": {
     "base_uri": "https://localhost:8080/"
    },
    "executionInfo": {
     "elapsed": 2309,
     "status": "ok",
     "timestamp": 1612553727993,
     "user": {
      "displayName": "Simos Gerasimou",
      "photoUrl": "https://lh3.googleusercontent.com/a-/AOh14GiyuWEDBGgnFKbsa3BAO5bWW-MwC5_V7MnUQz5JiA=s64",
      "userId": "13902192774339425778"
     },
     "user_tz": 0
    },
    "id": "21dB_vAc072q",
    "outputId": "c825198b-33b5-48db-ed0f-ce7ae89d3e33"
   },
   "outputs": [
    {
     "name": "stdout",
     "output_type": "stream",
     "text": [
      "Ratings IQR: 4.0\n"
     ]
    }
   ],
   "source": [
    "#Write your answer here\n",
    "Q3R = np.percentile(wineRatings, 75) #Upper quartile\n",
    "Q1R = np.percentile(wineRatings, 25) #Lower quartile\n",
    "IQRR = Q3R - Q1R #Inter Quartile Range\n",
    "print('Ratings IQR:', IQRR)"
   ]
  },
  {
   "cell_type": "markdown",
   "metadata": {
    "id": "ZU_HXIT59RBw"
   },
   "source": [
    "#### **T8) What insights can you extract from these values? Which metric of central tendency should we use?**"
   ]
  },
  {
   "cell_type": "markdown",
   "metadata": {
    "id": "8Twk9Ekv9Ydl"
   },
   "source": [
    "**Write your answer here**\n",
    "\n",
    "* All wine ratings are above 80 (out of 100) indicating that the wines should be of high quality.\n",
    "* The mean and median wine ratings are very close indicating that the ratings are smoothly distributed within the [80,100] range and the distribution does not seem to have a heavy left or right tail.\n",
    "* The standard deviation is low (less than 3) as well as the IQR which confirm the above observation.\n",
    "* Considering all these observations, both mean and median are good metrics of central tendency."
   ]
  },
  {
   "cell_type": "markdown",
   "metadata": {
    "id": "SdJjdphs_AWV"
   },
   "source": [
    "### **Further Analysis**"
   ]
  },
  {
   "cell_type": "markdown",
   "metadata": {
    "id": "FNKoHVB_OsxE"
   },
   "source": [
    "#### **T9) How many wine varieties have been reviewed?**"
   ]
  },
  {
   "cell_type": "code",
   "execution_count": 9,
   "metadata": {
    "colab": {
     "base_uri": "https://localhost:8080/"
    },
    "executionInfo": {
     "elapsed": 2301,
     "status": "ok",
     "timestamp": 1612553727995,
     "user": {
      "displayName": "Simos Gerasimou",
      "photoUrl": "https://lh3.googleusercontent.com/a-/AOh14GiyuWEDBGgnFKbsa3BAO5bWW-MwC5_V7MnUQz5JiA=s64",
      "userId": "13902192774339425778"
     },
     "user_tz": 0
    },
    "id": "gHowQsinO2pk",
    "outputId": "7651cfd9-1db4-496b-89ff-05fe30e43136"
   },
   "outputs": [
    {
     "name": "stdout",
     "output_type": "stream",
     "text": [
      "The dataset contains reviews for 91 wine varieties\n"
     ]
    }
   ],
   "source": [
    "#Write your answer here\n",
    "varieties, reviews = np.unique(data['variety'], return_counts=True)\n",
    "print(\"The dataset contains reviews for %d wine varieties\" % (len(varieties)))"
   ]
  },
  {
   "cell_type": "markdown",
   "metadata": {
    "id": "B9oenbXKP9nO"
   },
   "source": [
    "#### **T10) Which is the most reviewed wine variety and what is its mean rating?**\n",
    "\n",
    "* Hint: Check the section on array masking from the NumPy chapter in the Python Data Science Handbook"
   ]
  },
  {
   "cell_type": "code",
   "execution_count": 10,
   "metadata": {
    "colab": {
     "base_uri": "https://localhost:8080/"
    },
    "executionInfo": {
     "elapsed": 2294,
     "status": "ok",
     "timestamp": 1612553727997,
     "user": {
      "displayName": "Simos Gerasimou",
      "photoUrl": "https://lh3.googleusercontent.com/a-/AOh14GiyuWEDBGgnFKbsa3BAO5bWW-MwC5_V7MnUQz5JiA=s64",
      "userId": "13902192774339425778"
     },
     "user_tz": 0
    },
    "id": "cFDCtL2wP7KC",
    "outputId": "7c5b3bb7-e2fb-4e29-ee82-290973c71f9a"
   },
   "outputs": [
    {
     "name": "stdout",
     "output_type": "stream",
     "text": [
      "The most reviewed wine variety is Pinot Noir and the average rating is 89.872727\n"
     ]
    }
   ],
   "source": [
    "#Write your answer here\n",
    "varieties, reviews = np.unique(data['variety'], return_counts=True)\n",
    "mostReviewedVariety = varieties[np.argmax(reviews)]\n",
    "mostReviewedVarietyRatings = data[data['variety']==mostReviewedVariety]\n",
    "meanRating = np.mean(mostReviewedVarietyRatings['points'])\n",
    "print(\"The most reviewed wine variety is %s and the average rating is %2f\" % (mostReviewedVariety, meanRating))"
   ]
  },
  {
   "cell_type": "markdown",
   "metadata": {
    "id": "wCceOD-U_WRw"
   },
   "source": [
    "#### **T11) Which are the most widely reviewed wineries? How many reviews did each receive?**\n",
    "\n",
    "* Hint: Check the section on array masking from the NumPy chapter in the Python Data Science Handbook\n",
    "* Hint: Another option is to use the function argwhere function from NumPy"
   ]
  },
  {
   "cell_type": "code",
   "execution_count": 11,
   "metadata": {
    "colab": {
     "base_uri": "https://localhost:8080/"
    },
    "executionInfo": {
     "elapsed": 2286,
     "status": "ok",
     "timestamp": 1612553727998,
     "user": {
      "displayName": "Simos Gerasimou",
      "photoUrl": "https://lh3.googleusercontent.com/a-/AOh14GiyuWEDBGgnFKbsa3BAO5bWW-MwC5_V7MnUQz5JiA=s64",
      "userId": "13902192774339425778"
     },
     "user_tz": 0
    },
    "id": "11w1mbl3_br6",
    "outputId": "0e8e8902-554a-416d-8656-531a1092c857"
   },
   "outputs": [
    {
     "name": "stdout",
     "output_type": "stream",
     "text": [
      "The most reviewed wineries are ['Cono Sur' 'Le Cadeau'] and have received 4 reviews each\n",
      "The most reviewed wineries are ['Cono Sur' 'Le Cadeau'] and have received 4 reviews each\n"
     ]
    }
   ],
   "source": [
    "#Write your answer here\n",
    "wineries,reviews = np.unique(data['winery'], return_counts=True)\n",
    "maxReviews = np.max(reviews)\n",
    "\n",
    "#Solution1: Using array masking\n",
    "maxReviewedWineries = wineries [reviews==maxReviews]\n",
    "print(\"The most reviewed wineries are %s and have received %d reviews each\" % \n",
    "      (maxReviewedWineries, maxReviews))\n",
    "\n",
    "#Solution2: Using argwhere\n",
    "maxReviewedWineries = np.argwhere(reviews==maxReviews)\n",
    "print(\"The most reviewed wineries are %s and have received %d reviews each\" % \n",
    "      (np.hstack(wineries[maxReviewedWineries]), maxReviews))\n"
   ]
  },
  {
   "cell_type": "markdown",
   "metadata": {
    "id": "FM8dusJlG-6N"
   },
   "source": [
    "#### **T12) Which reviewed wines are white?**\n",
    "\n",
    "* Hint: Which variable of a wine may contain this information?"
   ]
  },
  {
   "cell_type": "code",
   "execution_count": 12,
   "metadata": {
    "colab": {
     "base_uri": "https://localhost:8080/"
    },
    "executionInfo": {
     "elapsed": 2278,
     "status": "ok",
     "timestamp": 1612553727999,
     "user": {
      "displayName": "Simos Gerasimou",
      "photoUrl": "https://lh3.googleusercontent.com/a-/AOh14GiyuWEDBGgnFKbsa3BAO5bWW-MwC5_V7MnUQz5JiA=s64",
      "userId": "13902192774339425778"
     },
     "user_tz": 0
    },
    "id": "ittlcdYmJVwF",
    "outputId": "06fbba0b-6f1b-49a2-c071-775d14e28012"
   },
   "outputs": [
    {
     "data": {
      "text/plain": [
       "['Baglio di Pianetto 2007 Ficiligno White (Sicilia)',\n",
       " 'Stemmari 2013 Dalila White (Terre Siciliane)',\n",
       " 'Marchesi Antinori 2015 Villa Antinori White (Toscana)',\n",
       " 'Poggioventoso 2015 Poetico White (Toscana)',\n",
       " 'Herdade Grande 2014 Geracoes Colheita Seleccionada Branco White (Alentejano)',\n",
       " 'Terlan 2014 Nova Domus Riserva White (Alto Adige)',\n",
       " 'Delaire Graff 2013 Reserve White (Coastal Region)',\n",
       " 'Buried Cane 2009 Whiteline No Oak Chardonnay (Columbia Valley (WA))',\n",
       " 'Domaine Sigalas 2010 Asirtiko Athiri White (Santorini)',\n",
       " 'La Vis 2001 Bianco dei Sorni White (Trentino)',\n",
       " 'Cantina Terlano 2002 Terlano Classico White (Alto Adige)',\n",
       " 'Las Positas 2014 Verdigris White (California)',\n",
       " 'Andre Brunel 2014 Domaine de la Becassonne White (Cotes du Rhone)',\n",
       " 'Terre Rouge 2014 Enigma White (Sierra Foothills)',\n",
       " 'Raconteur 2016 White (Washington)',\n",
       " 'Quinta do Portal 2012 Verdelho and Sauvignon Blanc White (Douro)',\n",
       " 'Solar de Pinheiro 2012 Paco de Sao Lourenco White (Vinho Verde)',\n",
       " 'Biecher & Schaal 2014 Altenberg de Bergheim Grand Cru White (Alsace)']"
      ]
     },
     "execution_count": 12,
     "metadata": {},
     "output_type": "execute_result"
    }
   ],
   "source": [
    "#Write your answer here\n",
    "titles = data['title'].tolist()\n",
    "#Using list comprehension, but the same can be achieved using a for loop\n",
    "whiteWines = [wines for wines in titles if (\"WHITE\" in wines.upper())]\n",
    "whiteWines"
   ]
  },
  {
   "cell_type": "markdown",
   "metadata": {
    "id": "vhFGTlMUSdNO"
   },
   "source": [
    "#### **T13) How many tasters (sommelliers) have reviewed wines produced by the \"Winzer Krems\" winery?**"
   ]
  },
  {
   "cell_type": "code",
   "execution_count": 13,
   "metadata": {
    "colab": {
     "base_uri": "https://localhost:8080/"
    },
    "executionInfo": {
     "elapsed": 2267,
     "status": "ok",
     "timestamp": 1612553727999,
     "user": {
      "displayName": "Simos Gerasimou",
      "photoUrl": "https://lh3.googleusercontent.com/a-/AOh14GiyuWEDBGgnFKbsa3BAO5bWW-MwC5_V7MnUQz5JiA=s64",
      "userId": "13902192774339425778"
     },
     "user_tz": 0
    },
    "id": "ulEdXd5QTAWp",
    "outputId": "38eebd6f-9bbc-467e-ec46-bfe820180d6c"
   },
   "outputs": [
    {
     "name": "stdout",
     "output_type": "stream",
     "text": [
      "2 sommelliers have reviewed wines producted by Winzer Krems\n"
     ]
    }
   ],
   "source": [
    "#Write your answer here\n",
    "winesWK = data[data['winery']==\"Winzer Krems\"]\n",
    "tasters=np.unique(winesWK['tasterName'])\n",
    "print(\"%d sommelliers have reviewed wines producted by Winzer Krems\" % (len(tasters)))"
   ]
  },
  {
   "cell_type": "markdown",
   "metadata": {
    "id": "fA5ktY4QV7Gw"
   },
   "source": [
    "#### **T14) What can you infer about the ratings given by the sommelliers for wines produced by \"Le Cadeau\"? How much confidence would you have about these reviews?**"
   ]
  },
  {
   "cell_type": "code",
   "execution_count": 14,
   "metadata": {
    "colab": {
     "base_uri": "https://localhost:8080/"
    },
    "executionInfo": {
     "elapsed": 2260,
     "status": "ok",
     "timestamp": 1612553728001,
     "user": {
      "displayName": "Simos Gerasimou",
      "photoUrl": "https://lh3.googleusercontent.com/a-/AOh14GiyuWEDBGgnFKbsa3BAO5bWW-MwC5_V7MnUQz5JiA=s64",
      "userId": "13902192774339425778"
     },
     "user_tz": 0
    },
    "id": "qoqMMwpOWKAi",
    "outputId": "157c645e-f2cc-47d2-c5fa-d4fc846c65eb"
   },
   "outputs": [
    {
     "name": "stdout",
     "output_type": "stream",
     "text": [
      "Ratings given to Le Cadeau wines [91 91 91 91] by sommelliers ['Paul Gregutt' 'Paul Gregutt' 'Paul Gregutt' 'Paul Gregutt']\n",
      "The same rating (91) has been given to all reviewed wines by the same sommellier (Paul Gregutt). Hence, these ratings should be taken with a pinch of salt\n"
     ]
    }
   ],
   "source": [
    "#Write your answer here\n",
    "winesLK = data[data['winery']==\"Le Cadeau\"]\n",
    "winesLKRatings = winesLK['points']\n",
    "winesLKTasters = winesLK['tasterName']\n",
    "\n",
    "print(\"Ratings given to Le Cadeau wines %s by sommelliers %s\" % (winesLKRatings, winesLKTasters))\n",
    "print(\"The same rating (%d) has been given to all reviewed wines by the same sommellier (%s). Hence, these ratings should be taken with a pinch of salt\" \n",
    "      % (winesLKRatings[0], winesLKTasters[0]))"
   ]
  },
  {
   "cell_type": "markdown",
   "metadata": {
    "id": "sdW1jRS0d1QR"
   },
   "source": [
    "#### **T15) Which country's the wines have received the most reviews with rating above 95? How much do these wines cost on average?**"
   ]
  },
  {
   "cell_type": "code",
   "execution_count": 15,
   "metadata": {
    "colab": {
     "base_uri": "https://localhost:8080/"
    },
    "executionInfo": {
     "elapsed": 2250,
     "status": "ok",
     "timestamp": 1612553728001,
     "user": {
      "displayName": "Simos Gerasimou",
      "photoUrl": "https://lh3.googleusercontent.com/a-/AOh14GiyuWEDBGgnFKbsa3BAO5bWW-MwC5_V7MnUQz5JiA=s64",
      "userId": "13902192774339425778"
     },
     "user_tz": 0
    },
    "id": "PA17biP9g9zZ",
    "outputId": "e66b37a8-5ea2-409f-a889-5bc6f0820391"
   },
   "outputs": [
    {
     "name": "stdout",
     "output_type": "stream",
     "text": [
      "Australia is the country whose wines received the most ratings above 95. These wines cost 256.25\n"
     ]
    }
   ],
   "source": [
    "#Write your answer here\n",
    "wineRatingsOver95 = data[(data['points']>95)]\n",
    "countries, counts = np.unique(wineRatingsOver95['country'], return_counts=True)\n",
    "indexWithMostReviews = np.argmax(counts)\n",
    "\n",
    "countrywithMostReviewsOver95 = countries[indexWithMostReviews]\n",
    "winesPrice = wineRatingsOver95[wineRatingsOver95['country']==countrywithMostReviewsOver95]['price']\n",
    "avgWinesPrice = np.mean(winesPrice)\n",
    "\n",
    "print (\"%s is the country whose wines received the most ratings above 95. These wines cost %.2f\" \n",
    "       % (countrywithMostReviewsOver95, avgWinesPrice))"
   ]
  },
  {
   "cell_type": "markdown",
   "metadata": {
    "id": "rfZLlqomjAck"
   },
   "source": [
    "#### **T16) What is the name (title) of the wine with the highest score? Are there other wines that cost as much as the wine with the highest score? If so, give their names (titles).**"
   ]
  },
  {
   "cell_type": "code",
   "execution_count": 16,
   "metadata": {
    "colab": {
     "base_uri": "https://localhost:8080/"
    },
    "executionInfo": {
     "elapsed": 2243,
     "status": "ok",
     "timestamp": 1612553728003,
     "user": {
      "displayName": "Simos Gerasimou",
      "photoUrl": "https://lh3.googleusercontent.com/a-/AOh14GiyuWEDBGgnFKbsa3BAO5bWW-MwC5_V7MnUQz5JiA=s64",
      "userId": "13902192774339425778"
     },
     "user_tz": 0
    },
    "id": "Wl3UTmHdjS3C",
    "outputId": "7baf468e-b523-4e6f-b50c-de59db9afe41"
   },
   "outputs": [
    {
     "name": "stdout",
     "output_type": "stream",
     "text": [
      "The name of the wine with the highest score is Chambers Rosewood Vineyards NV Rare Muscat (Rutherglen)\n",
      "\n",
      "There are 3 wines (including the best) that cost as much as the wine with the highest score and their names are ['Chambers Rosewood Vineyards NV Rare Muscat (Rutherglen)'\n",
      " 'Chambers Rosewood Vineyards NV Rare Muscadelle (Rutherglen)'\n",
      " 'Chateau de la Tour 2013 Vieilles Vignes (Clos de Vougeot)']\n",
      "\n",
      "There are 2 wines (excluding the best) that cost as much as the wine with the highest score and their names are ['Chambers Rosewood Vineyards NV Rare Muscadelle (Rutherglen)'\n",
      " 'Chateau de la Tour 2013 Vieilles Vignes (Clos de Vougeot)']\n"
     ]
    }
   ],
   "source": [
    "#Write your answer here\n",
    "bestWine = data[(data['points']==100)]\n",
    "print(\"The name of the wine with the highest score is %s\\n\" %(bestWine['title'][0]))\n",
    "\n",
    "#If we consider the best wine in the list\n",
    "winesEqualToBest = data[(data['price']==bestWine['price'])]\n",
    "print(\"There are %d wines (including the best) that cost as much as the wine with the highest score and their names are %s\\n\"\n",
    "      % (len(winesEqualToBest), winesEqualToBest['title']))\n",
    "\n",
    "\n",
    "#If we exclude the best wine from the list, we can remove it as follows\n",
    "winesEqualToBestX = np.delete(winesEqualToBest, np.where(winesEqualToBest==bestWine))\n",
    "print(\"There are %d wines (excluding the best) that cost as much as the wine with the highest score and their names are %s\"\n",
    "      % (len(winesEqualToBestX), winesEqualToBestX['title']))\n"
   ]
  },
  {
   "cell_type": "markdown",
   "metadata": {
    "id": "2Vzt5mDLka90"
   },
   "source": [
    "#### **T17) How many wines from Italy have a rating above the 90th percentile and from which province do the wines come from?**"
   ]
  },
  {
   "cell_type": "code",
   "execution_count": 17,
   "metadata": {
    "colab": {
     "base_uri": "https://localhost:8080/"
    },
    "executionInfo": {
     "elapsed": 2235,
     "status": "ok",
     "timestamp": 1612553728004,
     "user": {
      "displayName": "Simos Gerasimou",
      "photoUrl": "https://lh3.googleusercontent.com/a-/AOh14GiyuWEDBGgnFKbsa3BAO5bWW-MwC5_V7MnUQz5JiA=s64",
      "userId": "13902192774339425778"
     },
     "user_tz": 0
    },
    "id": "o7P9Yg47kd_r",
    "outputId": "47067981-09c2-4ac6-be19-1c53b0d3a853"
   },
   "outputs": [
    {
     "name": "stdout",
     "output_type": "stream",
     "text": [
      "There are 2 Italian wines whose rating is above the 90th percentile and they come from ['Piedmont']\n"
     ]
    }
   ],
   "source": [
    "#Write your answer here\n",
    "winesItalyAbove90P = data[(data['points'] > np.percentile(data['points'], 90)) & (data['country']==\"Italy\")]\n",
    "italianProvinces = winesItalyAbove90P['province']\n",
    "\n",
    "print (\"There are %d Italian wines whose rating is above the 90th percentile and they come from %s\" %\n",
    "       (len(winesItalyAbove90P), np.unique(italianProvinces)))"
   ]
  },
  {
   "cell_type": "markdown",
   "metadata": {
    "id": "WDiGs2z5mbBq"
   },
   "source": [
    "#### **T18) What is the average rating given by each sommellier?**"
   ]
  },
  {
   "cell_type": "code",
   "execution_count": 18,
   "metadata": {
    "colab": {
     "base_uri": "https://localhost:8080/"
    },
    "executionInfo": {
     "elapsed": 2228,
     "status": "ok",
     "timestamp": 1612553728005,
     "user": {
      "displayName": "Simos Gerasimou",
      "photoUrl": "https://lh3.googleusercontent.com/a-/AOh14GiyuWEDBGgnFKbsa3BAO5bWW-MwC5_V7MnUQz5JiA=s64",
      "userId": "13902192774339425778"
     },
     "user_tz": 0
    },
    "id": "96LQl3fbmrwh",
    "outputId": "ad807c0c-a1b5-427b-cff5-050a1bf538a7"
   },
   "outputs": [
    {
     "name": "stdout",
     "output_type": "stream",
     "text": [
      "The sommeliers have given the following average ratings [('Alexander Peartree', 87.0), ('Anna Lee C. Iijima', 89.83333333333333), ('Anne Krebiehl', 89.63157894736842), ('Jeff Jenssen', 93.0), ('Jim Gordon', 90.0), ('Joe Czerwinski', 90.44117647058823), ('Kerin O Keefe', 89.27272727272727), ('Lauren Buzzeo', 88.85714285714286), ('Matt Kettmann', 90.36363636363636), ('Michael Schachner', 87.56756756756756), ('Mike DeSimone', 90.0), ('Paul Gregutt', 89.05882352941177), ('Roger Voss', 89.27397260273973), ('Sean P. Sullivan', 88.80555555555556), ('Susan Kostrzewa', 86.375), ('Virginie Boone', 89.87142857142857)]\n"
     ]
    }
   ],
   "source": [
    "#Write your answer here\n",
    "sommeliers = np.unique(data['tasterName'])\n",
    "\n",
    "#Calculating the average rating given by each sommellier using list comprehension\n",
    "avgRatingBySom = [(som, np.mean(data[data['tasterName']==som]['points'])) for som in sommeliers]\n",
    "\n",
    "#Calculating the average rating given by each sommellier using a for loop\n",
    "avgRatingBySom = []\n",
    "for som in sommeliers:\n",
    "  avgRatingBySom.append((som, np.mean(data[data['tasterName']==som]['points']))) \n",
    "\n",
    "print(\"The sommeliers have given the following average ratings %s\" %\n",
    "      (avgRatingBySom))"
   ]
  },
  {
   "cell_type": "markdown",
   "metadata": {
    "id": "_l0usG5zq7gF"
   },
   "source": [
    "#### **T19) Who is the sommellier with the highest average rating and how many reviews has he/she written?**"
   ]
  },
  {
   "cell_type": "code",
   "execution_count": 19,
   "metadata": {
    "colab": {
     "base_uri": "https://localhost:8080/"
    },
    "executionInfo": {
     "elapsed": 2220,
     "status": "ok",
     "timestamp": 1612553728006,
     "user": {
      "displayName": "Simos Gerasimou",
      "photoUrl": "https://lh3.googleusercontent.com/a-/AOh14GiyuWEDBGgnFKbsa3BAO5bWW-MwC5_V7MnUQz5JiA=s64",
      "userId": "13902192774339425778"
     },
     "user_tz": 0
    },
    "id": "GLaY3fMUpW-g",
    "outputId": "e7eefcba-9fef-434e-a0ca-4a4524442bfa"
   },
   "outputs": [
    {
     "name": "stdout",
     "output_type": "stream",
     "text": [
      "The sommellier with the maximum average rating is Jeff Jenssen. He has reviewed 2 times.\n"
     ]
    }
   ],
   "source": [
    "##Write your answer here\n",
    "\n",
    "#Transform the list of tuples into a NumPy Structured Array\n",
    "avgRatingBySomAr = np.array(avgRatingBySom, dtype=[('tasterName', \"U100\"), ('avgRating', 'f4')])\n",
    "\n",
    "#Now we can access the average ratings using the 'avgRating' filter as before with the data Structured array\n",
    "\n",
    "#Find the maximum average rating\n",
    "maxAvgRating = np.max(avgRatingBySomAr['avgRating'])\n",
    "\n",
    "#Find the index of the sommellier with the maximum average rating\n",
    "somIndexWithMaxAvgRating = np.argmax(avgRatingBySomAr['avgRating'])\n",
    "\n",
    "#Find their name\n",
    "somWithMaxAvgRating = avgRatingBySomAr[somIndexWithMaxAvgRating]['tasterName']\n",
    "\n",
    "#Now that we have their name, let's find how many reviews they did\n",
    "reviewsOfSomWithMaxRating = data[data['tasterName']==somWithMaxAvgRating]\n",
    "\n",
    "print(\"The sommellier with the maximum average rating is %s. He has reviewed %d times.\" %\n",
    "      (somWithMaxAvgRating, len(reviewsOfSomWithMaxRating)))"
   ]
  },
  {
   "cell_type": "markdown",
   "metadata": {
    "id": "jN4kBXdBG9vB"
   },
   "source": [
    "#### **T20) Which US province has received the highest number of wine reviews?**"
   ]
  },
  {
   "cell_type": "code",
   "execution_count": 20,
   "metadata": {
    "colab": {
     "base_uri": "https://localhost:8080/"
    },
    "executionInfo": {
     "elapsed": 2214,
     "status": "ok",
     "timestamp": 1612553728007,
     "user": {
      "displayName": "Simos Gerasimou",
      "photoUrl": "https://lh3.googleusercontent.com/a-/AOh14GiyuWEDBGgnFKbsa3BAO5bWW-MwC5_V7MnUQz5JiA=s64",
      "userId": "13902192774339425778"
     },
     "user_tz": 0
    },
    "id": "g-PRpYCDG68v",
    "outputId": "aba07a50-e8b9-400a-91ee-c33a5c783b07"
   },
   "outputs": [
    {
     "name": "stdout",
     "output_type": "stream",
     "text": [
      "California is the US province with 128 reviewed wines.\n"
     ]
    }
   ],
   "source": [
    "#Write your answer here\n",
    "\n",
    "#Get the US wines\n",
    "usWines = data[data['country']=='US']\n",
    "\n",
    "#Fine the provinces and how many reviewed wines belong to each province\n",
    "usProvicesUnique, count = np.unique(usWines['province'], return_counts=True)\n",
    "\n",
    "#Find the max number of reviews\n",
    "usProvinceMaxReviews = np.max(count)\n",
    "\n",
    "#Fine the US province with the max number of reviews\n",
    "usProvinceMax = usProvicesUnique[np.argmax(count)]\n",
    "\n",
    "print(\"%s is the US province with %d reviewed wines.\" %\n",
    "      (usProvinceMax, usProvinceMaxReviews))\n"
   ]
  },
  {
   "cell_type": "markdown",
   "metadata": {
    "id": "XeMozoICKw4v"
   },
   "source": [
    "#### **T21) Who are the sommelliers with no rating above 90?**\n",
    "\n",
    "* Hint: You may want to look at https://jakevdp.github.io/PythonDataScienceHandbook/02.06-boolean-arrays-and-masks.html#Counting-entries"
   ]
  },
  {
   "cell_type": "code",
   "execution_count": 21,
   "metadata": {
    "colab": {
     "base_uri": "https://localhost:8080/"
    },
    "executionInfo": {
     "elapsed": 2206,
     "status": "ok",
     "timestamp": 1612553728008,
     "user": {
      "displayName": "Simos Gerasimou",
      "photoUrl": "https://lh3.googleusercontent.com/a-/AOh14GiyuWEDBGgnFKbsa3BAO5bWW-MwC5_V7MnUQz5JiA=s64",
      "userId": "13902192774339425778"
     },
     "user_tz": 0
    },
    "id": "XpQQuqZbJ804",
    "outputId": "85b11f6a-0cc8-4b2b-cc9f-8c18d78898db"
   },
   "outputs": [
    {
     "name": "stdout",
     "output_type": "stream",
     "text": [
      "['Alexander Peartree', 'Susan Kostrzewa'] are the sommelliers with no rating above 90\n"
     ]
    }
   ],
   "source": [
    "#Write your answer here\n",
    "\n",
    "sommeliers = np.unique(data['tasterName'])\n",
    "\n",
    "#Calculating the average rating given by each sommellier using list comprehension\n",
    "avgRatingBySom = [som for som in sommeliers if np.all(data[data['tasterName']==som]['points']<90)]\n",
    "print(\"%s are the sommelliers with no rating above 90\" % (avgRatingBySom))\n"
   ]
  },
  {
   "cell_type": "markdown",
   "metadata": {
    "id": "pXHL1Hu9aSZd"
   },
   "source": [
    "### Ideas for practicing further at home\n",
    "\n",
    "* Find the tasters (sommellier) who provided the most reviews and the highest\n",
    "* Find which is the winery that received the highest number of independent reviews\n",
    "* Find the average rating of each winery, and the wineries with the highest and lowest average ratings"
   ]
  }
 ],
 "metadata": {
  "colab": {
   "name": "DAT1-Practical3-ModelAnswers.ipynb",
   "provenance": []
  },
  "kernelspec": {
   "display_name": "Python 3",
   "language": "python",
   "name": "python3"
  },
  "language_info": {
   "codemirror_mode": {
    "name": "ipython",
    "version": 3
   },
   "file_extension": ".py",
   "mimetype": "text/x-python",
   "name": "python",
   "nbconvert_exporter": "python",
   "pygments_lexer": "ipython3",
   "version": "3.8.3"
  }
 },
 "nbformat": 4,
 "nbformat_minor": 1
}
