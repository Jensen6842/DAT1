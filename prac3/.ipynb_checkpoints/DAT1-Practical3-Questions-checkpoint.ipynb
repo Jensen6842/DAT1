{
 "cells": [
  {
   "cell_type": "markdown",
   "metadata": {
    "id": "t21A_LdjaSZA"
   },
   "source": [
    "# DATA 1 Practical 3 - Questions\n",
    "\n",
    "Simos Gerasimou\n",
    "\n",
    "\n",
    "## Wine Exploration"
   ]
  },
  {
   "cell_type": "markdown",
   "metadata": {
    "id": "mkoefaAPaSZK"
   },
   "source": [
    "**WineEnthusiast** is a website for buying wine products and in which customers can also review products. The company has collected reviews for a wide variety of their products on November 22nd, 2017. The company wants to analyse this data to extract insights from its products and answer questions including:\n",
    "* how its products are rated by customers?\n",
    "* are there patterns that might increase its revenue and/or profit?\n",
    "\n",
    "#### Your tasks are to explore this dataset and generade actionable knowledge. \n",
    "\n",
    "\n",
    "This Jupyter Notebook will be presented to the WineEnthusiast main stakeholders who have limited knowledge about data science. Your findings should be complemented by a suitable justification explaining what you observe and, when applicable, what this observation means and, possibly, why it occurs.\n",
    "\n",
    "\n",
    "***"
   ]
  },
  {
   "cell_type": "markdown",
   "metadata": {
    "id": "tadicbCfdZoi"
   },
   "source": [
    "### **Important Information**\n",
    "\n",
    "(1) To answer these exercises, you **must first read Chapter 2: Introduction to NumPy from the Python Data Science Handbook** (https://jakevdp.github.io/PythonDataScienceHandbook/02.00-introduction-to-numpy.html)\n",
    "\n",
    "\n",
    "(2) For each question (task) a description is provided accompanied (most of the time) by two cells: one for writing the Python code and another for providing the justification. Feel free to add more cells if you feel they are needed, but keep the cells corresponding to the same question close by.\n",
    "\n",
    "**Hint**: If you find difficulties in solving a task, look at Chapter 2 from the Python Data Science Handbook.\n"
   ]
  },
  {
   "cell_type": "markdown",
   "metadata": {
    "id": "NknUE6umgA8t"
   },
   "source": [
    "#### **T1) Explore the dataset and for each column write its name, data type (categorical/numerical - nominal,ordinal,discrete,continuous) and its meaning (i.e., what does it capture?)**\n",
    "\n",
    "* You may want to open the CSV file using a text editor (e.g., Notepad) or a spreadsheet editor (e.g., Excel)"
   ]
  },
  {
   "cell_type": "markdown",
   "metadata": {
    "id": "h4tiYhy5gF_6"
   },
   "source": [
    "**Write your answer here**\n"
   ]
  },
  {
   "cell_type": "markdown",
   "metadata": {
    "id": "ltW7YyZ7g7DG"
   },
   "source": [
    "### 1) Reading dataset\n",
    "\n",
    "The classic cars dataset is available on VLE (look for \"wine-data-filtered-500.csv\" in the Practicals section)"
   ]
  },
  {
   "cell_type": "code",
   "execution_count": null,
   "metadata": {
    "id": "Eef1smmDf6sT"
   },
   "outputs": [],
   "source": [
    "#Using NumPy to read the dataset\n",
    "import numpy as np\n",
    "#Define the path to the dataset\n",
    "data_path = \"wine-data-filtered-500.csv\"\n",
    "#Define the type of each dataset column. \n",
    "#This is needed because NumPy arrays cannot directly read files with different data types\n",
    "#Hence, we are using Structured arrays. \n",
    "#But, we will soon move to Pandas which makes data manipulation easier\n",
    "types = ['i4', 'U30', 'i4', 'i4', 'U50', 'U50', 'U100', 'U100', 'U100']\n",
    "#Read the dataset\n",
    "data = np.genfromtxt(data_path, dtype=types, delimiter=',', names=True)"
   ]
  },
  {
   "cell_type": "markdown",
   "metadata": {
    "id": "Doh4SF003--5"
   },
   "source": [
    "##### **Since we are using Structured Arrays, we can extract the entries of a column by specifying its name. We can further slice the array by using the standard [Python slicing mechanism](https://www.w3schools.com/python/numpy_array_slicing.asp)**\n",
    "\n"
   ]
  },
  {
   "cell_type": "code",
   "execution_count": null,
   "metadata": {
    "id": "H3aA0ZsI4MUC"
   },
   "outputs": [],
   "source": [
    "#Print the first 5 entries with \n",
    "print(data[0:5])"
   ]
  },
  {
   "cell_type": "code",
   "execution_count": null,
   "metadata": {
    "id": "JYceY6Zz4-ui"
   },
   "outputs": [],
   "source": [
    "#Print the first ten wine titles\n",
    "print(data['title'][0:10])"
   ]
  },
  {
   "cell_type": "markdown",
   "metadata": {
    "id": "6YU2QMmJ65YJ"
   },
   "source": [
    "***\n",
    "### **How do the wine prices look like?**\n"
   ]
  },
  {
   "cell_type": "markdown",
   "metadata": {
    "id": "o7LrmCWM6P2c"
   },
   "source": [
    "#### **T2) Calculate the mean and median prices for all the wines**"
   ]
  },
  {
   "cell_type": "code",
   "execution_count": null,
   "metadata": {
    "id": "PVvVfMa_08Ds"
   },
   "outputs": [],
   "source": [
    "#Write your answer here\n"
   ]
  },
  {
   "cell_type": "markdown",
   "metadata": {
    "id": "KWIQWq7C1W3C"
   },
   "source": [
    "#### **T3) Calculate the min, max, range and standard deviation of wine prices**"
   ]
  },
  {
   "cell_type": "code",
   "execution_count": null,
   "metadata": {
    "id": "9lMEnZ6M08HK"
   },
   "outputs": [],
   "source": [
    "#Write your answer here\n"
   ]
  },
  {
   "cell_type": "markdown",
   "metadata": {
    "id": "-Haj6qSO7J5k"
   },
   "source": [
    "#### **T4) What insights can you extract from these values? Which metric of central tendency should we use?**"
   ]
  },
  {
   "cell_type": "markdown",
   "metadata": {
    "id": "WXbnryk57Pel"
   },
   "source": [
    "**Write your answer here**\n",
    "\n"
   ]
  },
  {
   "cell_type": "markdown",
   "metadata": {
    "id": "79i7K__v7obW"
   },
   "source": [
    "***\n",
    "### **What do the reviewers think about the quality of wines?**"
   ]
  },
  {
   "cell_type": "markdown",
   "metadata": {
    "id": "D36aM_u38fea"
   },
   "source": [
    "#### **T5) Calculate the metrics of central tendency for wine ratings (points)**"
   ]
  },
  {
   "cell_type": "code",
   "execution_count": null,
   "metadata": {
    "id": "AXCDKAHX8jII"
   },
   "outputs": [],
   "source": [
    "#Write your answer here \n"
   ]
  },
  {
   "cell_type": "markdown",
   "metadata": {
    "id": "nCYOYEgW7q2y"
   },
   "source": [
    "#### **T6) Calculate the metrics of dispersion for wine ratings (points)**"
   ]
  },
  {
   "cell_type": "code",
   "execution_count": null,
   "metadata": {
    "id": "833qUWEW08Aw"
   },
   "outputs": [],
   "source": [
    "#Write your answer here \n"
   ]
  },
  {
   "cell_type": "markdown",
   "metadata": {
    "id": "JrOXzTTZ-gUv"
   },
   "source": [
    "#### **T7) Calculate the interquartile range for the ratings of all reviewed wines**"
   ]
  },
  {
   "cell_type": "code",
   "execution_count": null,
   "metadata": {
    "id": "21dB_vAc072q"
   },
   "outputs": [],
   "source": [
    "#Write your answer here\n"
   ]
  },
  {
   "cell_type": "markdown",
   "metadata": {
    "id": "ZU_HXIT59RBw"
   },
   "source": [
    "#### **T8) What insights can you extract from these values? Which metric of central tendency should we use?**"
   ]
  },
  {
   "cell_type": "markdown",
   "metadata": {
    "id": "8Twk9Ekv9Ydl"
   },
   "source": [
    "**Write your answer here**\n"
   ]
  },
  {
   "cell_type": "markdown",
   "metadata": {
    "id": "SdJjdphs_AWV"
   },
   "source": [
    "### **Further Analysis**"
   ]
  },
  {
   "cell_type": "markdown",
   "metadata": {
    "id": "FNKoHVB_OsxE"
   },
   "source": [
    "#### **T9) How many wine varieties have been reviewed?**"
   ]
  },
  {
   "cell_type": "code",
   "execution_count": null,
   "metadata": {
    "id": "gHowQsinO2pk"
   },
   "outputs": [],
   "source": [
    "#Write your answer here\n"
   ]
  },
  {
   "cell_type": "markdown",
   "metadata": {
    "id": "B9oenbXKP9nO"
   },
   "source": [
    "#### **T10) Which is the most reviewed wine variety and what is its mean rating?**\n",
    "\n",
    "* Hint: Check the section on array masking from the NumPy chapter in the Python Data Science Handbook"
   ]
  },
  {
   "cell_type": "code",
   "execution_count": null,
   "metadata": {
    "id": "cFDCtL2wP7KC"
   },
   "outputs": [],
   "source": [
    "#Write your answer here\n"
   ]
  },
  {
   "cell_type": "markdown",
   "metadata": {
    "id": "wCceOD-U_WRw"
   },
   "source": [
    "#### **T11) Which are the most widely reviewed wineries? How many reviews did each receive?**\n",
    "\n",
    "* Hint: Check the section on array masking from the NumPy chapter in the Python Data Science Handbook\n",
    "* Hint: Another option is to use the function argwhere function from NumPy (https://numpy.org/doc/stable/reference/generated/numpy.argwhere.html)"
   ]
  },
  {
   "cell_type": "code",
   "execution_count": null,
   "metadata": {
    "id": "11w1mbl3_br6"
   },
   "outputs": [],
   "source": [
    "#Write your answer here\n"
   ]
  },
  {
   "cell_type": "markdown",
   "metadata": {
    "id": "FM8dusJlG-6N"
   },
   "source": [
    "#### **T12) Which reviewed wines are white?**\n",
    "\n",
    "* Hint: Which variable of a wine may contain this information?"
   ]
  },
  {
   "cell_type": "code",
   "execution_count": null,
   "metadata": {
    "id": "ittlcdYmJVwF"
   },
   "outputs": [],
   "source": [
    "#Write your answer here\n"
   ]
  },
  {
   "cell_type": "markdown",
   "metadata": {
    "id": "vhFGTlMUSdNO"
   },
   "source": [
    "#### **T13) How many tasters (sommelliers) have reviewed wines produced by the \"Winzer Krems\" winery?**"
   ]
  },
  {
   "cell_type": "code",
   "execution_count": null,
   "metadata": {
    "id": "ulEdXd5QTAWp"
   },
   "outputs": [],
   "source": [
    "#Write your answer here\n"
   ]
  },
  {
   "cell_type": "markdown",
   "metadata": {
    "id": "fA5ktY4QV7Gw"
   },
   "source": [
    "#### **T14) What can you infer about the ratings given by the sommelliers for wines produced by \"Le Cadeau\"? How much confidence would you have about these reviews?**"
   ]
  },
  {
   "cell_type": "code",
   "execution_count": null,
   "metadata": {
    "id": "qoqMMwpOWKAi"
   },
   "outputs": [],
   "source": [
    "#Write your answer here\n"
   ]
  },
  {
   "cell_type": "markdown",
   "metadata": {
    "id": "sdW1jRS0d1QR"
   },
   "source": [
    "#### **T15) Which country's the wines have received the most reviews with rating above 95? How much do these wines cost on average?**"
   ]
  },
  {
   "cell_type": "code",
   "execution_count": null,
   "metadata": {
    "id": "PA17biP9g9zZ"
   },
   "outputs": [],
   "source": [
    "#Write your answer here\n"
   ]
  },
  {
   "cell_type": "markdown",
   "metadata": {
    "id": "rfZLlqomjAck"
   },
   "source": [
    "#### **T16) What is the name (title) of the wine with the highest score? Are there other wines that cost as much as the wine with the highest score? If so, give their names (titles).**"
   ]
  },
  {
   "cell_type": "code",
   "execution_count": null,
   "metadata": {
    "id": "Wl3UTmHdjS3C"
   },
   "outputs": [],
   "source": [
    "#Write your answer here\n"
   ]
  },
  {
   "cell_type": "markdown",
   "metadata": {
    "id": "2Vzt5mDLka90"
   },
   "source": [
    "#### **T17) How many wines from Italy have a rating above the 90th percentile and from which province do the wines come from?**"
   ]
  },
  {
   "cell_type": "code",
   "execution_count": null,
   "metadata": {
    "id": "o7P9Yg47kd_r"
   },
   "outputs": [],
   "source": [
    "#Write your answer here\n"
   ]
  },
  {
   "cell_type": "markdown",
   "metadata": {
    "id": "WDiGs2z5mbBq"
   },
   "source": [
    "#### **T18) What is the average rating given by each sommellier?**"
   ]
  },
  {
   "cell_type": "code",
   "execution_count": null,
   "metadata": {
    "id": "96LQl3fbmrwh"
   },
   "outputs": [],
   "source": [
    "#Write your answer here\n"
   ]
  },
  {
   "cell_type": "markdown",
   "metadata": {
    "id": "_l0usG5zq7gF"
   },
   "source": [
    "#### **T19) Who is the sommellier with the highest average rating and how many reviews has he/she written?**"
   ]
  },
  {
   "cell_type": "code",
   "execution_count": null,
   "metadata": {
    "id": "GLaY3fMUpW-g"
   },
   "outputs": [],
   "source": [
    "##Write your answer here\n"
   ]
  },
  {
   "cell_type": "markdown",
   "metadata": {
    "id": "jN4kBXdBG9vB"
   },
   "source": [
    "#### **T20) Which US province has received the highest number of wine reviews?**"
   ]
  },
  {
   "cell_type": "code",
   "execution_count": null,
   "metadata": {
    "id": "g-PRpYCDG68v"
   },
   "outputs": [],
   "source": [
    "#Write your answer here\n"
   ]
  },
  {
   "cell_type": "markdown",
   "metadata": {
    "id": "XeMozoICKw4v"
   },
   "source": [
    "#### **T21) Who are the sommelliers with no rating above 90?**\n",
    "\n",
    "* Hint: You may want to look at https://jakevdp.github.io/PythonDataScienceHandbook/02.06-boolean-arrays-and-masks.html#Counting-entries"
   ]
  },
  {
   "cell_type": "code",
   "execution_count": null,
   "metadata": {
    "id": "XpQQuqZbJ804"
   },
   "outputs": [],
   "source": [
    "#Write your answer here\n"
   ]
  },
  {
   "cell_type": "markdown",
   "metadata": {
    "id": "pXHL1Hu9aSZd"
   },
   "source": [
    "### Ideas for practicing further at home\n",
    "\n",
    "* Find the tasters (sommellier) who provided the most reviews and the highest\n",
    "* Find which is the winery that received the highest number of independent reviews\n",
    "* Find the average rating of each winery, and the wineries with the highest and lowest average ratings"
   ]
  }
 ],
 "metadata": {
  "colab": {
   "collapsed_sections": [],
   "name": "DAT1-Practical3-Questions.ipynb",
   "provenance": []
  },
  "kernelspec": {
   "display_name": "Python 3",
   "language": "python",
   "name": "python3"
  },
  "language_info": {
   "codemirror_mode": {
    "name": "ipython",
    "version": 3
   },
   "file_extension": ".py",
   "mimetype": "text/x-python",
   "name": "python",
   "nbconvert_exporter": "python",
   "pygments_lexer": "ipython3",
   "version": "3.8.3"
  }
 },
 "nbformat": 4,
 "nbformat_minor": 1
}
