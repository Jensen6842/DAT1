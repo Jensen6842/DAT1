{
 "cells": [
  {
   "cell_type": "markdown",
   "metadata": {
    "id": "3p2I5_5CR7gf"
   },
   "source": [
    "# Introduction to Pandas: A Short Tutorial\n",
    "\n",
    "* Pandas is an open source, BSD-licensed library\n",
    "* High-performance, easy-to-use data structures and data analysis tools\n",
    "* Built on top of NumPy, and provides an efficient implementation of a DataFrame\n",
    "* Makes data analysis fast and easy in Python\n",
    "\n",
    "**DataFrame**: A multidimensional array with attached row and column labels\n",
    "\n",
    "### **Important Information**\n",
    "\n",
    "(1) To answer these exercises, you **must first read Chapter 2: Dapa Manipulation with Pandas from the Python Data Science Handbook** (https://jakevdp.github.io/PythonDataScienceHandbook/03.00-introduction-to-pandas.html)\n",
    "\n",
    "\n",
    "**Pandas API Reference**: https://pandas.pydata.org/pandas-docs/stable/reference/index.html"
   ]
  },
  {
   "cell_type": "markdown",
   "metadata": {
    "id": "pCpURMVYS_cc"
   },
   "source": [
    "#### **This is an introduction to Pandas. You can try to complete the tutorial yourself and check the model answers for help, when needed**"
   ]
  },
  {
   "cell_type": "code",
   "execution_count": 1,
   "metadata": {
    "executionInfo": {
     "elapsed": 961,
     "status": "ok",
     "timestamp": 1612466206234,
     "user": {
      "displayName": "Simos Gerasimou",
      "photoUrl": "https://lh3.googleusercontent.com/a-/AOh14GiyuWEDBGgnFKbsa3BAO5bWW-MwC5_V7MnUQz5JiA=s64",
      "userId": "13902192774339425778"
     },
     "user_tz": 0
    },
    "id": "TWqS92qcR7go"
   },
   "outputs": [],
   "source": [
    "# Import Pandas\n",
    "import pandas as pd"
   ]
  },
  {
   "cell_type": "code",
   "execution_count": 2,
   "metadata": {
    "executionInfo": {
     "elapsed": 697,
     "status": "ok",
     "timestamp": 1612466206603,
     "user": {
      "displayName": "Simos Gerasimou",
      "photoUrl": "https://lh3.googleusercontent.com/a-/AOh14GiyuWEDBGgnFKbsa3BAO5bWW-MwC5_V7MnUQz5JiA=s64",
      "userId": "13902192774339425778"
     },
     "user_tz": 0
    },
    "id": "4wxx1HatR7gr"
   },
   "outputs": [],
   "source": [
    "# Create two lists with information from Baby names in England and Wales: 2018\n",
    "# https://www.ons.gov.uk/peoplepopulationandcommunity/birthsdeathsandmarriages/livebirths/\n",
    "names  = ['Adam', 'Sophie', 'Charlie', 'Anna', 'Bobby', 'Florence', 'George', 'Mia']\n",
    "births = [1508,   1929,      3336,     409,     652,    1974,        4949,    2418]\n",
    "\n",
    "# Merge these two lists together using the zip function\n",
    "# https://docs.python.org/3.3/library/functions.html\n",
    "babiesDataSet = list(zip(names, births))"
   ]
  },
  {
   "cell_type": "code",
   "execution_count": 3,
   "metadata": {
    "colab": {
     "base_uri": "https://localhost:8080/"
    },
    "executionInfo": {
     "elapsed": 839,
     "status": "ok",
     "timestamp": 1612466207324,
     "user": {
      "displayName": "Simos Gerasimou",
      "photoUrl": "https://lh3.googleusercontent.com/a-/AOh14GiyuWEDBGgnFKbsa3BAO5bWW-MwC5_V7MnUQz5JiA=s64",
      "userId": "13902192774339425778"
     },
     "user_tz": 0
    },
    "id": "TaUOzvNXR7gt",
    "outputId": "2f9eb4b2-94a1-4c6d-c84a-feb742a913e4"
   },
   "outputs": [
    {
     "data": {
      "text/plain": [
       "[('Adam', 1508),\n",
       " ('Sophie', 1929),\n",
       " ('Charlie', 3336),\n",
       " ('Anna', 409),\n",
       " ('Bobby', 652),\n",
       " ('Florence', 1974),\n",
       " ('George', 4949),\n",
       " ('Mia', 2418)]"
      ]
     },
     "execution_count": 3,
     "metadata": {},
     "output_type": "execute_result"
    }
   ],
   "source": [
    "# Print the combined list\n",
    "babiesDataSet"
   ]
  },
  {
   "cell_type": "code",
   "execution_count": 4,
   "metadata": {
    "executionInfo": {
     "elapsed": 1014,
     "status": "ok",
     "timestamp": 1612466209520,
     "user": {
      "displayName": "Simos Gerasimou",
      "photoUrl": "https://lh3.googleusercontent.com/a-/AOh14GiyuWEDBGgnFKbsa3BAO5bWW-MwC5_V7MnUQz5JiA=s64",
      "userId": "13902192774339425778"
     },
     "user_tz": 0
    },
    "id": "KqqaozXgR7gv"
   },
   "outputs": [],
   "source": [
    "# Use Pandas to create a dataframe\n",
    "df = pd.DataFrame(data=babiesDataSet, columns=['Name', \"Births\"])"
   ]
  },
  {
   "cell_type": "code",
   "execution_count": 5,
   "metadata": {
    "colab": {
     "base_uri": "https://localhost:8080/",
     "height": 300
    },
    "executionInfo": {
     "elapsed": 885,
     "status": "ok",
     "timestamp": 1612466211086,
     "user": {
      "displayName": "Simos Gerasimou",
      "photoUrl": "https://lh3.googleusercontent.com/a-/AOh14GiyuWEDBGgnFKbsa3BAO5bWW-MwC5_V7MnUQz5JiA=s64",
      "userId": "13902192774339425778"
     },
     "user_tz": 0
    },
    "id": "y5L69_DkR7gx",
    "outputId": "a506098d-c62e-4138-e11a-6fc11b23942b"
   },
   "outputs": [
    {
     "data": {
      "text/html": [
       "<div>\n",
       "<style scoped>\n",
       "    .dataframe tbody tr th:only-of-type {\n",
       "        vertical-align: middle;\n",
       "    }\n",
       "\n",
       "    .dataframe tbody tr th {\n",
       "        vertical-align: top;\n",
       "    }\n",
       "\n",
       "    .dataframe thead th {\n",
       "        text-align: right;\n",
       "    }\n",
       "</style>\n",
       "<table border=\"1\" class=\"dataframe\">\n",
       "  <thead>\n",
       "    <tr style=\"text-align: right;\">\n",
       "      <th></th>\n",
       "      <th>Name</th>\n",
       "      <th>Births</th>\n",
       "    </tr>\n",
       "  </thead>\n",
       "  <tbody>\n",
       "    <tr>\n",
       "      <th>0</th>\n",
       "      <td>Adam</td>\n",
       "      <td>1508</td>\n",
       "    </tr>\n",
       "    <tr>\n",
       "      <th>1</th>\n",
       "      <td>Sophie</td>\n",
       "      <td>1929</td>\n",
       "    </tr>\n",
       "    <tr>\n",
       "      <th>2</th>\n",
       "      <td>Charlie</td>\n",
       "      <td>3336</td>\n",
       "    </tr>\n",
       "    <tr>\n",
       "      <th>3</th>\n",
       "      <td>Anna</td>\n",
       "      <td>409</td>\n",
       "    </tr>\n",
       "    <tr>\n",
       "      <th>4</th>\n",
       "      <td>Bobby</td>\n",
       "      <td>652</td>\n",
       "    </tr>\n",
       "    <tr>\n",
       "      <th>5</th>\n",
       "      <td>Florence</td>\n",
       "      <td>1974</td>\n",
       "    </tr>\n",
       "    <tr>\n",
       "      <th>6</th>\n",
       "      <td>George</td>\n",
       "      <td>4949</td>\n",
       "    </tr>\n",
       "    <tr>\n",
       "      <th>7</th>\n",
       "      <td>Mia</td>\n",
       "      <td>2418</td>\n",
       "    </tr>\n",
       "  </tbody>\n",
       "</table>\n",
       "</div>"
      ],
      "text/plain": [
       "       Name  Births\n",
       "0      Adam    1508\n",
       "1    Sophie    1929\n",
       "2   Charlie    3336\n",
       "3      Anna     409\n",
       "4     Bobby     652\n",
       "5  Florence    1974\n",
       "6    George    4949\n",
       "7       Mia    2418"
      ]
     },
     "execution_count": 5,
     "metadata": {},
     "output_type": "execute_result"
    }
   ],
   "source": [
    "# Display the dataframe\n",
    "df"
   ]
  },
  {
   "cell_type": "code",
   "execution_count": 6,
   "metadata": {
    "executionInfo": {
     "elapsed": 856,
     "status": "ok",
     "timestamp": 1612466212514,
     "user": {
      "displayName": "Simos Gerasimou",
      "photoUrl": "https://lh3.googleusercontent.com/a-/AOh14GiyuWEDBGgnFKbsa3BAO5bWW-MwC5_V7MnUQz5JiA=s64",
      "userId": "13902192774339425778"
     },
     "user_tz": 0
    },
    "id": "WZCHkDkdR7gy"
   },
   "outputs": [],
   "source": [
    "# Export the dataframe to csv\n",
    "# You can find the CSV file in the same directory with this Jupyter Notebook\n",
    "# (If you are using Google Colaboratory this should be in the virtual directory)\n",
    "df.to_csv(\"birthsUK2018.csv\", index=False, header=False)"
   ]
  },
  {
   "cell_type": "code",
   "execution_count": 7,
   "metadata": {
    "executionInfo": {
     "elapsed": 1053,
     "status": "ok",
     "timestamp": 1612466214218,
     "user": {
      "displayName": "Simos Gerasimou",
      "photoUrl": "https://lh3.googleusercontent.com/a-/AOh14GiyuWEDBGgnFKbsa3BAO5bWW-MwC5_V7MnUQz5JiA=s64",
      "userId": "13902192774339425778"
     },
     "user_tz": 0
    },
    "id": "Rpx7yChlR7gy"
   },
   "outputs": [],
   "source": [
    "# Import data to dataframe\n",
    "file = \"birthsUK2018.csv\" #location is relative\n",
    "births =  pd.read_csv(file, header=None, names=['Name', 'Births'])"
   ]
  },
  {
   "cell_type": "code",
   "execution_count": 8,
   "metadata": {
    "colab": {
     "base_uri": "https://localhost:8080/",
     "height": 300
    },
    "executionInfo": {
     "elapsed": 1211,
     "status": "ok",
     "timestamp": 1612466217384,
     "user": {
      "displayName": "Simos Gerasimou",
      "photoUrl": "https://lh3.googleusercontent.com/a-/AOh14GiyuWEDBGgnFKbsa3BAO5bWW-MwC5_V7MnUQz5JiA=s64",
      "userId": "13902192774339425778"
     },
     "user_tz": 0
    },
    "id": "UeHM8COwR7gz",
    "outputId": "76eb3d49-efa8-43c3-c189-c20ecac42ae4"
   },
   "outputs": [
    {
     "data": {
      "text/html": [
       "<div>\n",
       "<style scoped>\n",
       "    .dataframe tbody tr th:only-of-type {\n",
       "        vertical-align: middle;\n",
       "    }\n",
       "\n",
       "    .dataframe tbody tr th {\n",
       "        vertical-align: top;\n",
       "    }\n",
       "\n",
       "    .dataframe thead th {\n",
       "        text-align: right;\n",
       "    }\n",
       "</style>\n",
       "<table border=\"1\" class=\"dataframe\">\n",
       "  <thead>\n",
       "    <tr style=\"text-align: right;\">\n",
       "      <th></th>\n",
       "      <th>Name</th>\n",
       "      <th>Births</th>\n",
       "    </tr>\n",
       "  </thead>\n",
       "  <tbody>\n",
       "    <tr>\n",
       "      <th>0</th>\n",
       "      <td>Adam</td>\n",
       "      <td>1508</td>\n",
       "    </tr>\n",
       "    <tr>\n",
       "      <th>1</th>\n",
       "      <td>Sophie</td>\n",
       "      <td>1929</td>\n",
       "    </tr>\n",
       "    <tr>\n",
       "      <th>2</th>\n",
       "      <td>Charlie</td>\n",
       "      <td>3336</td>\n",
       "    </tr>\n",
       "    <tr>\n",
       "      <th>3</th>\n",
       "      <td>Anna</td>\n",
       "      <td>409</td>\n",
       "    </tr>\n",
       "    <tr>\n",
       "      <th>4</th>\n",
       "      <td>Bobby</td>\n",
       "      <td>652</td>\n",
       "    </tr>\n",
       "    <tr>\n",
       "      <th>5</th>\n",
       "      <td>Florence</td>\n",
       "      <td>1974</td>\n",
       "    </tr>\n",
       "    <tr>\n",
       "      <th>6</th>\n",
       "      <td>George</td>\n",
       "      <td>4949</td>\n",
       "    </tr>\n",
       "    <tr>\n",
       "      <th>7</th>\n",
       "      <td>Mia</td>\n",
       "      <td>2418</td>\n",
       "    </tr>\n",
       "  </tbody>\n",
       "</table>\n",
       "</div>"
      ],
      "text/plain": [
       "       Name  Births\n",
       "0      Adam    1508\n",
       "1    Sophie    1929\n",
       "2   Charlie    3336\n",
       "3      Anna     409\n",
       "4     Bobby     652\n",
       "5  Florence    1974\n",
       "6    George    4949\n",
       "7       Mia    2418"
      ]
     },
     "execution_count": 8,
     "metadata": {},
     "output_type": "execute_result"
    }
   ],
   "source": [
    "# Show the dataframe\n",
    "# The numbers [0,1,2,3,4] in the first column are part of the index of the dataframe. \n",
    "births"
   ]
  },
  {
   "cell_type": "code",
   "execution_count": 9,
   "metadata": {
    "colab": {
     "base_uri": "https://localhost:8080/"
    },
    "executionInfo": {
     "elapsed": 949,
     "status": "ok",
     "timestamp": 1612466218852,
     "user": {
      "displayName": "Simos Gerasimou",
      "photoUrl": "https://lh3.googleusercontent.com/a-/AOh14GiyuWEDBGgnFKbsa3BAO5bWW-MwC5_V7MnUQz5JiA=s64",
      "userId": "13902192774339425778"
     },
     "user_tz": 0
    },
    "id": "3K6Cyk3dR7g0",
    "outputId": "6d279f72-cc95-4eaa-bb04-1d61e4904d79"
   },
   "outputs": [
    {
     "data": {
      "text/plain": [
       "Name      object\n",
       "Births     int64\n",
       "dtype: object"
      ]
     },
     "execution_count": 9,
     "metadata": {},
     "output_type": "execute_result"
    }
   ],
   "source": [
    "# Check the data types of columns\n",
    "births.dtypes"
   ]
  },
  {
   "cell_type": "code",
   "execution_count": 10,
   "metadata": {
    "colab": {
     "base_uri": "https://localhost:8080/"
    },
    "executionInfo": {
     "elapsed": 959,
     "status": "ok",
     "timestamp": 1612466248233,
     "user": {
      "displayName": "Simos Gerasimou",
      "photoUrl": "https://lh3.googleusercontent.com/a-/AOh14GiyuWEDBGgnFKbsa3BAO5bWW-MwC5_V7MnUQz5JiA=s64",
      "userId": "13902192774339425778"
     },
     "user_tz": 0
    },
    "id": "UwsBdUDzR7g2",
    "outputId": "8b9926bb-b74e-4a0a-d367-b5547c943d6b"
   },
   "outputs": [
    {
     "name": "stdout",
     "output_type": "stream",
     "text": [
      "<class 'pandas.core.frame.DataFrame'>\n",
      "RangeIndex: 8 entries, 0 to 7\n",
      "Data columns (total 2 columns):\n",
      " #   Column  Non-Null Count  Dtype \n",
      "---  ------  --------------  ----- \n",
      " 0   Name    8 non-null      object\n",
      " 1   Births  8 non-null      int64 \n",
      "dtypes: int64(1), object(1)\n",
      "memory usage: 256.0+ bytes\n"
     ]
    }
   ],
   "source": [
    "# Get general info about the dataframe\n",
    "# - There are 8 records in the data set\n",
    "# - There is a column named \"Name\" of type object (non numeric) with 8 values\n",
    "# - There is a column named \"Births\" of type numeric with 8 values\n",
    "births.info()"
   ]
  },
  {
   "cell_type": "code",
   "execution_count": 11,
   "metadata": {
    "colab": {
     "base_uri": "https://localhost:8080/"
    },
    "executionInfo": {
     "elapsed": 680,
     "status": "ok",
     "timestamp": 1612466265301,
     "user": {
      "displayName": "Simos Gerasimou",
      "photoUrl": "https://lh3.googleusercontent.com/a-/AOh14GiyuWEDBGgnFKbsa3BAO5bWW-MwC5_V7MnUQz5JiA=s64",
      "userId": "13902192774339425778"
     },
     "user_tz": 0
    },
    "id": "CLAYbViLR7g4",
    "outputId": "6dcbcf9b-7c38-46e9-c635-102218e44033"
   },
   "outputs": [
    {
     "data": {
      "text/plain": [
       "dtype('int64')"
      ]
     },
     "execution_count": 11,
     "metadata": {},
     "output_type": "execute_result"
    }
   ],
   "source": [
    "# Check the data types of Births column\n",
    "births.Births.dtype"
   ]
  },
  {
   "cell_type": "code",
   "execution_count": 13,
   "metadata": {
    "id": "OuwtFs4ER7g4"
   },
   "outputs": [
    {
     "data": {
      "text/html": [
       "<div>\n",
       "<style scoped>\n",
       "    .dataframe tbody tr th:only-of-type {\n",
       "        vertical-align: middle;\n",
       "    }\n",
       "\n",
       "    .dataframe tbody tr th {\n",
       "        vertical-align: top;\n",
       "    }\n",
       "\n",
       "    .dataframe thead th {\n",
       "        text-align: right;\n",
       "    }\n",
       "</style>\n",
       "<table border=\"1\" class=\"dataframe\">\n",
       "  <thead>\n",
       "    <tr style=\"text-align: right;\">\n",
       "      <th></th>\n",
       "      <th>Name</th>\n",
       "      <th>Births</th>\n",
       "    </tr>\n",
       "  </thead>\n",
       "  <tbody>\n",
       "    <tr>\n",
       "      <th>0</th>\n",
       "      <td>Adam</td>\n",
       "      <td>1508</td>\n",
       "    </tr>\n",
       "    <tr>\n",
       "      <th>1</th>\n",
       "      <td>Sophie</td>\n",
       "      <td>1929</td>\n",
       "    </tr>\n",
       "    <tr>\n",
       "      <th>2</th>\n",
       "      <td>Charlie</td>\n",
       "      <td>3336</td>\n",
       "    </tr>\n",
       "    <tr>\n",
       "      <th>3</th>\n",
       "      <td>Anna</td>\n",
       "      <td>409</td>\n",
       "    </tr>\n",
       "    <tr>\n",
       "      <th>4</th>\n",
       "      <td>Bobby</td>\n",
       "      <td>652</td>\n",
       "    </tr>\n",
       "  </tbody>\n",
       "</table>\n",
       "</div>"
      ],
      "text/plain": [
       "      Name  Births\n",
       "0     Adam    1508\n",
       "1   Sophie    1929\n",
       "2  Charlie    3336\n",
       "3     Anna     409\n",
       "4    Bobby     652"
      ]
     },
     "execution_count": 13,
     "metadata": {},
     "output_type": "execute_result"
    }
   ],
   "source": [
    "# Print the top 5 rows\n",
    "births.head()"
   ]
  },
  {
   "cell_type": "code",
   "execution_count": 14,
   "metadata": {
    "id": "3fpY5Lz8R7g4"
   },
   "outputs": [
    {
     "data": {
      "text/html": [
       "<div>\n",
       "<style scoped>\n",
       "    .dataframe tbody tr th:only-of-type {\n",
       "        vertical-align: middle;\n",
       "    }\n",
       "\n",
       "    .dataframe tbody tr th {\n",
       "        vertical-align: top;\n",
       "    }\n",
       "\n",
       "    .dataframe thead th {\n",
       "        text-align: right;\n",
       "    }\n",
       "</style>\n",
       "<table border=\"1\" class=\"dataframe\">\n",
       "  <thead>\n",
       "    <tr style=\"text-align: right;\">\n",
       "      <th></th>\n",
       "      <th>Name</th>\n",
       "      <th>Births</th>\n",
       "    </tr>\n",
       "  </thead>\n",
       "  <tbody>\n",
       "    <tr>\n",
       "      <th>5</th>\n",
       "      <td>Florence</td>\n",
       "      <td>1974</td>\n",
       "    </tr>\n",
       "    <tr>\n",
       "      <th>6</th>\n",
       "      <td>George</td>\n",
       "      <td>4949</td>\n",
       "    </tr>\n",
       "    <tr>\n",
       "      <th>7</th>\n",
       "      <td>Mia</td>\n",
       "      <td>2418</td>\n",
       "    </tr>\n",
       "  </tbody>\n",
       "</table>\n",
       "</div>"
      ],
      "text/plain": [
       "       Name  Births\n",
       "5  Florence    1974\n",
       "6    George    4949\n",
       "7       Mia    2418"
      ]
     },
     "execution_count": 14,
     "metadata": {},
     "output_type": "execute_result"
    }
   ],
   "source": [
    "# Print the last 3 rows\n",
    "births.tail(3)"
   ]
  },
  {
   "cell_type": "code",
   "execution_count": 16,
   "metadata": {
    "id": "3gahZYbLR7g5"
   },
   "outputs": [
    {
     "data": {
      "text/plain": [
       "Index(['Name', 'Births'], dtype='object')"
      ]
     },
     "execution_count": 16,
     "metadata": {},
     "output_type": "execute_result"
    }
   ],
   "source": [
    "# Print the name of columns\n",
    "df.columns"
   ]
  },
  {
   "cell_type": "code",
   "execution_count": 17,
   "metadata": {
    "id": "11ZVF4imR7g6"
   },
   "outputs": [
    {
     "data": {
      "text/plain": [
       "array([['Adam', 1508],\n",
       "       ['Sophie', 1929],\n",
       "       ['Charlie', 3336],\n",
       "       ['Anna', 409],\n",
       "       ['Bobby', 652],\n",
       "       ['Florence', 1974],\n",
       "       ['George', 4949],\n",
       "       ['Mia', 2418]], dtype=object)"
      ]
     },
     "execution_count": 17,
     "metadata": {},
     "output_type": "execute_result"
    }
   ],
   "source": [
    "# Transfrom the datafram into an array\n",
    "df.values"
   ]
  },
  {
   "cell_type": "code",
   "execution_count": 18,
   "metadata": {
    "id": "wtLGCt0tR7g6"
   },
   "outputs": [
    {
     "data": {
      "text/plain": [
       "RangeIndex(start=0, stop=8, step=1)"
      ]
     },
     "execution_count": 18,
     "metadata": {},
     "output_type": "execute_result"
    }
   ],
   "source": [
    "# Get the index of the dataframe\n",
    "births.index"
   ]
  },
  {
   "cell_type": "code",
   "execution_count": 19,
   "metadata": {
    "executionInfo": {
     "elapsed": 1313,
     "status": "ok",
     "timestamp": 1612463320259,
     "user": {
      "displayName": "Simos Gerasimou",
      "photoUrl": "https://lh3.googleusercontent.com/a-/AOh14GiyuWEDBGgnFKbsa3BAO5bWW-MwC5_V7MnUQz5JiA=s64",
      "userId": "13902192774339425778"
     },
     "user_tz": 0
    },
    "id": "fnWrw7wdR7g6"
   },
   "outputs": [
    {
     "data": {
      "text/plain": [
       "0        Adam\n",
       "1      Sophie\n",
       "2     Charlie\n",
       "3        Anna\n",
       "4       Bobby\n",
       "5    Florence\n",
       "6      George\n",
       "7         Mia\n",
       "Name: Name, dtype: object"
      ]
     },
     "execution_count": 19,
     "metadata": {},
     "output_type": "execute_result"
    }
   ],
   "source": [
    "# Access the entries of the Name column (using dataframe slicing)\n",
    "births['Name']"
   ]
  },
  {
   "cell_type": "code",
   "execution_count": 20,
   "metadata": {
    "id": "ivkjN22YR7g7"
   },
   "outputs": [
    {
     "data": {
      "text/plain": [
       "0    1508\n",
       "1    1929\n",
       "2    3336\n",
       "3     409\n",
       "4     652\n",
       "5    1974\n",
       "6    4949\n",
       "7    2418\n",
       "Name: Births, dtype: int64"
      ]
     },
     "execution_count": 20,
     "metadata": {},
     "output_type": "execute_result"
    }
   ],
   "source": [
    "# Access the entries of the Births column as a property\n",
    "births.Births"
   ]
  },
  {
   "cell_type": "code",
   "execution_count": 21,
   "metadata": {
    "id": "Ta3INQTDR7g7"
   },
   "outputs": [
    {
     "data": {
      "text/plain": [
       "4949"
      ]
     },
     "execution_count": 21,
     "metadata": {},
     "output_type": "execute_result"
    }
   ],
   "source": [
    "# Find the maximum number of births\n",
    "births['Births'].max()"
   ]
  },
  {
   "cell_type": "code",
   "execution_count": 49,
   "metadata": {
    "id": "UXBp4V8wR7g7"
   },
   "outputs": [
    {
     "data": {
      "text/plain": [
       "'George'"
      ]
     },
     "execution_count": 49,
     "metadata": {},
     "output_type": "execute_result"
    }
   ],
   "source": [
    "# Get the name associated with the max births\n",
    "births['Name'][df['Births'] == df['Births'].max()].values[0]"
   ]
  },
  {
   "cell_type": "code",
   "execution_count": 22,
   "metadata": {
    "id": "OxG4FZ4SR7g7"
   },
   "outputs": [
    {
     "data": {
      "text/plain": [
       "array(['Adam', 'Sophie', 'Charlie', 'Anna', 'Bobby', 'Florence', 'George',\n",
       "       'Mia'], dtype=object)"
      ]
     },
     "execution_count": 22,
     "metadata": {},
     "output_type": "execute_result"
    }
   ],
   "source": [
    "# Find the unique names\n",
    "births['Name'].unique()"
   ]
  },
  {
   "cell_type": "code",
   "execution_count": 23,
   "metadata": {
    "id": "e6JGGpfQR7g7"
   },
   "outputs": [
    {
     "data": {
      "text/plain": [
       "count       8.000000\n",
       "mean     2146.875000\n",
       "std      1467.739218\n",
       "min       409.000000\n",
       "25%      1294.000000\n",
       "50%      1951.500000\n",
       "75%      2647.500000\n",
       "max      4949.000000\n",
       "Name: Births, dtype: float64"
      ]
     },
     "execution_count": 23,
     "metadata": {},
     "output_type": "execute_result"
    }
   ],
   "source": [
    "# Get some descriptive statistics for the number of births\n",
    "births['Births'].describe()"
   ]
  },
  {
   "cell_type": "code",
   "execution_count": null,
   "metadata": {
    "id": "TpI38pesR7g8"
   },
   "outputs": [],
   "source": [
    "# Get the names with births more than 2000\n",
    "births[births['Births'] > 2000]"
   ]
  },
  {
   "cell_type": "code",
   "execution_count": null,
   "metadata": {
    "id": "SDXPhCxCR7g8"
   },
   "outputs": [],
   "source": [
    "# Get the names starting with \"A\"\n",
    "births[births['Name'].str.startswith('A')]"
   ]
  },
  {
   "cell_type": "code",
   "execution_count": 24,
   "metadata": {
    "id": "avtxvQ_5R7g9"
   },
   "outputs": [
    {
     "data": {
      "text/html": [
       "<div>\n",
       "<style scoped>\n",
       "    .dataframe tbody tr th:only-of-type {\n",
       "        vertical-align: middle;\n",
       "    }\n",
       "\n",
       "    .dataframe tbody tr th {\n",
       "        vertical-align: top;\n",
       "    }\n",
       "\n",
       "    .dataframe thead th {\n",
       "        text-align: right;\n",
       "    }\n",
       "</style>\n",
       "<table border=\"1\" class=\"dataframe\">\n",
       "  <thead>\n",
       "    <tr style=\"text-align: right;\">\n",
       "      <th></th>\n",
       "      <th>Name</th>\n",
       "      <th>Births</th>\n",
       "      <th>Country</th>\n",
       "    </tr>\n",
       "  </thead>\n",
       "  <tbody>\n",
       "    <tr>\n",
       "      <th>0</th>\n",
       "      <td>Adam</td>\n",
       "      <td>1508</td>\n",
       "      <td>UK</td>\n",
       "    </tr>\n",
       "    <tr>\n",
       "      <th>1</th>\n",
       "      <td>Sophie</td>\n",
       "      <td>1929</td>\n",
       "      <td>UK</td>\n",
       "    </tr>\n",
       "    <tr>\n",
       "      <th>2</th>\n",
       "      <td>Charlie</td>\n",
       "      <td>3336</td>\n",
       "      <td>UK</td>\n",
       "    </tr>\n",
       "    <tr>\n",
       "      <th>3</th>\n",
       "      <td>Anna</td>\n",
       "      <td>409</td>\n",
       "      <td>UK</td>\n",
       "    </tr>\n",
       "    <tr>\n",
       "      <th>4</th>\n",
       "      <td>Bobby</td>\n",
       "      <td>652</td>\n",
       "      <td>UK</td>\n",
       "    </tr>\n",
       "    <tr>\n",
       "      <th>5</th>\n",
       "      <td>Florence</td>\n",
       "      <td>1974</td>\n",
       "      <td>UK</td>\n",
       "    </tr>\n",
       "    <tr>\n",
       "      <th>6</th>\n",
       "      <td>George</td>\n",
       "      <td>4949</td>\n",
       "      <td>UK</td>\n",
       "    </tr>\n",
       "    <tr>\n",
       "      <th>7</th>\n",
       "      <td>Mia</td>\n",
       "      <td>2418</td>\n",
       "      <td>UK</td>\n",
       "    </tr>\n",
       "  </tbody>\n",
       "</table>\n",
       "</div>"
      ],
      "text/plain": [
       "       Name  Births Country\n",
       "0      Adam    1508      UK\n",
       "1    Sophie    1929      UK\n",
       "2   Charlie    3336      UK\n",
       "3      Anna     409      UK\n",
       "4     Bobby     652      UK\n",
       "5  Florence    1974      UK\n",
       "6    George    4949      UK\n",
       "7       Mia    2418      UK"
      ]
     },
     "execution_count": 24,
     "metadata": {},
     "output_type": "execute_result"
    }
   ],
   "source": [
    "# Add another column with the country set for all rows as UK\n",
    "# Tip: Use numpy function repeat (if needed)\n",
    "\n",
    "import numpy as np\n",
    "births['Country'] = np.repeat('UK', len(births))\n",
    "births"
   ]
  },
  {
   "cell_type": "code",
   "execution_count": 25,
   "metadata": {
    "id": "6DVATN8uR7g-"
   },
   "outputs": [
    {
     "data": {
      "text/html": [
       "<div>\n",
       "<style scoped>\n",
       "    .dataframe tbody tr th:only-of-type {\n",
       "        vertical-align: middle;\n",
       "    }\n",
       "\n",
       "    .dataframe tbody tr th {\n",
       "        vertical-align: top;\n",
       "    }\n",
       "\n",
       "    .dataframe thead th {\n",
       "        text-align: right;\n",
       "    }\n",
       "</style>\n",
       "<table border=\"1\" class=\"dataframe\">\n",
       "  <thead>\n",
       "    <tr style=\"text-align: right;\">\n",
       "      <th></th>\n",
       "      <th>Name</th>\n",
       "      <th>Births</th>\n",
       "      <th>Country</th>\n",
       "      <th>Gender</th>\n",
       "    </tr>\n",
       "  </thead>\n",
       "  <tbody>\n",
       "    <tr>\n",
       "      <th>0</th>\n",
       "      <td>Adam</td>\n",
       "      <td>1508</td>\n",
       "      <td>UK</td>\n",
       "      <td>Male</td>\n",
       "    </tr>\n",
       "    <tr>\n",
       "      <th>1</th>\n",
       "      <td>Sophie</td>\n",
       "      <td>1929</td>\n",
       "      <td>UK</td>\n",
       "      <td>Female</td>\n",
       "    </tr>\n",
       "    <tr>\n",
       "      <th>2</th>\n",
       "      <td>Charlie</td>\n",
       "      <td>3336</td>\n",
       "      <td>UK</td>\n",
       "      <td>Male</td>\n",
       "    </tr>\n",
       "    <tr>\n",
       "      <th>3</th>\n",
       "      <td>Anna</td>\n",
       "      <td>409</td>\n",
       "      <td>UK</td>\n",
       "      <td>Female</td>\n",
       "    </tr>\n",
       "    <tr>\n",
       "      <th>4</th>\n",
       "      <td>Bobby</td>\n",
       "      <td>652</td>\n",
       "      <td>UK</td>\n",
       "      <td>Male</td>\n",
       "    </tr>\n",
       "    <tr>\n",
       "      <th>5</th>\n",
       "      <td>Florence</td>\n",
       "      <td>1974</td>\n",
       "      <td>UK</td>\n",
       "      <td>Female</td>\n",
       "    </tr>\n",
       "    <tr>\n",
       "      <th>6</th>\n",
       "      <td>George</td>\n",
       "      <td>4949</td>\n",
       "      <td>UK</td>\n",
       "      <td>Male</td>\n",
       "    </tr>\n",
       "    <tr>\n",
       "      <th>7</th>\n",
       "      <td>Mia</td>\n",
       "      <td>2418</td>\n",
       "      <td>UK</td>\n",
       "      <td>Female</td>\n",
       "    </tr>\n",
       "  </tbody>\n",
       "</table>\n",
       "</div>"
      ],
      "text/plain": [
       "       Name  Births Country  Gender\n",
       "0      Adam    1508      UK    Male\n",
       "1    Sophie    1929      UK  Female\n",
       "2   Charlie    3336      UK    Male\n",
       "3      Anna     409      UK  Female\n",
       "4     Bobby     652      UK    Male\n",
       "5  Florence    1974      UK  Female\n",
       "6    George    4949      UK    Male\n",
       "7       Mia    2418      UK  Female"
      ]
     },
     "execution_count": 25,
     "metadata": {},
     "output_type": "execute_result"
    }
   ],
   "source": [
    "# Add a column with the gender of the babies\n",
    "# Assume the genders are alternating \"Male\", \"Female\"\n",
    "# e.g., Adam -> Male, Sophie -> Female, Charlie -> Male, Anna -> Female etc\n",
    "# Tip: Use the NumPy function tile if needed\n",
    "\n",
    "births['Gender'] = np.tile(('Male', \"Female\"), int(len(births)/2))\n",
    "births"
   ]
  },
  {
   "cell_type": "code",
   "execution_count": 26,
   "metadata": {
    "id": "m262CI9qR7g-"
   },
   "outputs": [
    {
     "data": {
      "text/html": [
       "<div>\n",
       "<style scoped>\n",
       "    .dataframe tbody tr th:only-of-type {\n",
       "        vertical-align: middle;\n",
       "    }\n",
       "\n",
       "    .dataframe tbody tr th {\n",
       "        vertical-align: top;\n",
       "    }\n",
       "\n",
       "    .dataframe thead th {\n",
       "        text-align: right;\n",
       "    }\n",
       "</style>\n",
       "<table border=\"1\" class=\"dataframe\">\n",
       "  <thead>\n",
       "    <tr style=\"text-align: right;\">\n",
       "      <th></th>\n",
       "      <th>Name</th>\n",
       "      <th>Births</th>\n",
       "      <th>Country</th>\n",
       "      <th>Gender</th>\n",
       "      <th>Percentage</th>\n",
       "    </tr>\n",
       "  </thead>\n",
       "  <tbody>\n",
       "    <tr>\n",
       "      <th>0</th>\n",
       "      <td>Adam</td>\n",
       "      <td>1508</td>\n",
       "      <td>UK</td>\n",
       "      <td>Male</td>\n",
       "      <td>8.780204</td>\n",
       "    </tr>\n",
       "    <tr>\n",
       "      <th>1</th>\n",
       "      <td>Sophie</td>\n",
       "      <td>1929</td>\n",
       "      <td>UK</td>\n",
       "      <td>Female</td>\n",
       "      <td>11.231441</td>\n",
       "    </tr>\n",
       "    <tr>\n",
       "      <th>2</th>\n",
       "      <td>Charlie</td>\n",
       "      <td>3336</td>\n",
       "      <td>UK</td>\n",
       "      <td>Male</td>\n",
       "      <td>19.423581</td>\n",
       "    </tr>\n",
       "    <tr>\n",
       "      <th>3</th>\n",
       "      <td>Anna</td>\n",
       "      <td>409</td>\n",
       "      <td>UK</td>\n",
       "      <td>Female</td>\n",
       "      <td>2.381368</td>\n",
       "    </tr>\n",
       "    <tr>\n",
       "      <th>4</th>\n",
       "      <td>Bobby</td>\n",
       "      <td>652</td>\n",
       "      <td>UK</td>\n",
       "      <td>Male</td>\n",
       "      <td>3.796215</td>\n",
       "    </tr>\n",
       "    <tr>\n",
       "      <th>5</th>\n",
       "      <td>Florence</td>\n",
       "      <td>1974</td>\n",
       "      <td>UK</td>\n",
       "      <td>Female</td>\n",
       "      <td>11.493450</td>\n",
       "    </tr>\n",
       "    <tr>\n",
       "      <th>6</th>\n",
       "      <td>George</td>\n",
       "      <td>4949</td>\n",
       "      <td>UK</td>\n",
       "      <td>Male</td>\n",
       "      <td>28.815138</td>\n",
       "    </tr>\n",
       "    <tr>\n",
       "      <th>7</th>\n",
       "      <td>Mia</td>\n",
       "      <td>2418</td>\n",
       "      <td>UK</td>\n",
       "      <td>Female</td>\n",
       "      <td>14.078603</td>\n",
       "    </tr>\n",
       "  </tbody>\n",
       "</table>\n",
       "</div>"
      ],
      "text/plain": [
       "       Name  Births Country  Gender  Percentage\n",
       "0      Adam    1508      UK    Male    8.780204\n",
       "1    Sophie    1929      UK  Female   11.231441\n",
       "2   Charlie    3336      UK    Male   19.423581\n",
       "3      Anna     409      UK  Female    2.381368\n",
       "4     Bobby     652      UK    Male    3.796215\n",
       "5  Florence    1974      UK  Female   11.493450\n",
       "6    George    4949      UK    Male   28.815138\n",
       "7       Mia    2418      UK  Female   14.078603"
      ]
     },
     "execution_count": 26,
     "metadata": {},
     "output_type": "execute_result"
    }
   ],
   "source": [
    "# Add a column that indicates for each name its percentage over the total births\n",
    "\n",
    "births['Percentage'] = births['Births']/births['Births'].sum()*100 \n",
    "births"
   ]
  },
  {
   "cell_type": "code",
   "execution_count": 36,
   "metadata": {
    "id": "NuaLaXq2R7g_"
   },
   "outputs": [
    {
     "data": {
      "text/html": [
       "<div>\n",
       "<style scoped>\n",
       "    .dataframe tbody tr th:only-of-type {\n",
       "        vertical-align: middle;\n",
       "    }\n",
       "\n",
       "    .dataframe tbody tr th {\n",
       "        vertical-align: top;\n",
       "    }\n",
       "\n",
       "    .dataframe thead th {\n",
       "        text-align: right;\n",
       "    }\n",
       "</style>\n",
       "<table border=\"1\" class=\"dataframe\">\n",
       "  <thead>\n",
       "    <tr style=\"text-align: right;\">\n",
       "      <th></th>\n",
       "      <th>Name</th>\n",
       "      <th>Births</th>\n",
       "      <th>Gender</th>\n",
       "      <th>Percentage</th>\n",
       "    </tr>\n",
       "  </thead>\n",
       "  <tbody>\n",
       "    <tr>\n",
       "      <th>0</th>\n",
       "      <td>Adam</td>\n",
       "      <td>1508</td>\n",
       "      <td>Male</td>\n",
       "      <td>8.780204</td>\n",
       "    </tr>\n",
       "    <tr>\n",
       "      <th>1</th>\n",
       "      <td>Sophie</td>\n",
       "      <td>1929</td>\n",
       "      <td>Female</td>\n",
       "      <td>11.231441</td>\n",
       "    </tr>\n",
       "    <tr>\n",
       "      <th>2</th>\n",
       "      <td>Charlie</td>\n",
       "      <td>3336</td>\n",
       "      <td>Male</td>\n",
       "      <td>19.423581</td>\n",
       "    </tr>\n",
       "    <tr>\n",
       "      <th>3</th>\n",
       "      <td>Anna</td>\n",
       "      <td>409</td>\n",
       "      <td>Female</td>\n",
       "      <td>2.381368</td>\n",
       "    </tr>\n",
       "    <tr>\n",
       "      <th>4</th>\n",
       "      <td>Bobby</td>\n",
       "      <td>652</td>\n",
       "      <td>Male</td>\n",
       "      <td>3.796215</td>\n",
       "    </tr>\n",
       "    <tr>\n",
       "      <th>5</th>\n",
       "      <td>Florence</td>\n",
       "      <td>1974</td>\n",
       "      <td>Female</td>\n",
       "      <td>11.493450</td>\n",
       "    </tr>\n",
       "    <tr>\n",
       "      <th>6</th>\n",
       "      <td>George</td>\n",
       "      <td>4949</td>\n",
       "      <td>Male</td>\n",
       "      <td>28.815138</td>\n",
       "    </tr>\n",
       "    <tr>\n",
       "      <th>7</th>\n",
       "      <td>Mia</td>\n",
       "      <td>2418</td>\n",
       "      <td>Female</td>\n",
       "      <td>14.078603</td>\n",
       "    </tr>\n",
       "  </tbody>\n",
       "</table>\n",
       "</div>"
      ],
      "text/plain": [
       "       Name  Births  Gender  Percentage\n",
       "0      Adam    1508    Male    8.780204\n",
       "1    Sophie    1929  Female   11.231441\n",
       "2   Charlie    3336    Male   19.423581\n",
       "3      Anna     409  Female    2.381368\n",
       "4     Bobby     652    Male    3.796215\n",
       "5  Florence    1974  Female   11.493450\n",
       "6    George    4949    Male   28.815138\n",
       "7       Mia    2418  Female   14.078603"
      ]
     },
     "execution_count": 36,
     "metadata": {},
     "output_type": "execute_result"
    }
   ],
   "source": [
    "# Delete the country column\n",
    "\n",
    "birthsLess = births.drop('Country', axis=1)\n",
    "birthsLess"
   ]
  },
  {
   "cell_type": "code",
   "execution_count": 37,
   "metadata": {
    "id": "rsjMFjadR7g_"
   },
   "outputs": [
    {
     "data": {
      "text/html": [
       "<div>\n",
       "<style scoped>\n",
       "    .dataframe tbody tr th:only-of-type {\n",
       "        vertical-align: middle;\n",
       "    }\n",
       "\n",
       "    .dataframe tbody tr th {\n",
       "        vertical-align: top;\n",
       "    }\n",
       "\n",
       "    .dataframe thead th {\n",
       "        text-align: right;\n",
       "    }\n",
       "</style>\n",
       "<table border=\"1\" class=\"dataframe\">\n",
       "  <thead>\n",
       "    <tr style=\"text-align: right;\">\n",
       "      <th></th>\n",
       "      <th>Name</th>\n",
       "      <th>Births</th>\n",
       "      <th>Percentage</th>\n",
       "    </tr>\n",
       "  </thead>\n",
       "  <tbody>\n",
       "    <tr>\n",
       "      <th>0</th>\n",
       "      <td>Adam</td>\n",
       "      <td>1508</td>\n",
       "      <td>8.780204</td>\n",
       "    </tr>\n",
       "    <tr>\n",
       "      <th>1</th>\n",
       "      <td>Sophie</td>\n",
       "      <td>1929</td>\n",
       "      <td>11.231441</td>\n",
       "    </tr>\n",
       "    <tr>\n",
       "      <th>2</th>\n",
       "      <td>Charlie</td>\n",
       "      <td>3336</td>\n",
       "      <td>19.423581</td>\n",
       "    </tr>\n",
       "    <tr>\n",
       "      <th>3</th>\n",
       "      <td>Anna</td>\n",
       "      <td>409</td>\n",
       "      <td>2.381368</td>\n",
       "    </tr>\n",
       "    <tr>\n",
       "      <th>4</th>\n",
       "      <td>Bobby</td>\n",
       "      <td>652</td>\n",
       "      <td>3.796215</td>\n",
       "    </tr>\n",
       "    <tr>\n",
       "      <th>5</th>\n",
       "      <td>Florence</td>\n",
       "      <td>1974</td>\n",
       "      <td>11.493450</td>\n",
       "    </tr>\n",
       "    <tr>\n",
       "      <th>6</th>\n",
       "      <td>George</td>\n",
       "      <td>4949</td>\n",
       "      <td>28.815138</td>\n",
       "    </tr>\n",
       "    <tr>\n",
       "      <th>7</th>\n",
       "      <td>Mia</td>\n",
       "      <td>2418</td>\n",
       "      <td>14.078603</td>\n",
       "    </tr>\n",
       "  </tbody>\n",
       "</table>\n",
       "</div>"
      ],
      "text/plain": [
       "       Name  Births  Percentage\n",
       "0      Adam    1508    8.780204\n",
       "1    Sophie    1929   11.231441\n",
       "2   Charlie    3336   19.423581\n",
       "3      Anna     409    2.381368\n",
       "4     Bobby     652    3.796215\n",
       "5  Florence    1974   11.493450\n",
       "6    George    4949   28.815138\n",
       "7       Mia    2418   14.078603"
      ]
     },
     "execution_count": 37,
     "metadata": {},
     "output_type": "execute_result"
    }
   ],
   "source": [
    "# Create and print to a new dataframe only columns Name, Births, and Percentage\n",
    "\n",
    "birthsNBP = births[['Name', 'Births', 'Percentage']]\n",
    "birthsNBP"
   ]
  },
  {
   "cell_type": "code",
   "execution_count": 38,
   "metadata": {
    "id": "9o24HFsaR7g_"
   },
   "outputs": [
    {
     "data": {
      "text/html": [
       "<div>\n",
       "<style scoped>\n",
       "    .dataframe tbody tr th:only-of-type {\n",
       "        vertical-align: middle;\n",
       "    }\n",
       "\n",
       "    .dataframe tbody tr th {\n",
       "        vertical-align: top;\n",
       "    }\n",
       "\n",
       "    .dataframe thead th {\n",
       "        text-align: right;\n",
       "    }\n",
       "</style>\n",
       "<table border=\"1\" class=\"dataframe\">\n",
       "  <thead>\n",
       "    <tr style=\"text-align: right;\">\n",
       "      <th></th>\n",
       "      <th>Name</th>\n",
       "      <th>Births</th>\n",
       "      <th>Country</th>\n",
       "      <th>Gender</th>\n",
       "      <th>Percentage</th>\n",
       "    </tr>\n",
       "  </thead>\n",
       "  <tbody>\n",
       "    <tr>\n",
       "      <th>0</th>\n",
       "      <td>Adam</td>\n",
       "      <td>1508</td>\n",
       "      <td>UK</td>\n",
       "      <td>Male</td>\n",
       "      <td>8.780204</td>\n",
       "    </tr>\n",
       "    <tr>\n",
       "      <th>1</th>\n",
       "      <td>Sophie</td>\n",
       "      <td>1929</td>\n",
       "      <td>UK</td>\n",
       "      <td>Female</td>\n",
       "      <td>11.231441</td>\n",
       "    </tr>\n",
       "    <tr>\n",
       "      <th>2</th>\n",
       "      <td>Charlie</td>\n",
       "      <td>3336</td>\n",
       "      <td>UK</td>\n",
       "      <td>Male</td>\n",
       "      <td>19.423581</td>\n",
       "    </tr>\n",
       "  </tbody>\n",
       "</table>\n",
       "</div>"
      ],
      "text/plain": [
       "      Name  Births Country  Gender  Percentage\n",
       "0     Adam    1508      UK    Male    8.780204\n",
       "1   Sophie    1929      UK  Female   11.231441\n",
       "2  Charlie    3336      UK    Male   19.423581"
      ]
     },
     "execution_count": 38,
     "metadata": {},
     "output_type": "execute_result"
    }
   ],
   "source": [
    "# Subset the data based on index location to get the first 3 records\n",
    "# Tip: Use the iloc property of the dataframe\n",
    "\n",
    "births.iloc[:3]"
   ]
  },
  {
   "cell_type": "code",
   "execution_count": 40,
   "metadata": {
    "id": "vvxiciv-R7g_"
   },
   "outputs": [
    {
     "data": {
      "text/plain": [
       "1508"
      ]
     },
     "execution_count": 40,
     "metadata": {},
     "output_type": "execute_result"
    }
   ],
   "source": [
    "# Get the names that belong to female babies using the query function of a dataframe\n",
    "# Tip: Use the 'at' property of a dataframe\n",
    "\n",
    "births.at[0, 'Births']"
   ]
  },
  {
   "cell_type": "code",
   "execution_count": null,
   "metadata": {
    "id": "w-_5R85JR7g_"
   },
   "outputs": [],
   "source": [
    "# Get the names that belong to female babies by slicing \n",
    "\n",
    "births.query('Gender == \"Female\"')"
   ]
  },
  {
   "cell_type": "code",
   "execution_count": 41,
   "metadata": {
    "id": "l6gb_HrthxZd"
   },
   "outputs": [
    {
     "data": {
      "text/html": [
       "<div>\n",
       "<style scoped>\n",
       "    .dataframe tbody tr th:only-of-type {\n",
       "        vertical-align: middle;\n",
       "    }\n",
       "\n",
       "    .dataframe tbody tr th {\n",
       "        vertical-align: top;\n",
       "    }\n",
       "\n",
       "    .dataframe thead th {\n",
       "        text-align: right;\n",
       "    }\n",
       "</style>\n",
       "<table border=\"1\" class=\"dataframe\">\n",
       "  <thead>\n",
       "    <tr style=\"text-align: right;\">\n",
       "      <th></th>\n",
       "      <th>Name</th>\n",
       "      <th>Births</th>\n",
       "      <th>Country</th>\n",
       "      <th>Gender</th>\n",
       "      <th>Percentage</th>\n",
       "    </tr>\n",
       "  </thead>\n",
       "  <tbody>\n",
       "    <tr>\n",
       "      <th>4</th>\n",
       "      <td>Bobby</td>\n",
       "      <td>652</td>\n",
       "      <td>UK</td>\n",
       "      <td>Male</td>\n",
       "      <td>3.796215</td>\n",
       "    </tr>\n",
       "  </tbody>\n",
       "</table>\n",
       "</div>"
      ],
      "text/plain": [
       "    Name  Births Country Gender  Percentage\n",
       "4  Bobby     652      UK   Male    3.796215"
      ]
     },
     "execution_count": 41,
     "metadata": {},
     "output_type": "execute_result"
    }
   ],
   "source": [
    "# Get the names whose births are below 1000 and are male using the query function of a dataframe\n",
    "\n",
    "births.query('Births < 1000 and Gender == \"Male\"')"
   ]
  },
  {
   "cell_type": "code",
   "execution_count": 42,
   "metadata": {
    "id": "D0Rc41HHR7g_"
   },
   "outputs": [
    {
     "data": {
      "text/html": [
       "<div>\n",
       "<style scoped>\n",
       "    .dataframe tbody tr th:only-of-type {\n",
       "        vertical-align: middle;\n",
       "    }\n",
       "\n",
       "    .dataframe tbody tr th {\n",
       "        vertical-align: top;\n",
       "    }\n",
       "\n",
       "    .dataframe thead th {\n",
       "        text-align: right;\n",
       "    }\n",
       "</style>\n",
       "<table border=\"1\" class=\"dataframe\">\n",
       "  <thead>\n",
       "    <tr style=\"text-align: right;\">\n",
       "      <th></th>\n",
       "      <th>Name</th>\n",
       "      <th>Births</th>\n",
       "      <th>Country</th>\n",
       "      <th>Gender</th>\n",
       "      <th>Percentage</th>\n",
       "    </tr>\n",
       "  </thead>\n",
       "  <tbody>\n",
       "    <tr>\n",
       "      <th>4</th>\n",
       "      <td>Bobby</td>\n",
       "      <td>652</td>\n",
       "      <td>UK</td>\n",
       "      <td>Male</td>\n",
       "      <td>3.796215</td>\n",
       "    </tr>\n",
       "  </tbody>\n",
       "</table>\n",
       "</div>"
      ],
      "text/plain": [
       "    Name  Births Country Gender  Percentage\n",
       "4  Bobby     652      UK   Male    3.796215"
      ]
     },
     "execution_count": 42,
     "metadata": {},
     "output_type": "execute_result"
    }
   ],
   "source": [
    "# Get the names whose births are below 1000 and are male by slicing\n",
    "\n",
    "births[(births['Births'] < 1000) & (births['Gender'] == \"Male\")]"
   ]
  },
  {
   "cell_type": "code",
   "execution_count": 43,
   "metadata": {
    "id": "sO4Jt5xFR7hA"
   },
   "outputs": [
    {
     "data": {
      "text/html": [
       "<div>\n",
       "<style scoped>\n",
       "    .dataframe tbody tr th:only-of-type {\n",
       "        vertical-align: middle;\n",
       "    }\n",
       "\n",
       "    .dataframe tbody tr th {\n",
       "        vertical-align: top;\n",
       "    }\n",
       "\n",
       "    .dataframe thead th {\n",
       "        text-align: right;\n",
       "    }\n",
       "</style>\n",
       "<table border=\"1\" class=\"dataframe\">\n",
       "  <thead>\n",
       "    <tr style=\"text-align: right;\">\n",
       "      <th></th>\n",
       "      <th>Births</th>\n",
       "      <th>Percentage</th>\n",
       "    </tr>\n",
       "    <tr>\n",
       "      <th>Gender</th>\n",
       "      <th></th>\n",
       "      <th></th>\n",
       "    </tr>\n",
       "  </thead>\n",
       "  <tbody>\n",
       "    <tr>\n",
       "      <th>Female</th>\n",
       "      <td>6730</td>\n",
       "      <td>39.184862</td>\n",
       "    </tr>\n",
       "    <tr>\n",
       "      <th>Male</th>\n",
       "      <td>10445</td>\n",
       "      <td>60.815138</td>\n",
       "    </tr>\n",
       "  </tbody>\n",
       "</table>\n",
       "</div>"
      ],
      "text/plain": [
       "        Births  Percentage\n",
       "Gender                    \n",
       "Female    6730   39.184862\n",
       "Male     10445   60.815138"
      ]
     },
     "execution_count": 43,
     "metadata": {},
     "output_type": "execute_result"
    }
   ],
   "source": [
    "# Get the number of births groupped by gender\n",
    "\n",
    "genderBirths = births.groupby('Gender').sum()\n",
    "genderBirths"
   ]
  },
  {
   "cell_type": "code",
   "execution_count": 44,
   "metadata": {
    "id": "sTDmhVY3R7hA"
   },
   "outputs": [
    {
     "data": {
      "text/html": [
       "<div>\n",
       "<style scoped>\n",
       "    .dataframe tbody tr th:only-of-type {\n",
       "        vertical-align: middle;\n",
       "    }\n",
       "\n",
       "    .dataframe tbody tr th {\n",
       "        vertical-align: top;\n",
       "    }\n",
       "\n",
       "    .dataframe thead th {\n",
       "        text-align: right;\n",
       "    }\n",
       "</style>\n",
       "<table border=\"1\" class=\"dataframe\">\n",
       "  <thead>\n",
       "    <tr style=\"text-align: right;\">\n",
       "      <th></th>\n",
       "      <th>Name</th>\n",
       "      <th>Births</th>\n",
       "      <th>Country</th>\n",
       "      <th>Gender</th>\n",
       "      <th>Percentage</th>\n",
       "    </tr>\n",
       "  </thead>\n",
       "  <tbody>\n",
       "    <tr>\n",
       "      <th>0</th>\n",
       "      <td>Adam</td>\n",
       "      <td>1508</td>\n",
       "      <td>UK</td>\n",
       "      <td>Male</td>\n",
       "      <td>8.780204</td>\n",
       "    </tr>\n",
       "    <tr>\n",
       "      <th>3</th>\n",
       "      <td>Anna</td>\n",
       "      <td>409</td>\n",
       "      <td>UK</td>\n",
       "      <td>Female</td>\n",
       "      <td>2.381368</td>\n",
       "    </tr>\n",
       "    <tr>\n",
       "      <th>4</th>\n",
       "      <td>Bobby</td>\n",
       "      <td>652</td>\n",
       "      <td>UK</td>\n",
       "      <td>Male</td>\n",
       "      <td>3.796215</td>\n",
       "    </tr>\n",
       "    <tr>\n",
       "      <th>2</th>\n",
       "      <td>Charlie</td>\n",
       "      <td>3336</td>\n",
       "      <td>UK</td>\n",
       "      <td>Male</td>\n",
       "      <td>19.423581</td>\n",
       "    </tr>\n",
       "    <tr>\n",
       "      <th>5</th>\n",
       "      <td>Florence</td>\n",
       "      <td>1974</td>\n",
       "      <td>UK</td>\n",
       "      <td>Female</td>\n",
       "      <td>11.493450</td>\n",
       "    </tr>\n",
       "    <tr>\n",
       "      <th>6</th>\n",
       "      <td>George</td>\n",
       "      <td>4949</td>\n",
       "      <td>UK</td>\n",
       "      <td>Male</td>\n",
       "      <td>28.815138</td>\n",
       "    </tr>\n",
       "    <tr>\n",
       "      <th>7</th>\n",
       "      <td>Mia</td>\n",
       "      <td>2418</td>\n",
       "      <td>UK</td>\n",
       "      <td>Female</td>\n",
       "      <td>14.078603</td>\n",
       "    </tr>\n",
       "    <tr>\n",
       "      <th>1</th>\n",
       "      <td>Sophie</td>\n",
       "      <td>1929</td>\n",
       "      <td>UK</td>\n",
       "      <td>Female</td>\n",
       "      <td>11.231441</td>\n",
       "    </tr>\n",
       "  </tbody>\n",
       "</table>\n",
       "</div>"
      ],
      "text/plain": [
       "       Name  Births Country  Gender  Percentage\n",
       "0      Adam    1508      UK    Male    8.780204\n",
       "3      Anna     409      UK  Female    2.381368\n",
       "4     Bobby     652      UK    Male    3.796215\n",
       "2   Charlie    3336      UK    Male   19.423581\n",
       "5  Florence    1974      UK  Female   11.493450\n",
       "6    George    4949      UK    Male   28.815138\n",
       "7       Mia    2418      UK  Female   14.078603\n",
       "1    Sophie    1929      UK  Female   11.231441"
      ]
     },
     "execution_count": 44,
     "metadata": {},
     "output_type": "execute_result"
    }
   ],
   "source": [
    "# Sort the dataframe by name\n",
    "\n",
    "births.sort_values(by='Name')"
   ]
  },
  {
   "cell_type": "code",
   "execution_count": 45,
   "metadata": {
    "id": "_fRnzIX8R7hB"
   },
   "outputs": [
    {
     "data": {
      "text/html": [
       "<div>\n",
       "<style scoped>\n",
       "    .dataframe tbody tr th:only-of-type {\n",
       "        vertical-align: middle;\n",
       "    }\n",
       "\n",
       "    .dataframe tbody tr th {\n",
       "        vertical-align: top;\n",
       "    }\n",
       "\n",
       "    .dataframe thead th {\n",
       "        text-align: right;\n",
       "    }\n",
       "</style>\n",
       "<table border=\"1\" class=\"dataframe\">\n",
       "  <thead>\n",
       "    <tr style=\"text-align: right;\">\n",
       "      <th></th>\n",
       "      <th>Name</th>\n",
       "      <th>Births</th>\n",
       "      <th>Country</th>\n",
       "      <th>Gender</th>\n",
       "      <th>Percentage</th>\n",
       "    </tr>\n",
       "  </thead>\n",
       "  <tbody>\n",
       "    <tr>\n",
       "      <th>6</th>\n",
       "      <td>George</td>\n",
       "      <td>4949</td>\n",
       "      <td>UK</td>\n",
       "      <td>Male</td>\n",
       "      <td>28.815138</td>\n",
       "    </tr>\n",
       "    <tr>\n",
       "      <th>2</th>\n",
       "      <td>Charlie</td>\n",
       "      <td>3336</td>\n",
       "      <td>UK</td>\n",
       "      <td>Male</td>\n",
       "      <td>19.423581</td>\n",
       "    </tr>\n",
       "    <tr>\n",
       "      <th>7</th>\n",
       "      <td>Mia</td>\n",
       "      <td>2418</td>\n",
       "      <td>UK</td>\n",
       "      <td>Female</td>\n",
       "      <td>14.078603</td>\n",
       "    </tr>\n",
       "    <tr>\n",
       "      <th>5</th>\n",
       "      <td>Florence</td>\n",
       "      <td>1974</td>\n",
       "      <td>UK</td>\n",
       "      <td>Female</td>\n",
       "      <td>11.493450</td>\n",
       "    </tr>\n",
       "    <tr>\n",
       "      <th>1</th>\n",
       "      <td>Sophie</td>\n",
       "      <td>1929</td>\n",
       "      <td>UK</td>\n",
       "      <td>Female</td>\n",
       "      <td>11.231441</td>\n",
       "    </tr>\n",
       "    <tr>\n",
       "      <th>0</th>\n",
       "      <td>Adam</td>\n",
       "      <td>1508</td>\n",
       "      <td>UK</td>\n",
       "      <td>Male</td>\n",
       "      <td>8.780204</td>\n",
       "    </tr>\n",
       "    <tr>\n",
       "      <th>4</th>\n",
       "      <td>Bobby</td>\n",
       "      <td>652</td>\n",
       "      <td>UK</td>\n",
       "      <td>Male</td>\n",
       "      <td>3.796215</td>\n",
       "    </tr>\n",
       "    <tr>\n",
       "      <th>3</th>\n",
       "      <td>Anna</td>\n",
       "      <td>409</td>\n",
       "      <td>UK</td>\n",
       "      <td>Female</td>\n",
       "      <td>2.381368</td>\n",
       "    </tr>\n",
       "  </tbody>\n",
       "</table>\n",
       "</div>"
      ],
      "text/plain": [
       "       Name  Births Country  Gender  Percentage\n",
       "6    George    4949      UK    Male   28.815138\n",
       "2   Charlie    3336      UK    Male   19.423581\n",
       "7       Mia    2418      UK  Female   14.078603\n",
       "5  Florence    1974      UK  Female   11.493450\n",
       "1    Sophie    1929      UK  Female   11.231441\n",
       "0      Adam    1508      UK    Male    8.780204\n",
       "4     Bobby     652      UK    Male    3.796215\n",
       "3      Anna     409      UK  Female    2.381368"
      ]
     },
     "execution_count": 45,
     "metadata": {},
     "output_type": "execute_result"
    }
   ],
   "source": [
    "# Sort the dataframe by the number of births in descending order\n",
    "\n",
    "births.sort_values(by='Births', ascending=False)"
   ]
  },
  {
   "cell_type": "code",
   "execution_count": 46,
   "metadata": {
    "id": "mHhL3d_hR7hB"
   },
   "outputs": [
    {
     "data": {
      "text/html": [
       "<div>\n",
       "<style scoped>\n",
       "    .dataframe tbody tr th:only-of-type {\n",
       "        vertical-align: middle;\n",
       "    }\n",
       "\n",
       "    .dataframe tbody tr th {\n",
       "        vertical-align: top;\n",
       "    }\n",
       "\n",
       "    .dataframe thead th {\n",
       "        text-align: right;\n",
       "    }\n",
       "</style>\n",
       "<table border=\"1\" class=\"dataframe\">\n",
       "  <thead>\n",
       "    <tr style=\"text-align: right;\">\n",
       "      <th></th>\n",
       "      <th>Name</th>\n",
       "      <th>Births</th>\n",
       "      <th>Country</th>\n",
       "      <th>Gender</th>\n",
       "      <th>Percentage</th>\n",
       "      <th>County</th>\n",
       "    </tr>\n",
       "  </thead>\n",
       "  <tbody>\n",
       "    <tr>\n",
       "      <th>0</th>\n",
       "      <td>Adam</td>\n",
       "      <td>1508</td>\n",
       "      <td>UK</td>\n",
       "      <td>Male</td>\n",
       "      <td>8.780204</td>\n",
       "      <td>Yorkshire</td>\n",
       "    </tr>\n",
       "    <tr>\n",
       "      <th>1</th>\n",
       "      <td>Sophie</td>\n",
       "      <td>1929</td>\n",
       "      <td>UK</td>\n",
       "      <td>Female</td>\n",
       "      <td>11.231441</td>\n",
       "      <td>Essex</td>\n",
       "    </tr>\n",
       "    <tr>\n",
       "      <th>2</th>\n",
       "      <td>Charlie</td>\n",
       "      <td>3336</td>\n",
       "      <td>UK</td>\n",
       "      <td>Male</td>\n",
       "      <td>19.423581</td>\n",
       "      <td>Yorkshire</td>\n",
       "    </tr>\n",
       "    <tr>\n",
       "      <th>3</th>\n",
       "      <td>Anna</td>\n",
       "      <td>409</td>\n",
       "      <td>UK</td>\n",
       "      <td>Female</td>\n",
       "      <td>2.381368</td>\n",
       "      <td>Yorkshire</td>\n",
       "    </tr>\n",
       "    <tr>\n",
       "      <th>4</th>\n",
       "      <td>Bobby</td>\n",
       "      <td>652</td>\n",
       "      <td>UK</td>\n",
       "      <td>Male</td>\n",
       "      <td>3.796215</td>\n",
       "      <td>Kent</td>\n",
       "    </tr>\n",
       "    <tr>\n",
       "      <th>5</th>\n",
       "      <td>Florence</td>\n",
       "      <td>1974</td>\n",
       "      <td>UK</td>\n",
       "      <td>Female</td>\n",
       "      <td>11.493450</td>\n",
       "      <td>Kent</td>\n",
       "    </tr>\n",
       "    <tr>\n",
       "      <th>6</th>\n",
       "      <td>George</td>\n",
       "      <td>4949</td>\n",
       "      <td>UK</td>\n",
       "      <td>Male</td>\n",
       "      <td>28.815138</td>\n",
       "      <td>Yorkshire</td>\n",
       "    </tr>\n",
       "    <tr>\n",
       "      <th>7</th>\n",
       "      <td>Mia</td>\n",
       "      <td>2418</td>\n",
       "      <td>UK</td>\n",
       "      <td>Female</td>\n",
       "      <td>14.078603</td>\n",
       "      <td>Essex</td>\n",
       "    </tr>\n",
       "  </tbody>\n",
       "</table>\n",
       "</div>"
      ],
      "text/plain": [
       "       Name  Births Country  Gender  Percentage     County\n",
       "0      Adam    1508      UK    Male    8.780204  Yorkshire\n",
       "1    Sophie    1929      UK  Female   11.231441      Essex\n",
       "2   Charlie    3336      UK    Male   19.423581  Yorkshire\n",
       "3      Anna     409      UK  Female    2.381368  Yorkshire\n",
       "4     Bobby     652      UK    Male    3.796215       Kent\n",
       "5  Florence    1974      UK  Female   11.493450       Kent\n",
       "6    George    4949      UK    Male   28.815138  Yorkshire\n",
       "7       Mia    2418      UK  Female   14.078603      Essex"
      ]
     },
     "execution_count": 46,
     "metadata": {},
     "output_type": "execute_result"
    }
   ],
   "source": [
    "# Add a column with the county each child has been born in as given by the list below\n",
    "county = ['Yorkshire', 'Essex', 'Yorkshire', 'Yorkshire', 'Kent', 'Kent', 'Yorkshire', 'Essex']\n",
    "\n",
    "births['County'] = county\n",
    "births"
   ]
  },
  {
   "cell_type": "code",
   "execution_count": 47,
   "metadata": {
    "id": "gORbNrmHR7hB"
   },
   "outputs": [
    {
     "data": {
      "text/html": [
       "<div>\n",
       "<style scoped>\n",
       "    .dataframe tbody tr th:only-of-type {\n",
       "        vertical-align: middle;\n",
       "    }\n",
       "\n",
       "    .dataframe tbody tr th {\n",
       "        vertical-align: top;\n",
       "    }\n",
       "\n",
       "    .dataframe thead th {\n",
       "        text-align: right;\n",
       "    }\n",
       "</style>\n",
       "<table border=\"1\" class=\"dataframe\">\n",
       "  <thead>\n",
       "    <tr style=\"text-align: right;\">\n",
       "      <th></th>\n",
       "      <th></th>\n",
       "      <th>Births</th>\n",
       "      <th>Percentage</th>\n",
       "    </tr>\n",
       "    <tr>\n",
       "      <th>Gender</th>\n",
       "      <th>County</th>\n",
       "      <th></th>\n",
       "      <th></th>\n",
       "    </tr>\n",
       "  </thead>\n",
       "  <tbody>\n",
       "    <tr>\n",
       "      <th rowspan=\"3\" valign=\"top\">Female</th>\n",
       "      <th>Essex</th>\n",
       "      <td>4347</td>\n",
       "      <td>25.310044</td>\n",
       "    </tr>\n",
       "    <tr>\n",
       "      <th>Kent</th>\n",
       "      <td>1974</td>\n",
       "      <td>11.493450</td>\n",
       "    </tr>\n",
       "    <tr>\n",
       "      <th>Yorkshire</th>\n",
       "      <td>409</td>\n",
       "      <td>2.381368</td>\n",
       "    </tr>\n",
       "    <tr>\n",
       "      <th rowspan=\"2\" valign=\"top\">Male</th>\n",
       "      <th>Kent</th>\n",
       "      <td>652</td>\n",
       "      <td>3.796215</td>\n",
       "    </tr>\n",
       "    <tr>\n",
       "      <th>Yorkshire</th>\n",
       "      <td>9793</td>\n",
       "      <td>57.018923</td>\n",
       "    </tr>\n",
       "  </tbody>\n",
       "</table>\n",
       "</div>"
      ],
      "text/plain": [
       "                  Births  Percentage\n",
       "Gender County                       \n",
       "Female Essex        4347   25.310044\n",
       "       Kent         1974   11.493450\n",
       "       Yorkshire     409    2.381368\n",
       "Male   Kent          652    3.796215\n",
       "       Yorkshire    9793   57.018923"
      ]
     },
     "execution_count": 47,
     "metadata": {},
     "output_type": "execute_result"
    }
   ],
   "source": [
    "# Group the data based on Gender and then by County\n",
    "\n",
    "births.groupby(['Gender', 'County']).sum()"
   ]
  }
 ],
 "metadata": {
  "colab": {
   "name": "DAT1-PandasTutorial-Questions.ipynb",
   "provenance": []
  },
  "kernelspec": {
   "display_name": "Python 3",
   "language": "python",
   "name": "python3"
  },
  "language_info": {
   "codemirror_mode": {
    "name": "ipython",
    "version": 3
   },
   "file_extension": ".py",
   "mimetype": "text/x-python",
   "name": "python",
   "nbconvert_exporter": "python",
   "pygments_lexer": "ipython3",
   "version": "3.8.3"
  }
 },
 "nbformat": 4,
 "nbformat_minor": 1
}
