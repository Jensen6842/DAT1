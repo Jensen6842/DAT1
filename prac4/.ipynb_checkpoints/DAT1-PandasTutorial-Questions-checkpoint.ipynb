{
 "cells": [
  {
   "cell_type": "markdown",
   "metadata": {
    "id": "3p2I5_5CR7gf"
   },
   "source": [
    "# Introduction to Pandas: A Short Tutorial\n",
    "\n",
    "* Pandas is an open source, BSD-licensed library\n",
    "* High-performance, easy-to-use data structures and data analysis tools\n",
    "* Built on top of NumPy, and provides an efficient implementation of a DataFrame\n",
    "* Makes data analysis fast and easy in Python\n",
    "\n",
    "**DataFrame**: A multidimensional array with attached row and column labels\n",
    "\n",
    "### **Important Information**\n",
    "\n",
    "(1) To answer these exercises, you **must first read Chapter 2: Dapa Manipulation with Pandas from the Python Data Science Handbook** (https://jakevdp.github.io/PythonDataScienceHandbook/03.00-introduction-to-pandas.html)\n",
    "\n",
    "\n",
    "**Pandas API Reference**: https://pandas.pydata.org/pandas-docs/stable/reference/index.html"
   ]
  },
  {
   "cell_type": "markdown",
   "metadata": {
    "id": "pCpURMVYS_cc"
   },
   "source": [
    "#### **This is an introduction to Pandas. You can try to complete the tutorial yourself and check the model answers for help, when needed**"
   ]
  },
  {
   "cell_type": "code",
   "execution_count": null,
   "metadata": {
    "executionInfo": {
     "elapsed": 961,
     "status": "ok",
     "timestamp": 1612466206234,
     "user": {
      "displayName": "Simos Gerasimou",
      "photoUrl": "https://lh3.googleusercontent.com/a-/AOh14GiyuWEDBGgnFKbsa3BAO5bWW-MwC5_V7MnUQz5JiA=s64",
      "userId": "13902192774339425778"
     },
     "user_tz": 0
    },
    "id": "TWqS92qcR7go"
   },
   "outputs": [],
   "source": [
    "# Import Pandas\n",
    "import pandas as pd"
   ]
  },
  {
   "cell_type": "code",
   "execution_count": null,
   "metadata": {
    "executionInfo": {
     "elapsed": 697,
     "status": "ok",
     "timestamp": 1612466206603,
     "user": {
      "displayName": "Simos Gerasimou",
      "photoUrl": "https://lh3.googleusercontent.com/a-/AOh14GiyuWEDBGgnFKbsa3BAO5bWW-MwC5_V7MnUQz5JiA=s64",
      "userId": "13902192774339425778"
     },
     "user_tz": 0
    },
    "id": "4wxx1HatR7gr"
   },
   "outputs": [],
   "source": [
    "# Create two lists with information from Baby names in England and Wales: 2018\n",
    "# https://www.ons.gov.uk/peoplepopulationandcommunity/birthsdeathsandmarriages/livebirths/\n",
    "names  = ['Adam', 'Sophie', 'Charlie', 'Anna', 'Bobby', 'Florence', 'George', 'Mia']\n",
    "births = [1508,   1929,      3336,     409,     652,    1974,        4949,    2418]\n",
    "\n",
    "# Merge these two lists together using the zip function\n",
    "# https://docs.python.org/3.3/library/functions.html\n",
    "babiesDataSet = list(zip(names, births))"
   ]
  },
  {
   "cell_type": "code",
   "execution_count": null,
   "metadata": {
    "colab": {
     "base_uri": "https://localhost:8080/"
    },
    "executionInfo": {
     "elapsed": 839,
     "status": "ok",
     "timestamp": 1612466207324,
     "user": {
      "displayName": "Simos Gerasimou",
      "photoUrl": "https://lh3.googleusercontent.com/a-/AOh14GiyuWEDBGgnFKbsa3BAO5bWW-MwC5_V7MnUQz5JiA=s64",
      "userId": "13902192774339425778"
     },
     "user_tz": 0
    },
    "id": "TaUOzvNXR7gt",
    "outputId": "2f9eb4b2-94a1-4c6d-c84a-feb742a913e4"
   },
   "outputs": [],
   "source": [
    "# Print the combined list\n",
    "babiesDataSet"
   ]
  },
  {
   "cell_type": "code",
   "execution_count": null,
   "metadata": {
    "executionInfo": {
     "elapsed": 1014,
     "status": "ok",
     "timestamp": 1612466209520,
     "user": {
      "displayName": "Simos Gerasimou",
      "photoUrl": "https://lh3.googleusercontent.com/a-/AOh14GiyuWEDBGgnFKbsa3BAO5bWW-MwC5_V7MnUQz5JiA=s64",
      "userId": "13902192774339425778"
     },
     "user_tz": 0
    },
    "id": "KqqaozXgR7gv"
   },
   "outputs": [],
   "source": [
    "# Use Pandas to create a dataframe\n",
    "df = pd.DataFrame(data=babiesDataSet, columns=['Name', \"Births\"])"
   ]
  },
  {
   "cell_type": "code",
   "execution_count": null,
   "metadata": {
    "colab": {
     "base_uri": "https://localhost:8080/",
     "height": 300
    },
    "executionInfo": {
     "elapsed": 885,
     "status": "ok",
     "timestamp": 1612466211086,
     "user": {
      "displayName": "Simos Gerasimou",
      "photoUrl": "https://lh3.googleusercontent.com/a-/AOh14GiyuWEDBGgnFKbsa3BAO5bWW-MwC5_V7MnUQz5JiA=s64",
      "userId": "13902192774339425778"
     },
     "user_tz": 0
    },
    "id": "y5L69_DkR7gx",
    "outputId": "a506098d-c62e-4138-e11a-6fc11b23942b"
   },
   "outputs": [],
   "source": [
    "# Display the dataframe\n",
    "df"
   ]
  },
  {
   "cell_type": "code",
   "execution_count": null,
   "metadata": {
    "executionInfo": {
     "elapsed": 856,
     "status": "ok",
     "timestamp": 1612466212514,
     "user": {
      "displayName": "Simos Gerasimou",
      "photoUrl": "https://lh3.googleusercontent.com/a-/AOh14GiyuWEDBGgnFKbsa3BAO5bWW-MwC5_V7MnUQz5JiA=s64",
      "userId": "13902192774339425778"
     },
     "user_tz": 0
    },
    "id": "WZCHkDkdR7gy"
   },
   "outputs": [],
   "source": [
    "# Export the dataframe to csv\n",
    "# You can find the CSV file in the same directory with this Jupyter Notebook\n",
    "# (If you are using Google Colaboratory this should be in the virtual directory)\n",
    "df.to_csv(\"birthsUK2018.csv\", index=False, header=False)"
   ]
  },
  {
   "cell_type": "code",
   "execution_count": null,
   "metadata": {
    "executionInfo": {
     "elapsed": 1053,
     "status": "ok",
     "timestamp": 1612466214218,
     "user": {
      "displayName": "Simos Gerasimou",
      "photoUrl": "https://lh3.googleusercontent.com/a-/AOh14GiyuWEDBGgnFKbsa3BAO5bWW-MwC5_V7MnUQz5JiA=s64",
      "userId": "13902192774339425778"
     },
     "user_tz": 0
    },
    "id": "Rpx7yChlR7gy"
   },
   "outputs": [],
   "source": [
    "# Import data to dataframe\n",
    "file = \"birthsUK2018.csv\" #location is relative\n",
    "births =  pd.read_csv(file, header=None, names=['Name', 'Births'])"
   ]
  },
  {
   "cell_type": "code",
   "execution_count": null,
   "metadata": {
    "colab": {
     "base_uri": "https://localhost:8080/",
     "height": 300
    },
    "executionInfo": {
     "elapsed": 1211,
     "status": "ok",
     "timestamp": 1612466217384,
     "user": {
      "displayName": "Simos Gerasimou",
      "photoUrl": "https://lh3.googleusercontent.com/a-/AOh14GiyuWEDBGgnFKbsa3BAO5bWW-MwC5_V7MnUQz5JiA=s64",
      "userId": "13902192774339425778"
     },
     "user_tz": 0
    },
    "id": "UeHM8COwR7gz",
    "outputId": "76eb3d49-efa8-43c3-c189-c20ecac42ae4"
   },
   "outputs": [],
   "source": [
    "# Show the dataframe\n",
    "# The numbers [0,1,2,3,4] in the first column are part of the index of the dataframe. \n",
    "births"
   ]
  },
  {
   "cell_type": "code",
   "execution_count": null,
   "metadata": {
    "colab": {
     "base_uri": "https://localhost:8080/"
    },
    "executionInfo": {
     "elapsed": 949,
     "status": "ok",
     "timestamp": 1612466218852,
     "user": {
      "displayName": "Simos Gerasimou",
      "photoUrl": "https://lh3.googleusercontent.com/a-/AOh14GiyuWEDBGgnFKbsa3BAO5bWW-MwC5_V7MnUQz5JiA=s64",
      "userId": "13902192774339425778"
     },
     "user_tz": 0
    },
    "id": "3K6Cyk3dR7g0",
    "outputId": "6d279f72-cc95-4eaa-bb04-1d61e4904d79"
   },
   "outputs": [],
   "source": [
    "# Check the data types of columns\n",
    "births.dtypes"
   ]
  },
  {
   "cell_type": "code",
   "execution_count": null,
   "metadata": {
    "colab": {
     "base_uri": "https://localhost:8080/"
    },
    "executionInfo": {
     "elapsed": 959,
     "status": "ok",
     "timestamp": 1612466248233,
     "user": {
      "displayName": "Simos Gerasimou",
      "photoUrl": "https://lh3.googleusercontent.com/a-/AOh14GiyuWEDBGgnFKbsa3BAO5bWW-MwC5_V7MnUQz5JiA=s64",
      "userId": "13902192774339425778"
     },
     "user_tz": 0
    },
    "id": "UwsBdUDzR7g2",
    "outputId": "8b9926bb-b74e-4a0a-d367-b5547c943d6b"
   },
   "outputs": [],
   "source": [
    "# Get general info about the dataframe\n",
    "# - There are 8 records in the data set\n",
    "# - There is a column named \"Name\" of type object (non numeric) with 8 values\n",
    "# - There is a column named \"Births\" of type numeric with 8 values\n",
    "births.info()"
   ]
  },
  {
   "cell_type": "code",
   "execution_count": null,
   "metadata": {
    "colab": {
     "base_uri": "https://localhost:8080/"
    },
    "executionInfo": {
     "elapsed": 680,
     "status": "ok",
     "timestamp": 1612466265301,
     "user": {
      "displayName": "Simos Gerasimou",
      "photoUrl": "https://lh3.googleusercontent.com/a-/AOh14GiyuWEDBGgnFKbsa3BAO5bWW-MwC5_V7MnUQz5JiA=s64",
      "userId": "13902192774339425778"
     },
     "user_tz": 0
    },
    "id": "CLAYbViLR7g4",
    "outputId": "6dcbcf9b-7c38-46e9-c635-102218e44033"
   },
   "outputs": [],
   "source": [
    "# Check the data types of Births column\n",
    "births.Births.dtype"
   ]
  },
  {
   "cell_type": "code",
   "execution_count": null,
   "metadata": {
    "id": "OuwtFs4ER7g4"
   },
   "outputs": [],
   "source": [
    "# Print the top 5 rows\n",
    "# Write your code here\n"
   ]
  },
  {
   "cell_type": "code",
   "execution_count": null,
   "metadata": {
    "id": "3fpY5Lz8R7g4"
   },
   "outputs": [],
   "source": [
    "# Print the last 3 rows\n",
    "# Write your code here\n"
   ]
  },
  {
   "cell_type": "code",
   "execution_count": null,
   "metadata": {
    "id": "3gahZYbLR7g5"
   },
   "outputs": [],
   "source": [
    "# Print the name of columns\n",
    "# Write your code here\n"
   ]
  },
  {
   "cell_type": "code",
   "execution_count": null,
   "metadata": {
    "id": "11ZVF4imR7g6"
   },
   "outputs": [],
   "source": [
    "# Transfrom the datafram into an array\n",
    "# Write your code here\n"
   ]
  },
  {
   "cell_type": "code",
   "execution_count": null,
   "metadata": {
    "id": "wtLGCt0tR7g6"
   },
   "outputs": [],
   "source": [
    "# Get the index of the dataframe\n",
    "# Write your code here\n"
   ]
  },
  {
   "cell_type": "code",
   "execution_count": null,
   "metadata": {
    "executionInfo": {
     "elapsed": 1313,
     "status": "ok",
     "timestamp": 1612463320259,
     "user": {
      "displayName": "Simos Gerasimou",
      "photoUrl": "https://lh3.googleusercontent.com/a-/AOh14GiyuWEDBGgnFKbsa3BAO5bWW-MwC5_V7MnUQz5JiA=s64",
      "userId": "13902192774339425778"
     },
     "user_tz": 0
    },
    "id": "fnWrw7wdR7g6"
   },
   "outputs": [],
   "source": [
    "# Access the entries of the Name column (using dataframe slicing)\n",
    "# Write your code here\n"
   ]
  },
  {
   "cell_type": "code",
   "execution_count": null,
   "metadata": {
    "id": "ivkjN22YR7g7"
   },
   "outputs": [],
   "source": [
    "# Access the entries of the Births column as a property\n",
    "# Write your code here\n"
   ]
  },
  {
   "cell_type": "code",
   "execution_count": null,
   "metadata": {
    "id": "Ta3INQTDR7g7"
   },
   "outputs": [],
   "source": [
    "# Find the maximum number of births\n",
    "# Write your code here\n"
   ]
  },
  {
   "cell_type": "code",
   "execution_count": null,
   "metadata": {
    "id": "UXBp4V8wR7g7"
   },
   "outputs": [],
   "source": [
    "# Get the name associated with the max births\n",
    "# Write your code here\n"
   ]
  },
  {
   "cell_type": "code",
   "execution_count": null,
   "metadata": {
    "id": "OxG4FZ4SR7g7"
   },
   "outputs": [],
   "source": [
    "# Find the unique names\n",
    "# Write your code here\n"
   ]
  },
  {
   "cell_type": "code",
   "execution_count": null,
   "metadata": {
    "id": "e6JGGpfQR7g7"
   },
   "outputs": [],
   "source": [
    "# Get some descriptive statistics for the number of births\n",
    "# Write your code here\n"
   ]
  },
  {
   "cell_type": "code",
   "execution_count": null,
   "metadata": {
    "id": "TpI38pesR7g8"
   },
   "outputs": [],
   "source": [
    "# Get the names with births more than 2000\n",
    "# Write your code here\n"
   ]
  },
  {
   "cell_type": "code",
   "execution_count": null,
   "metadata": {
    "id": "SDXPhCxCR7g8"
   },
   "outputs": [],
   "source": [
    "# Get the names starting with \"A\"\n",
    "# Write your code here\n"
   ]
  },
  {
   "cell_type": "code",
   "execution_count": null,
   "metadata": {
    "id": "avtxvQ_5R7g9"
   },
   "outputs": [],
   "source": [
    "# Add another column with the country set for all rows as UK\n",
    "# Tip: Use numpy function repeat (if needed)\n",
    "# Write your code here\n",
    "import numpy as np\n"
   ]
  },
  {
   "cell_type": "code",
   "execution_count": null,
   "metadata": {
    "id": "6DVATN8uR7g-"
   },
   "outputs": [],
   "source": [
    "# Add a column with the gender of the babies\n",
    "# Assume the genders are alternating \"Male\", \"Female\"\n",
    "# e.g., Adam -> Male, Sophie -> Female, Charlie -> Male, Anna -> Female etc\n",
    "# Tip: Use the NumPy function tile if needed\n",
    "# Write your code here\n"
   ]
  },
  {
   "cell_type": "code",
   "execution_count": null,
   "metadata": {
    "id": "m262CI9qR7g-"
   },
   "outputs": [],
   "source": [
    "# Add a column that indicates for each name its percentage over the total births\n",
    "# Write your code here\n"
   ]
  },
  {
   "cell_type": "code",
   "execution_count": null,
   "metadata": {
    "id": "NuaLaXq2R7g_"
   },
   "outputs": [],
   "source": [
    "# Delete the country column\n",
    "# Write your code here\n"
   ]
  },
  {
   "cell_type": "code",
   "execution_count": null,
   "metadata": {
    "id": "rsjMFjadR7g_"
   },
   "outputs": [],
   "source": [
    "# Create and print to a new dataframe only columns Name, Births, and Percentage\n",
    "# Write your code here\n"
   ]
  },
  {
   "cell_type": "code",
   "execution_count": null,
   "metadata": {
    "id": "9o24HFsaR7g_"
   },
   "outputs": [],
   "source": [
    "# Subset the data based on index location to get the first 3 records\n",
    "# Tip: Use the iloc property of the dataframe\n",
    "# Write your code here\n"
   ]
  },
  {
   "cell_type": "code",
   "execution_count": null,
   "metadata": {
    "id": "vvxiciv-R7g_"
   },
   "outputs": [],
   "source": [
    "# Get the names that belong to female babies using the query function of a dataframe\n",
    "# Tip: Use the 'at' property of a dataframe\n",
    "# Write your code here\n"
   ]
  },
  {
   "cell_type": "code",
   "execution_count": null,
   "metadata": {
    "id": "w-_5R85JR7g_"
   },
   "outputs": [],
   "source": [
    "# Get the names that belong to female babies by slicing \n",
    "# Write your code here\n"
   ]
  },
  {
   "cell_type": "code",
   "execution_count": null,
   "metadata": {
    "id": "l6gb_HrthxZd"
   },
   "outputs": [],
   "source": [
    "# Get the names whose births are below 1000 and are male using the query function of a dataframe\n",
    "# Write your code here\n"
   ]
  },
  {
   "cell_type": "code",
   "execution_count": null,
   "metadata": {
    "id": "D0Rc41HHR7g_"
   },
   "outputs": [],
   "source": [
    "# Get the names whose births are below 1000 and are male by slicing\n",
    "# Write your code here\n"
   ]
  },
  {
   "cell_type": "code",
   "execution_count": null,
   "metadata": {
    "id": "sO4Jt5xFR7hA"
   },
   "outputs": [],
   "source": [
    "# Get the number of births groupped by gender\n",
    "# Write your code here\n"
   ]
  },
  {
   "cell_type": "code",
   "execution_count": null,
   "metadata": {
    "id": "sTDmhVY3R7hA"
   },
   "outputs": [],
   "source": [
    "# Sort the dataframe by name\n",
    "# Write your code here\n"
   ]
  },
  {
   "cell_type": "code",
   "execution_count": null,
   "metadata": {
    "id": "_fRnzIX8R7hB"
   },
   "outputs": [],
   "source": [
    "# Sort the dataframe by the number of births in descending order\n",
    "# Write your code here\n"
   ]
  },
  {
   "cell_type": "code",
   "execution_count": null,
   "metadata": {
    "id": "mHhL3d_hR7hB"
   },
   "outputs": [],
   "source": [
    "# Add a column with the county each child has been born in as given by the list below\n",
    "county = ['Yorkshire', 'Essex', 'Yorkshire', 'Yorkshire', 'Kent', 'Kent', 'Yorkshire', 'Essex']\n",
    "# Write your code here\n"
   ]
  },
  {
   "cell_type": "code",
   "execution_count": null,
   "metadata": {
    "id": "gORbNrmHR7hB"
   },
   "outputs": [],
   "source": [
    "# Group the data based on Gender and then by County\n",
    "# Write your code here\n"
   ]
  }
 ],
 "metadata": {
  "colab": {
   "name": "DAT1-PandasTutorial-Questions.ipynb",
   "provenance": []
  },
  "kernelspec": {
   "display_name": "Python 3",
   "language": "python",
   "name": "python3"
  },
  "language_info": {
   "codemirror_mode": {
    "name": "ipython",
    "version": 3
   },
   "file_extension": ".py",
   "mimetype": "text/x-python",
   "name": "python",
   "nbconvert_exporter": "python",
   "pygments_lexer": "ipython3",
   "version": "3.8.3"
  }
 },
 "nbformat": 4,
 "nbformat_minor": 1
}
