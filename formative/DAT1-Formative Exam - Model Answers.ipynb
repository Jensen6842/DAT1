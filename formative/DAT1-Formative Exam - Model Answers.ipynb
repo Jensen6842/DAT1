{
 "cells": [
  {
   "cell_type": "code",
   "execution_count": null,
   "metadata": {},
   "outputs": [],
   "source": []
  },
  {
   "cell_type": "markdown",
   "metadata": {
    "deletable": false,
    "editable": false,
    "id": "f20Rw0n20ei6",
    "run_control": {
     "frozen": true
    }
   },
   "source": [
    "# DATA 1 Formative Exam\n",
    "\n",
    "Simos Gerasimou\n",
    "\n",
    "\n",
    "### **Time Allowed:**\n",
    "Twenty-Four (24) hours\n",
    "\n",
    "### **Allocation of Marks:**\n",
    "The exam consists of four (4) questions and each question is worth 25 marks.\n",
    "\n",
    "### **Instructions:**\n",
    "Candidates should answer all questions using Jupyter Notebooks running Python 3. Failing to do so will result in a mark of 0%. All questions are independent and can be answered in any order. Specific questions have strict limits on the length of your answers; text exceeding the limit will not be marked.\n",
    "\n",
    "***"
   ]
  },
  {
   "cell_type": "code",
   "execution_count": 1,
   "metadata": {
    "executionInfo": {
     "elapsed": 705,
     "status": "ok",
     "timestamp": 1616280520554,
     "user": {
      "displayName": "Simos Gerasimou",
      "photoUrl": "https://lh3.googleusercontent.com/a-/AOh14GiyuWEDBGgnFKbsa3BAO5bWW-MwC5_V7MnUQz5JiA=s64",
      "userId": "13902192774339425778"
     },
     "user_tz": 0
    },
    "id": "Fq--cRJy0ejC"
   },
   "outputs": [],
   "source": [
    "#Preamble: Add main Python libraries\n",
    "import pandas as pd \n",
    "import seaborn as sns\n",
    "import matplotlib.pyplot as plt\n",
    "import numpy as np\n",
    "import scipy.stats as stats"
   ]
  },
  {
   "cell_type": "markdown",
   "metadata": {
    "deletable": false,
    "editable": false,
    "id": "jKAJcT5Y0ejF",
    "run_control": {
     "frozen": true
    }
   },
   "source": [
    "### **Question 1: Data Analysis (25 marks)**\n",
    "\n",
    "YorkBus, as the name suggests, is a bus company operating in Noth Yorkshire. Given the increasing fuel prices and the uncertainty in income due to the CoronaVirus, the company is interested in analysing, among others, the expenses it would incur if all services continue running normally. To do this analysis, YorkBus asked DataVision to help. \n",
    "\n",
    "You should load the dataset named \"yorkBus.csv\" and answer the following data questions using Python 3, Pandas and Matplotlib.\n"
   ]
  },
  {
   "cell_type": "markdown",
   "metadata": {
    "id": "QtG8eowL0ejG"
   },
   "source": [
    "**(i) [2 marks]** Which is the independent and which is the dependent variable?"
   ]
  },
  {
   "cell_type": "code",
   "execution_count": 2,
   "metadata": {
    "executionInfo": {
     "elapsed": 497,
     "status": "ok",
     "timestamp": 1616280522251,
     "user": {
      "displayName": "Simos Gerasimou",
      "photoUrl": "https://lh3.googleusercontent.com/a-/AOh14GiyuWEDBGgnFKbsa3BAO5bWW-MwC5_V7MnUQz5JiA=s64",
      "userId": "13902192774339425778"
     },
     "user_tz": 0
    },
    "id": "BlmwXE8n0xkY"
   },
   "outputs": [],
   "source": [
    "#### Independent: miles\n",
    "#### Dependent: cost"
   ]
  },
  {
   "cell_type": "code",
   "execution_count": 27,
   "metadata": {
    "colab": {
     "base_uri": "https://localhost:8080/",
     "height": 112
    },
    "executionInfo": {
     "elapsed": 374,
     "status": "ok",
     "timestamp": 1616280522945,
     "user": {
      "displayName": "Simos Gerasimou",
      "photoUrl": "https://lh3.googleusercontent.com/a-/AOh14GiyuWEDBGgnFKbsa3BAO5bWW-MwC5_V7MnUQz5JiA=s64",
      "userId": "13902192774339425778"
     },
     "user_tz": 0
    },
    "id": "DeVqGPpF0ejI",
    "outputId": "572f1cef-4eda-4bb8-8831-0ae3aff9ba64"
   },
   "outputs": [
    {
     "data": {
      "text/html": [
       "<div>\n",
       "<style scoped>\n",
       "    .dataframe tbody tr th:only-of-type {\n",
       "        vertical-align: middle;\n",
       "    }\n",
       "\n",
       "    .dataframe tbody tr th {\n",
       "        vertical-align: top;\n",
       "    }\n",
       "\n",
       "    .dataframe thead th {\n",
       "        text-align: right;\n",
       "    }\n",
       "</style>\n",
       "<table border=\"1\" class=\"dataframe\">\n",
       "  <thead>\n",
       "    <tr style=\"text-align: right;\">\n",
       "      <th></th>\n",
       "      <th>Period</th>\n",
       "      <th>Cost</th>\n",
       "      <th>Miles</th>\n",
       "    </tr>\n",
       "  </thead>\n",
       "  <tbody>\n",
       "    <tr>\n",
       "      <th>0</th>\n",
       "      <td>1</td>\n",
       "      <td>21390</td>\n",
       "      <td>314700</td>\n",
       "    </tr>\n",
       "    <tr>\n",
       "      <th>1</th>\n",
       "      <td>2</td>\n",
       "      <td>21260</td>\n",
       "      <td>316000</td>\n",
       "    </tr>\n",
       "  </tbody>\n",
       "</table>\n",
       "</div>"
      ],
      "text/plain": [
       "   Period   Cost   Miles\n",
       "0       1  21390  314700\n",
       "1       2  21260  316000"
      ]
     },
     "execution_count": 27,
     "metadata": {},
     "output_type": "execute_result"
    }
   ],
   "source": [
    "import pandas as pd\n",
    "busDF = pd.read_csv(\"yorkBus.csv\")\n",
    "busDF.head(2)"
   ]
  },
  {
   "cell_type": "markdown",
   "metadata": {
    "id": "dC05P7fh0ejK"
   },
   "source": [
    "**(ii) [4 marks]** Calculate the Pearson correlation coefficient. You must show your calculations, i.e., calculate the result analytically, but you may use the appropriate scipy or numpy method to check your result."
   ]
  },
  {
   "cell_type": "code",
   "execution_count": 28,
   "metadata": {
    "colab": {
     "base_uri": "https://localhost:8080/"
    },
    "executionInfo": {
     "elapsed": 460,
     "status": "ok",
     "timestamp": 1616280602531,
     "user": {
      "displayName": "Simos Gerasimou",
      "photoUrl": "https://lh3.googleusercontent.com/a-/AOh14GiyuWEDBGgnFKbsa3BAO5bWW-MwC5_V7MnUQz5JiA=s64",
      "userId": "13902192774339425778"
     },
     "user_tz": 0
    },
    "id": "WLLFIzrj0ejL",
    "outputId": "768c5827-9172-41b2-a7a5-7b3bfd4f4028"
   },
   "outputs": [
    {
     "name": "stdout",
     "output_type": "stream",
     "text": [
      "R(Method 1): 0.9728495502470614\n",
      "R(Method 2): 0.9728495502470615\n",
      "R(Method 3): 0.9728495502470612\n"
     ]
    }
   ],
   "source": [
    "import numpy as np\n",
    "import scipy.stats as stats\n",
    "\n",
    "#Analytical method\n",
    "X = (busDF[\"Miles\"]-np.mean(busDF[\"Miles\"])) \n",
    "Y = (busDF[\"Cost\"]-np.mean(busDF[\"Cost\"]))\n",
    "r1 = np.sum(X*Y)/(busDF.shape[0]-1)/np.std(busDF[\"Miles\"], ddof=1)/np.std(busDF[\"Cost\"], ddof=1)\n",
    "\n",
    "#Method 2\n",
    "r2=stats.pearsonr(busDF[\"Miles\"], busDF[\"Cost\"])\n",
    "\n",
    "#Method 3\n",
    "r3=np.corrcoef(busDF[\"Miles\"], busDF[\"Cost\"])\n",
    "\n",
    "print(\"R(Method 1):\", r1)\n",
    "print(\"R(Method 2):\", r2[0])\n",
    "print(\"R(Method 3):\", r3[0][1])"
   ]
  },
  {
   "cell_type": "markdown",
   "metadata": {
    "id": "t_LlzbzN0ejM"
   },
   "source": [
    "**(iii) [2 marks]**\n",
    "What do you think of the correlation between these two variables? What do you expect the linear regression model to be?"
   ]
  },
  {
   "cell_type": "code",
   "execution_count": 29,
   "metadata": {
    "executionInfo": {
     "elapsed": 462,
     "status": "ok",
     "timestamp": 1616280614092,
     "user": {
      "displayName": "Simos Gerasimou",
      "photoUrl": "https://lh3.googleusercontent.com/a-/AOh14GiyuWEDBGgnFKbsa3BAO5bWW-MwC5_V7MnUQz5JiA=s64",
      "userId": "13902192774339425778"
     },
     "user_tz": 0
    },
    "id": "ZRFJh9aP1NDv"
   },
   "outputs": [],
   "source": [
    "# There is a strong positive correlation between these variables. \n",
    "# The linear regression model should fit this data well."
   ]
  },
  {
   "cell_type": "markdown",
   "metadata": {
    "id": "BHhnrn0y0ejO"
   },
   "source": [
    "**(iv) [3 marks]**\n",
    "Using Python and scikit-learn, train a simple linear regression model for this data"
   ]
  },
  {
   "cell_type": "code",
   "execution_count": 31,
   "metadata": {
    "colab": {
     "base_uri": "https://localhost:8080/"
    },
    "executionInfo": {
     "elapsed": 998,
     "status": "ok",
     "timestamp": 1616280635849,
     "user": {
      "displayName": "Simos Gerasimou",
      "photoUrl": "https://lh3.googleusercontent.com/a-/AOh14GiyuWEDBGgnFKbsa3BAO5bWW-MwC5_V7MnUQz5JiA=s64",
      "userId": "13902192774339425778"
     },
     "user_tz": 0
    },
    "id": "duc_fjyf0ejO",
    "outputId": "45f82e31-c3af-4db4-eeb0-e411a3d0240a"
   },
   "outputs": [
    {
     "data": {
      "text/plain": [
       "LinearRegression()"
      ]
     },
     "execution_count": 31,
     "metadata": {},
     "output_type": "execute_result"
    }
   ],
   "source": [
    "from sklearn import linear_model\n",
    "\n",
    "#All below are equivalent and transform busDF['Miles'] into the format (2D array) \n",
    "#expected by the linear regression model. This would not be needed if we have more than one independent variables\n",
    "# busDFX = pd.DataFrame(busDF['Miles'])\n",
    "# busDFX = np.array(busDF['Miles']).reshape(-1,1)\n",
    "# busDFX = busDF['Miles'].to_numpy().reshape(-1,1)\n",
    "busDFX = [[x] for x in busDF['Miles']]\n",
    "\n",
    "busDFY = busDF['Cost']\n",
    "\n",
    "busLR = linear_model.LinearRegression()\n",
    "busLR.fit(busDFX, busDFY)"
   ]
  },
  {
   "cell_type": "markdown",
   "metadata": {
    "id": "lgtKGsVo0ejP"
   },
   "source": [
    "**(v) [3 marks]**\n",
    "Report the regression and intercept coefficients of this linear regression model. Report also the final form of the linear regression equation"
   ]
  },
  {
   "cell_type": "code",
   "execution_count": 32,
   "metadata": {
    "colab": {
     "base_uri": "https://localhost:8080/"
    },
    "executionInfo": {
     "elapsed": 496,
     "status": "ok",
     "timestamp": 1616280697191,
     "user": {
      "displayName": "Simos Gerasimou",
      "photoUrl": "https://lh3.googleusercontent.com/a-/AOh14GiyuWEDBGgnFKbsa3BAO5bWW-MwC5_V7MnUQz5JiA=s64",
      "userId": "13902192774339425778"
     },
     "user_tz": 0
    },
    "id": "v_W2aJjV0ejP",
    "outputId": "3ee953d4-acee-4c04-f7ab-1b2e8a9aa74f"
   },
   "outputs": [
    {
     "name": "stdout",
     "output_type": "stream",
     "text": [
      "α: 6496.3277278758\n",
      "β: [0.04467296]\n",
      "Cost = 6496.328 + 0.045 * Mile\n"
     ]
    }
   ],
   "source": [
    "print(\"α:\", busLR.intercept_)\n",
    "print(\"β:\", busLR.coef_)\n",
    "print(\"Cost = %.3f + %.3f * Mile\" % (busLR.intercept_, busLR.coef_))"
   ]
  },
  {
   "cell_type": "markdown",
   "metadata": {
    "id": "DrdUElJj0ejP"
   },
   "source": [
    "**(vi) [4 marks]**\n",
    "Calculate the goodness of fit  𝑅2 . You must show your calculations, i.e., calculate the result analytically, but you may use the appropriate sklearn method to check your result."
   ]
  },
  {
   "cell_type": "code",
   "execution_count": 33,
   "metadata": {
    "colab": {
     "base_uri": "https://localhost:8080/"
    },
    "executionInfo": {
     "elapsed": 475,
     "status": "ok",
     "timestamp": 1616280716130,
     "user": {
      "displayName": "Simos Gerasimou",
      "photoUrl": "https://lh3.googleusercontent.com/a-/AOh14GiyuWEDBGgnFKbsa3BAO5bWW-MwC5_V7MnUQz5JiA=s64",
      "userId": "13902192774339425778"
     },
     "user_tz": 0
    },
    "id": "ItX2GMLI0ejQ",
    "outputId": "a56ebde8-32ab-4949-d2c2-17e1e4487b82"
   },
   "outputs": [
    {
     "name": "stdout",
     "output_type": "stream",
     "text": [
      "R2 (method A): 0.9464362474159096\n",
      "R2 (method B): 0.9464362474159097\n",
      "R2 (sklearn ): 0.9464362474159097\n"
     ]
    }
   ],
   "source": [
    "from sklearn.metrics import r2_score\n",
    "\n",
    "busPredict = busLR.predict(busDFX)#pd.DataFrame(nutritionDF[\"KnowledgeScore\"]))#np.arange(min,max).reshape(-1,1))\n",
    "\n",
    "#Analytically\n",
    "ssT = [ ((busDF[\"Cost\"][i]-np.mean(busDF[\"Cost\"]))**2) for i in range(0, len(busDF[\"Cost\"]))]\n",
    "ssR = [ ((busDF[\"Cost\"][i]-busPredict[i])**2)           for i in range(0, len(busDF[\"Cost\"]))]\n",
    "ssM = [ ((busPredict[i]-np.mean(busDF[\"Cost\"]))**2)     for i in range(0, len(busDF[\"Cost\"]))]\n",
    "\n",
    "print (\"R2 (method A):\", np.sum(ssM)/np.sum(ssT))\n",
    "print (\"R2 (method B):\", 1 - np.sum(ssR)/np.sum(ssT))\n",
    "\n",
    "print('R2 (sklearn ):', r2_score(busDF[\"Cost\"], busPredict))"
   ]
  },
  {
   "cell_type": "markdown",
   "metadata": {
    "id": "7pbq8-oC0ejQ"
   },
   "source": [
    "**(vii) [5 marks]**\n",
    "Plot a scatter plot and the linear regression model. Does the plot confirm the results obtained in the previous questions? "
   ]
  },
  {
   "cell_type": "code",
   "execution_count": 34,
   "metadata": {
    "colab": {
     "base_uri": "https://localhost:8080/",
     "height": 539
    },
    "executionInfo": {
     "elapsed": 7630,
     "status": "ok",
     "timestamp": 1616280744761,
     "user": {
      "displayName": "Simos Gerasimou",
      "photoUrl": "https://lh3.googleusercontent.com/a-/AOh14GiyuWEDBGgnFKbsa3BAO5bWW-MwC5_V7MnUQz5JiA=s64",
      "userId": "13902192774339425778"
     },
     "user_tz": 0
    },
    "id": "uqGtut2M0ejR",
    "outputId": "32151f5f-92eb-4ddb-a05c-7c6085bbd873"
   },
   "outputs": [
    {
     "data": {
      "image/png": "[encoded data removed]",
      "text/plain": [
       "<Figure size 700x600 with 1 Axes>"
      ]
     },
     "metadata": {
      "needs_background": "light"
     },
     "output_type": "display_data"
    }
   ],
   "source": [
    "import matplotlib.pyplot as plt\n",
    "import seaborn as sns\n",
    "plt.subplots(figsize=(7,6), dpi=100)\n",
    "ax = sns.scatterplot(x=\"Miles\", y=\"Cost\", data=busDF, marker='o')\n",
    "ax.set_xlabel('Miles ',fontsize=15) # set x label\n",
    "ax.set_ylabel('Cost',fontsize=15,rotation=90) # set y label\n",
    "\n",
    "\n",
    "#Note: the code below support all methods used to construct busDFX in (iv)\n",
    "#      only one is needed here depending on the method use in (iv)\n",
    "if (isinstance(busDFX, np.ndarray)) or (isinstance(busDFX, list)):\n",
    "    min = np.min(busDFX)\n",
    "    max = np.max(busDFX)\n",
    "elif (isinstance(busDFX, pd.DataFrame)):\n",
    "    min = np.min(busDFX[\"Miles\"])\n",
    "    max = np.max(busDFX[\"Miles\"])\n",
    "\n",
    "busPredict = busLR.predict(np.arange(min,max).reshape(-1,1))\n",
    "ax = sns.lineplot(y=busPredict.flatten(), x=np.arange(min, max), linestyle='-', color=\"r\", label=\"A\", alpha=0.7, lw=2)"
   ]
  },
  {
   "cell_type": "markdown",
   "metadata": {
    "id": "kjbGa7Uo0ejR"
   },
   "source": [
    "**(viii) [2 marks]**\n",
    "Calculate the approximate cost of a bus that has travelled 375000 miles over a single period"
   ]
  },
  {
   "cell_type": "code",
   "execution_count": 35,
   "metadata": {
    "colab": {
     "base_uri": "https://localhost:8080/"
    },
    "executionInfo": {
     "elapsed": 475,
     "status": "ok",
     "timestamp": 1616280771036,
     "user": {
      "displayName": "Simos Gerasimou",
      "photoUrl": "https://lh3.googleusercontent.com/a-/AOh14GiyuWEDBGgnFKbsa3BAO5bWW-MwC5_V7MnUQz5JiA=s64",
      "userId": "13902192774339425778"
     },
     "user_tz": 0
    },
    "id": "ILnhqmp20ejS",
    "outputId": "dac66659-01b0-431b-e57c-8cfe6d40d4bb"
   },
   "outputs": [
    {
     "name": "stdout",
     "output_type": "stream",
     "text": [
      "Cost: 23248.702\n",
      "Cost (confirmation): [23248.68719429]\n"
     ]
    }
   ],
   "source": [
    "milesX = np.array([[375000]])\n",
    "\n",
    "C = 6496.327 + 0.044673 * milesX[0][0]\n",
    "print(\"Cost:\", C)\n",
    "\n",
    "print(\"Cost (confirmation):\", busLR.predict(milesX))"
   ]
  },
  {
   "cell_type": "markdown",
   "metadata": {
    "id": "a7N7nCJX0ejS"
   },
   "source": [
    "---"
   ]
  },
  {
   "cell_type": "markdown",
   "metadata": {
    "deletable": false,
    "editable": false,
    "id": "Ddu4ENki0ejS",
    "run_control": {
     "frozen": true
    }
   },
   "source": [
    "### **Question 2: Data Processing (25 marks)**\n",
    "\n",
    "Netflix is a media-services provider and production company. The company's primary business is its subscription-based streaming service which offers online streaming of a library of films and television programs, including those produced in-house.\n",
    "\n",
    "DataVision has been recruited to analyse the data about TV shows and movies available on Netflix.\n",
    "\n",
    "\n",
    "You should use the dataset named \"netflix.csv\" and answer the following data questions using Python 3, Pandas and Matplotlib."
   ]
  },
  {
   "cell_type": "markdown",
   "metadata": {
    "deletable": false,
    "editable": false,
    "id": "do6n6es40ejT",
    "run_control": {
     "frozen": true
    }
   },
   "source": [
    "**(i) [2 marks]**\n",
    "What is the shape of the dataset?"
   ]
  },
  {
   "cell_type": "code",
   "execution_count": 36,
   "metadata": {
    "colab": {
     "base_uri": "https://localhost:8080/",
     "height": 182
    },
    "executionInfo": {
     "elapsed": 435,
     "status": "ok",
     "timestamp": 1616280846450,
     "user": {
      "displayName": "Simos Gerasimou",
      "photoUrl": "https://lh3.googleusercontent.com/a-/AOh14GiyuWEDBGgnFKbsa3BAO5bWW-MwC5_V7MnUQz5JiA=s64",
      "userId": "13902192774339425778"
     },
     "user_tz": 0
    },
    "id": "vaZBZpDc0ejT",
    "outputId": "0bd1195b-6d64-45dc-a7cd-bf707301694c"
   },
   "outputs": [
    {
     "name": "stdout",
     "output_type": "stream",
     "text": [
      "Shape:  (6234, 12)\n"
     ]
    },
    {
     "data": {
      "text/html": [
       "<div>\n",
       "<style scoped>\n",
       "    .dataframe tbody tr th:only-of-type {\n",
       "        vertical-align: middle;\n",
       "    }\n",
       "\n",
       "    .dataframe tbody tr th {\n",
       "        vertical-align: top;\n",
       "    }\n",
       "\n",
       "    .dataframe thead th {\n",
       "        text-align: right;\n",
       "    }\n",
       "</style>\n",
       "<table border=\"1\" class=\"dataframe\">\n",
       "  <thead>\n",
       "    <tr style=\"text-align: right;\">\n",
       "      <th></th>\n",
       "      <th>show_id</th>\n",
       "      <th>type</th>\n",
       "      <th>title</th>\n",
       "      <th>director</th>\n",
       "      <th>cast</th>\n",
       "      <th>country</th>\n",
       "      <th>date_added</th>\n",
       "      <th>release_year</th>\n",
       "      <th>rating</th>\n",
       "      <th>duration</th>\n",
       "      <th>listed_in</th>\n",
       "      <th>description</th>\n",
       "    </tr>\n",
       "  </thead>\n",
       "  <tbody>\n",
       "    <tr>\n",
       "      <th>0</th>\n",
       "      <td>81145628</td>\n",
       "      <td>Movie</td>\n",
       "      <td>Norm of the North: King Sized Adventure</td>\n",
       "      <td>Richard Finn, Tim Maltby</td>\n",
       "      <td>Alan Marriott, Andrew Toth, Brian Dobson, Cole...</td>\n",
       "      <td>United States, India, South Korea, China</td>\n",
       "      <td>September 9, 2019</td>\n",
       "      <td>2019</td>\n",
       "      <td>TV-PG</td>\n",
       "      <td>90 min</td>\n",
       "      <td>Children &amp; Family Movies, Comedies</td>\n",
       "      <td>Before planning an awesome wedding for his gra...</td>\n",
       "    </tr>\n",
       "    <tr>\n",
       "      <th>1</th>\n",
       "      <td>80117401</td>\n",
       "      <td>Movie</td>\n",
       "      <td>Jandino: Whatever it Takes</td>\n",
       "      <td>NaN</td>\n",
       "      <td>Jandino Asporaat</td>\n",
       "      <td>United Kingdom</td>\n",
       "      <td>September 9, 2016</td>\n",
       "      <td>2016</td>\n",
       "      <td>TV-MA</td>\n",
       "      <td>94 min</td>\n",
       "      <td>Stand-Up Comedy</td>\n",
       "      <td>Jandino Asporaat riffs on the challenges of ra...</td>\n",
       "    </tr>\n",
       "  </tbody>\n",
       "</table>\n",
       "</div>"
      ],
      "text/plain": [
       "    show_id   type                                    title  \\\n",
       "0  81145628  Movie  Norm of the North: King Sized Adventure   \n",
       "1  80117401  Movie               Jandino: Whatever it Takes   \n",
       "\n",
       "                   director  \\\n",
       "0  Richard Finn, Tim Maltby   \n",
       "1                       NaN   \n",
       "\n",
       "                                                cast  \\\n",
       "0  Alan Marriott, Andrew Toth, Brian Dobson, Cole...   \n",
       "1                                   Jandino Asporaat   \n",
       "\n",
       "                                    country         date_added  release_year  \\\n",
       "0  United States, India, South Korea, China  September 9, 2019          2019   \n",
       "1                            United Kingdom  September 9, 2016          2016   \n",
       "\n",
       "  rating duration                           listed_in  \\\n",
       "0  TV-PG   90 min  Children & Family Movies, Comedies   \n",
       "1  TV-MA   94 min                     Stand-Up Comedy   \n",
       "\n",
       "                                         description  \n",
       "0  Before planning an awesome wedding for his gra...  \n",
       "1  Jandino Asporaat riffs on the challenges of ra...  "
      ]
     },
     "execution_count": 36,
     "metadata": {},
     "output_type": "execute_result"
    }
   ],
   "source": [
    "netflixDF = pd.read_csv(\"netflix.csv\")\n",
    "print(\"Shape: \", netflixDF.shape)\n",
    "netflixDF.head(2)"
   ]
  },
  {
   "cell_type": "markdown",
   "metadata": {
    "deletable": false,
    "editable": false,
    "id": "u5-DE2sr0ejU",
    "run_control": {
     "frozen": true
    }
   },
   "source": [
    "**(ii) [3 marks]**\n",
    "What does each column means and which is its datatype?"
   ]
  },
  {
   "cell_type": "code",
   "execution_count": 37,
   "metadata": {
    "executionInfo": {
     "elapsed": 444,
     "status": "ok",
     "timestamp": 1616280880673,
     "user": {
      "displayName": "Simos Gerasimou",
      "photoUrl": "https://lh3.googleusercontent.com/a-/AOh14GiyuWEDBGgnFKbsa3BAO5bWW-MwC5_V7MnUQz5JiA=s64",
      "userId": "13902192774339425778"
     },
     "user_tz": 0
    },
    "id": "jMVHWFEO2LLp"
   },
   "outputs": [],
   "source": [
    "# * show_id (Numerical - discrete): unique show ID\n",
    "# * type (categorical - nominal): show (content) type (TV show or movie)\n",
    "# * title (Text): show title\n",
    "# * director (Text): show director\n",
    "# * cast (Text): list of actors in the show\n",
    "# * country (Categorical - nominal): list of countries where the show was produced\n",
    "# * data_added (Date): date added on Netflix\n",
    "# * release_year (Numerical - discrete): release year of the show\n",
    "# * rating (Categorical - ordinal): TV rating of the show (TV parental guidelines)\n",
    "# * duration (Text): total show duration in minutes (or number of seasons)\n",
    "# * listed_in (Categorical - nominal): genres of the show\n",
    "# * description (Text): brief sumarry of the show "
   ]
  },
  {
   "cell_type": "code",
   "execution_count": 38,
   "metadata": {
    "colab": {
     "base_uri": "https://localhost:8080/"
    },
    "executionInfo": {
     "elapsed": 518,
     "status": "ok",
     "timestamp": 1616280886353,
     "user": {
      "displayName": "Simos Gerasimou",
      "photoUrl": "https://lh3.googleusercontent.com/a-/AOh14GiyuWEDBGgnFKbsa3BAO5bWW-MwC5_V7MnUQz5JiA=s64",
      "userId": "13902192774339425778"
     },
     "user_tz": 0
    },
    "id": "NjWQsftT0ejU",
    "outputId": "d8193e08-21bb-436e-b5c9-61fa9f45e036"
   },
   "outputs": [
    {
     "name": "stdout",
     "output_type": "stream",
     "text": [
      "<class 'pandas.core.frame.DataFrame'>\n",
      "RangeIndex: 6234 entries, 0 to 6233\n",
      "Data columns (total 12 columns):\n",
      " #   Column        Non-Null Count  Dtype \n",
      "---  ------        --------------  ----- \n",
      " 0   show_id       6234 non-null   int64 \n",
      " 1   type          6234 non-null   object\n",
      " 2   title         6234 non-null   object\n",
      " 3   director      4265 non-null   object\n",
      " 4   cast          5664 non-null   object\n",
      " 5   country       5758 non-null   object\n",
      " 6   date_added    6223 non-null   object\n",
      " 7   release_year  6234 non-null   int64 \n",
      " 8   rating        6224 non-null   object\n",
      " 9   duration      6234 non-null   object\n",
      " 10  listed_in     6234 non-null   object\n",
      " 11  description   6234 non-null   object\n",
      "dtypes: int64(2), object(10)\n",
      "memory usage: 584.6+ KB\n"
     ]
    }
   ],
   "source": [
    "netflixDF.info()"
   ]
  },
  {
   "cell_type": "markdown",
   "metadata": {
    "deletable": false,
    "editable": false,
    "id": "UPAzTJSB0ejU",
    "run_control": {
     "frozen": true
    }
   },
   "source": [
    "**(iii) [2 marks]**\n",
    "Is there any missing data? Show the number of missing data per column."
   ]
  },
  {
   "cell_type": "code",
   "execution_count": 39,
   "metadata": {
    "colab": {
     "base_uri": "https://localhost:8080/",
     "height": 426
    },
    "executionInfo": {
     "elapsed": 498,
     "status": "ok",
     "timestamp": 1616280895790,
     "user": {
      "displayName": "Simos Gerasimou",
      "photoUrl": "https://lh3.googleusercontent.com/a-/AOh14GiyuWEDBGgnFKbsa3BAO5bWW-MwC5_V7MnUQz5JiA=s64",
      "userId": "13902192774339425778"
     },
     "user_tz": 0
    },
    "id": "l6rAQ1KX0ejU",
    "outputId": "fe2c9a55-a1ef-4e85-d133-696ae89dc277"
   },
   "outputs": [
    {
     "data": {
      "text/html": [
       "<div>\n",
       "<style scoped>\n",
       "    .dataframe tbody tr th:only-of-type {\n",
       "        vertical-align: middle;\n",
       "    }\n",
       "\n",
       "    .dataframe tbody tr th {\n",
       "        vertical-align: top;\n",
       "    }\n",
       "\n",
       "    .dataframe thead th {\n",
       "        text-align: right;\n",
       "    }\n",
       "</style>\n",
       "<table border=\"1\" class=\"dataframe\">\n",
       "  <thead>\n",
       "    <tr style=\"text-align: right;\">\n",
       "      <th></th>\n",
       "      <th>Missing</th>\n",
       "      <th>Percentage</th>\n",
       "    </tr>\n",
       "  </thead>\n",
       "  <tbody>\n",
       "    <tr>\n",
       "      <th>director</th>\n",
       "      <td>1969</td>\n",
       "      <td>0.315849</td>\n",
       "    </tr>\n",
       "    <tr>\n",
       "      <th>cast</th>\n",
       "      <td>570</td>\n",
       "      <td>0.091434</td>\n",
       "    </tr>\n",
       "    <tr>\n",
       "      <th>country</th>\n",
       "      <td>476</td>\n",
       "      <td>0.076355</td>\n",
       "    </tr>\n",
       "    <tr>\n",
       "      <th>date_added</th>\n",
       "      <td>11</td>\n",
       "      <td>0.001765</td>\n",
       "    </tr>\n",
       "    <tr>\n",
       "      <th>rating</th>\n",
       "      <td>10</td>\n",
       "      <td>0.001604</td>\n",
       "    </tr>\n",
       "    <tr>\n",
       "      <th>description</th>\n",
       "      <td>0</td>\n",
       "      <td>0.000000</td>\n",
       "    </tr>\n",
       "    <tr>\n",
       "      <th>listed_in</th>\n",
       "      <td>0</td>\n",
       "      <td>0.000000</td>\n",
       "    </tr>\n",
       "    <tr>\n",
       "      <th>duration</th>\n",
       "      <td>0</td>\n",
       "      <td>0.000000</td>\n",
       "    </tr>\n",
       "    <tr>\n",
       "      <th>release_year</th>\n",
       "      <td>0</td>\n",
       "      <td>0.000000</td>\n",
       "    </tr>\n",
       "    <tr>\n",
       "      <th>title</th>\n",
       "      <td>0</td>\n",
       "      <td>0.000000</td>\n",
       "    </tr>\n",
       "    <tr>\n",
       "      <th>type</th>\n",
       "      <td>0</td>\n",
       "      <td>0.000000</td>\n",
       "    </tr>\n",
       "    <tr>\n",
       "      <th>show_id</th>\n",
       "      <td>0</td>\n",
       "      <td>0.000000</td>\n",
       "    </tr>\n",
       "  </tbody>\n",
       "</table>\n",
       "</div>"
      ],
      "text/plain": [
       "              Missing  Percentage\n",
       "director         1969    0.315849\n",
       "cast              570    0.091434\n",
       "country           476    0.076355\n",
       "date_added         11    0.001765\n",
       "rating             10    0.001604\n",
       "description         0    0.000000\n",
       "listed_in           0    0.000000\n",
       "duration            0    0.000000\n",
       "release_year        0    0.000000\n",
       "title               0    0.000000\n",
       "type                0    0.000000\n",
       "show_id             0    0.000000"
      ]
     },
     "execution_count": 39,
     "metadata": {},
     "output_type": "execute_result"
    }
   ],
   "source": [
    "# Get the missing data and sort it in ascending order\n",
    "missingDataSummary    = netflixDF.isna().sum().sort_values(ascending=False)\n",
    "# Calculate the percentage of missing data\n",
    "missingDataPercentage = (netflixDF.isnull().sum()/netflixDF.isnull().count()).sort_values(ascending=False)\n",
    "# Concatenate the two Series\n",
    "missingData = pd.concat([missingDataSummary, missingDataPercentage], axis=1, keys=['Missing', 'Percentage'])\n",
    "missingData"
   ]
  },
  {
   "cell_type": "markdown",
   "metadata": {
    "deletable": false,
    "editable": false,
    "id": "GPrXBKPP0ejV",
    "run_control": {
     "frozen": true
    }
   },
   "source": [
    "**(iv) [3 marks]**\n",
    "DataVision's policy is to remove any column of which more than 5% of the data is missing. Remove the appropriate columns. "
   ]
  },
  {
   "cell_type": "code",
   "execution_count": 40,
   "metadata": {
    "colab": {
     "base_uri": "https://localhost:8080/"
    },
    "executionInfo": {
     "elapsed": 484,
     "status": "ok",
     "timestamp": 1616280907871,
     "user": {
      "displayName": "Simos Gerasimou",
      "photoUrl": "https://lh3.googleusercontent.com/a-/AOh14GiyuWEDBGgnFKbsa3BAO5bWW-MwC5_V7MnUQz5JiA=s64",
      "userId": "13902192774339425778"
     },
     "user_tz": 0
    },
    "id": "wWSeK7X40ejV",
    "outputId": "8b0374fa-5a5a-4784-bd10-90bed4f16a93"
   },
   "outputs": [
    {
     "data": {
      "text/plain": [
       "date_added      11\n",
       "rating          10\n",
       "description      0\n",
       "listed_in        0\n",
       "duration         0\n",
       "release_year     0\n",
       "title            0\n",
       "type             0\n",
       "show_id          0\n",
       "dtype: int64"
      ]
     },
     "execution_count": 40,
     "metadata": {},
     "output_type": "execute_result"
    }
   ],
   "source": [
    "#We need to remove the columns director, cast, country\n",
    "nfClean = netflixDF.drop(columns=['director', 'cast', 'country'])\n",
    "nfClean.isna().sum().sort_values(ascending=False)"
   ]
  },
  {
   "cell_type": "markdown",
   "metadata": {
    "id": "h4kL9Cv70ejW"
   },
   "source": [
    "**(v) [4 marks]**\n",
    "For the remaining columns with missing data, apply the most appropriate imputation method to eliminate the missing data"
   ]
  },
  {
   "cell_type": "code",
   "execution_count": 41,
   "metadata": {
    "colab": {
     "base_uri": "https://localhost:8080/"
    },
    "executionInfo": {
     "elapsed": 504,
     "status": "ok",
     "timestamp": 1616280934979,
     "user": {
      "displayName": "Simos Gerasimou",
      "photoUrl": "https://lh3.googleusercontent.com/a-/AOh14GiyuWEDBGgnFKbsa3BAO5bWW-MwC5_V7MnUQz5JiA=s64",
      "userId": "13902192774339425778"
     },
     "user_tz": 0
    },
    "id": "FLSf8ck20ejW",
    "outputId": "5341ba74-fa0f-4f69-ac8e-9ddd04b95dc8"
   },
   "outputs": [
    {
     "data": {
      "text/plain": [
       "description     0\n",
       "listed_in       0\n",
       "duration        0\n",
       "rating          0\n",
       "release_year    0\n",
       "date_added      0\n",
       "title           0\n",
       "type            0\n",
       "show_id         0\n",
       "dtype: int64"
      ]
     },
     "execution_count": 41,
     "metadata": {},
     "output_type": "execute_result"
    }
   ],
   "source": [
    "#Both for rating and date_added we can use the mode to impute the missing data\n",
    "nfClean['date_added'] = nfClean['date_added'].fillna(nfClean['date_added'].mode()[0])\n",
    "nfClean['rating'] = nfClean['rating'].fillna(nfClean['rating'].mode()[0])\n",
    "nfClean.isna().sum().sort_values(ascending=False)"
   ]
  },
  {
   "cell_type": "markdown",
   "metadata": {
    "id": "USYldYCg0ejX"
   },
   "source": [
    "**(vi) [3 marks]**\n",
    "What is the ratio between the different types of content available on Netflix? Plot a bar chart to illustrate this."
   ]
  },
  {
   "cell_type": "code",
   "execution_count": 44,
   "metadata": {
    "colab": {
     "base_uri": "https://localhost:8080/",
     "height": 611
    },
    "executionInfo": {
     "elapsed": 608,
     "status": "ok",
     "timestamp": 1616280950966,
     "user": {
      "displayName": "Simos Gerasimou",
      "photoUrl": "https://lh3.googleusercontent.com/a-/AOh14GiyuWEDBGgnFKbsa3BAO5bWW-MwC5_V7MnUQz5JiA=s64",
      "userId": "13902192774339425778"
     },
     "user_tz": 0
    },
    "id": "fe5touo30ejX",
    "outputId": "059b515f-3018-4996-fc98-b0714d3e8a8e"
   },
   "outputs": [
    {
     "data": {
      "text/plain": [
       "Text(0, 0.5, 'Number')"
      ]
     },
     "execution_count": 44,
     "metadata": {},
     "output_type": "execute_result"
    },
    {
     "data": {
      "image/png": "[encoded data removed]",
      "text/plain": [
       "<Figure size 400x300 with 1 Axes>"
      ]
     },
     "metadata": {
      "needs_background": "light"
     },
     "output_type": "display_data"
    }
   ],
   "source": [
    "#Using seaborn\n",
    "plt.subplots(figsize=(4,3), dpi=100)\n",
    "ax = sns.countplot(data=nfClean, x='type')\n",
    "ax.set_xlabel('Content type ',fontsize=15) # set x label\n",
    "ax.set_ylabel('Number',fontsize=15,rotation=90) # set y label"
   ]
  },
  {
   "cell_type": "markdown",
   "metadata": {
    "id": "WFo9CNTH0ejX"
   },
   "source": [
    "**(vii) [4 marks]**\n",
    "Plot a density graph that shows the distribution of content added per year. What do you infer from this plot?"
   ]
  },
  {
   "cell_type": "code",
   "execution_count": 59,
   "metadata": {
    "colab": {
     "base_uri": "https://localhost:8080/",
     "height": 633
    },
    "executionInfo": {
     "elapsed": 990,
     "status": "ok",
     "timestamp": 1616280973139,
     "user": {
      "displayName": "Simos Gerasimou",
      "photoUrl": "https://lh3.googleusercontent.com/a-/AOh14GiyuWEDBGgnFKbsa3BAO5bWW-MwC5_V7MnUQz5JiA=s64",
      "userId": "13902192774339425778"
     },
     "user_tz": 0
    },
    "id": "Khl_L1hS0ejX",
    "outputId": "f078c8e4-add2-4937-be51-369090a4adaa"
   },
   "outputs": [
    {
     "name": "stdout",
     "output_type": "stream",
     "text": [
      "The distribution is left skewed showing that the majority of content on Netflix has been released within the last 15 years.\n"
     ]
    },
    {
     "data": {
      "image/png": "[encoded data removed]",
      "text/plain": [
       "<Figure size 400x300 with 1 Axes>"
      ]
     },
     "metadata": {
      "needs_background": "light"
     },
     "output_type": "display_data"
    }
   ],
   "source": [
    "plt.subplots(figsize=(4,3), dpi=100)\n",
    "\n",
    "#This will be deprecated \n",
    "# ax = sns.distplot(nfClean[\"release_year\"], color=\"blue\", label=\"Release Year\", hist=True, kde_kws={\"shade\": True})\n",
    "g = sns.histplot(nfClean, x='release_year', kde=True, color='steelblue', bins=30, label=\"Release Year\")\n",
    "\n",
    "g.set_title('Netflix Content Release')\n",
    "g.set_xlabel('Release Year',fontsize=15) # set x label\n",
    "g.set_ylabel('pdf(Year)',fontsize=15,rotation=90) # set y label\n",
    "g.legend()\n",
    "\n",
    "print(\"The distribution is left skewed showing that the majority of content on Netflix has been released within the last 15 years.\")"
   ]
  },
  {
   "cell_type": "markdown",
   "metadata": {
    "id": "OLK_J47v0ejY"
   },
   "source": [
    "**(viii) [4 marks]**\n",
    "Find the 10 oldest tv shows on Netflix."
   ]
  },
  {
   "cell_type": "code",
   "execution_count": 61,
   "metadata": {
    "colab": {
     "base_uri": "https://localhost:8080/",
     "height": 537
    },
    "executionInfo": {
     "elapsed": 517,
     "status": "ok",
     "timestamp": 1616281001983,
     "user": {
      "displayName": "Simos Gerasimou",
      "photoUrl": "https://lh3.googleusercontent.com/a-/AOh14GiyuWEDBGgnFKbsa3BAO5bWW-MwC5_V7MnUQz5JiA=s64",
      "userId": "13902192774339425778"
     },
     "user_tz": 0
    },
    "id": "tbBlqNN20ejY",
    "outputId": "2b60fb62-83d6-46df-d4fc-6c83e8b257ef"
   },
   "outputs": [
    {
     "data": {
      "text/html": [
       "<div>\n",
       "<style scoped>\n",
       "    .dataframe tbody tr th:only-of-type {\n",
       "        vertical-align: middle;\n",
       "    }\n",
       "\n",
       "    .dataframe tbody tr th {\n",
       "        vertical-align: top;\n",
       "    }\n",
       "\n",
       "    .dataframe thead th {\n",
       "        text-align: right;\n",
       "    }\n",
       "</style>\n",
       "<table border=\"1\" class=\"dataframe\">\n",
       "  <thead>\n",
       "    <tr style=\"text-align: right;\">\n",
       "      <th></th>\n",
       "      <th>show_id</th>\n",
       "      <th>type</th>\n",
       "      <th>title</th>\n",
       "      <th>date_added</th>\n",
       "      <th>release_year</th>\n",
       "      <th>rating</th>\n",
       "      <th>duration</th>\n",
       "      <th>listed_in</th>\n",
       "      <th>description</th>\n",
       "    </tr>\n",
       "  </thead>\n",
       "  <tbody>\n",
       "    <tr>\n",
       "      <th>4292</th>\n",
       "      <td>81030762</td>\n",
       "      <td>TV Show</td>\n",
       "      <td>Pioneers: First Women Filmmakers*</td>\n",
       "      <td>December 30, 2018</td>\n",
       "      <td>1925</td>\n",
       "      <td>TV-PG</td>\n",
       "      <td>1 Season</td>\n",
       "      <td>TV Shows</td>\n",
       "      <td>This collection restores films from women who ...</td>\n",
       "    </tr>\n",
       "    <tr>\n",
       "      <th>4079</th>\n",
       "      <td>80161851</td>\n",
       "      <td>TV Show</td>\n",
       "      <td>Pioneers of African-American Cinema</td>\n",
       "      <td>February 1, 2017</td>\n",
       "      <td>1946</td>\n",
       "      <td>TV-14</td>\n",
       "      <td>1 Season</td>\n",
       "      <td>TV Shows</td>\n",
       "      <td>This newly preserved collection features more ...</td>\n",
       "    </tr>\n",
       "    <tr>\n",
       "      <th>5981</th>\n",
       "      <td>70172488</td>\n",
       "      <td>TV Show</td>\n",
       "      <td>The Twilight Zone (Original Series)</td>\n",
       "      <td>July 1, 2017</td>\n",
       "      <td>1963</td>\n",
       "      <td>TV-PG</td>\n",
       "      <td>4 Seasons</td>\n",
       "      <td>Classic &amp; Cult TV, TV Sci-Fi &amp; Fantasy</td>\n",
       "      <td>Hosted by creator Rod Serling, this groundbrea...</td>\n",
       "    </tr>\n",
       "    <tr>\n",
       "      <th>5980</th>\n",
       "      <td>70155574</td>\n",
       "      <td>TV Show</td>\n",
       "      <td>The Andy Griffith Show</td>\n",
       "      <td>July 1, 2017</td>\n",
       "      <td>1967</td>\n",
       "      <td>TV-G</td>\n",
       "      <td>8 Seasons</td>\n",
       "      <td>Classic &amp; Cult TV, TV Comedies</td>\n",
       "      <td>Homespun humor and easygoing Sheriff Andy Tayl...</td>\n",
       "    </tr>\n",
       "    <tr>\n",
       "      <th>5704</th>\n",
       "      <td>70136140</td>\n",
       "      <td>TV Show</td>\n",
       "      <td>Star Trek</td>\n",
       "      <td>October 1, 2017</td>\n",
       "      <td>1968</td>\n",
       "      <td>TV-PG</td>\n",
       "      <td>3 Seasons</td>\n",
       "      <td>Classic &amp; Cult TV, TV Action &amp; Adventure, TV S...</td>\n",
       "      <td>Led by unflappable Capt. Kirk, the crew of the...</td>\n",
       "    </tr>\n",
       "    <tr>\n",
       "      <th>614</th>\n",
       "      <td>80236357</td>\n",
       "      <td>TV Show</td>\n",
       "      <td>Monty Python's Fliegender Zirkus</td>\n",
       "      <td>October 2, 2018</td>\n",
       "      <td>1972</td>\n",
       "      <td>TV-14</td>\n",
       "      <td>1 Season</td>\n",
       "      <td>International TV Shows, TV Comedies</td>\n",
       "      <td>The Pythons elevate the absurd to new heights ...</td>\n",
       "    </tr>\n",
       "    <tr>\n",
       "      <th>5669</th>\n",
       "      <td>70213238</td>\n",
       "      <td>TV Show</td>\n",
       "      <td>Monty Python's Flying Circus</td>\n",
       "      <td>October 2, 2018</td>\n",
       "      <td>1974</td>\n",
       "      <td>NR</td>\n",
       "      <td>4 Seasons</td>\n",
       "      <td>British TV Shows, Classic &amp; Cult TV, Internati...</td>\n",
       "      <td>The Monty Python players make their mark with ...</td>\n",
       "    </tr>\n",
       "    <tr>\n",
       "      <th>5830</th>\n",
       "      <td>80244567</td>\n",
       "      <td>TV Show</td>\n",
       "      <td>Dad's Army</td>\n",
       "      <td>March 31, 2018</td>\n",
       "      <td>1977</td>\n",
       "      <td>TV-PG</td>\n",
       "      <td>10 Seasons</td>\n",
       "      <td>British TV Shows, Classic &amp; Cult TV, TV Comedies</td>\n",
       "      <td>This beloved sitcom follows the unlikely heroe...</td>\n",
       "    </tr>\n",
       "    <tr>\n",
       "      <th>4273</th>\n",
       "      <td>70205634</td>\n",
       "      <td>TV Show</td>\n",
       "      <td>El Chavo</td>\n",
       "      <td>December 31, 2017</td>\n",
       "      <td>1979</td>\n",
       "      <td>TV-PG</td>\n",
       "      <td>1 Season</td>\n",
       "      <td>Classic &amp; Cult TV, Kids' TV, Spanish-Language ...</td>\n",
       "      <td>El Chavo is a poor, nameless orphan who lives ...</td>\n",
       "    </tr>\n",
       "    <tr>\n",
       "      <th>4369</th>\n",
       "      <td>80153226</td>\n",
       "      <td>TV Show</td>\n",
       "      <td>Ninja Hattori</td>\n",
       "      <td>December 23, 2018</td>\n",
       "      <td>1981</td>\n",
       "      <td>TV-Y7</td>\n",
       "      <td>1 Season</td>\n",
       "      <td>Anime Series, Kids' TV</td>\n",
       "      <td>Elementary school student Kenichi Mitsuba's ho...</td>\n",
       "    </tr>\n",
       "  </tbody>\n",
       "</table>\n",
       "</div>"
      ],
      "text/plain": [
       "       show_id     type                                title  \\\n",
       "4292  81030762  TV Show    Pioneers: First Women Filmmakers*   \n",
       "4079  80161851  TV Show  Pioneers of African-American Cinema   \n",
       "5981  70172488  TV Show  The Twilight Zone (Original Series)   \n",
       "5980  70155574  TV Show               The Andy Griffith Show   \n",
       "5704  70136140  TV Show                            Star Trek   \n",
       "614   80236357  TV Show     Monty Python's Fliegender Zirkus   \n",
       "5669  70213238  TV Show         Monty Python's Flying Circus   \n",
       "5830  80244567  TV Show                           Dad's Army   \n",
       "4273  70205634  TV Show                             El Chavo   \n",
       "4369  80153226  TV Show                        Ninja Hattori   \n",
       "\n",
       "             date_added  release_year rating    duration  \\\n",
       "4292  December 30, 2018          1925  TV-PG    1 Season   \n",
       "4079   February 1, 2017          1946  TV-14    1 Season   \n",
       "5981       July 1, 2017          1963  TV-PG   4 Seasons   \n",
       "5980       July 1, 2017          1967   TV-G   8 Seasons   \n",
       "5704    October 1, 2017          1968  TV-PG   3 Seasons   \n",
       "614     October 2, 2018          1972  TV-14    1 Season   \n",
       "5669    October 2, 2018          1974     NR   4 Seasons   \n",
       "5830     March 31, 2018          1977  TV-PG  10 Seasons   \n",
       "4273  December 31, 2017          1979  TV-PG    1 Season   \n",
       "4369  December 23, 2018          1981  TV-Y7    1 Season   \n",
       "\n",
       "                                              listed_in  \\\n",
       "4292                                           TV Shows   \n",
       "4079                                           TV Shows   \n",
       "5981             Classic & Cult TV, TV Sci-Fi & Fantasy   \n",
       "5980                     Classic & Cult TV, TV Comedies   \n",
       "5704  Classic & Cult TV, TV Action & Adventure, TV S...   \n",
       "614                 International TV Shows, TV Comedies   \n",
       "5669  British TV Shows, Classic & Cult TV, Internati...   \n",
       "5830   British TV Shows, Classic & Cult TV, TV Comedies   \n",
       "4273  Classic & Cult TV, Kids' TV, Spanish-Language ...   \n",
       "4369                             Anime Series, Kids' TV   \n",
       "\n",
       "                                            description  \n",
       "4292  This collection restores films from women who ...  \n",
       "4079  This newly preserved collection features more ...  \n",
       "5981  Hosted by creator Rod Serling, this groundbrea...  \n",
       "5980  Homespun humor and easygoing Sheriff Andy Tayl...  \n",
       "5704  Led by unflappable Capt. Kirk, the crew of the...  \n",
       "614   The Pythons elevate the absurd to new heights ...  \n",
       "5669  The Monty Python players make their mark with ...  \n",
       "5830  This beloved sitcom follows the unlikely heroe...  \n",
       "4273  El Chavo is a poor, nameless orphan who lives ...  \n",
       "4369  Elementary school student Kenichi Mitsuba's ho...  "
      ]
     },
     "execution_count": 61,
     "metadata": {},
     "output_type": "execute_result"
    }
   ],
   "source": [
    "nfOldest = nfClean.sort_values(\"release_year\", ascending = True)\n",
    "nfOldest [nfOldest['type']==\"TV Show\"][:10]"
   ]
  },
  {
   "cell_type": "markdown",
   "metadata": {
    "deletable": false,
    "editable": false,
    "id": "k26UPO_X0ejZ",
    "run_control": {
     "frozen": true
    }
   },
   "source": [
    "---"
   ]
  },
  {
   "cell_type": "markdown",
   "metadata": {
    "id": "rsspK_gE0ejZ"
   },
   "source": [
    "### **Question 3: Inferential Analysis (25 marks)**"
   ]
  },
  {
   "cell_type": "markdown",
   "metadata": {
    "id": "tSeogjkB0ejZ"
   },
   "source": [
    "**Part A** \n",
    "\n",
    "York City Knights, York's professional rugby league club, wants to assess whether a new diet the team has been using helped rugby players to increase their muscle size. DataVision has collected data for 20 rugby players before and after using the diet.\n",
    "\n",
    "You should use the dataset named \"rugby.csv\"and answer the following data questions using Python 3, Pandas and Matplotlib.\n"
   ]
  },
  {
   "cell_type": "markdown",
   "metadata": {
    "id": "JdemkKfL0ejZ"
   },
   "source": [
    "**(i) [3 marks]**\n",
    "State the Null and Alternative hypotheses, reporting the variables that will be used for evaluating the hypotheses"
   ]
  },
  {
   "cell_type": "code",
   "execution_count": 62,
   "metadata": {
    "executionInfo": {
     "elapsed": 532,
     "status": "ok",
     "timestamp": 1616281087913,
     "user": {
      "displayName": "Simos Gerasimou",
      "photoUrl": "https://lh3.googleusercontent.com/a-/AOh14GiyuWEDBGgnFKbsa3BAO5bWW-MwC5_V7MnUQz5JiA=s64",
      "userId": "13902192774339425778"
     },
     "user_tz": 0
    },
    "id": "gvhGLKzp0ejZ"
   },
   "outputs": [],
   "source": [
    "# x_b: muscle size before\n",
    "# x_a: muscle size after\n",
    "#H0: x_b = x_a\n",
    "#H1: x_b != x_a"
   ]
  },
  {
   "cell_type": "markdown",
   "metadata": {
    "id": "YZyz2iye0ejZ"
   },
   "source": [
    "**(ii) [2 marks]**\n",
    "Calculate the degrees of freedom"
   ]
  },
  {
   "cell_type": "code",
   "execution_count": 63,
   "metadata": {
    "colab": {
     "base_uri": "https://localhost:8080/",
     "height": 129
    },
    "executionInfo": {
     "elapsed": 469,
     "status": "ok",
     "timestamp": 1616281093411,
     "user": {
      "displayName": "Simos Gerasimou",
      "photoUrl": "https://lh3.googleusercontent.com/a-/AOh14GiyuWEDBGgnFKbsa3BAO5bWW-MwC5_V7MnUQz5JiA=s64",
      "userId": "13902192774339425778"
     },
     "user_tz": 0
    },
    "id": "KO8kbfO60ejZ",
    "outputId": "ec273307-d9d8-4438-b3e8-91ab2b5244e8"
   },
   "outputs": [
    {
     "name": "stdout",
     "output_type": "stream",
     "text": [
      "DoF: 19\n"
     ]
    },
    {
     "data": {
      "text/html": [
       "<div>\n",
       "<style scoped>\n",
       "    .dataframe tbody tr th:only-of-type {\n",
       "        vertical-align: middle;\n",
       "    }\n",
       "\n",
       "    .dataframe tbody tr th {\n",
       "        vertical-align: top;\n",
       "    }\n",
       "\n",
       "    .dataframe thead th {\n",
       "        text-align: right;\n",
       "    }\n",
       "</style>\n",
       "<table border=\"1\" class=\"dataframe\">\n",
       "  <thead>\n",
       "    <tr style=\"text-align: right;\">\n",
       "      <th></th>\n",
       "      <th>ID</th>\n",
       "      <th>Pre</th>\n",
       "      <th>Post</th>\n",
       "    </tr>\n",
       "  </thead>\n",
       "  <tbody>\n",
       "    <tr>\n",
       "      <th>0</th>\n",
       "      <td>1</td>\n",
       "      <td>18</td>\n",
       "      <td>22</td>\n",
       "    </tr>\n",
       "    <tr>\n",
       "      <th>1</th>\n",
       "      <td>2</td>\n",
       "      <td>21</td>\n",
       "      <td>25</td>\n",
       "    </tr>\n",
       "  </tbody>\n",
       "</table>\n",
       "</div>"
      ],
      "text/plain": [
       "   ID  Pre  Post\n",
       "0   1   18    22\n",
       "1   2   21    25"
      ]
     },
     "execution_count": 63,
     "metadata": {},
     "output_type": "execute_result"
    }
   ],
   "source": [
    "sportDF = pd.read_csv(\"rugby.csv\")\n",
    "dof = sportDF.shape[0]-1\n",
    "\n",
    "print(\"DoF:\", dof)\n",
    "sportDF.head(2)\n"
   ]
  },
  {
   "cell_type": "markdown",
   "metadata": {
    "id": "5psPhL9j0eja"
   },
   "source": [
    "**(iii) [3 marks]**\n",
    "Find the critical value for a two-tailed test with significance level α=0.05"
   ]
  },
  {
   "cell_type": "code",
   "execution_count": 64,
   "metadata": {
    "colab": {
     "base_uri": "https://localhost:8080/"
    },
    "executionInfo": {
     "elapsed": 514,
     "status": "ok",
     "timestamp": 1616281104634,
     "user": {
      "displayName": "Simos Gerasimou",
      "photoUrl": "https://lh3.googleusercontent.com/a-/AOh14GiyuWEDBGgnFKbsa3BAO5bWW-MwC5_V7MnUQz5JiA=s64",
      "userId": "13902192774339425778"
     },
     "user_tz": 0
    },
    "id": "9otB0zww0ejb",
    "outputId": "92a1e0d1-33b1-48bb-f993-43c8c3dcfc59"
   },
   "outputs": [
    {
     "name": "stdout",
     "output_type": "stream",
     "text": [
      "Negative side critical value: -2.0930240544082634\n",
      "Positive side critical value: 2.093024054408263\n",
      "As expected, the critical values both for negative and positive sides are the same (with different sign)!\n"
     ]
    }
   ],
   "source": [
    "alpha = 0.05\n",
    "negativeCriticalValue = stats.t.ppf(alpha/2, dof)\n",
    "positiveCriticalValue = stats.t.ppf(1-alpha/2, dof)\n",
    "print(\"Negative side critical value:\", negativeCriticalValue)\n",
    "print(\"Positive side critical value:\", positiveCriticalValue)\n",
    "print(\"As expected, the critical values both for negative and positive sides are the same (with different sign)!\")"
   ]
  },
  {
   "cell_type": "markdown",
   "metadata": {
    "id": "fkS1AaxN0ejb"
   },
   "source": [
    "**(iv) [4 marks]**\n",
    "Perform the appropriate t test to evaluate the hypotheses for significance level 𝛼=0.05 . You must show your calculations, i.e., calculate the result analytically, but you may use the appropriate scipy method to check your results."
   ]
  },
  {
   "cell_type": "code",
   "execution_count": 67,
   "metadata": {
    "colab": {
     "base_uri": "https://localhost:8080/"
    },
    "executionInfo": {
     "elapsed": 498,
     "status": "ok",
     "timestamp": 1616281133560,
     "user": {
      "displayName": "Simos Gerasimou",
      "photoUrl": "https://lh3.googleusercontent.com/a-/AOh14GiyuWEDBGgnFKbsa3BAO5bWW-MwC5_V7MnUQz5JiA=s64",
      "userId": "13902192774339425778"
     },
     "user_tz": 0
    },
    "id": "x7DfRcrB0ejc",
    "outputId": "467620c6-b4f5-4afa-fc27-345326337901"
   },
   "outputs": [
    {
     "name": "stdout",
     "output_type": "stream",
     "text": [
      "t (Analyical): 3.2312526655803127\n",
      "t (Scipy): 3.231252665580312\n",
      "We can reject H0 because: abs(t stat)>t critical, i.e., abs(3.231)>(2.093)\n"
     ]
    }
   ],
   "source": [
    "sportDF[\"Diff\"] = sportDF[\"Post\"] - sportDF[\"Pre\"]\n",
    "\n",
    "#Analytically\n",
    "sportDiffStd = np.std(sportDF[\"Diff\"], ddof=1)\n",
    "\n",
    "tStat = np.mean(sportDF[\"Diff\"])/(sportDiffStd/np.sqrt(20))\n",
    "print(\"t (Analyical):\", tStat)\n",
    "\n",
    "#Using Scipy stats\n",
    "tStat2, pValue = stats.ttest_rel(sportDF[\"Post\"], sportDF[\"Pre\"])\n",
    "print (\"t (Scipy):\", tStat2)\n",
    "\n",
    "#Checking H0: #We can reject H0, the new diet contributes to muscle building\n",
    "print (\"We can reject H0 because: \\\n",
    "abs(t stat)>t critical, i.e., abs({:.3f})>({:.3f})\".format(tStat, positiveCriticalValue))"
   ]
  },
  {
   "cell_type": "markdown",
   "metadata": {
    "id": "TpQvuxbd0ejc"
   },
   "source": [
    "**Part B**\n",
    "\n",
    "FoxWood Inc. makes Apple Pencils for iPad and is interested in increasing the strength of their product. It is thought that strength is a function of metal concentration in the core of the pencil. An investigation is carried out to compare four levels of metal concentration: 5%, 10%, 15% and 20%. For each concentration level, six samples are collected and are measured based on their strength.\n",
    "\n",
    "You should use the dataset named \"pencil.csv\" and answer the following data questions using Python 3, Pandas and Matplotlib."
   ]
  },
  {
   "cell_type": "markdown",
   "metadata": {
    "id": "1VOSuPrJ0ejc"
   },
   "source": [
    "**(v) [5 marks]**\n",
    "Plot a boxplot for the different levels of metal concentration"
   ]
  },
  {
   "cell_type": "code",
   "execution_count": 24,
   "metadata": {
    "colab": {
     "base_uri": "https://localhost:8080/",
     "height": 175
    },
    "executionInfo": {
     "elapsed": 504,
     "status": "ok",
     "timestamp": 1616281199537,
     "user": {
      "displayName": "Simos Gerasimou",
      "photoUrl": "https://lh3.googleusercontent.com/a-/AOh14GiyuWEDBGgnFKbsa3BAO5bWW-MwC5_V7MnUQz5JiA=s64",
      "userId": "13902192774339425778"
     },
     "user_tz": 0
    },
    "id": "h8UJ7PdZ0ejc",
    "outputId": "21ccd90b-41e4-4cb3-bfa1-7ecb3476797f"
   },
   "outputs": [
    {
     "data": {
      "text/html": [
       "<div>\n",
       "<style scoped>\n",
       "    .dataframe tbody tr th:only-of-type {\n",
       "        vertical-align: middle;\n",
       "    }\n",
       "\n",
       "    .dataframe tbody tr th {\n",
       "        vertical-align: top;\n",
       "    }\n",
       "\n",
       "    .dataframe thead th {\n",
       "        text-align: right;\n",
       "    }\n",
       "</style>\n",
       "<table border=\"1\" class=\"dataframe\">\n",
       "  <thead>\n",
       "    <tr style=\"text-align: right;\">\n",
       "      <th></th>\n",
       "      <th>Level</th>\n",
       "      <th>Sample 1</th>\n",
       "      <th>Sample 2</th>\n",
       "      <th>Sample 3</th>\n",
       "      <th>Sample 4</th>\n",
       "      <th>Sample 5</th>\n",
       "      <th>Sample 6</th>\n",
       "    </tr>\n",
       "  </thead>\n",
       "  <tbody>\n",
       "    <tr>\n",
       "      <th>0</th>\n",
       "      <td>0.05</td>\n",
       "      <td>7</td>\n",
       "      <td>8</td>\n",
       "      <td>15</td>\n",
       "      <td>11</td>\n",
       "      <td>9</td>\n",
       "      <td>10</td>\n",
       "    </tr>\n",
       "    <tr>\n",
       "      <th>1</th>\n",
       "      <td>0.10</td>\n",
       "      <td>12</td>\n",
       "      <td>17</td>\n",
       "      <td>13</td>\n",
       "      <td>18</td>\n",
       "      <td>19</td>\n",
       "      <td>15</td>\n",
       "    </tr>\n",
       "    <tr>\n",
       "      <th>2</th>\n",
       "      <td>0.15</td>\n",
       "      <td>14</td>\n",
       "      <td>18</td>\n",
       "      <td>19</td>\n",
       "      <td>17</td>\n",
       "      <td>16</td>\n",
       "      <td>18</td>\n",
       "    </tr>\n",
       "    <tr>\n",
       "      <th>3</th>\n",
       "      <td>0.20</td>\n",
       "      <td>19</td>\n",
       "      <td>25</td>\n",
       "      <td>22</td>\n",
       "      <td>23</td>\n",
       "      <td>18</td>\n",
       "      <td>20</td>\n",
       "    </tr>\n",
       "  </tbody>\n",
       "</table>\n",
       "</div>"
      ],
      "text/plain": [
       "   Level  Sample 1  Sample 2  Sample 3  Sample 4  Sample 5  Sample 6\n",
       "0   0.05         7         8        15        11         9        10\n",
       "1   0.10        12        17        13        18        19        15\n",
       "2   0.15        14        18        19        17        16        18\n",
       "3   0.20        19        25        22        23        18        20"
      ]
     },
     "execution_count": 24,
     "metadata": {},
     "output_type": "execute_result"
    }
   ],
   "source": [
    "appleDF = pd.read_csv(\"pencil.csv\")\n",
    "appleDF.head()"
   ]
  },
  {
   "cell_type": "code",
   "execution_count": 68,
   "metadata": {
    "colab": {
     "base_uri": "https://localhost:8080/",
     "height": 556
    },
    "executionInfo": {
     "elapsed": 739,
     "status": "ok",
     "timestamp": 1616281202282,
     "user": {
      "displayName": "Simos Gerasimou",
      "photoUrl": "https://lh3.googleusercontent.com/a-/AOh14GiyuWEDBGgnFKbsa3BAO5bWW-MwC5_V7MnUQz5JiA=s64",
      "userId": "13902192774339425778"
     },
     "user_tz": 0
    },
    "id": "S6Zv21250ejd",
    "outputId": "ba303695-5771-40f2-f8a7-471270778ab0"
   },
   "outputs": [
    {
     "data": {
      "text/plain": [
       "Text(0, 0.5, 'Strength value')"
      ]
     },
     "execution_count": 68,
     "metadata": {},
     "output_type": "execute_result"
    },
    {
     "data": {
      "image/png": "[encoded data removed]",
      "text/plain": [
       "<Figure size 700x600 with 1 Axes>"
      ]
     },
     "metadata": {
      "needs_background": "light"
     },
     "output_type": "display_data"
    }
   ],
   "source": [
    "apple005 = appleDF.loc[0][1:]\n",
    "apple010 = appleDF.loc[1][1:]\n",
    "apple015 = appleDF.loc[2][1:]\n",
    "apple020 = appleDF.loc[3][1:]\n",
    "\n",
    "appleData = pd.DataFrame(data={\"005\":apple005, \"010\":apple010, \"015\":apple015, \"020\":apple020})\n",
    "plt.subplots(figsize=(7,6), dpi=100)\n",
    "ax = sns.boxplot(data=appleData)\n",
    "\n",
    "ax.set_xlabel('Level of metal concentration',fontsize=15) # set x label\n",
    "ax.set_ylabel('Strength value',fontsize=15,rotation=90) # set y label"
   ]
  },
  {
   "cell_type": "markdown",
   "metadata": {
    "id": "JJLYUbI20ejd"
   },
   "source": [
    "**(vi) [3 marks]**\n",
    "State the Null and Alternative hypotheses that will enable the company to check whether there is any difference in strength depending on the levels of metal concrentation"
   ]
  },
  {
   "cell_type": "markdown",
   "metadata": {
    "id": "KiYXGQP60ejd"
   },
   "source": [
    "\n",
    "**$H_0$**: There is **no statistically significant difference** in pencil strength between different levels of metal concentration\n",
    "\n",
    "$H_0: \\overline{X}_{0.05} = \\overline{X}_{0.10} = \\overline{X}_{0.15} = \\overline{X}_{0.20}$\n",
    "\n",
    "**$H_1$**: There is **statistically significant difference** in pencil strength between different levels of metal concentration\n",
    "\n",
    "$H_1: \\exists i,j \\in \\{0.05, 0.10, 0.15, 0.20\\} \\bullet (i \\neq j) \\land (\\overline{X}_{i} \\neq \\overline{X}_{j})$\n"
   ]
  },
  {
   "cell_type": "markdown",
   "metadata": {
    "id": "fzEwrVkl0ejd"
   },
   "source": [
    "**(vii) [5 marks]**\n",
    "Perform the appropriate test to evaluate the hypotheses for significance level 𝛼=0.05 . You must show your calculations, i.e., calculate the result analytically, but you may use the appropriate scipy method to check your results."
   ]
  },
  {
   "cell_type": "code",
   "execution_count": 69,
   "metadata": {
    "colab": {
     "base_uri": "https://localhost:8080/"
    },
    "executionInfo": {
     "elapsed": 457,
     "status": "ok",
     "timestamp": 1616281220778,
     "user": {
      "displayName": "Simos Gerasimou",
      "photoUrl": "https://lh3.googleusercontent.com/a-/AOh14GiyuWEDBGgnFKbsa3BAO5bWW-MwC5_V7MnUQz5JiA=s64",
      "userId": "13902192774339425778"
     },
     "user_tz": 0
    },
    "id": "KeWXftPc0eje",
    "outputId": "9b9a0bf1-a472-4a03-8da3-0a763bdc0222"
   },
   "outputs": [
    {
     "name": "stdout",
     "output_type": "stream",
     "text": [
      "F (Analytically):  19.605206999573202\n",
      "F (Scipy): F_onewayResult(statistic=19.605206999573184, pvalue=3.5925782584743027e-06)\n",
      "We can reject H0 because: F>f critical, i.e., abs(19.605)>(0.115)\n"
     ]
    }
   ],
   "source": [
    "X_G = [np.mean(apple005), np.mean(apple010), np.mean(apple015), np.mean(apple020)]\n",
    "X_N = np.mean(X_G)\n",
    "\n",
    "SS_M = 0; SS_R = 0; SS_T=0\n",
    "\n",
    "SS_M += len(apple005) * np.power(np.mean(apple005) - X_N,2)\n",
    "SS_M += len(apple010) * np.power(np.mean(apple010) - X_N,2)\n",
    "SS_M += len(apple015) * np.power(np.mean(apple015) - X_N,2)\n",
    "SS_M += len(apple020) * np.power(np.mean(apple020) - X_N,2)\n",
    "\n",
    "SS_R += (len(apple005)-1) * np.var(apple005, ddof=1)\n",
    "SS_R += (len(apple010)-1) * np.var(apple010, ddof=1)\n",
    "SS_R += (len(apple015)-1) * np.var(apple015, ddof=1)\n",
    "SS_R += (len(apple020)-1) * np.var(apple020, ddof=1)\n",
    "                                              \n",
    "df_M = 3     #4-1 \n",
    "df_R = np.count_nonzero([apple005, apple010, apple015, apple020])-4   #24-4 \n",
    "\n",
    "F1 = (SS_M/df_M)/(SS_R/df_R)\n",
    "\n",
    "# #Using Scipy library\n",
    "F2 = stats.f_oneway(apple005, apple010, apple015, apple020)\n",
    "\n",
    "print(\"F (Analytically): \", F1)\n",
    "print(\"F (Scipy):\",         F2)\n",
    "\n",
    "\n",
    "#Get F critical values\n",
    "fCritical = stats.f.ppf(0.05, df_M, df_R)\n",
    "\n",
    "#Checking H0: #We can reject H0, the level of metal concentration affes the pencils' strength\n",
    "print (\"We can reject H0 because: \\\n",
    "F>f critical, i.e., abs({:.3f})>({:.3f})\".format(F1, fCritical))"
   ]
  },
  {
   "cell_type": "markdown",
   "metadata": {
    "deletable": false,
    "editable": false,
    "id": "ATcyipN80ejf",
    "run_control": {
     "frozen": true
    }
   },
   "source": [
    "***\n",
    "\n",
    "### **Question 4: Data Science Process (25 marks)**\n",
    "\n",
    "DataVision has recently been acquired by Alphabet Inc. This acquisition led to expanding the technical teams of DataVision and having several job openings for data scientist and software engineering positions. Given its expertise in data science, DataVision considers to develop a Virtual Assistant that helps its human resources team in making a more cohesive and consistent analysis of job applications.\n",
    "\n",
    "**(i) [20 marks]** \n",
    "Using **no more than two sentences** for each data science lifecycle step, describe how you would implement this project to support the development of the Virtual Assistant of DataVision. You can use examples, fictional data or plots to explain your arguments.\n",
    "\n",
    "**(ii) [5 marks]** Considering the sensitive information associated with developing such a Virtual Assistant, provide details of **two** ethical challenges that must be addressed and are also aligned with the guidelines for ethical data science or trustworthy AI. Use no more than **two** sentences per ethical challenge.\n",
    "\n"
   ]
  },
  {
   "cell_type": "markdown",
   "metadata": {
    "id": "V0mdgu0y0ejf"
   },
   "source": [
    "##### Note: these are some indicative answers. \n",
    "\n",
    "### Part i: Data Science Lifecycle\n",
    "\n",
    "#### Identify Question: \n",
    "* The main question is how to determine which job applications are most likely to become valuable assets for DataVision\n",
    "* A primary consideration is to detetermine the set of tasks and key areas that could increase the efficiency of the human resources (HR) if undertaken by a Virtual Assistant\n",
    "* This information would help to establish what knowledge is required so that the Virtual Assistant can rank several job applications and enable to determine which types of raw data should be collected\n",
    "* All these tasks can be achieved by conducting interviews with the HR team\n",
    "* Success measures involve reducing the time and effort required for processing job applications\n",
    "* All this information and questions form a specification for developing the data science project and producing a Virtual Assistant for the HR team\n",
    "\n",
    "\n",
    "#### Collect Raw Data\n",
    "* Having established the set of data needed for the Virtual Assistant, in this step we need to collect this data from existing job applications! \n",
    "* To achieve this, we need to identify the data sources (e.g., databases) in which existing data is stored and establish several characteristics about the data sources (e.g., how accurate they are) \n",
    "* These ddata sources might not belong only to DataVision but also to other companies owned by Alphabet Inc that have data scientists in their team\n",
    "* Also, we need to develop (ideally automated) procedures to retrieve this data from the data sources in a robust and reliable manner \n",
    "* Examples of data that can be collected include: education (degrees), previous experience, programming languages known, portfolio of data science/software engineering projects etc. An interesting data item to be collected if the job application has a deadline is the time that the application has been submitted. This could provide useful insight regarding the ability of an applicant to meet strict deadlines.\n",
    "\n",
    "\n",
    "#### Process Data\n",
    "* We (typically) need to put data into appropriately formatted dataframes and give each column a consistent name (e.g., ID, Name, Previous Experience, Email)\n",
    "* If data have come from different data sources (e.g., data bases) there might be a need to homogenise the data. This might include transforming data types in the same format, clean columns that have consistently reduntant information (e.g., the \"minutes\" from the duration column in the Netflix dataset can be removed) or merging columns that have the same information\n",
    "* We also need to clean further the collected data by removing columns that are not needed and could lead to generating a biased Virtual Assistant. Such columns include (Name, Email, Gender etc). \n",
    "* We can further apply a strategy to impute missing values or detele columns (variables) in which more than 5% or 10% data is missing. \n",
    "\n",
    "\n",
    "#### Explore Data\n",
    "* Compute descriptive statistics (measures of central tendency and dispersion) and determine a set of effective visualisation artifacts for the collected data. Using this information, identify patterns in data and explore what can be learnt from these patterns. For instance, this might include the average age of applicants or the standard deviation of years of experience the applicants have had before making an application to the company. All these information should be correlated with the outcome of each job application, whether it has been successful or not.\n",
    "* Using again descriptive statistics and boxplots, we can inspect the data visually identify various characteristics of our applicants. For instance, the average length stayed at a company might indicate whether the applicant shows loyalty to the company and goes only to jobs he likes doing or whether the applicant gets bored easily and jumps from one job to another. \n",
    "* Another factor that could be investigated are demographics data which could indicate whether the company's job marketing campaigns have managed to attract the best talent for a particular job advertisement. \n",
    "\n",
    "\n",
    "#### Model/Analyse Data\n",
    "* Determine the best type of machine models for a given task. For instance, this might include developing a classification algorithm that uses as inputs a meaningful subset of the collected data (e.g., experience, education, previous jobs, age) and determines whether the applicant should be shortlisted.\n",
    "* Another type of machine learning model is to provide a suggestion using a linear regression model for an indicative salary for the job applicant given again a meaningful subset of the collected data (e.g., experience, education, previous jobs, age)\n",
    "* A third type of machine learning model is clustering which can be used to identify the team in which a job applicant might be assigned to. This information can be used to establish whether the applicant has something unique to bring to the team (e.g., experience in Deep Neural Networks that is currently lacking from that team within DataVision).\n",
    "* In all cases, the data given to the machine learning models have the decisions made by the HR team (ground truth) against which the models will be trained. The outcomes of the models should be counterchecked by the HR team to avoid discrimination. If the results are inconsistent then our machine learning models need further calibration or more training.\n",
    "\n",
    "\n",
    "#### Communicate/Visualise Data\n",
    "* First, the developed Virtual Assistant should be shown to the HR team to determine whether it can indeed support the task it has been developed for. This can be done by analysing the outcomes from job applications first in a human-machine mode (running in parallel with the manual job application filtering process carried out by the HR team). Doing this will enable to validate the Virtual Assistant while in operation.\n",
    "* Once the Virtual Assistant is deployed, the predictions made should be communicated clearly to the HR team with easily understandable visualisation artifacts indicating whether an applicant has been shortlisted or not. Equally important, and if possible, the reasons for the outcome of this decision should be enumarated (see explainability in AI)\n",
    "\n",
    "\n",
    "### Part ii: Ethics\n",
    "\n",
    "#### Potential Discrimination/Bias in Shortlisting¶\n",
    "* Data collection, analysis and modelling process should be done very carefully to avoid any underlying bias in the existing workforce. As said earlier, the data might be collected not only from DataVision but also from other companies affiliated with Alphabet Inc and have to do with data science/software engineering. If the data collected are biased (see the Assistant developed by Amazon), then the machine learning models will also be biased. \n",
    "\n",
    "#### Privacy and Data Governance\n",
    "* It is important to collect, store and maintain the collected data securely but also to preserve the privacy of the individuals reflected on this data. If the data would be used to train machine learning models, their consent to do this should be given before doing so, giving them also the option to opt out if they do not want their data to be used in this manner. At the same time, however, deciding to opt out should not have a negative outcome on the employee.\n",
    "\n",
    "#### Trustworthiness of the Virtual Assistant\n",
    "* Since one of the Virtual Assistant's task is to shortlist prospective employees, the rational for a positive or negative answer should be explainable. In other words, the decision made should be transparent so that HR team members can comprehend with the Asistant has made this decision (enabling to trace the decision to the reasons led to it). Also, data scientists should be able to use this transparency and traceability to identify bugs (e.g., discrimination) in the developed machine learning models. \n",
    "\n",
    "---"
   ]
  },
  {
   "cell_type": "markdown",
   "metadata": {
    "deletable": false,
    "editable": false,
    "id": "00QTgrwb0ejf",
    "run_control": {
     "frozen": true
    }
   },
   "source": [
    "---"
   ]
  }
 ],
 "metadata": {
  "colab": {
   "name": "DAT1-Formative Exam - Model Answers.ipynb",
   "provenance": []
  },
  "kernelspec": {
   "display_name": "Python 3",
   "language": "python",
   "name": "python3"
  },
  "language_info": {
   "codemirror_mode": {
    "name": "ipython",
    "version": 3
   },
   "file_extension": ".py",
   "mimetype": "text/x-python",
   "name": "python",
   "nbconvert_exporter": "python",
   "pygments_lexer": "ipython3",
   "version": "3.8.3"
  }
 },
 "nbformat": 4,
 "nbformat_minor": 1
}
