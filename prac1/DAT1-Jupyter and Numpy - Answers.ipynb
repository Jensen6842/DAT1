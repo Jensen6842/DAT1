{
 "cells": [
  {
   "cell_type": "markdown",
   "metadata": {
    "id": "uFp4Xw1wmOiH"
   },
   "source": [
    "# Short NumPy Tutorial\n",
    "\n",
    "* NumPy is a Python package for numerical computation. \n",
    "* The core data type is the array.\n",
    "* NumPy functions operate on arrays."
   ]
  },
  {
   "cell_type": "markdown",
   "metadata": {
    "id": "uHJb47Mx7KPQ"
   },
   "source": [
    "NumPy (np) supports creating arrays with different characteristics\n",
    "* **np.array([list of numbers])** - array from a list\n",
    "* **np.arange(start, stop, step)** - array whose entries are from start to stop and each entry is incremented by step (compared to the previous entry)\n",
    "* **np.zeros((rows, cols))** - array of zeros of shape (rows, cols)\n",
    "* **np.ones((rows, cols))** - array of zeros of shape (rows, cols)\n",
    "* **np.random.randint(start, stop, num)** -- array of num entries randomly chosen from start to stop\n",
    "* **np.random.rand(num)** array of random num float entries from 0 to 1\n",
    "\n",
    "as well as a wide variety of arithmetic operations on arrays\n",
    "* **np.add()** - Addition (e.g., 1 + 1 = 2)\n",
    "* **np.subtract()** - Subtraction (e.g., 3 - 2 = 1)\n",
    "* **np.negative()** - Unary negation (e.g., -2)\n",
    "* **np.multiply()** -\tMultiplication (e.g., 2 * 3 = 6)\n",
    "* **np.divide()**  -\tDivision (e.g., 3 / 2 = 1.5)\n",
    "* **np.floor_divide()** -\tFloor division (e.g., 3 // 2 = 1)\n",
    "* **np.power()** - \tExponentiation (e.g., 2 ** 3 = 8)\n",
    "* **np.mod()** - \tModulus/remainder (e.g., 9 % 4 = 1)\n",
    "\n",
    "and standard trigonometry functions\n",
    "* **np.sin()** - sin\n",
    "* **np.cos()** - cosine\n",
    "* **np.tan()** - tangent\n",
    "* **np.asin()** - arc sine\n",
    "* **np.acos()** - arc cosine\n",
    "* **np.atan()** - arc tangent\n",
    "* **np.hypot()** - given the sides of a triangle, returns hypotenuse\n",
    "\n",
    "Note: this is a small fraction of the functions provided by NumPy. For more information see:\n",
    "* https://numpy.org/doc/stable/user/tutorials_index.html\n",
    "* https://www.w3schools.com/python/numpy_intro.asp"
   ]
  },
  {
   "cell_type": "markdown",
   "metadata": {
    "id": "k7w-xKfwIFc2"
   },
   "source": [
    "#### Note: You can also write functions in Jupyter Notebooks"
   ]
  },
  {
   "cell_type": "code",
   "execution_count": 1,
   "metadata": {
    "colab": {
     "base_uri": "https://localhost:8080/"
    },
    "executionInfo": {
     "elapsed": 619,
     "status": "ok",
     "timestamp": 1611422943673,
     "user": {
      "displayName": "Simos Gerasimou",
      "photoUrl": "https://lh3.googleusercontent.com/a-/AOh14GiyuWEDBGgnFKbsa3BAO5bWW-MwC5_V7MnUQz5JiA=s64",
      "userId": "13902192774339425778"
     },
     "user_tz": 0
    },
    "id": "iToTFv0fIDxQ",
    "outputId": "e86204a0-5e0f-47e9-934c-eb8c100bb5e0"
   },
   "outputs": [
    {
     "name": "stdout",
     "output_type": "stream",
     "text": [
      "Hello  DAT1\n"
     ]
    }
   ],
   "source": [
    "def hello(name):\n",
    "  print (\"Hello \", name)\n",
    "\n",
    "hello(\"DAT1\")"
   ]
  },
  {
   "cell_type": "markdown",
   "metadata": {
    "id": "ZLuNmKi8nLJo"
   },
   "source": [
    "#### Installing NumPy\n",
    "\n",
    "Option A: **Using Anaconda**"
   ]
  },
  {
   "cell_type": "code",
   "execution_count": 2,
   "metadata": {
    "executionInfo": {
     "elapsed": 996,
     "status": "ok",
     "timestamp": 1611422944063,
     "user": {
      "displayName": "Simos Gerasimou",
      "photoUrl": "https://lh3.googleusercontent.com/a-/AOh14GiyuWEDBGgnFKbsa3BAO5bWW-MwC5_V7MnUQz5JiA=s64",
      "userId": "13902192774339425778"
     },
     "user_tz": 0
    },
    "id": "-ijSUsUQXkMc"
   },
   "outputs": [],
   "source": [
    "#type in a terminal\n",
    "#conda install numpy"
   ]
  },
  {
   "cell_type": "markdown",
   "metadata": {
    "id": "Ca0aH4U6nfpI"
   },
   "source": [
    "Option B: **Using pip**"
   ]
  },
  {
   "cell_type": "code",
   "execution_count": 3,
   "metadata": {
    "executionInfo": {
     "elapsed": 988,
     "status": "ok",
     "timestamp": 1611422944064,
     "user": {
      "displayName": "Simos Gerasimou",
      "photoUrl": "https://lh3.googleusercontent.com/a-/AOh14GiyuWEDBGgnFKbsa3BAO5bWW-MwC5_V7MnUQz5JiA=s64",
      "userId": "13902192774339425778"
     },
     "user_tz": 0
    },
    "id": "Nwrw9rDfndJ8"
   },
   "outputs": [],
   "source": [
    "#type in a terminal\n",
    "#pip install numpy"
   ]
  },
  {
   "cell_type": "markdown",
   "metadata": {
    "id": "gm4WTODynoCX"
   },
   "source": [
    "#### Using NumPy\n"
   ]
  },
  {
   "cell_type": "code",
   "execution_count": 4,
   "metadata": {
    "executionInfo": {
     "elapsed": 983,
     "status": "ok",
     "timestamp": 1611422944065,
     "user": {
      "displayName": "Simos Gerasimou",
      "photoUrl": "https://lh3.googleusercontent.com/a-/AOh14GiyuWEDBGgnFKbsa3BAO5bWW-MwC5_V7MnUQz5JiA=s64",
      "userId": "13902192774339425778"
     },
     "user_tz": 0
    },
    "id": "HL-cY6v8nfaC"
   },
   "outputs": [],
   "source": [
    "#importing numpy\n",
    "import numpy as np"
   ]
  },
  {
   "cell_type": "code",
   "execution_count": 5,
   "metadata": {
    "executionInfo": {
     "elapsed": 978,
     "status": "ok",
     "timestamp": 1611422944066,
     "user": {
      "displayName": "Simos Gerasimou",
      "photoUrl": "https://lh3.googleusercontent.com/a-/AOh14GiyuWEDBGgnFKbsa3BAO5bWW-MwC5_V7MnUQz5JiA=s64",
      "userId": "13902192774339425778"
     },
     "user_tz": 0
    },
    "id": "Hq_agi1ExpSl"
   },
   "outputs": [],
   "source": [
    "#list with % of low emission Licensed Taxis operating in York per year from 2011 to 2019\n",
    "yorkTaxis = [0.00, 1.00, 3.00, 6.00, 8.00, 13.00, 16.10, 17.60, 19.90]\n",
    "\n",
    "#list with % of low emission Licensed Taxis operating in Leeds per year from 2011 to 2019\n",
    "leedsTaxis = [0.50, 1.20, 2.30, 5.00, 7.80, 14.30, 17.10, 17.30, 20.90]\n"
   ]
  },
  {
   "cell_type": "code",
   "execution_count": 6,
   "metadata": {
    "executionInfo": {
     "elapsed": 974,
     "status": "ok",
     "timestamp": 1611422944067,
     "user": {
      "displayName": "Simos Gerasimou",
      "photoUrl": "https://lh3.googleusercontent.com/a-/AOh14GiyuWEDBGgnFKbsa3BAO5bWW-MwC5_V7MnUQz5JiA=s64",
      "userId": "13902192774339425778"
     },
     "user_tz": 0
    },
    "id": "ULRGIDvexsyu"
   },
   "outputs": [],
   "source": [
    "#convert lists into numpy array\n",
    "york  = np.array(yorkTaxis)\n",
    "leeds = np.array(leedsTaxis)"
   ]
  },
  {
   "cell_type": "code",
   "execution_count": 7,
   "metadata": {
    "colab": {
     "base_uri": "https://localhost:8080/"
    },
    "executionInfo": {
     "elapsed": 967,
     "status": "ok",
     "timestamp": 1611422944068,
     "user": {
      "displayName": "Simos Gerasimou",
      "photoUrl": "https://lh3.googleusercontent.com/a-/AOh14GiyuWEDBGgnFKbsa3BAO5bWW-MwC5_V7MnUQz5JiA=s64",
      "userId": "13902192774339425778"
     },
     "user_tz": 0
    },
    "id": "RpFeBH_Ixv5A",
    "outputId": "4e7b6300-ee7e-4156-a236-6df48f570b86"
   },
   "outputs": [
    {
     "name": "stdout",
     "output_type": "stream",
     "text": [
      "(9,)\n",
      "(9,)\n"
     ]
    }
   ],
   "source": [
    "#print the shape of the arrays\n",
    "print(york.shape)\n",
    "print(leeds.shape)"
   ]
  },
  {
   "cell_type": "code",
   "execution_count": 8,
   "metadata": {
    "colab": {
     "base_uri": "https://localhost:8080/"
    },
    "executionInfo": {
     "elapsed": 959,
     "status": "ok",
     "timestamp": 1611422944069,
     "user": {
      "displayName": "Simos Gerasimou",
      "photoUrl": "https://lh3.googleusercontent.com/a-/AOh14GiyuWEDBGgnFKbsa3BAO5bWW-MwC5_V7MnUQz5JiA=s64",
      "userId": "13902192774339425778"
     },
     "user_tz": 0
    },
    "id": "TwHEZtaSxwRb",
    "outputId": "048152e2-7187-408d-a226-f94069090203"
   },
   "outputs": [
    {
     "name": "stdout",
     "output_type": "stream",
     "text": [
      "float64\n",
      "float64\n"
     ]
    }
   ],
   "source": [
    "#print the data types of the arrays\n",
    "print(york.dtype)\n",
    "print(leeds.dtype)"
   ]
  },
  {
   "cell_type": "code",
   "execution_count": 9,
   "metadata": {
    "colab": {
     "base_uri": "https://localhost:8080/"
    },
    "executionInfo": {
     "elapsed": 950,
     "status": "ok",
     "timestamp": 1611422944069,
     "user": {
      "displayName": "Simos Gerasimou",
      "photoUrl": "https://lh3.googleusercontent.com/a-/AOh14GiyuWEDBGgnFKbsa3BAO5bWW-MwC5_V7MnUQz5JiA=s64",
      "userId": "13902192774339425778"
     },
     "user_tz": 0
    },
    "id": "uJiRothQ3Sfg",
    "outputId": "d2391e93-a763-43fe-a3bc-d9be60e5dd87"
   },
   "outputs": [
    {
     "name": "stdout",
     "output_type": "stream",
     "text": [
      "[ 8.  13.  16.1 17.6 19.9]\n",
      "[ 7.8 14.3 17.1 17.3 20.9]\n"
     ]
    }
   ],
   "source": [
    "#get the values for York and Leeds from 2015 until 2019\n",
    "#note: index 4 corresponds to 2015\n",
    "print(york[4:])\n",
    "print(leeds[4:])"
   ]
  },
  {
   "cell_type": "code",
   "execution_count": 10,
   "metadata": {
    "colab": {
     "base_uri": "https://localhost:8080/"
    },
    "executionInfo": {
     "elapsed": 943,
     "status": "ok",
     "timestamp": 1611422944070,
     "user": {
      "displayName": "Simos Gerasimou",
      "photoUrl": "https://lh3.googleusercontent.com/a-/AOh14GiyuWEDBGgnFKbsa3BAO5bWW-MwC5_V7MnUQz5JiA=s64",
      "userId": "13902192774339425778"
     },
     "user_tz": 0
    },
    "id": "MgzVQ46r2hIk",
    "outputId": "1c40a52d-4c73-411c-e1ae-16de888d7c16"
   },
   "outputs": [
    {
     "name": "stdout",
     "output_type": "stream",
     "text": [
      "0.0 19.9 9.399999999999999\n",
      "0.5 20.9 9.600000000000001\n"
     ]
    }
   ],
   "source": [
    "#find the min, max, and mean of each city\n",
    "yorkMin  = np.min(york)\n",
    "yorkMax  = np.max(york)\n",
    "yorkMean = np.mean(york)\n",
    "print(yorkMin, yorkMax, yorkMean)\n",
    "\n",
    "leedsMin  = np.min(leeds)\n",
    "leedsMax  = np.max(leeds)\n",
    "leedsMean = np.mean(leeds)\n",
    "print(leedsMin, leedsMax, leedsMean)"
   ]
  },
  {
   "cell_type": "code",
   "execution_count": 11,
   "metadata": {
    "colab": {
     "base_uri": "https://localhost:8080/"
    },
    "executionInfo": {
     "elapsed": 935,
     "status": "ok",
     "timestamp": 1611422944070,
     "user": {
      "displayName": "Simos Gerasimou",
      "photoUrl": "https://lh3.googleusercontent.com/a-/AOh14GiyuWEDBGgnFKbsa3BAO5bWW-MwC5_V7MnUQz5JiA=s64",
      "userId": "13902192774339425778"
     },
     "user_tz": 0
    },
    "id": "wrn4-xwP3-ci",
    "outputId": "e2d67b03-61a2-42e2-8bfb-ae1d4b1df551"
   },
   "outputs": [
    {
     "name": "stdout",
     "output_type": "stream",
     "text": [
      "[ 0.   1.   3.   6.   8.  13.  16.1 17.6 19.9  0.5  1.2  2.3  5.   7.8\n",
      " 14.3 17.1 17.3 20.9]\n"
     ]
    }
   ],
   "source": [
    "#concatenate the two arrays\n",
    "allData = np.concatenate((york, leeds))\n",
    "print(allData)"
   ]
  },
  {
   "cell_type": "code",
   "execution_count": 12,
   "metadata": {
    "colab": {
     "base_uri": "https://localhost:8080/"
    },
    "executionInfo": {
     "elapsed": 927,
     "status": "ok",
     "timestamp": 1611422944071,
     "user": {
      "displayName": "Simos Gerasimou",
      "photoUrl": "https://lh3.googleusercontent.com/a-/AOh14GiyuWEDBGgnFKbsa3BAO5bWW-MwC5_V7MnUQz5JiA=s64",
      "userId": "13902192774339425778"
     },
     "user_tz": 0
    },
    "id": "-5zoJ8FT4Ohu",
    "outputId": "5a6b5ce4-e1ae-4eff-d4d2-50df8b47fc2b"
   },
   "outputs": [
    {
     "name": "stdout",
     "output_type": "stream",
     "text": [
      "[ 0.   0.5  1.   1.2  2.3  3.   5.   6.   7.8  8.  13.  14.3 16.1 17.1\n",
      " 17.3 17.6 19.9 20.9]\n"
     ]
    }
   ],
   "source": [
    "#sort the concatenated array\n",
    "sortedAllData = np.sort(allData)\n",
    "print(sortedAllData)"
   ]
  },
  {
   "cell_type": "code",
   "execution_count": 13,
   "metadata": {
    "colab": {
     "base_uri": "https://localhost:8080/"
    },
    "executionInfo": {
     "elapsed": 921,
     "status": "ok",
     "timestamp": 1611422944072,
     "user": {
      "displayName": "Simos Gerasimou",
      "photoUrl": "https://lh3.googleusercontent.com/a-/AOh14GiyuWEDBGgnFKbsa3BAO5bWW-MwC5_V7MnUQz5JiA=s64",
      "userId": "13902192774339425778"
     },
     "user_tz": 0
    },
    "id": "3X8gwqJn4eB2",
    "outputId": "9f4303c1-ad12-4a3b-ca7b-5717b06563a8"
   },
   "outputs": [
    {
     "name": "stdout",
     "output_type": "stream",
     "text": [
      "[[ 0.   1. ]\n",
      " [ 3.   6. ]\n",
      " [ 8.  13. ]\n",
      " [16.1 17.6]\n",
      " [19.9  0.5]\n",
      " [ 1.2  2.3]\n",
      " [ 5.   7.8]\n",
      " [14.3 17.1]\n",
      " [17.3 20.9]]\n"
     ]
    }
   ],
   "source": [
    "#transform the concatenated array into a 2D array where each column holds values for each city\n",
    "allData2D = allData.reshape(9, 2)\n",
    "print(allData2D)"
   ]
  },
  {
   "cell_type": "code",
   "execution_count": 14,
   "metadata": {
    "colab": {
     "base_uri": "https://localhost:8080/"
    },
    "executionInfo": {
     "elapsed": 914,
     "status": "ok",
     "timestamp": 1611422944073,
     "user": {
      "displayName": "Simos Gerasimou",
      "photoUrl": "https://lh3.googleusercontent.com/a-/AOh14GiyuWEDBGgnFKbsa3BAO5bWW-MwC5_V7MnUQz5JiA=s64",
      "userId": "13902192774339425778"
     },
     "user_tz": 0
    },
    "id": "rhB2Q4eJ5dqr",
    "outputId": "cbc1f917-2e26-4201-a540-e58ea3a001fa"
   },
   "outputs": [
    {
     "name": "stdout",
     "output_type": "stream",
     "text": [
      "[[ 0.   3.   8.  16.1 19.9  1.2  5.  14.3 17.3]\n",
      " [ 1.   6.  13.  17.6  0.5  2.3  7.8 17.1 20.9]]\n"
     ]
    }
   ],
   "source": [
    "#transpose the allData2D array\n",
    "print(allData2D.T)"
   ]
  },
  {
   "cell_type": "markdown",
   "metadata": {
    "id": "6eft2Q70Ea31"
   },
   "source": [
    "## A few tasks on using NumPy "
   ]
  },
  {
   "cell_type": "markdown",
   "metadata": {
    "id": "rbWVyucAEtHx"
   },
   "source": [
    "**T1) Find the difference in % of low emission licensed taxis between York and Leeds each year**"
   ]
  },
  {
   "cell_type": "code",
   "execution_count": 15,
   "metadata": {
    "colab": {
     "base_uri": "https://localhost:8080/"
    },
    "executionInfo": {
     "elapsed": 1146,
     "status": "ok",
     "timestamp": 1611422944313,
     "user": {
      "displayName": "Simos Gerasimou",
      "photoUrl": "https://lh3.googleusercontent.com/a-/AOh14GiyuWEDBGgnFKbsa3BAO5bWW-MwC5_V7MnUQz5JiA=s64",
      "userId": "13902192774339425778"
     },
     "user_tz": 0
    },
    "id": "wbjp6gqux8M5",
    "outputId": "84b9b966-bbc1-4eae-bb1c-2e6f62fa2d33"
   },
   "outputs": [
    {
     "name": "stdout",
     "output_type": "stream",
     "text": [
      "[-0.5 -0.2  0.7  1.   0.2 -1.3 -1.   0.3 -1. ]\n"
     ]
    }
   ],
   "source": [
    "#Write your code here\n",
    "diff = np.subtract(york,leeds)\n",
    "print(diff)"
   ]
  },
  {
   "cell_type": "code",
   "execution_count": 16,
   "metadata": {
    "colab": {
     "base_uri": "https://localhost:8080/"
    },
    "executionInfo": {
     "elapsed": 1140,
     "status": "ok",
     "timestamp": 1611422944315,
     "user": {
      "displayName": "Simos Gerasimou",
      "photoUrl": "https://lh3.googleusercontent.com/a-/AOh14GiyuWEDBGgnFKbsa3BAO5bWW-MwC5_V7MnUQz5JiA=s64",
      "userId": "13902192774339425778"
     },
     "user_tz": 0
    },
    "id": "7GGJUrkoG96o",
    "outputId": "350e2a5e-483e-4404-ba61-859050e64aa9"
   },
   "outputs": [
    {
     "name": "stdout",
     "output_type": "stream",
     "text": [
      "[-0.5 -0.2  0.7  1.   0.2 -1.3 -1.   0.3 -1. ]\n"
     ]
    }
   ],
   "source": [
    "#This also works because york and leeds are numpy arrays\n",
    "print(york-leeds)\n",
    "\n",
    "#The following does not work because both yorkTaxis and leedsTaxis are lists\n",
    "#yorkTaxis-leedsTaxis "
   ]
  },
  {
   "cell_type": "markdown",
   "metadata": {
    "id": "g4oqp9AAzDuc"
   },
   "source": [
    "**T2) Complete the function minMaxDiff which returns the minimum and maximum differences in % of low emission licensed taxis between York and Leeds.**"
   ]
  },
  {
   "cell_type": "code",
   "execution_count": 17,
   "metadata": {
    "colab": {
     "base_uri": "https://localhost:8080/"
    },
    "executionInfo": {
     "elapsed": 1134,
     "status": "ok",
     "timestamp": 1611422944317,
     "user": {
      "displayName": "Simos Gerasimou",
      "photoUrl": "https://lh3.googleusercontent.com/a-/AOh14GiyuWEDBGgnFKbsa3BAO5bWW-MwC5_V7MnUQz5JiA=s64",
      "userId": "13902192774339425778"
     },
     "user_tz": 0
    },
    "id": "tnzZc09yzFoD",
    "outputId": "9338ced9-7ed9-4bfa-f33a-297586b677db"
   },
   "outputs": [
    {
     "data": {
      "text/plain": [
       "(-1.3000000000000007, 1.0)"
      ]
     },
     "execution_count": 17,
     "metadata": {},
     "output_type": "execute_result"
    }
   ],
   "source": [
    "#Write your code here\n",
    "def minMaxDiff(diff):\n",
    "  return np.min(diff), np.max(diff)\n",
    "\n",
    "minMaxDiff(diff)"
   ]
  },
  {
   "cell_type": "markdown",
   "metadata": {
    "id": "-ABlrBOZIccv"
   },
   "source": [
    "**T3) Write a function that counts how many years York had more taxis with lower emission than Leeds**\n",
    "\n",
    "Hint: you may want to look at the NumPy functions _count_nonzero_ or _where_"
   ]
  },
  {
   "cell_type": "code",
   "execution_count": 18,
   "metadata": {
    "colab": {
     "base_uri": "https://localhost:8080/"
    },
    "executionInfo": {
     "elapsed": 1128,
     "status": "ok",
     "timestamp": 1611422944318,
     "user": {
      "displayName": "Simos Gerasimou",
      "photoUrl": "https://lh3.googleusercontent.com/a-/AOh14GiyuWEDBGgnFKbsa3BAO5bWW-MwC5_V7MnUQz5JiA=s64",
      "userId": "13902192774339425778"
     },
     "user_tz": 0
    },
    "id": "EYP7WcIKIq0h",
    "outputId": "1883197e-6d6a-48bd-f21b-82ec58da418c"
   },
   "outputs": [
    {
     "name": "stdout",
     "output_type": "stream",
     "text": [
      "4\n",
      "4\n"
     ]
    }
   ],
   "source": [
    "#Write your code here\n",
    "def countEmissions(a):\n",
    "  return np.count_nonzero(a > 0)\n",
    "\n",
    "def countEmissions2(a):\n",
    "  return np.size(np.where (a > 0))\n",
    "\n",
    "print(countEmissions(diff))\n",
    "print(countEmissions2(diff))"
   ]
  },
  {
   "cell_type": "markdown",
   "metadata": {
    "id": "8007YVt5E0fJ"
   },
   "source": [
    "**T4) Using the data for York taxis, create a 2D array in which each entry from the york array is associated with its year, e.g., [[2011, 2012, ...][0.00, 1.00, ...]]**\n",
    "\n",
    "Hints: \n",
    "* use the NumPy commands for array creation from above\n",
    "* check the vstack Numpy function\n"
   ]
  },
  {
   "cell_type": "code",
   "execution_count": 19,
   "metadata": {
    "colab": {
     "base_uri": "https://localhost:8080/"
    },
    "executionInfo": {
     "elapsed": 1121,
     "status": "ok",
     "timestamp": 1611422944319,
     "user": {
      "displayName": "Simos Gerasimou",
      "photoUrl": "https://lh3.googleusercontent.com/a-/AOh14GiyuWEDBGgnFKbsa3BAO5bWW-MwC5_V7MnUQz5JiA=s64",
      "userId": "13902192774339425778"
     },
     "user_tz": 0
    },
    "id": "3OHF54GUFhKj",
    "outputId": "e946b2cf-4cbc-44fd-fcce-a14af08f71ee"
   },
   "outputs": [
    {
     "data": {
      "text/plain": [
       "array([[2.011e+03, 2.012e+03, 2.013e+03, 2.014e+03, 2.015e+03, 2.016e+03,\n",
       "        2.017e+03, 2.018e+03, 2.019e+03],\n",
       "       [0.000e+00, 1.000e+00, 3.000e+00, 6.000e+00, 8.000e+00, 1.300e+01,\n",
       "        1.610e+01, 1.760e+01, 1.990e+01]])"
      ]
     },
     "execution_count": 19,
     "metadata": {},
     "output_type": "execute_result"
    }
   ],
   "source": [
    "#Write your code here\n",
    "years = np.arange(2011, 2020,1)\n",
    "yorkData = np.vstack((years, york))\n",
    "yorkData"
   ]
  },
  {
   "cell_type": "code",
   "execution_count": 20,
   "metadata": {
    "colab": {
     "base_uri": "https://localhost:8080/"
    },
    "executionInfo": {
     "elapsed": 1113,
     "status": "ok",
     "timestamp": 1611422944320,
     "user": {
      "displayName": "Simos Gerasimou",
      "photoUrl": "https://lh3.googleusercontent.com/a-/AOh14GiyuWEDBGgnFKbsa3BAO5bWW-MwC5_V7MnUQz5JiA=s64",
      "userId": "13902192774339425778"
     },
     "user_tz": 0
    },
    "id": "2rQ0-QM1RhMh",
    "outputId": "5d3e2bc8-13df-47d7-b493-6e16d5ed4427"
   },
   "outputs": [
    {
     "data": {
      "text/plain": [
       "array([[2.011e+03, 2.012e+03, 2.013e+03, 2.014e+03, 2.015e+03, 2.016e+03,\n",
       "        2.017e+03, 2.018e+03, 2.019e+03],\n",
       "       [0.000e+00, 1.000e+00, 3.000e+00, 6.000e+00, 8.000e+00, 1.300e+01,\n",
       "        1.610e+01, 1.760e+01, 1.990e+01]])"
      ]
     },
     "execution_count": 20,
     "metadata": {},
     "output_type": "execute_result"
    }
   ],
   "source": [
    "#This also works\n",
    "years = np.arange(2011, 2020,1)\n",
    "yorkData = np.array([years, york])\n",
    "yorkData"
   ]
  },
  {
   "cell_type": "markdown",
   "metadata": {
    "id": "RzQhLa5ARr7g"
   },
   "source": [
    "**Notes** \n",
    "\n",
    "* NumPy supports (primarily) homogeneous arrays (i.e., arrays of the same datatype). This is why the years are in the following format: $2.011e+03 = 2.011 x 10^3 = 2011$. \n",
    "* NumPy arrays can support heteregenous datatypes (see the next practical) but this is not ideal. Hence why in the following practicals we will switch to the Pandas library that has native support for manipulating datasets with heterogenous datatypes."
   ]
  },
  {
   "cell_type": "markdown",
   "metadata": {
    "id": "-w6tsDto2UM4"
   },
   "source": [
    "#### Read Chapter 2 - Introduction to NumPy from the Python Data Science Handbook\n",
    "https://jakevdp.github.io/PythonDataScienceHandbook/02.00-introduction-to-numpy.html"
   ]
  }
 ],
 "metadata": {
  "colab": {
   "authorship_tag": "ABX9TyPq6sO3WWhTwCBfurzknat6",
   "name": "DAT1-Jupyter and Numpy - Answers.ipynb",
   "provenance": []
  },
  "kernelspec": {
   "display_name": "Python 3",
   "language": "python",
   "name": "python3"
  },
  "language_info": {
   "codemirror_mode": {
    "name": "ipython",
    "version": 3
   },
   "file_extension": ".py",
   "mimetype": "text/x-python",
   "name": "python",
   "nbconvert_exporter": "python",
   "pygments_lexer": "ipython3",
   "version": "3.9.1"
  }
 },
 "nbformat": 4,
 "nbformat_minor": 1
}
