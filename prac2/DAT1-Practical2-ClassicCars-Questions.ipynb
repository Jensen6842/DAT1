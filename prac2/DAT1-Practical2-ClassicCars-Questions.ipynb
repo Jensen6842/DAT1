{
 "cells": [
  {
   "cell_type": "markdown",
   "metadata": {
    "id": "rpxHdvCRsrYk"
   },
   "source": [
    "# DATA 1 Practical 2 - Questions\n",
    "\n",
    "Simos Gerasimou\n",
    "\n",
    "\n",
    "## Classic Cars & Co\n",
    "\n",
    "Classic Cars & Co is a UK company that has a large collection of classic cars from the 1980s. \n",
    "\n",
    "DataVision (the company you are working as a Data Scientist) has been contracted to analyse the data available for the cars and provide insights by analysing the different characteristics of the cars (e.g., speed, price). \n",
    "\n",
    "This Jupyter Notebook will be presented to the Classic Cars & Co main stakeholders who have limited knowledge about data science. So, your findings should be complemented by a suitable justification explaining what you observe and, when applicable, what does this observation mean and, possibly, why it occurs. The analysis along with the explanation will help them to understand whether they need to invest more to expand their collection."
   ]
  },
  {
   "cell_type": "markdown",
   "metadata": {
    "id": "Hk3xhSRIzz1L"
   },
   "source": [
    "### **Important Information**\n",
    "\n",
    "(1) To answer these exercises, you **must first read Chapter 2: Introduction to NumPy from the Python Data Science Handbook** (https://jakevdp.github.io/PythonDataScienceHandbook/02.00-introduction-to-numpy.html)\n",
    "\n",
    "\n",
    "(2) For each question (task) a description is provided accompanied (most of the time) by two cells: one for writing the Python code and another for providing the justification. Feel free to add more cells if you feel they are needed, but keep the cells corresponding to the same question close by.\n",
    "\n",
    "**Hint 1**: If you find difficulties in solving a task, look at Chapter 2 from the Python Data Science Handbook.\n",
    "\n",
    "**Hint 2**: Solving each task using NumPy should require less than 10 lines of code"
   ]
  },
  {
   "cell_type": "markdown",
   "metadata": {
    "id": "vX1Wmo8A7Lhm"
   },
   "source": [
    "#### **T1) Explore the dataset and for each column write its name, data type (categorical/numerical - nominal,ordinal,discrete,continuous) and its meaning (i.e., what does it capture?)**\n",
    "\n",
    "* You may want to open the CSV file using a text editor (e.g., Notepad) or a spreadsheet editor (e.g., Excel)"
   ]
  },
  {
   "cell_type": "markdown",
   "metadata": {
    "id": "cIkkf9Hi_XQb"
   },
   "source": [
    "**Write your answer here (the first is given)**\n",
    "* Make: Categorical (Nominal) - The model of the car\n",
    "* ...."
   ]
  },
  {
   "cell_type": "markdown",
   "metadata": {
    "id": "QAMj3BTLz5TJ"
   },
   "source": [
    "### 1) Reading dataset\n",
    "\n",
    "The classic cars dataset is available on VLE (look for classicCars.csv in the Practicals section)"
   ]
  },
  {
   "cell_type": "code",
   "execution_count": 1,
   "metadata": {
    "id": "PMju2Rd-nb6R"
   },
   "outputs": [],
   "source": [
    "#Using NumPy to read the dataset\n",
    "import numpy as np\n",
    "#Define the path to the dataset\n",
    "data_path = \"ClassicCars.csv\"\n",
    "#Define the type of each dataset column. \n",
    "#This is needed because NumPy arrays cannot directly read files with different data types\n",
    "#Hence, we are using Structured arrays. \n",
    "#But, we will soon move to Pandas which makes data manipulation easier\n",
    "types = ['U20', 'U10', 'U5', 'U20', 'U3', 'f4', 'f4', 'f4', 'f4', 'U10', 'i4', 'i4', 'i4', 'i4', 'i4']\n",
    "#Read the dataset\n",
    "data = np.genfromtxt(data_path, dtype=types, delimiter=',', names=True)"
   ]
  },
  {
   "cell_type": "markdown",
   "metadata": {
    "id": "2iEJBv9kdIiI"
   },
   "source": [
    "**Structured Arrays**\n",
    "* Read more about structured arrays:\n",
    "  * https://jakevdp.github.io/PythonDataScienceHandbook/02.09-structured-data-numpy.html\n",
    "  * https://numpy.org/doc/stable/user/basics.rec.html"
   ]
  },
  {
   "cell_type": "markdown",
   "metadata": {
    "id": "yHoM-NXN-puT"
   },
   "source": [
    "### Analysing the dataset\n"
   ]
  },
  {
   "cell_type": "markdown",
   "metadata": {
    "id": "0gqds3bJAfIu"
   },
   "source": [
    "#### **Extracting the column names**"
   ]
  },
  {
   "cell_type": "code",
   "execution_count": 2,
   "metadata": {
    "id": "DT1aEd9q0t8-"
   },
   "outputs": [
    {
     "data": {
      "text/plain": [
       "('make',\n",
       " 'fueltype',\n",
       " 'numofdoors',\n",
       " 'bodystyle',\n",
       " 'drivewheels',\n",
       " 'wheelbase',\n",
       " 'length',\n",
       " 'width',\n",
       " 'height',\n",
       " 'numofcylinders',\n",
       " 'enginesize',\n",
       " 'horsepower',\n",
       " 'citympg',\n",
       " 'highwaympg',\n",
       " 'price')"
      ]
     },
     "execution_count": 2,
     "metadata": {},
     "output_type": "execute_result"
    }
   ],
   "source": [
    "data.dtype.names"
   ]
  },
  {
   "cell_type": "markdown",
   "metadata": {
    "id": "vPfhK50f7qEQ"
   },
   "source": [
    "#### **Extracting the shape of the array**"
   ]
  },
  {
   "cell_type": "code",
   "execution_count": 4,
   "metadata": {
    "id": "4CkIj9Yq-0a-"
   },
   "outputs": [
    {
     "name": "stdout",
     "output_type": "stream",
     "text": [
      "The shape of the array is:  (205,)\n",
      "('audi', 'gas', 'four', 'sedan', 'fwd', 105.8, 192.7, 71.4, 55.7, 'five', 136, 110, 19, 25, 17710)\n"
     ]
    }
   ],
   "source": [
    "print(\"The shape of the array is: \", data.shape)"
   ]
  },
  {
   "cell_type": "markdown",
   "metadata": {
    "id": "Fg3CoWGC--_q"
   },
   "source": [
    "#### **T2) What do you see?**\n",
    "* How many entries does the array have?\n",
    "* What does each entry include? \n",
    "* Hint: Print the elements of an entry\n"
   ]
  },
  {
   "cell_type": "markdown",
   "metadata": {
    "id": "VIdMJvfD_Otb"
   },
   "source": [
    "The array has 205 entries\n",
    "Each entry includes a make, fueltype, numofdoors, boydstyle, drivewheels, wheelbase, length, width, height, numofcylinders,enginesize, horsepower, citympg, highwaympg and price."
   ]
  },
  {
   "cell_type": "markdown",
   "metadata": {
    "id": "XhUpJlMf_wV8"
   },
   "source": [
    "#### **Extracting the entries of a column given its name**\n",
    "\n",
    "* By specifying the name of a column, you can get all the entries within the array for this column (reminder: you are using Structured Arrays)\n"
   ]
  },
  {
   "cell_type": "code",
   "execution_count": 5,
   "metadata": {
    "id": "6QMPnMLo_QwO"
   },
   "outputs": [
    {
     "name": "stdout",
     "output_type": "stream",
     "text": [
      "['alfa-romero' 'alfa-romero' 'alfa-romero' 'audi' 'audi' 'audi' 'audi'\n",
      " 'audi' 'audi' 'audi' 'bmw' 'bmw' 'bmw' 'bmw' 'bmw' 'bmw' 'bmw' 'bmw'\n",
      " 'chevrolet' 'chevrolet' 'chevrolet' 'dodge' 'dodge' 'dodge' 'dodge'\n",
      " 'dodge' 'dodge' 'dodge' 'dodge' 'dodge' 'honda' 'honda' 'honda' 'honda'\n",
      " 'honda' 'honda' 'honda' 'honda' 'honda' 'honda' 'honda' 'honda' 'honda'\n",
      " 'isuzu' 'isuzu' 'isuzu' 'isuzu' 'jaguar' 'jaguar' 'jaguar' 'mazda'\n",
      " 'mazda' 'mazda' 'mazda' 'mazda' 'mazda' 'mazda' 'mazda' 'mazda' 'mazda'\n",
      " 'mazda' 'mazda' 'mazda' 'mazda' 'mazda' 'mazda' 'mazda' 'mercedes-benz'\n",
      " 'mercedes-benz' 'mercedes-benz' 'mercedes-benz' 'mercedes-benz'\n",
      " 'mercedes-benz' 'mercedes-benz' 'mercedes-benz' 'mercury' 'mitsubishi'\n",
      " 'mitsubishi' 'mitsubishi' 'mitsubishi' 'mitsubishi' 'mitsubishi'\n",
      " 'mitsubishi' 'mitsubishi' 'mitsubishi' 'mitsubishi' 'mitsubishi'\n",
      " 'mitsubishi' 'mitsubishi' 'nissan' 'nissan' 'nissan' 'nissan' 'nissan'\n",
      " 'nissan' 'nissan' 'nissan' 'nissan' 'nissan' 'nissan' 'nissan' 'nissan'\n",
      " 'nissan' 'nissan' 'nissan' 'nissan' 'nissan' 'peugot' 'peugot' 'peugot'\n",
      " 'peugot' 'peugot' 'peugot' 'peugot' 'peugot' 'peugot' 'peugot' 'peugot'\n",
      " 'plymouth' 'plymouth' 'plymouth' 'plymouth' 'plymouth' 'plymouth'\n",
      " 'plymouth' 'porsche' 'porsche' 'porsche' 'porsche' 'porsche' 'renault'\n",
      " 'renault' 'saab' 'saab' 'saab' 'saab' 'saab' 'saab' 'subaru' 'subaru'\n",
      " 'subaru' 'subaru' 'subaru' 'subaru' 'subaru' 'subaru' 'subaru' 'subaru'\n",
      " 'subaru' 'subaru' 'toyota' 'toyota' 'toyota' 'toyota' 'toyota' 'toyota'\n",
      " 'toyota' 'toyota' 'toyota' 'toyota' 'toyota' 'toyota' 'toyota' 'toyota'\n",
      " 'toyota' 'toyota' 'toyota' 'toyota' 'toyota' 'toyota' 'toyota' 'toyota'\n",
      " 'toyota' 'toyota' 'toyota' 'toyota' 'toyota' 'toyota' 'toyota' 'toyota'\n",
      " 'toyota' 'toyota' 'volkswagen' 'volkswagen' 'volkswagen' 'volkswagen'\n",
      " 'volkswagen' 'volkswagen' 'volkswagen' 'volkswagen' 'volkswagen'\n",
      " 'volkswagen' 'volkswagen' 'volkswagen' 'volvo' 'volvo' 'volvo' 'volvo'\n",
      " 'volvo' 'volvo' 'volvo' 'volvo' 'volvo' 'volvo' 'volvo']\n"
     ]
    }
   ],
   "source": [
    "print(data['make'])"
   ]
  },
  {
   "cell_type": "markdown",
   "metadata": {
    "id": "yOO8Q7W5A9Cf"
   },
   "source": [
    "#### **T3) Extract the bodystyles within the dataset**\n"
   ]
  },
  {
   "cell_type": "code",
   "execution_count": 6,
   "metadata": {
    "id": "O18vqYhL0_91"
   },
   "outputs": [
    {
     "name": "stdout",
     "output_type": "stream",
     "text": [
      "['convertible' 'convertible' 'hatchback' 'sedan' 'sedan' 'sedan' 'sedan'\n",
      " 'wagon' 'sedan' 'hatchback' 'sedan' 'sedan' 'sedan' 'sedan' 'sedan'\n",
      " 'sedan' 'sedan' 'sedan' 'hatchback' 'hatchback' 'sedan' 'hatchback'\n",
      " 'hatchback' 'hatchback' 'hatchback' 'sedan' 'sedan' 'sedan' 'wagon'\n",
      " 'hatchback' 'hatchback' 'hatchback' 'hatchback' 'hatchback' 'hatchback'\n",
      " 'sedan' 'wagon' 'hatchback' 'hatchback' 'sedan' 'sedan' 'sedan' 'sedan'\n",
      " 'sedan' 'sedan' 'sedan' 'hatchback' 'sedan' 'sedan' 'sedan' 'hatchback'\n",
      " 'hatchback' 'hatchback' 'sedan' 'sedan' 'hatchback' 'hatchback'\n",
      " 'hatchback' 'hatchback' 'hatchback' 'sedan' 'hatchback' 'sedan' 'sedan'\n",
      " 'hatchback' 'sedan' 'sedan' 'sedan' 'wagon' 'hardtop' 'sedan' 'sedan'\n",
      " 'convertible' 'sedan' 'hardtop' 'hatchback' 'hatchback' 'hatchback'\n",
      " 'hatchback' 'hatchback' 'hatchback' 'hatchback' 'hatchback' 'hatchback'\n",
      " 'hatchback' 'sedan' 'sedan' 'sedan' 'sedan' 'sedan' 'sedan' 'sedan'\n",
      " 'sedan' 'wagon' 'sedan' 'hatchback' 'sedan' 'wagon' 'hardtop' 'hatchback'\n",
      " 'sedan' 'sedan' 'wagon' 'sedan' 'hatchback' 'hatchback' 'hatchback'\n",
      " 'sedan' 'sedan' 'wagon' 'wagon' 'sedan' 'sedan' 'wagon' 'wagon' 'sedan'\n",
      " 'sedan' 'sedan' 'hatchback' 'hatchback' 'hatchback' 'sedan' 'sedan'\n",
      " 'wagon' 'hatchback' 'hatchback' 'hardtop' 'hardtop' 'convertible'\n",
      " 'hatchback' 'wagon' 'hatchback' 'hatchback' 'sedan' 'hatchback' 'sedan'\n",
      " 'hatchback' 'sedan' 'hatchback' 'hatchback' 'hatchback' 'sedan' 'sedan'\n",
      " 'sedan' 'sedan' 'sedan' 'wagon' 'wagon' 'wagon' 'wagon' 'hatchback'\n",
      " 'hatchback' 'hatchback' 'wagon' 'wagon' 'wagon' 'sedan' 'hatchback'\n",
      " 'sedan' 'hatchback' 'sedan' 'hatchback' 'sedan' 'sedan' 'hatchback'\n",
      " 'sedan' 'hatchback' 'hardtop' 'hardtop' 'hatchback' 'hardtop' 'hatchback'\n",
      " 'convertible' 'sedan' 'sedan' 'hatchback' 'sedan' 'hatchback' 'hatchback'\n",
      " 'hatchback' 'sedan' 'wagon' 'sedan' 'sedan' 'sedan' 'sedan' 'sedan'\n",
      " 'sedan' 'sedan' 'convertible' 'hatchback' 'sedan' 'sedan' 'wagon' 'sedan'\n",
      " 'wagon' 'sedan' 'wagon' 'sedan' 'wagon' 'sedan' 'sedan' 'sedan' 'sedan'\n",
      " 'sedan']\n"
     ]
    }
   ],
   "source": [
    "print(data['bodystyle'])"
   ]
  },
  {
   "cell_type": "markdown",
   "metadata": {
    "id": "bIcT8mO1gIca"
   },
   "source": [
    "### How do the car prices look like?\n"
   ]
  },
  {
   "cell_type": "markdown",
   "metadata": {
    "id": "yDfhYbopgUZ6"
   },
   "source": [
    "#### **T4) Calculate the range of car prices for the entire dataset**\n"
   ]
  },
  {
   "cell_type": "code",
   "execution_count": 17,
   "metadata": {
    "id": "QQcVX89v9uZ3"
   },
   "outputs": [
    {
     "name": "stdout",
     "output_type": "stream",
     "text": [
      "40282\n"
     ]
    }
   ],
   "source": [
    "print(np.ptp(data['price']))"
   ]
  },
  {
   "cell_type": "markdown",
   "metadata": {
    "id": "KpIcl1T0kpIS"
   },
   "source": [
    "#### **T5) Calculate the min, max, mean and median prices of the cars**\n"
   ]
  },
  {
   "cell_type": "code",
   "execution_count": 19,
   "metadata": {
    "id": "KAm74_4ShDA_"
   },
   "outputs": [
    {
     "name": "stdout",
     "output_type": "stream",
     "text": [
      "5118\n",
      "45400\n",
      "13300.239024390245\n",
      "10345.0\n"
     ]
    }
   ],
   "source": [
    "print(np.min(data['price']))\n",
    "print(np.max(data['price']))\n",
    "print(np.mean(data['price']))\n",
    "print(np.median(data['price']))"
   ]
  },
  {
   "cell_type": "markdown",
   "metadata": {
    "id": "HCy66heJlRw9"
   },
   "source": [
    "#### **T6) Considering the values calculated above, what insights can you extract? Where do you think the majority of car prices will be clustered?**\n"
   ]
  },
  {
   "cell_type": "markdown",
   "metadata": {
    "id": "DcaTJEKIlroR"
   },
   "source": [
    "The min is 5118 and range is 40282. The median, 10345 is roughly 5000 away from the min compared to 25000 away from the max so most prices are probably close to 5118."
   ]
  },
  {
   "cell_type": "markdown",
   "metadata": {
    "id": "fAjvb8alhtHm"
   },
   "source": [
    "#### **T7) Write code to calculate the standard deviation for the car prices. Then use the corresponding NumPy function to confirm the correctness of your calculation**\n",
    "\n"
   ]
  },
  {
   "cell_type": "code",
   "execution_count": 45,
   "metadata": {
    "id": "JDwSTd5Zggg_"
   },
   "outputs": [
    {
     "name": "stdout",
     "output_type": "stream",
     "text": [
      "7969.541401038539\n",
      "7969.54140103854\n"
     ]
    }
   ],
   "source": [
    "var = 0\n",
    "for i in range(len(data)):\n",
    "    var += (data[i]['price'] - np.mean(data['price']))**2\n",
    "var = var/len(data)\n",
    "print(np.sqrt(var))\n",
    "print(np.std(data['price']))"
   ]
  },
  {
   "cell_type": "markdown",
   "metadata": {
    "id": "W7tcuWdtnZGV"
   },
   "source": [
    "#### **T8) Find the details of cars with the smallest and largest car volumes**\n",
    "* Hint: see how to calculate the volume of a car https://info.japanesecartrade.com/content-item/297-what-is-m3-cubic-meter-size-of-a-vehicle\n"
   ]
  },
  {
   "cell_type": "code",
   "execution_count": 52,
   "metadata": {
    "id": "mXdzNLqnhfQX"
   },
   "outputs": [
    {
     "name": "stdout",
     "output_type": "stream",
     "text": [
      "('chevrolet', 'gas', 'two', 'hatchback', 'fwd', 88.4, 141.1, 60.3, 53.2, 'three', 61, 48, 47, 53, 5151)\n",
      "has the minimum M3 of 452643.16\n",
      "('mercedes-benz', 'gas', 'four', 'sedan', 'rwd', 120.9, 208.1, 71.7, 56.7, 'eight', 308, 184, 14, 16, 40960)\n",
      "has the maximum M3 of 846007.6\n"
     ]
    }
   ],
   "source": [
    "minM3 = 0\n",
    "minIndex = 0\n",
    "maxM3 = 0\n",
    "maxIndex = 0\n",
    "for i in range(len(data)):\n",
    "    M3 = data[i]['width'] * data[i]['length'] * data[i]['height']\n",
    "    if minM3 == 0 or M3 < minM3:\n",
    "        minM3 = M3\n",
    "        minIndex = i\n",
    "    if M3 > maxM3:\n",
    "        maxM3 = M3\n",
    "        maxIndex = i\n",
    "print(data[minIndex])\n",
    "print('has the minimum M3 of', minM3)\n",
    "print(data[maxIndex])\n",
    "print('has the maximum M3 of', maxM3)"
   ]
  },
  {
   "cell_type": "markdown",
   "metadata": {
    "id": "cmck40GQqfoR"
   },
   "source": [
    "#### **T9) Find the different types of bodystyles for the cars in the dataset**\n",
    "\n",
    "* Hint: You may want to check: https://numpy.org/doc/stable/reference/generated/numpy.unique.html"
   ]
  },
  {
   "cell_type": "code",
   "execution_count": 53,
   "metadata": {
    "id": "DeTMBSCJp3gD"
   },
   "outputs": [
    {
     "name": "stdout",
     "output_type": "stream",
     "text": [
      "['convertible' 'hardtop' 'hatchback' 'sedan' 'wagon']\n"
     ]
    }
   ],
   "source": [
    "print(np.unique(data['bodystyle']))"
   ]
  },
  {
   "cell_type": "markdown",
   "metadata": {
    "id": "BXF8kjW-sJaq"
   },
   "source": [
    "#### **T10) Find the number of different car *brands* (makes)**\n"
   ]
  },
  {
   "cell_type": "code",
   "execution_count": 55,
   "metadata": {
    "id": "zJTWSXxrsJE3"
   },
   "outputs": [
    {
     "name": "stdout",
     "output_type": "stream",
     "text": [
      "22\n"
     ]
    }
   ],
   "source": [
    "print(len(np.unique(data['make'])))"
   ]
  },
  {
   "cell_type": "markdown",
   "metadata": {
    "id": "h4Ab2ovntRV-"
   },
   "source": [
    "#### **T11) Find the engine size and the horsepower for the most and least efficient cars when driven in the city and the highway (i.e., the cars with the smallest and largest difference in fuel consumption when driven in the city and the highway)**"
   ]
  },
  {
   "cell_type": "code",
   "execution_count": 58,
   "metadata": {
    "id": "fzzrezV8rQ3O"
   },
   "outputs": [
    {
     "name": "stdout",
     "output_type": "stream",
     "text": [
      "The most efficient car has and engine size of 203 and a horsepower of 288\n",
      "The most efficient car has and engine size of 130 and a horsepower of 111\n"
     ]
    }
   ],
   "source": [
    "mostEff = 0\n",
    "mostIndex = 0\n",
    "leastEff = 0\n",
    "leastIndex = 0\n",
    "for i in range(len(data)):\n",
    "    Eff = data[i]['citympg'] - data[i]['highwaympg']\n",
    "    if leastEff == 0 or Eff < leastEff:\n",
    "        leastEff = Eff\n",
    "        leastIndex = i\n",
    "    if Eff > mostEff:\n",
    "        mostEff = Eff\n",
    "        mostEff = i\n",
    "print('The least efficient car has and engine size of', data[leastIndex]['enginesize'], 'and a horsepower of', data[leastIndex]['horsepower'])\n",
    "print('The most efficient car has and engine size of', data[mostIndex]['enginesize'], 'and a horsepower of', data[mostIndex]['horsepower'])"
   ]
  },
  {
   "cell_type": "markdown",
   "metadata": {
    "id": "Er9o39z8xge3"
   },
   "source": [
    "#### **T12) Find the make with the largest number of cars and how many they are**"
   ]
  },
  {
   "cell_type": "code",
   "execution_count": 62,
   "metadata": {
    "id": "pWyEz0bTueot"
   },
   "outputs": [
    {
     "name": "stdout",
     "output_type": "stream",
     "text": [
      "The make with the largest number of cars is dodge with 140 cars\n"
     ]
    }
   ],
   "source": [
    "mostCars = 0\n",
    "mostIndex = 0\n",
    "cars = 0\n",
    "for i in range(len(np.unique(data['make']))):\n",
    "    for j in range(len(data)):\n",
    "        if data[j]['make'] == data[i]['make'] :\n",
    "               cars += 1\n",
    "    if cars > mostCars:\n",
    "        mostCars = cars\n",
    "        mostIndex = i\n",
    "print('The make with the largest number of cars is', data[mostIndex]['make'], 'with', mostCars, 'cars')"
   ]
  },
  {
   "cell_type": "markdown",
   "metadata": {
    "id": "Kmy1NtyW0tzm"
   },
   "source": [
    "#### **T13) Find how many cars have a wheel base greater than 100**\n",
    "\n",
    "* Hint: See https://jakevdp.github.io/PythonDataScienceHandbook/02.06-boolean-arrays-and-masks.html"
   ]
  },
  {
   "cell_type": "code",
   "execution_count": 64,
   "metadata": {
    "id": "ZG-vBKvjxrR7"
   },
   "outputs": [
    {
     "name": "stdout",
     "output_type": "stream",
     "text": [
      "63 cars have a wheel base greater than 100\n"
     ]
    }
   ],
   "source": [
    "cars = 0\n",
    "for i in range(len(data)):\n",
    "    if data[i]['wheelbase'] > 100:\n",
    "        cars += 1\n",
    "print(cars, 'cars have a wheel base greater than 100')"
   ]
  },
  {
   "cell_type": "markdown",
   "metadata": {
    "id": "t3-PcX9C4VLi"
   },
   "source": [
    "#### **T14) Find if there are any convertible cars that cost less than £15000**\n",
    "\n",
    "* Hint: See https://jakevdp.github.io/PythonDataScienceHandbook/02.06-boolean-arrays-and-masks.html"
   ]
  },
  {
   "cell_type": "code",
   "execution_count": 71,
   "metadata": {
    "id": "CkVfwmoG4ewY"
   },
   "outputs": [
    {
     "name": "stdout",
     "output_type": "stream",
     "text": [
      "There is no convertible cars that are less than £15000\n"
     ]
    }
   ],
   "source": [
    "boolean = False\n",
    "for i in range(len(data)):\n",
    "    if data[i]['bodystyle'] == 'converitble' and data[i][price] < 15000.00:\n",
    "        boolean = True\n",
    "        break\n",
    "if boolean is True:\n",
    "    print('There is convertible cars that are less than £15000')\n",
    "else:\n",
    "    print('There is no convertible cars that are less than £15000')"
   ]
  },
  {
   "cell_type": "markdown",
   "metadata": {
    "id": "ywJYQraH1onP"
   },
   "source": [
    "#### **T15) Calculate the interquartile range for the price of all cars**"
   ]
  },
  {
   "cell_type": "code",
   "execution_count": 79,
   "metadata": {
    "id": "8M9_FnENyWWU"
   },
   "outputs": [
    {
     "name": "stdout",
     "output_type": "stream",
     "text": [
      "Interquartile range of prices is 8715.0\n"
     ]
    }
   ],
   "source": [
    "Q1 = np.percentile(data['price'], 25)\n",
    "Q3 = np.percentile(data['price'], 75)\n",
    "IQ = Q3-Q1\n",
    "print(\"Interquartile range of prices is\", IQ)"
   ]
  },
  {
   "cell_type": "markdown",
   "metadata": {
    "id": "K81ZLhTh2jyc"
   },
   "source": [
    "#### **T16) Calculate the 50th percentile range for the horsepower of all cars. Which value is the 50th percentile equal to?**"
   ]
  },
  {
   "cell_type": "code",
   "execution_count": 82,
   "metadata": {
    "id": "q1QNhunw2Lnr"
   },
   "outputs": [
    {
     "name": "stdout",
     "output_type": "stream",
     "text": [
      "The 50th percentile range is for horsepower is 46.0\n",
      "The 50th percentile of horsepower is 95.0\n"
     ]
    }
   ],
   "source": [
    "print('The 50th percentile range is for horsepower is', np.percentile(data['horsepower'], 75) - np.percentile(data['horsepower'], 25))\n",
    "print('The 50th percentile of horsepower is', np.percentile(data['horsepower'], 50))"
   ]
  },
  {
   "cell_type": "markdown",
   "metadata": {
    "id": "GporTyn66Rkz"
   },
   "source": [
    "### Ideas for practicing further at home\n",
    "\n",
    "* Find the engine and horsepower of 4wd cars\n",
    "* Find whether diesel or gas cars are more efficient in the city/highway\n",
    "* Any other analysis that you might could generate some useful insight.\n"
   ]
  }
 ],
 "metadata": {
  "colab": {
   "authorship_tag": "ABX9TyPgs+k0a0z6n+bqTsaPcWej",
   "name": "DAT1-Practical2-ClassicCars-ModelAnswers.ipynb",
   "provenance": []
  },
  "kernelspec": {
   "display_name": "Python 3",
   "language": "python",
   "name": "python3"
  },
  "language_info": {
   "codemirror_mode": {
    "name": "ipython",
    "version": 3
   },
   "file_extension": ".py",
   "mimetype": "text/x-python",
   "name": "python",
   "nbconvert_exporter": "python",
   "pygments_lexer": "ipython3",
   "version": "3.8.3"
  }
 },
 "nbformat": 4,
 "nbformat_minor": 1
}
