{
 "cells": [
  {
   "cell_type": "markdown",
   "metadata": {
    "id": "rpxHdvCRsrYk"
   },
   "source": [
    "# DATA 1 Practical 2 - Model Answers\n",
    "\n",
    "Simos Gerasimou\n",
    "\n",
    "\n",
    "## Classic Cars & Co\n",
    "\n",
    "Classic Cars & Co is a UK company that has a large collection of classic cars from the 1980s. \n",
    "\n",
    "DataVision (the company you are working as a Data Scientist) has been contracted to analyse the data available for the cars and provide insights by analysing the different characteristics of the cars (e.g., speed, price). \n",
    "\n",
    "This Jupyter Notebook will be presented to the Classic Cars & Co main stakeholders who have limited knowledge about data science. So, your findings should be complemented by a suitable justification explaining what you observe and, when applicable, what does this observation mean and, possibly, why it occurs. The analysis along with the explanation will help them to understand whether they need to invest more to expand their collection."
   ]
  },
  {
   "cell_type": "markdown",
   "metadata": {
    "id": "Hk3xhSRIzz1L"
   },
   "source": [
    "### **Important Information**\n",
    "\n",
    "(1) To answer these exercises, you **must first read Chapter 2: Introduction to NumPy from the Python Data Science Handbook** (https://jakevdp.github.io/PythonDataScienceHandbook/02.00-introduction-to-numpy.html)\n",
    "\n",
    "\n",
    "(2) For each question (task) a description is provided accompanied (most of the time) by two cells: one for writing the Python code and another for providing the justification. Feel free to add more cells if you feel they are needed, but keep the cells corresponding to the same question close by.\n",
    "\n",
    "**Hint 1**: If you find difficulties in solving a task, look at Chapter 2 from the Python Data Science Handbook.\n",
    "\n",
    "**Hint 2**: Solving each task using NumPy should require less than 10 lines of code"
   ]
  },
  {
   "cell_type": "markdown",
   "metadata": {
    "id": "vX1Wmo8A7Lhm"
   },
   "source": [
    "#### **T1) Explore the dataset and for each column write its name, data type (categorical/numerical - nominal,ordinal,discrete,continuous) and its meaning (i.e., what does it capture?)**\n",
    "\n",
    "* You may want to open the CSV file using a text editor (e.g., Notepad) or a spreadsheet editor (e.g., Excel)"
   ]
  },
  {
   "cell_type": "markdown",
   "metadata": {
    "id": "cIkkf9Hi_XQb"
   },
   "source": [
    "**Write your answer here (the first is given)**\n",
    "\n",
    "* **make**: Categorical (Nominal) - The model of the car\n",
    "* **fueltype**: Categorical (Nominal) - The fuel consumed by the car (gas,diesel)\n",
    "* **numofdoors**: Categorical (Ordinal) - The number of doors (two,four); Note: this is not Numerical (Discrete)\n",
    "* **bodystyle**: Categorical (Nominal) - The bodystyle of the car (convertible, hardtop, hatchback, sedan, wagon)\n",
    "* **drivewheels**: Categorical (Nominal) - The drivewheels of the car (4wd, fwd, rwd), i.e., 4-wheel-drive, front-wheel-drive, rear-wheel-drive\n",
    "* **wheelbase**:\tNumerical (Continous) - The car's wheel base\n",
    "* **length**: Numerical (Continous) - The car's length\n",
    "* **width**:\tNumerical (Continous) - The car's width\n",
    "* **height**: Numerical (Continous) - The car's height\n",
    "* **numofcylinders**: Categorical (Ordinal) - Number of cylinders (two, three, four, five, six, eight, twelve)\n",
    "*\t**enginesize**: Numerical (Discrete) - The car's engine size\n",
    "* **horsepower**: Numerical (Discrete) - The car's horsepower\n",
    "*\t**citympg**: Numerical (Discrete) - Miles per gallon consumed by the car in the city\n",
    "* **highwaympg**:\tNumerical (Discrete) - Miles per gallon consumed by the car in the highway\n",
    "* **price**: Numerical (Discrete) - The car's price\n",
    "\n",
    "**Other key observations**\n",
    "\n",
    "1) the vocabulary used is targeted to North America (e.g., gallons). This can happen, for instance, if the software engineering team that designed the software is USA-based or if the company has purachsed a COTS software. Hence, additional effort may be needed for UK data scientist to understand this dataset and interpret it for any UK stakeholders.\n",
    "\n",
    "2) the numerical data lacks any units. Therefore, we should assume the most commonly used units in the USA (miles, gallons, inches, cubic inches, dollars)\n",
    "\n",
    "3) There is a lack of car model information, i.e., only make informatioon is specified, not model (e.g., Audi - not Audi A4 etc). Thus, the table does not provide key information.\n"
   ]
  },
  {
   "cell_type": "markdown",
   "metadata": {
    "id": "QAMj3BTLz5TJ"
   },
   "source": [
    "### 1) Reading dataset\n",
    "\n",
    "The classic cars dataset is available on VLE (look for classicCars.csv in the Practicals section)"
   ]
  },
  {
   "cell_type": "code",
   "execution_count": 1,
   "metadata": {
    "executionInfo": {
     "elapsed": 1319,
     "status": "ok",
     "timestamp": 1611944362071,
     "user": {
      "displayName": "Simos Gerasimou",
      "photoUrl": "https://lh3.googleusercontent.com/a-/AOh14GiyuWEDBGgnFKbsa3BAO5bWW-MwC5_V7MnUQz5JiA=s64",
      "userId": "13902192774339425778"
     },
     "user_tz": 0
    },
    "id": "PMju2Rd-nb6R"
   },
   "outputs": [],
   "source": [
    "#Using NumPy to read the dataset\n",
    "import numpy as np\n",
    "#Define the path to the dataset\n",
    "data_path = \"ClassicCars.csv\"\n",
    "#Define the type of each dataset column. \n",
    "#This is needed because NumPy arrays cannot directly read files with different data types\n",
    "#Hence, we are using Structured arrays. \n",
    "#But, we will soon move to Pandas which makes data manipulation easier\n",
    "types = ['U20', 'U10', 'U5', 'U20', 'U3', 'f4', 'f4', 'f4', 'f4', 'U10', 'i4', 'i4', 'i4', 'i4', 'i4']\n",
    "#Read the dataset\n",
    "data = np.genfromtxt(data_path, dtype=types, delimiter=',', names=True)"
   ]
  },
  {
   "cell_type": "markdown",
   "metadata": {
    "id": "2iEJBv9kdIiI"
   },
   "source": [
    "**Structured Arrays**\n",
    "* Read more about structured arrays:\n",
    "  * https://jakevdp.github.io/PythonDataScienceHandbook/02.09-structured-data-numpy.html\n",
    "  * https://numpy.org/doc/stable/user/basics.rec.html"
   ]
  },
  {
   "cell_type": "markdown",
   "metadata": {
    "id": "yHoM-NXN-puT"
   },
   "source": [
    "### Analysing the dataset\n"
   ]
  },
  {
   "cell_type": "markdown",
   "metadata": {
    "id": "0gqds3bJAfIu"
   },
   "source": [
    "#### **Extracting the column names**"
   ]
  },
  {
   "cell_type": "code",
   "execution_count": 2,
   "metadata": {
    "colab": {
     "base_uri": "https://localhost:8080/"
    },
    "executionInfo": {
     "elapsed": 1690,
     "status": "ok",
     "timestamp": 1611944362462,
     "user": {
      "displayName": "Simos Gerasimou",
      "photoUrl": "https://lh3.googleusercontent.com/a-/AOh14GiyuWEDBGgnFKbsa3BAO5bWW-MwC5_V7MnUQz5JiA=s64",
      "userId": "13902192774339425778"
     },
     "user_tz": 0
    },
    "id": "DT1aEd9q0t8-",
    "outputId": "702d6b82-dfab-4b00-e4e0-73ff0777e37a"
   },
   "outputs": [
    {
     "data": {
      "text/plain": [
       "('make',\n",
       " 'fueltype',\n",
       " 'numofdoors',\n",
       " 'bodystyle',\n",
       " 'drivewheels',\n",
       " 'wheelbase',\n",
       " 'length',\n",
       " 'width',\n",
       " 'height',\n",
       " 'numofcylinders',\n",
       " 'enginesize',\n",
       " 'horsepower',\n",
       " 'citympg',\n",
       " 'highwaympg',\n",
       " 'price')"
      ]
     },
     "execution_count": 2,
     "metadata": {},
     "output_type": "execute_result"
    }
   ],
   "source": [
    "data.dtype.names"
   ]
  },
  {
   "cell_type": "markdown",
   "metadata": {
    "id": "vPfhK50f7qEQ"
   },
   "source": [
    "#### **Extracting the shape of the array**"
   ]
  },
  {
   "cell_type": "code",
   "execution_count": 3,
   "metadata": {
    "colab": {
     "base_uri": "https://localhost:8080/"
    },
    "executionInfo": {
     "elapsed": 1686,
     "status": "ok",
     "timestamp": 1611944362464,
     "user": {
      "displayName": "Simos Gerasimou",
      "photoUrl": "https://lh3.googleusercontent.com/a-/AOh14GiyuWEDBGgnFKbsa3BAO5bWW-MwC5_V7MnUQz5JiA=s64",
      "userId": "13902192774339425778"
     },
     "user_tz": 0
    },
    "id": "4CkIj9Yq-0a-",
    "outputId": "aeda5d7b-58dd-45ee-a6d5-638f0f888f2a"
   },
   "outputs": [
    {
     "name": "stdout",
     "output_type": "stream",
     "text": [
      "The shape of the array is:  (205,)\n"
     ]
    }
   ],
   "source": [
    "print(\"The shape of the array is: \", data.shape)"
   ]
  },
  {
   "cell_type": "markdown",
   "metadata": {
    "id": "Fg3CoWGC--_q"
   },
   "source": [
    "#### **T2) What do you see?**\n",
    "* How many entries does the array have?\n",
    "* What does each entry include? \n",
    "* Hint: Print the elements of an entry\n"
   ]
  },
  {
   "cell_type": "markdown",
   "metadata": {
    "id": "VIdMJvfD_Otb"
   },
   "source": [
    "**Write your answer here**\n",
    "\n",
    "* The array (dataset) has 205 entries, i.e., it keeps information for 205 cars\n",
    "* Each entry provides information for each car that the company has purchased"
   ]
  },
  {
   "cell_type": "markdown",
   "metadata": {
    "id": "XhUpJlMf_wV8"
   },
   "source": [
    "#### **Extracting the entries of a column given its name**\n",
    "\n",
    "* By specifying the name of a column, you can get all the entries within the array for this column (reminder: you are using Structured Arrays)\n"
   ]
  },
  {
   "cell_type": "code",
   "execution_count": 4,
   "metadata": {
    "colab": {
     "base_uri": "https://localhost:8080/"
    },
    "executionInfo": {
     "elapsed": 1678,
     "status": "ok",
     "timestamp": 1611944362464,
     "user": {
      "displayName": "Simos Gerasimou",
      "photoUrl": "https://lh3.googleusercontent.com/a-/AOh14GiyuWEDBGgnFKbsa3BAO5bWW-MwC5_V7MnUQz5JiA=s64",
      "userId": "13902192774339425778"
     },
     "user_tz": 0
    },
    "id": "6QMPnMLo_QwO",
    "outputId": "2e4fd058-63f6-4c78-cf62-9154ffbc33a6"
   },
   "outputs": [
    {
     "name": "stdout",
     "output_type": "stream",
     "text": [
      "['alfa-romero' 'alfa-romero' 'alfa-romero' 'audi' 'audi' 'audi' 'audi'\n",
      " 'audi' 'audi' 'audi' 'bmw' 'bmw' 'bmw' 'bmw' 'bmw' 'bmw' 'bmw' 'bmw'\n",
      " 'chevrolet' 'chevrolet' 'chevrolet' 'dodge' 'dodge' 'dodge' 'dodge'\n",
      " 'dodge' 'dodge' 'dodge' 'dodge' 'dodge' 'honda' 'honda' 'honda' 'honda'\n",
      " 'honda' 'honda' 'honda' 'honda' 'honda' 'honda' 'honda' 'honda' 'honda'\n",
      " 'isuzu' 'isuzu' 'isuzu' 'isuzu' 'jaguar' 'jaguar' 'jaguar' 'mazda'\n",
      " 'mazda' 'mazda' 'mazda' 'mazda' 'mazda' 'mazda' 'mazda' 'mazda' 'mazda'\n",
      " 'mazda' 'mazda' 'mazda' 'mazda' 'mazda' 'mazda' 'mazda' 'mercedes-benz'\n",
      " 'mercedes-benz' 'mercedes-benz' 'mercedes-benz' 'mercedes-benz'\n",
      " 'mercedes-benz' 'mercedes-benz' 'mercedes-benz' 'mercury' 'mitsubishi'\n",
      " 'mitsubishi' 'mitsubishi' 'mitsubishi' 'mitsubishi' 'mitsubishi'\n",
      " 'mitsubishi' 'mitsubishi' 'mitsubishi' 'mitsubishi' 'mitsubishi'\n",
      " 'mitsubishi' 'mitsubishi' 'nissan' 'nissan' 'nissan' 'nissan' 'nissan'\n",
      " 'nissan' 'nissan' 'nissan' 'nissan' 'nissan' 'nissan' 'nissan' 'nissan'\n",
      " 'nissan' 'nissan' 'nissan' 'nissan' 'nissan' 'peugot' 'peugot' 'peugot'\n",
      " 'peugot' 'peugot' 'peugot' 'peugot' 'peugot' 'peugot' 'peugot' 'peugot'\n",
      " 'plymouth' 'plymouth' 'plymouth' 'plymouth' 'plymouth' 'plymouth'\n",
      " 'plymouth' 'porsche' 'porsche' 'porsche' 'porsche' 'porsche' 'renault'\n",
      " 'renault' 'saab' 'saab' 'saab' 'saab' 'saab' 'saab' 'subaru' 'subaru'\n",
      " 'subaru' 'subaru' 'subaru' 'subaru' 'subaru' 'subaru' 'subaru' 'subaru'\n",
      " 'subaru' 'subaru' 'toyota' 'toyota' 'toyota' 'toyota' 'toyota' 'toyota'\n",
      " 'toyota' 'toyota' 'toyota' 'toyota' 'toyota' 'toyota' 'toyota' 'toyota'\n",
      " 'toyota' 'toyota' 'toyota' 'toyota' 'toyota' 'toyota' 'toyota' 'toyota'\n",
      " 'toyota' 'toyota' 'toyota' 'toyota' 'toyota' 'toyota' 'toyota' 'toyota'\n",
      " 'toyota' 'toyota' 'volkswagen' 'volkswagen' 'volkswagen' 'volkswagen'\n",
      " 'volkswagen' 'volkswagen' 'volkswagen' 'volkswagen' 'volkswagen'\n",
      " 'volkswagen' 'volkswagen' 'volkswagen' 'volvo' 'volvo' 'volvo' 'volvo'\n",
      " 'volvo' 'volvo' 'volvo' 'volvo' 'volvo' 'volvo' 'volvo']\n"
     ]
    }
   ],
   "source": [
    "#Print the entries within the 'make' column\n",
    "print(data['make'])"
   ]
  },
  {
   "cell_type": "markdown",
   "metadata": {
    "id": "yOO8Q7W5A9Cf"
   },
   "source": [
    "#### **T3) Extract the bodystyles within the dataset**\n"
   ]
  },
  {
   "cell_type": "code",
   "execution_count": 5,
   "metadata": {
    "colab": {
     "base_uri": "https://localhost:8080/"
    },
    "executionInfo": {
     "elapsed": 1673,
     "status": "ok",
     "timestamp": 1611944362465,
     "user": {
      "displayName": "Simos Gerasimou",
      "photoUrl": "https://lh3.googleusercontent.com/a-/AOh14GiyuWEDBGgnFKbsa3BAO5bWW-MwC5_V7MnUQz5JiA=s64",
      "userId": "13902192774339425778"
     },
     "user_tz": 0
    },
    "id": "O18vqYhL0_91",
    "outputId": "3e108d51-0495-4d6d-9cc3-70df1c30e64b"
   },
   "outputs": [
    {
     "data": {
      "text/plain": [
       "array(['convertible', 'convertible', 'hatchback', 'sedan', 'sedan',\n",
       "       'sedan', 'sedan', 'wagon', 'sedan', 'hatchback', 'sedan', 'sedan',\n",
       "       'sedan', 'sedan', 'sedan', 'sedan', 'sedan', 'sedan', 'hatchback',\n",
       "       'hatchback', 'sedan', 'hatchback', 'hatchback', 'hatchback',\n",
       "       'hatchback', 'sedan', 'sedan', 'sedan', 'wagon', 'hatchback',\n",
       "       'hatchback', 'hatchback', 'hatchback', 'hatchback', 'hatchback',\n",
       "       'sedan', 'wagon', 'hatchback', 'hatchback', 'sedan', 'sedan',\n",
       "       'sedan', 'sedan', 'sedan', 'sedan', 'sedan', 'hatchback', 'sedan',\n",
       "       'sedan', 'sedan', 'hatchback', 'hatchback', 'hatchback', 'sedan',\n",
       "       'sedan', 'hatchback', 'hatchback', 'hatchback', 'hatchback',\n",
       "       'hatchback', 'sedan', 'hatchback', 'sedan', 'sedan', 'hatchback',\n",
       "       'sedan', 'sedan', 'sedan', 'wagon', 'hardtop', 'sedan', 'sedan',\n",
       "       'convertible', 'sedan', 'hardtop', 'hatchback', 'hatchback',\n",
       "       'hatchback', 'hatchback', 'hatchback', 'hatchback', 'hatchback',\n",
       "       'hatchback', 'hatchback', 'hatchback', 'sedan', 'sedan', 'sedan',\n",
       "       'sedan', 'sedan', 'sedan', 'sedan', 'sedan', 'wagon', 'sedan',\n",
       "       'hatchback', 'sedan', 'wagon', 'hardtop', 'hatchback', 'sedan',\n",
       "       'sedan', 'wagon', 'sedan', 'hatchback', 'hatchback', 'hatchback',\n",
       "       'sedan', 'sedan', 'wagon', 'wagon', 'sedan', 'sedan', 'wagon',\n",
       "       'wagon', 'sedan', 'sedan', 'sedan', 'hatchback', 'hatchback',\n",
       "       'hatchback', 'sedan', 'sedan', 'wagon', 'hatchback', 'hatchback',\n",
       "       'hardtop', 'hardtop', 'convertible', 'hatchback', 'wagon',\n",
       "       'hatchback', 'hatchback', 'sedan', 'hatchback', 'sedan',\n",
       "       'hatchback', 'sedan', 'hatchback', 'hatchback', 'hatchback',\n",
       "       'sedan', 'sedan', 'sedan', 'sedan', 'sedan', 'wagon', 'wagon',\n",
       "       'wagon', 'wagon', 'hatchback', 'hatchback', 'hatchback', 'wagon',\n",
       "       'wagon', 'wagon', 'sedan', 'hatchback', 'sedan', 'hatchback',\n",
       "       'sedan', 'hatchback', 'sedan', 'sedan', 'hatchback', 'sedan',\n",
       "       'hatchback', 'hardtop', 'hardtop', 'hatchback', 'hardtop',\n",
       "       'hatchback', 'convertible', 'sedan', 'sedan', 'hatchback', 'sedan',\n",
       "       'hatchback', 'hatchback', 'hatchback', 'sedan', 'wagon', 'sedan',\n",
       "       'sedan', 'sedan', 'sedan', 'sedan', 'sedan', 'sedan',\n",
       "       'convertible', 'hatchback', 'sedan', 'sedan', 'wagon', 'sedan',\n",
       "       'wagon', 'sedan', 'wagon', 'sedan', 'wagon', 'sedan', 'sedan',\n",
       "       'sedan', 'sedan', 'sedan'], dtype='<U20')"
      ]
     },
     "execution_count": 5,
     "metadata": {},
     "output_type": "execute_result"
    }
   ],
   "source": [
    "#Write your answer here\n",
    "data['bodystyle']"
   ]
  },
  {
   "cell_type": "markdown",
   "metadata": {
    "id": "bIcT8mO1gIca"
   },
   "source": [
    "### How do the car prices look like?\n"
   ]
  },
  {
   "cell_type": "markdown",
   "metadata": {
    "id": "yDfhYbopgUZ6"
   },
   "source": [
    "#### **T4) Calculate the range of car prices for the entire dataset**\n"
   ]
  },
  {
   "cell_type": "code",
   "execution_count": 6,
   "metadata": {
    "colab": {
     "base_uri": "https://localhost:8080/"
    },
    "executionInfo": {
     "elapsed": 1668,
     "status": "ok",
     "timestamp": 1611944362466,
     "user": {
      "displayName": "Simos Gerasimou",
      "photoUrl": "https://lh3.googleusercontent.com/a-/AOh14GiyuWEDBGgnFKbsa3BAO5bWW-MwC5_V7MnUQz5JiA=s64",
      "userId": "13902192774339425778"
     },
     "user_tz": 0
    },
    "id": "QQcVX89v9uZ3",
    "outputId": "7d0a97cd-b33c-495f-f402-05ef206cfbf2"
   },
   "outputs": [
    {
     "name": "stdout",
     "output_type": "stream",
     "text": [
      "Min car price: 5118\n",
      "Max car price: 45400\n",
      "Range:  40282\n"
     ]
    }
   ],
   "source": [
    "#Write your answer here\n",
    "min=np.min(data['price'])\n",
    "max=np.max(data['price'])\n",
    "print('Min car price:', min)\n",
    "print('Max car price:', max)\n",
    "print('Range: ', max-min)"
   ]
  },
  {
   "cell_type": "markdown",
   "metadata": {
    "id": "KpIcl1T0kpIS"
   },
   "source": [
    "#### **T5) Calculate the min, max, mean and median prices of the cars**\n"
   ]
  },
  {
   "cell_type": "code",
   "execution_count": 7,
   "metadata": {
    "colab": {
     "base_uri": "https://localhost:8080/"
    },
    "executionInfo": {
     "elapsed": 1664,
     "status": "ok",
     "timestamp": 1611944362467,
     "user": {
      "displayName": "Simos Gerasimou",
      "photoUrl": "https://lh3.googleusercontent.com/a-/AOh14GiyuWEDBGgnFKbsa3BAO5bWW-MwC5_V7MnUQz5JiA=s64",
      "userId": "13902192774339425778"
     },
     "user_tz": 0
    },
    "id": "KAm74_4ShDA_",
    "outputId": "20c7f9eb-fcbb-41e1-b393-4ffd13741f5b"
   },
   "outputs": [
    {
     "name": "stdout",
     "output_type": "stream",
     "text": [
      "Min car price: 5118\n",
      "Max car price: 45400\n",
      "Mean car price: 13300.239024390245\n",
      "Median car price: 10345.0\n"
     ]
    }
   ],
   "source": [
    "#Write your answer here\n",
    "print(\"Min car price:\", np.min(data['price']))\n",
    "print(\"Max car price:\", np.max(data['price']))\n",
    "print(\"Mean car price:\", np.mean(data['price']))\n",
    "print(\"Median car price:\", np.median(data['price']))"
   ]
  },
  {
   "cell_type": "markdown",
   "metadata": {
    "id": "HCy66heJlRw9"
   },
   "source": [
    "#### **T6) Considering the values calculated above, what insights can you extract? Where do you think the majority of car prices will be clustered?**\n"
   ]
  },
  {
   "cell_type": "markdown",
   "metadata": {
    "id": "DcaTJEKIlroR"
   },
   "source": [
    "**Write your answer here**\n",
    "\n",
    "* There is substantial difference between the minimum and maximum car prices, as also shown in the range value calculated in task T5.\n",
    "* The mean and median values are closer to the minimum car price, indicating that most cars are closer to the lower end of the car prices.\n",
    "* The mean and median values are also close enough; hence, both can be used as a measure of central tendency."
   ]
  },
  {
   "cell_type": "markdown",
   "metadata": {
    "id": "fAjvb8alhtHm"
   },
   "source": [
    "#### **T7) Write code to calculate the standard deviation for the car prices. Then use the corresponding NumPy function to confirm the correctness of your calculation**\n",
    "\n"
   ]
  },
  {
   "cell_type": "code",
   "execution_count": 8,
   "metadata": {
    "colab": {
     "base_uri": "https://localhost:8080/"
    },
    "executionInfo": {
     "elapsed": 1658,
     "status": "ok",
     "timestamp": 1611944362467,
     "user": {
      "displayName": "Simos Gerasimou",
      "photoUrl": "https://lh3.googleusercontent.com/a-/AOh14GiyuWEDBGgnFKbsa3BAO5bWW-MwC5_V7MnUQz5JiA=s64",
      "userId": "13902192774339425778"
     },
     "user_tz": 0
    },
    "id": "JDwSTd5Zggg_",
    "outputId": "0c3dce79-2c7d-42a6-a5f9-b1a49c54e6bb"
   },
   "outputs": [
    {
     "name": "stdout",
     "output_type": "stream",
     "text": [
      "Standard deviation using only numpy functions:  7969.54140103854\n",
      "Standard deviation by implementing std function:  7969.54140103854\n",
      "Standard deviation using NumPy's std function: 7969.54140103854\n"
     ]
    }
   ],
   "source": [
    "#Write your answer here\n",
    "def stdUsingNumpyOnly(prices):\n",
    "  return np.sqrt(np.sum(np.power(np.subtract(prices, np.mean(prices)), \n",
    "                                 2))/len(prices))\n",
    "\n",
    "def stdImplementation(prices):\n",
    "  meanPrice    = np.mean(prices)\n",
    "  priceDiffSq  = [np.power(price-meanPrice, 2) for price in prices]\n",
    "  priceDiffAvg = np.sum(priceDiffSq)/len(prices)\n",
    "  return np.sqrt(priceDiffAvg)\n",
    "\n",
    "print(\"Standard deviation using only numpy functions: \", stdUsingNumpyOnly(data['price']))\n",
    "print(\"Standard deviation by implementing std function: \", stdImplementation(data['price']))\n",
    "print(\"Standard deviation using NumPy's std function:\", np.std(data['price']))"
   ]
  },
  {
   "cell_type": "markdown",
   "metadata": {
    "id": "hv6mCsmjg2zW"
   },
   "source": [
    "**Note:** Because we have the entire population of the company's cars in the dataset, the denominator for the standard deviation is $n=205$ (i.e., the number of entries in the dataset). If we only had a sample of the company's cars in the dataset, the denominator would be $n-1$ (see, parameter ddof in np.std)"
   ]
  },
  {
   "cell_type": "markdown",
   "metadata": {
    "id": "W7tcuWdtnZGV"
   },
   "source": [
    "#### **T8) Find the details of cars with the smallest and largest car volumes**\n",
    "* Hint: see how to calculate the volume of a car https://info.japanesecartrade.com/content-item/297-what-is-m3-cubic-meter-size-of-a-vehicle\n"
   ]
  },
  {
   "cell_type": "code",
   "execution_count": 9,
   "metadata": {
    "colab": {
     "base_uri": "https://localhost:8080/"
    },
    "executionInfo": {
     "elapsed": 1652,
     "status": "ok",
     "timestamp": 1611944362468,
     "user": {
      "displayName": "Simos Gerasimou",
      "photoUrl": "https://lh3.googleusercontent.com/a-/AOh14GiyuWEDBGgnFKbsa3BAO5bWW-MwC5_V7MnUQz5JiA=s64",
      "userId": "13902192774339425778"
     },
     "user_tz": 0
    },
    "id": "mXdzNLqnhfQX",
    "outputId": "aec1ad4f-de78-4795-acf3-6c29bfa17ea9"
   },
   "outputs": [
    {
     "name": "stdout",
     "output_type": "stream",
     "text": [
      "Max volume: 846007.7  belongs to car  ('mercedes-benz', 'gas', 'four', 'sedan', 'rwd', 120.9, 208.1, 71.7, 56.7, 'eight', 308, 184, 14, 16, 40960)\n",
      "Min volume: 452643.2  belongs to car  ('chevrolet', 'gas', 'two', 'hatchback', 'fwd', 88.4, 141.1, 60.3, 53.2, 'three', 61, 48, 47, 53, 5151)\n"
     ]
    }
   ],
   "source": [
    "#Write your answer here\n",
    "#Solution1\n",
    "carsVolume = np.multiply(np.multiply(data['length'], data['height']), data['width'])\n",
    "#Solution2\n",
    "# carsVolume = data['length']* data['height']* data['width']\n",
    "#Solution3\n",
    "# carsVolume = np.prod(np.vstack([data['length'], data['height'], data['width']]), axis=0)\n",
    "\n",
    "maxVolume = np.max(carsVolume)\n",
    "minVolume = np.min(carsVolume)\n",
    "\n",
    "carWithMaxVolume = np.argmax(carsVolume)\n",
    "carWithMinVolume = np.argmin(carsVolume)\n",
    "\n",
    "print(\"Max volume:\", maxVolume, \" belongs to car \", data[carWithMaxVolume])\n",
    "\n",
    "print(\"Min volume:\", minVolume, \" belongs to car \", data[carWithMinVolume])\n"
   ]
  },
  {
   "cell_type": "markdown",
   "metadata": {
    "id": "cmck40GQqfoR"
   },
   "source": [
    "#### **T9) Find the different types of bodystyles for the cars in the dataset**\n",
    "\n",
    "* Hint: You may want to check: https://numpy.org/doc/stable/reference/generated/numpy.unique.html"
   ]
  },
  {
   "cell_type": "code",
   "execution_count": 10,
   "metadata": {
    "colab": {
     "base_uri": "https://localhost:8080/"
    },
    "executionInfo": {
     "elapsed": 1652,
     "status": "ok",
     "timestamp": 1611944362469,
     "user": {
      "displayName": "Simos Gerasimou",
      "photoUrl": "https://lh3.googleusercontent.com/a-/AOh14GiyuWEDBGgnFKbsa3BAO5bWW-MwC5_V7MnUQz5JiA=s64",
      "userId": "13902192774339425778"
     },
     "user_tz": 0
    },
    "id": "DeTMBSCJp3gD",
    "outputId": "1a4381ff-b56a-4030-f8db-dd70bc24fd49"
   },
   "outputs": [
    {
     "name": "stdout",
     "output_type": "stream",
     "text": [
      "Unique bodystyles:  ['convertible' 'hardtop' 'hatchback' 'sedan' 'wagon']\n"
     ]
    }
   ],
   "source": [
    "#Write your answer here\n",
    "print(\"Unique bodystyles: \", np.unique(data['bodystyle']))"
   ]
  },
  {
   "cell_type": "markdown",
   "metadata": {
    "id": "BXF8kjW-sJaq"
   },
   "source": [
    "#### **T10) Find the number of different car *brands* (makes)**\n"
   ]
  },
  {
   "cell_type": "code",
   "execution_count": 11,
   "metadata": {
    "colab": {
     "base_uri": "https://localhost:8080/"
    },
    "executionInfo": {
     "elapsed": 1993,
     "status": "ok",
     "timestamp": 1611944362813,
     "user": {
      "displayName": "Simos Gerasimou",
      "photoUrl": "https://lh3.googleusercontent.com/a-/AOh14GiyuWEDBGgnFKbsa3BAO5bWW-MwC5_V7MnUQz5JiA=s64",
      "userId": "13902192774339425778"
     },
     "user_tz": 0
    },
    "id": "zJTWSXxrsJE3",
    "outputId": "b76371b4-9443-49b3-8f79-396173801789"
   },
   "outputs": [
    {
     "name": "stdout",
     "output_type": "stream",
     "text": [
      "There are  22 unique car makes which are: ['alfa-romero' 'audi' 'bmw' 'chevrolet' 'dodge' 'honda' 'isuzu' 'jaguar'\n",
      " 'mazda' 'mercedes-benz' 'mercury' 'mitsubishi' 'nissan' 'peugot'\n",
      " 'plymouth' 'porsche' 'renault' 'saab' 'subaru' 'toyota' 'volkswagen'\n",
      " 'volvo']\n"
     ]
    }
   ],
   "source": [
    "#Write your answer here\n",
    "uniqueCarMakes = np.unique(data['make'])\n",
    "print(\"There are \", len(uniqueCarMakes), \"unique car makes which are:\", uniqueCarMakes)"
   ]
  },
  {
   "cell_type": "markdown",
   "metadata": {
    "id": "h4Ab2ovntRV-"
   },
   "source": [
    "#### **T11) Find the engine size and the horsepower for the most and least efficient cars when driven in the city and the highway (i.e., the cars with the smallest and largest difference in fuel consumption when driven in the city and the highway)**"
   ]
  },
  {
   "cell_type": "code",
   "execution_count": 12,
   "metadata": {
    "colab": {
     "base_uri": "https://localhost:8080/"
    },
    "executionInfo": {
     "elapsed": 1992,
     "status": "ok",
     "timestamp": 1611944362815,
     "user": {
      "displayName": "Simos Gerasimou",
      "photoUrl": "https://lh3.googleusercontent.com/a-/AOh14GiyuWEDBGgnFKbsa3BAO5bWW-MwC5_V7MnUQz5JiA=s64",
      "userId": "13902192774339425778"
     },
     "user_tz": 0
    },
    "id": "fzzrezV8rQ3O",
    "outputId": "12deae29-fbb9-4a31-9185-3bac6f0c2112"
   },
   "outputs": [
    {
     "name": "stdout",
     "output_type": "stream",
     "text": [
      "A peugot with engine size=152 and horsepower=95 has the minimum fuel difference (0) when driven in the city and the highway\n",
      "A porsche with engine size=203 and horsepower=288 has the maximum fuel difference (11) when driven in the city and the highway\n"
     ]
    }
   ],
   "source": [
    "#Write your answer here\n",
    "fuelDiff = np.subtract(data['highwaympg'], data['citympg'])\n",
    "\n",
    "minFuelDiff = np.min(fuelDiff)\n",
    "maxFuelDiff = np.max(fuelDiff)\n",
    "\n",
    "carWithMinFuelDiff = np.argmin(fuelDiff)\n",
    "carWithMaxFuelDiff = np.argmax(fuelDiff)\n",
    "\n",
    "print(\"A %s with engine size=%d and horsepower=%d has the minimum fuel difference (%d) when driven in the city and the highway\" \n",
    "      % (data['make'][carWithMinFuelDiff], data[\"enginesize\"][carWithMinFuelDiff], data['horsepower'][carWithMinFuelDiff], minFuelDiff)) \n",
    "\n",
    "print(\"A %s with engine size=%d and horsepower=%d has the maximum fuel difference (%d) when driven in the city and the highway\" \n",
    "      % (data['make'][carWithMaxFuelDiff], data[\"enginesize\"][carWithMaxFuelDiff], data['horsepower'][carWithMaxFuelDiff], maxFuelDiff)) "
   ]
  },
  {
   "cell_type": "markdown",
   "metadata": {
    "id": "Er9o39z8xge3"
   },
   "source": [
    "#### **T12) Find the make with the largest number of cars and how many they are**"
   ]
  },
  {
   "cell_type": "code",
   "execution_count": 13,
   "metadata": {
    "colab": {
     "base_uri": "https://localhost:8080/"
    },
    "executionInfo": {
     "elapsed": 1990,
     "status": "ok",
     "timestamp": 1611944362815,
     "user": {
      "displayName": "Simos Gerasimou",
      "photoUrl": "https://lh3.googleusercontent.com/a-/AOh14GiyuWEDBGgnFKbsa3BAO5bWW-MwC5_V7MnUQz5JiA=s64",
      "userId": "13902192774339425778"
     },
     "user_tz": 0
    },
    "id": "pWyEz0bTueot",
    "outputId": "53497280-2348-4628-9d73-718c7066fe93"
   },
   "outputs": [
    {
     "name": "stdout",
     "output_type": "stream",
     "text": [
      "The company has 32 toyota cars \n"
     ]
    }
   ],
   "source": [
    "#Write your answer here\n",
    "makes,counts = np.unique(data['make'], return_counts=True)\n",
    "maxCarsSameMake = np.argmax(counts)\n",
    "make = makes[maxCarsSameMake]\n",
    "\n",
    "print(\"The company has %d %s cars \" % (np.max(counts), make))"
   ]
  },
  {
   "cell_type": "markdown",
   "metadata": {
    "id": "Kmy1NtyW0tzm"
   },
   "source": [
    "#### **T13) Find how many cars have a wheel base greater than 100**\n",
    "\n",
    "* Hint: See https://jakevdp.github.io/PythonDataScienceHandbook/02.06-boolean-arrays-and-masks.html"
   ]
  },
  {
   "cell_type": "code",
   "execution_count": 14,
   "metadata": {
    "colab": {
     "base_uri": "https://localhost:8080/"
    },
    "executionInfo": {
     "elapsed": 1989,
     "status": "ok",
     "timestamp": 1611944362816,
     "user": {
      "displayName": "Simos Gerasimou",
      "photoUrl": "https://lh3.googleusercontent.com/a-/AOh14GiyuWEDBGgnFKbsa3BAO5bWW-MwC5_V7MnUQz5JiA=s64",
      "userId": "13902192774339425778"
     },
     "user_tz": 0
    },
    "id": "ZG-vBKvjxrR7",
    "outputId": "9cb2ebe8-70ae-48b1-8ca3-31e5889d3b84"
   },
   "outputs": [
    {
     "name": "stdout",
     "output_type": "stream",
     "text": [
      "There are 63 cars whose wheel base is greater than 100\n"
     ]
    }
   ],
   "source": [
    "#Write your answer here\n",
    "carsWithLargeWheelBase = np.count_nonzero(data['wheelbase']>100)\n",
    "print(\"There are %d cars whose wheel base is greater than 100\" % (carsWithLargeWheelBase))"
   ]
  },
  {
   "cell_type": "markdown",
   "metadata": {
    "id": "t3-PcX9C4VLi"
   },
   "source": [
    "#### **T14) Find if there are any convertible cars that cost less than £15000**\n",
    "\n",
    "* Hint: See https://jakevdp.github.io/PythonDataScienceHandbook/02.06-boolean-arrays-and-masks.html"
   ]
  },
  {
   "cell_type": "code",
   "execution_count": 15,
   "metadata": {
    "colab": {
     "base_uri": "https://localhost:8080/"
    },
    "executionInfo": {
     "elapsed": 1988,
     "status": "ok",
     "timestamp": 1611944362817,
     "user": {
      "displayName": "Simos Gerasimou",
      "photoUrl": "https://lh3.googleusercontent.com/a-/AOh14GiyuWEDBGgnFKbsa3BAO5bWW-MwC5_V7MnUQz5JiA=s64",
      "userId": "13902192774339425778"
     },
     "user_tz": 0
    },
    "id": "CkVfwmoG4ewY",
    "outputId": "0667056e-8e59-414c-e507-08b56e0544fa"
   },
   "outputs": [
    {
     "name": "stdout",
     "output_type": "stream",
     "text": [
      "Details of convertibles that cost less than £15000:\n",
      " [('alfa-romero', 'gas', 'two', 'convertible', 'rwd', 88.6, 168.8, 64.1, 48.8, 'four', 130, 111, 21, 27, 13495)\n",
      " ('volkswagen', 'gas', 'two', 'convertible', 'fwd', 94.5, 159.3, 64.2, 55.6, 'four', 109,  90, 24, 29, 11595)]\n"
     ]
    }
   ],
   "source": [
    "#Write your answer here\n",
    "cheapConvertibles = data[(data['bodystyle']==\"convertible\") & (data['price']<15000)]\n",
    "print(\"Details of convertibles that cost less than £15000:\\n\", cheapConvertibles)"
   ]
  },
  {
   "cell_type": "markdown",
   "metadata": {
    "id": "ywJYQraH1onP"
   },
   "source": [
    "#### **T15) Calculate the interquartile range for the price of all cars**"
   ]
  },
  {
   "cell_type": "code",
   "execution_count": 16,
   "metadata": {
    "colab": {
     "base_uri": "https://localhost:8080/"
    },
    "executionInfo": {
     "elapsed": 1986,
     "status": "ok",
     "timestamp": 1611944362817,
     "user": {
      "displayName": "Simos Gerasimou",
      "photoUrl": "https://lh3.googleusercontent.com/a-/AOh14GiyuWEDBGgnFKbsa3BAO5bWW-MwC5_V7MnUQz5JiA=s64",
      "userId": "13902192774339425778"
     },
     "user_tz": 0
    },
    "id": "8M9_FnENyWWU",
    "outputId": "de71e1de-3cf8-49c8-cb11-9b7b6597600a"
   },
   "outputs": [
    {
     "name": "stdout",
     "output_type": "stream",
     "text": [
      "Price IQR: 8715.0\n"
     ]
    }
   ],
   "source": [
    "#Write your answer here\n",
    "Q3P = np.percentile(data['price'], 75) #Third quartile\n",
    "Q1P = np.percentile(data['price'], 25) #First quartile\n",
    "IQRP = Q3P - Q1P #Inter Quartile Range\n",
    "print('Price IQR:', IQRP)"
   ]
  },
  {
   "cell_type": "markdown",
   "metadata": {
    "id": "K81ZLhTh2jyc"
   },
   "source": [
    "#### **T16) Calculate the 50th percentile range for the horsepower of all cars. Which value is the 50th percentile equal to?**"
   ]
  },
  {
   "cell_type": "code",
   "execution_count": 17,
   "metadata": {
    "colab": {
     "base_uri": "https://localhost:8080/"
    },
    "executionInfo": {
     "elapsed": 1985,
     "status": "ok",
     "timestamp": 1611944362818,
     "user": {
      "displayName": "Simos Gerasimou",
      "photoUrl": "https://lh3.googleusercontent.com/a-/AOh14GiyuWEDBGgnFKbsa3BAO5bWW-MwC5_V7MnUQz5JiA=s64",
      "userId": "13902192774339425778"
     },
     "user_tz": 0
    },
    "id": "q1QNhunw2Lnr",
    "outputId": "9072abf9-3f1c-4aaa-cd60-0a9b3de515ef"
   },
   "outputs": [
    {
     "name": "stdout",
     "output_type": "stream",
     "text": [
      "Horsepower 50th percentile: 95.0\n",
      "Median horsepower: 95.0\n"
     ]
    }
   ],
   "source": [
    "#Write your answer here\n",
    "percentile50HP = np.percentile(data['horsepower'], 50) #50th percentile\n",
    "print('Horsepower 50th percentile:', percentile50HP)\n",
    "print(\"Median horsepower:\", np.median(data['horsepower']))"
   ]
  },
  {
   "cell_type": "markdown",
   "metadata": {
    "id": "GporTyn66Rkz"
   },
   "source": [
    "### Ideas for practicing further at home\n",
    "\n",
    "* Find the engine and horsepower of 4wd cars\n",
    "* Find whether diesel or gas cars are more efficient in the city/highway\n",
    "* Any other analysis that you might could generate some useful insight.\n"
   ]
  }
 ],
 "metadata": {
  "colab": {
   "collapsed_sections": [],
   "name": "DAT1-Practical2-ClassicCars-ModelAnswers.ipynb",
   "provenance": [],
   "toc_visible": true
  },
  "kernelspec": {
   "display_name": "Python 3",
   "language": "python",
   "name": "python3"
  },
  "language_info": {
   "codemirror_mode": {
    "name": "ipython",
    "version": 3
   },
   "file_extension": ".py",
   "mimetype": "text/x-python",
   "name": "python",
   "nbconvert_exporter": "python",
   "pygments_lexer": "ipython3",
   "version": "3.9.1"
  }
 },
 "nbformat": 4,
 "nbformat_minor": 1
}
