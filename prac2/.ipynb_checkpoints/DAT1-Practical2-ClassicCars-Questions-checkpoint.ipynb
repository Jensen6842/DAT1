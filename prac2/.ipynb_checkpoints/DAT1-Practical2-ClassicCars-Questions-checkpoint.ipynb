{
 "cells": [
  {
   "cell_type": "markdown",
   "metadata": {
    "id": "rpxHdvCRsrYk"
   },
   "source": [
    "# DATA 1 Practical 2 - Questions\n",
    "\n",
    "Simos Gerasimou\n",
    "\n",
    "\n",
    "## Classic Cars & Co\n",
    "\n",
    "Classic Cars & Co is a UK company that has a large collection of classic cars from the 1980s. \n",
    "\n",
    "DataVision (the company you are working as a Data Scientist) has been contracted to analyse the data available for the cars and provide insights by analysing the different characteristics of the cars (e.g., speed, price). \n",
    "\n",
    "This Jupyter Notebook will be presented to the Classic Cars & Co main stakeholders who have limited knowledge about data science. So, your findings should be complemented by a suitable justification explaining what you observe and, when applicable, what does this observation mean and, possibly, why it occurs. The analysis along with the explanation will help them to understand whether they need to invest more to expand their collection."
   ]
  },
  {
   "cell_type": "markdown",
   "metadata": {
    "id": "Hk3xhSRIzz1L"
   },
   "source": [
    "### **Important Information**\n",
    "\n",
    "(1) To answer these exercises, you **must first read Chapter 2: Introduction to NumPy from the Python Data Science Handbook** (https://jakevdp.github.io/PythonDataScienceHandbook/02.00-introduction-to-numpy.html)\n",
    "\n",
    "\n",
    "(2) For each question (task) a description is provided accompanied (most of the time) by two cells: one for writing the Python code and another for providing the justification. Feel free to add more cells if you feel they are needed, but keep the cells corresponding to the same question close by.\n",
    "\n",
    "**Hint 1**: If you find difficulties in solving a task, look at Chapter 2 from the Python Data Science Handbook.\n",
    "\n",
    "**Hint 2**: Solving each task using NumPy should require less than 10 lines of code"
   ]
  },
  {
   "cell_type": "markdown",
   "metadata": {
    "id": "vX1Wmo8A7Lhm"
   },
   "source": [
    "#### **T1) Explore the dataset and for each column write its name, data type (categorical/numerical - nominal,ordinal,discrete,continuous) and its meaning (i.e., what does it capture?)**\n",
    "\n",
    "* You may want to open the CSV file using a text editor (e.g., Notepad) or a spreadsheet editor (e.g., Excel)"
   ]
  },
  {
   "cell_type": "markdown",
   "metadata": {
    "id": "cIkkf9Hi_XQb"
   },
   "source": [
    "**Write your answer here (the first is given)**\n",
    "* Make: Categorical (Nominal) - The model of the car\n",
    "* ...."
   ]
  },
  {
   "cell_type": "markdown",
   "metadata": {
    "id": "QAMj3BTLz5TJ"
   },
   "source": [
    "### 1) Reading dataset\n",
    "\n",
    "The classic cars dataset is available on VLE (look for classicCars.csv in the Practicals section)"
   ]
  },
  {
   "cell_type": "code",
   "execution_count": null,
   "metadata": {
    "id": "PMju2Rd-nb6R"
   },
   "outputs": [],
   "source": [
    "#Using NumPy to read the dataset\n",
    "import numpy as np\n",
    "#Define the path to the dataset\n",
    "data_path = \"ClassicCars.csv\"\n",
    "#Define the type of each dataset column. \n",
    "#This is needed because NumPy arrays cannot directly read files with different data types\n",
    "#Hence, we are using Structured arrays. \n",
    "#But, we will soon move to Pandas which makes data manipulation easier\n",
    "types = ['U20', 'U10', 'U5', 'U20', 'U3', 'f4', 'f4', 'f4', 'f4', 'U10', 'i4', 'i4', 'i4', 'i4', 'i4']\n",
    "#Read the dataset\n",
    "data = np.genfromtxt(data_path, dtype=types, delimiter=',', names=True)"
   ]
  },
  {
   "cell_type": "markdown",
   "metadata": {
    "id": "2iEJBv9kdIiI"
   },
   "source": [
    "**Structured Arrays**\n",
    "* Read more about structured arrays:\n",
    "  * https://jakevdp.github.io/PythonDataScienceHandbook/02.09-structured-data-numpy.html\n",
    "  * https://numpy.org/doc/stable/user/basics.rec.html"
   ]
  },
  {
   "cell_type": "markdown",
   "metadata": {
    "id": "yHoM-NXN-puT"
   },
   "source": [
    "### Analysing the dataset\n"
   ]
  },
  {
   "cell_type": "markdown",
   "metadata": {
    "id": "0gqds3bJAfIu"
   },
   "source": [
    "#### **Extracting the column names**"
   ]
  },
  {
   "cell_type": "code",
   "execution_count": null,
   "metadata": {
    "id": "DT1aEd9q0t8-"
   },
   "outputs": [],
   "source": [
    "data.dtype.names"
   ]
  },
  {
   "cell_type": "markdown",
   "metadata": {
    "id": "vPfhK50f7qEQ"
   },
   "source": [
    "#### **Extracting the shape of the array**"
   ]
  },
  {
   "cell_type": "code",
   "execution_count": null,
   "metadata": {
    "id": "4CkIj9Yq-0a-"
   },
   "outputs": [],
   "source": [
    "print(\"The shape of the array is: \", data.shape)"
   ]
  },
  {
   "cell_type": "markdown",
   "metadata": {
    "id": "Fg3CoWGC--_q"
   },
   "source": [
    "#### **T2) What do you see?**\n",
    "* How many entries does the array have?\n",
    "* What does each entry include? \n",
    "* Hint: Print the elements of an entry\n"
   ]
  },
  {
   "cell_type": "markdown",
   "metadata": {
    "id": "VIdMJvfD_Otb"
   },
   "source": [
    "**Write your answer here**\n",
    "\n",
    "......."
   ]
  },
  {
   "cell_type": "markdown",
   "metadata": {
    "id": "XhUpJlMf_wV8"
   },
   "source": [
    "#### **Extracting the entries of a column given its name**\n",
    "\n",
    "* By specifying the name of a column, you can get all the entries within the array for this column (reminder: you are using Structured Arrays)\n"
   ]
  },
  {
   "cell_type": "code",
   "execution_count": null,
   "metadata": {
    "id": "6QMPnMLo_QwO"
   },
   "outputs": [],
   "source": [
    "#Print the entries within the 'make' column\n",
    "print(data['make'])"
   ]
  },
  {
   "cell_type": "markdown",
   "metadata": {
    "id": "yOO8Q7W5A9Cf"
   },
   "source": [
    "#### **T3) Extract the bodystyles within the dataset**\n"
   ]
  },
  {
   "cell_type": "code",
   "execution_count": null,
   "metadata": {
    "id": "O18vqYhL0_91"
   },
   "outputs": [],
   "source": [
    "#Write your answer here\n"
   ]
  },
  {
   "cell_type": "markdown",
   "metadata": {
    "id": "bIcT8mO1gIca"
   },
   "source": [
    "### How do the car prices look like?\n"
   ]
  },
  {
   "cell_type": "markdown",
   "metadata": {
    "id": "yDfhYbopgUZ6"
   },
   "source": [
    "#### **T4) Calculate the range of car prices for the entire dataset**\n"
   ]
  },
  {
   "cell_type": "code",
   "execution_count": null,
   "metadata": {
    "id": "QQcVX89v9uZ3"
   },
   "outputs": [],
   "source": [
    "#Write your answer here\n"
   ]
  },
  {
   "cell_type": "markdown",
   "metadata": {
    "id": "KpIcl1T0kpIS"
   },
   "source": [
    "#### **T5) Calculate the min, max, mean and median prices of the cars**\n"
   ]
  },
  {
   "cell_type": "code",
   "execution_count": null,
   "metadata": {
    "id": "KAm74_4ShDA_"
   },
   "outputs": [],
   "source": [
    "#Write your answer here\n"
   ]
  },
  {
   "cell_type": "markdown",
   "metadata": {
    "id": "HCy66heJlRw9"
   },
   "source": [
    "#### **T6) Considering the values calculated above, what insights can you extract? Where do you think the majority of car prices will be clustered?**\n"
   ]
  },
  {
   "cell_type": "markdown",
   "metadata": {
    "id": "DcaTJEKIlroR"
   },
   "source": [
    "**Write your answer here**\n",
    "\n",
    "......."
   ]
  },
  {
   "cell_type": "markdown",
   "metadata": {
    "id": "fAjvb8alhtHm"
   },
   "source": [
    "#### **T7) Write code to calculate the standard deviation for the car prices. Then use the corresponding NumPy function to confirm the correctness of your calculation**\n",
    "\n"
   ]
  },
  {
   "cell_type": "code",
   "execution_count": null,
   "metadata": {
    "id": "JDwSTd5Zggg_"
   },
   "outputs": [],
   "source": [
    "#Write your answer here\n"
   ]
  },
  {
   "cell_type": "markdown",
   "metadata": {
    "id": "W7tcuWdtnZGV"
   },
   "source": [
    "#### **T8) Find the details of cars with the smallest and largest car volumes**\n",
    "* Hint: see how to calculate the volume of a car https://info.japanesecartrade.com/content-item/297-what-is-m3-cubic-meter-size-of-a-vehicle\n"
   ]
  },
  {
   "cell_type": "code",
   "execution_count": null,
   "metadata": {
    "id": "mXdzNLqnhfQX"
   },
   "outputs": [],
   "source": [
    "#Write your answer here\n"
   ]
  },
  {
   "cell_type": "markdown",
   "metadata": {
    "id": "cmck40GQqfoR"
   },
   "source": [
    "#### **T9) Find the different types of bodystyles for the cars in the dataset**\n",
    "\n",
    "* Hint: You may want to check: https://numpy.org/doc/stable/reference/generated/numpy.unique.html"
   ]
  },
  {
   "cell_type": "code",
   "execution_count": null,
   "metadata": {
    "id": "DeTMBSCJp3gD"
   },
   "outputs": [],
   "source": [
    "#Write your answer here\n"
   ]
  },
  {
   "cell_type": "markdown",
   "metadata": {
    "id": "BXF8kjW-sJaq"
   },
   "source": [
    "#### **T10) Find the number of different car *brands* (makes)**\n"
   ]
  },
  {
   "cell_type": "code",
   "execution_count": null,
   "metadata": {
    "id": "zJTWSXxrsJE3"
   },
   "outputs": [],
   "source": [
    "#Write your answer here\n"
   ]
  },
  {
   "cell_type": "markdown",
   "metadata": {
    "id": "h4Ab2ovntRV-"
   },
   "source": [
    "#### **T11) Find the engine size and the horsepower for the most and least efficient cars when driven in the city and the highway (i.e., the cars with the smallest and largest difference in fuel consumption when driven in the city and the highway)**"
   ]
  },
  {
   "cell_type": "code",
   "execution_count": null,
   "metadata": {
    "id": "fzzrezV8rQ3O"
   },
   "outputs": [],
   "source": [
    "#Write your answer here\n"
   ]
  },
  {
   "cell_type": "markdown",
   "metadata": {
    "id": "Er9o39z8xge3"
   },
   "source": [
    "#### **T12) Find the make with the largest number of cars and how many they are**"
   ]
  },
  {
   "cell_type": "code",
   "execution_count": null,
   "metadata": {
    "id": "pWyEz0bTueot"
   },
   "outputs": [],
   "source": [
    "#Write your answer here\n"
   ]
  },
  {
   "cell_type": "markdown",
   "metadata": {
    "id": "Kmy1NtyW0tzm"
   },
   "source": [
    "#### **T13) Find how many cars have a wheel base greater than 100**\n",
    "\n",
    "* Hint: See https://jakevdp.github.io/PythonDataScienceHandbook/02.06-boolean-arrays-and-masks.html"
   ]
  },
  {
   "cell_type": "code",
   "execution_count": null,
   "metadata": {
    "id": "ZG-vBKvjxrR7"
   },
   "outputs": [],
   "source": [
    "#Write your answer here\n"
   ]
  },
  {
   "cell_type": "markdown",
   "metadata": {
    "id": "t3-PcX9C4VLi"
   },
   "source": [
    "#### **T14) Find if there are any convertible cars that cost less than £15000**\n",
    "\n",
    "* Hint: See https://jakevdp.github.io/PythonDataScienceHandbook/02.06-boolean-arrays-and-masks.html"
   ]
  },
  {
   "cell_type": "code",
   "execution_count": null,
   "metadata": {
    "id": "CkVfwmoG4ewY"
   },
   "outputs": [],
   "source": [
    "#Write your answer here\n"
   ]
  },
  {
   "cell_type": "markdown",
   "metadata": {
    "id": "ywJYQraH1onP"
   },
   "source": [
    "#### **T15) Calculate the interquartile range for the price of all cars**"
   ]
  },
  {
   "cell_type": "code",
   "execution_count": null,
   "metadata": {
    "id": "8M9_FnENyWWU"
   },
   "outputs": [],
   "source": [
    "#Write your answer here\n"
   ]
  },
  {
   "cell_type": "markdown",
   "metadata": {
    "id": "K81ZLhTh2jyc"
   },
   "source": [
    "#### **T16) Calculate the 50th percentile range for the horsepower of all cars. Which value is the 50th percentile equal to?**"
   ]
  },
  {
   "cell_type": "code",
   "execution_count": null,
   "metadata": {
    "id": "q1QNhunw2Lnr"
   },
   "outputs": [],
   "source": [
    "#Write your answer here\n"
   ]
  },
  {
   "cell_type": "markdown",
   "metadata": {
    "id": "GporTyn66Rkz"
   },
   "source": [
    "### Ideas for practicing further at home\n",
    "\n",
    "* Find the engine and horsepower of 4wd cars\n",
    "* Find whether diesel or gas cars are more efficient in the city/highway\n",
    "* Any other analysis that you might could generate some useful insight.\n"
   ]
  }
 ],
 "metadata": {
  "colab": {
   "authorship_tag": "ABX9TyPgs+k0a0z6n+bqTsaPcWej",
   "name": "DAT1-Practical2-ClassicCars-ModelAnswers.ipynb",
   "provenance": []
  },
  "kernelspec": {
   "display_name": "Python 3",
   "language": "python",
   "name": "python3"
  },
  "language_info": {
   "codemirror_mode": {
    "name": "ipython",
    "version": 3
   },
   "file_extension": ".py",
   "mimetype": "text/x-python",
   "name": "python",
   "nbconvert_exporter": "python",
   "pygments_lexer": "ipython3",
   "version": "3.8.3"
  }
 },
 "nbformat": 4,
 "nbformat_minor": 1
}
