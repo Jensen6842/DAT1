{
 "cells": [
  {
   "cell_type": "markdown",
   "metadata": {
    "id": "67W0wj-zMZk7"
   },
   "source": [
    "# DATA 1 Practical 8\n",
    "\n",
    "Simos Gerasimou\n",
    "\n",
    "\n",
    "## A Data Journey in Inferential Statistics\n",
    "\n",
    "**Pandas API Reference**: https://pandas.pydata.org/pandas-docs/stable/reference/index.html\n",
    "\n",
    "**Matplotlib API Reference**: https://matplotlib.org/stable/api/index.html\n",
    "\n",
    "**Seaborn API Reference**: https://seaborn.pydata.org/api.html\n",
    "\n",
    "**Scipy Stats**: https://docs.scipy.org/doc/scipy/reference/tutorial/stats.html\n",
    "\n",
    "**t table Reference**:  http://www.ttable.org\n",
    "\n",
    "**F table Reference**  https://www.stat.purdue.edu/~jtroisi/STAT350Spring2015/tables/FTable.pdf\n",
    "\n",
    "**Chi-Square table Reference** https://people.smp.uq.edu.au/YoniNazarathy/stat_models_B_course_spring_07/distributions/chisqtab.pdf\n",
    "\n",
    "\n",
    "***"
   ]
  },
  {
   "cell_type": "markdown",
   "metadata": {
    "id": "nucBAgQsfgap"
   },
   "source": [
    "#### To get started with today's practical, you can go to Lecture 10 and try to replicate the inferential statistics we saw during the lecture, i.e., independent and paired t test, ANOVA and Chi-Square. This will enable you to understand better how these tests operate under the hood."
   ]
  },
  {
   "cell_type": "code",
   "execution_count": 1,
   "metadata": {
    "executionInfo": {
     "elapsed": 1027,
     "status": "ok",
     "timestamp": 1615272408177,
     "user": {
      "displayName": "Simos Gerasimou",
      "photoUrl": "https://lh3.googleusercontent.com/a-/AOh14GiyuWEDBGgnFKbsa3BAO5bWW-MwC5_V7MnUQz5JiA=s64",
      "userId": "13902192774339425778"
     },
     "user_tz": 0
    },
    "id": "qY4D0OCMLe8p"
   },
   "outputs": [],
   "source": [
    "import numpy as np\n",
    "import matplotlib.pyplot as plt\n",
    "import seaborn as sns\n",
    "from scipy import stats\n",
    "import math as m\n",
    "import pandas as pd"
   ]
  },
  {
   "cell_type": "code",
   "execution_count": 2,
   "metadata": {
    "executionInfo": {
     "elapsed": 2216,
     "status": "ok",
     "timestamp": 1615272409374,
     "user": {
      "displayName": "Simos Gerasimou",
      "photoUrl": "https://lh3.googleusercontent.com/a-/AOh14GiyuWEDBGgnFKbsa3BAO5bWW-MwC5_V7MnUQz5JiA=s64",
      "userId": "13902192774339425778"
     },
     "user_tz": 0
    },
    "id": "TTfktAK-iSnK"
   },
   "outputs": [],
   "source": [
    "def plotKDE(dof, tstatistic, title, xaxis, alpha=0.05, type='two-tailed'):\n",
    "  fig, ax = plt.subplots(figsize=(5,4), dpi=100)\n",
    "  mu =0\n",
    "  data = np.random.standard_t(dof, size=3000)\n",
    "  sns.kdeplot(data, ax=ax)\n",
    "\n",
    "  xx = ax.lines[-1].get_xdata()\n",
    "  yy = ax.lines[-1].get_ydata()\n",
    "\n",
    "  if (type==\"two-tailed\"):\n",
    "    xxCut1 = stats.t.ppf(q=alpha/2, df=dof)\n",
    "    ax.fill_between(xx, 0, yy, where=(xx<=xxCut1), color='red', alpha=0.5)\n",
    "    ax.axvline(x=xxCut1, ymin=0.00, ymax=np.max(yy), color='red',alpha=0.5, ls='--', lw=1, label='Critical value') # vertical line\n",
    "    ax.axvline(x=tstatistic, ymin=0.00, ymax=np.max(yy), color='blue',alpha=0.5, ls='--', lw=1, label='t value') # vertical line\n",
    "\n",
    "    xxCut2 = stats.t.ppf(q=1-alpha/2, df=dof)\n",
    "    ax.fill_between(xx, 0, yy, where=(xx>=xxCut2), color='red', alpha=0.5)\n",
    "    ax.axvline(x=xxCut2, ymin=0.00, ymax=np.max(yy), color='red',alpha=0.5, ls='--', lw=1) # vertical line\n",
    "    ax.axvline(x=-tstatistic, ymin=0.00, ymax=np.max(yy), color='blue',alpha=0.5, ls='--', lw=1) # vertical line\n",
    "  \n",
    "  elif (type=='left-tailed'):\n",
    "    xxCut1 = stats.t.ppf(q=alpha, df=dof)\n",
    "    ax.fill_between(xx, 0, yy, where=(xx<=xxCut1), color='red', alpha=0.5)\n",
    "    ax.axvline(x=xxCut1, ymin=0.00, ymax=np.max(yy), color='red',alpha=0.5, ls='--', lw=1, label='Critical value') # vertical line\n",
    "    ax.axvline(x=tstatistic, ymin=0.00, ymax=np.max(yy), color='blue',alpha=0.5, ls='--', lw=1, label='t value') # vertical line\n",
    "\n",
    "  elif (type=='right-tailed'):\n",
    "    xxCut2 = stats.t.ppf(q=1-alpha, df=dof)\n",
    "    ax.fill_between(xx, 0, yy, where=(xx>=xxCut2), color='red', alpha=0.5)\n",
    "    ax.axvline(x=xxCut2, ymin=0.00, ymax=np.max(yy), color='red',alpha=0.5, ls='--', lw=1,label='Critical value') # vertical line\n",
    "    ax.axvline(x=tstatistic, ymin=0.00, ymax=np.max(yy), color='blue',alpha=0.5, ls='--', lw=1, label='t value') # vertical line\n",
    "\n",
    "  plt.title(title,fontsize=15)\n",
    "  ax.set_xlabel(xaxis,fontsize=13) # set x label\n",
    "  ax.set_ylabel('pdf(x)',fontsize=13,rotation=90) # set y label\n",
    "  plt.legend();"
   ]
  },
  {
   "cell_type": "markdown",
   "metadata": {
    "id": "tOCm4iL-Nd0X"
   },
   "source": [
    "***\n",
    "\n",
    "## **Part A**\n",
    "\n",
    "A manufacturer claims that the thickness of the spearmint gum it produces is according to the interantional standard which requests to be 7.5. A quality control specialist regularly checks this claim. During a production run, he took a random sample of $n = 10$ pieces of gum and measured their thickness. He obtained the following readings [7.65, 7.60, 7.65, 7.70, 7.55, 7.55, 7.40, 7.40, 7.50, 7.50] and would like to assess the validity of the claim made by the manufacturer having suspicions that the thickness might be not within the acceptable limits."
   ]
  },
  {
   "cell_type": "markdown",
   "metadata": {
    "id": "iv2vDADHN9dt"
   },
   "source": [
    "**TA1) State the Null and Alternative hypotheses**"
   ]
  },
  {
   "cell_type": "code",
   "execution_count": 3,
   "metadata": {
    "executionInfo": {
     "elapsed": 2211,
     "status": "ok",
     "timestamp": 1615272409375,
     "user": {
      "displayName": "Simos Gerasimou",
      "photoUrl": "https://lh3.googleusercontent.com/a-/AOh14GiyuWEDBGgnFKbsa3BAO5bWW-MwC5_V7MnUQz5JiA=s64",
      "userId": "13902192774339425778"
     },
     "user_tz": 0
    },
    "id": "Crksf8BMMpiv"
   },
   "outputs": [],
   "source": [
    "#Note: two-tailed\n",
    "#H0 : μ  = 7.5\n",
    "#H1:  μ != 7.5"
   ]
  },
  {
   "cell_type": "markdown",
   "metadata": {
    "id": "EvzV444pON3V"
   },
   "source": [
    "**TA2) Calculate the degrees of freedom**"
   ]
  },
  {
   "cell_type": "code",
   "execution_count": 4,
   "metadata": {
    "colab": {
     "base_uri": "https://localhost:8080/"
    },
    "executionInfo": {
     "elapsed": 2206,
     "status": "ok",
     "timestamp": 1615272409377,
     "user": {
      "displayName": "Simos Gerasimou",
      "photoUrl": "https://lh3.googleusercontent.com/a-/AOh14GiyuWEDBGgnFKbsa3BAO5bWW-MwC5_V7MnUQz5JiA=s64",
      "userId": "13902192774339425778"
     },
     "user_tz": 0
    },
    "id": "_Qr7I5DbORuu",
    "outputId": "48295063-f14c-47f2-c001-7162500e1169"
   },
   "outputs": [
    {
     "name": "stdout",
     "output_type": "stream",
     "text": [
      "There are 9 degrees of freedom\n"
     ]
    }
   ],
   "source": [
    "factory = [7.65, 7.60, 7.65, 7.70, 7.55, 7.55, 7.40, 7.40, 7.50, 7.50]\n",
    "dfF = len(factory) -1\n",
    "print(\"There are %d degrees of freedom\" % (dfF)) #9 df (n-1)"
   ]
  },
  {
   "cell_type": "markdown",
   "metadata": {
    "id": "UCW9mT07OvXU"
   },
   "source": [
    "**TA3) Perform the appropriate t test to evaluate the hypotheses for significance level $\\alpha = 0.05$. You must show your calculations, i.e., calculate the result analytically, but you may use the appropriate scipy.stats method to check your results.**\n",
    "\n",
    "**Hint**: You may want to check https://docs.scipy.org/doc/scipy/reference/stats.html"
   ]
  },
  {
   "cell_type": "code",
   "execution_count": 5,
   "metadata": {
    "colab": {
     "base_uri": "https://localhost:8080/"
    },
    "executionInfo": {
     "elapsed": 2196,
     "status": "ok",
     "timestamp": 1615272409378,
     "user": {
      "displayName": "Simos Gerasimou",
      "photoUrl": "https://lh3.googleusercontent.com/a-/AOh14GiyuWEDBGgnFKbsa3BAO5bWW-MwC5_V7MnUQz5JiA=s64",
      "userId": "13902192774339425778"
     },
     "user_tz": 0
    },
    "id": "v2xsTUf5O1DA",
    "outputId": "87179678-0366-4426-8113-466b5b869472"
   },
   "outputs": [
    {
     "name": "stdout",
     "output_type": "stream",
     "text": [
      "T value analytically: 1.539\n",
      "T value using scipy: 1.539\n",
      "T critical:-2.262\n",
      "t(9)=1.539 < 2.262=t_crit -> H0 is not rejected (not exceeding the critical value) \n",
      "p=0.158 > 0.050=α -> H0 is not rejected (not lower than α) \n"
     ]
    }
   ],
   "source": [
    "#Using t formula\n",
    "mu = 7.5\n",
    "alpha = 0.05\n",
    "t1 = (np.mean(factory) - mu) / (np.std(factory, ddof=1)/np.sqrt(len(factory)))\n",
    "\n",
    "#Using library: check the documentation - Scipy gives by default a two-tailed test\n",
    "t2=stats.ttest_1samp(factory, popmean=mu)\n",
    "\n",
    "print(\"T value analytically: %.3f\" % (t1))\n",
    "print(\"T value using scipy: %.3f\"  % (t2.statistic))\n",
    "\n",
    "#Because it is a two-tailed probability, we need to assing half of alpha on each tail of the t distribution\n",
    "t_crit = stats.t.ppf(alpha/2, df=dfF)\n",
    "print(\"T critical:%.3f\" % (t_crit))\n",
    "\n",
    "#Using the t value\n",
    "print(\"t(%d)=%.3f < %.3f=t_crit -> H0 is not rejected (not exceeding the critical value) \" %\n",
    "      (dfF, np.abs(t1), np.abs(t_crit)))\n",
    "\n",
    "#Using the p value and alpha significance level\n",
    "print(\"p=%.3f > %.3f=α -> H0 is not rejected (not lower than α) \" %(t2.pvalue, alpha))"
   ]
  },
  {
   "cell_type": "code",
   "execution_count": 6,
   "metadata": {
    "colab": {
     "base_uri": "https://localhost:8080/",
     "height": 410
    },
    "executionInfo": {
     "elapsed": 2188,
     "status": "ok",
     "timestamp": 1615272409379,
     "user": {
      "displayName": "Simos Gerasimou",
      "photoUrl": "https://lh3.googleusercontent.com/a-/AOh14GiyuWEDBGgnFKbsa3BAO5bWW-MwC5_V7MnUQz5JiA=s64",
      "userId": "13902192774339425778"
     },
     "user_tz": 0
    },
    "id": "JTi3e_FdiDZt",
    "outputId": "53768df5-c2e8-45b3-abd9-834004f42a92"
   },
   "outputs": [
    {
     "data": {
      "image/png": "[encoded data removed]",
      "text/plain": [
       "<Figure size 500x400 with 1 Axes>"
      ]
     },
     "metadata": {
      "needs_background": "light"
     },
     "output_type": "display_data"
    }
   ],
   "source": [
    "plotKDE(dfF, t1, \"Factory\", \"Thickness\")"
   ]
  },
  {
   "cell_type": "markdown",
   "metadata": {
    "id": "8bfufAvCRpPX"
   },
   "source": [
    "## **Part B**\n",
    "\n",
    "A personal trainer measured the maximum heart rate of 25 of their trainees. The resulting data is: \n",
    "[170, 167, 174, 179, 179, 187, 179, 183, 179, 156, 163, 156, 187, 156, 167, 156, 174, 170, 183, 179, 174, 179, 170, 159, 187]. The personal trainer believes that their mean heart rate is greater than 170 and he is interested in testing this hypothesis."
   ]
  },
  {
   "cell_type": "markdown",
   "metadata": {
    "id": "FtxCXcQjR4Iy"
   },
   "source": [
    "**TB1) State the Null and Alternative hypotheses**"
   ]
  },
  {
   "cell_type": "code",
   "execution_count": 7,
   "metadata": {
    "executionInfo": {
     "elapsed": 2178,
     "status": "ok",
     "timestamp": 1615272409381,
     "user": {
      "displayName": "Simos Gerasimou",
      "photoUrl": "https://lh3.googleusercontent.com/a-/AOh14GiyuWEDBGgnFKbsa3BAO5bWW-MwC5_V7MnUQz5JiA=s64",
      "userId": "13902192774339425778"
     },
     "user_tz": 0
    },
    "id": "NT7kivizPLGP"
   },
   "outputs": [],
   "source": [
    "#Note: one-tailed (more)\n",
    "#H0 : μ = 170\n",
    "#H1: μ > 170"
   ]
  },
  {
   "cell_type": "markdown",
   "metadata": {
    "id": "sWhYHaElSOv6"
   },
   "source": [
    "**TB2) Calculate the degrees of freedom**"
   ]
  },
  {
   "cell_type": "code",
   "execution_count": 8,
   "metadata": {
    "colab": {
     "base_uri": "https://localhost:8080/"
    },
    "executionInfo": {
     "elapsed": 2175,
     "status": "ok",
     "timestamp": 1615272409382,
     "user": {
      "displayName": "Simos Gerasimou",
      "photoUrl": "https://lh3.googleusercontent.com/a-/AOh14GiyuWEDBGgnFKbsa3BAO5bWW-MwC5_V7MnUQz5JiA=s64",
      "userId": "13902192774339425778"
     },
     "user_tz": 0
    },
    "id": "KEQK7QY3Rch3",
    "outputId": "04f9e772-7c12-48c5-84b8-712a0dded5ad"
   },
   "outputs": [
    {
     "name": "stdout",
     "output_type": "stream",
     "text": [
      "There are 24 degrees of freedom\n"
     ]
    }
   ],
   "source": [
    "rate = [170, 167, 174, 179, 179, 187, 179, 183, 179, 156, 163, 156, 187, 156, 167, 156, 174, 170, 183, 179, 174, 179, 170, 159, 187]\n",
    "dfR = len(rate) -1\n",
    "print(\"There are %d degrees of freedom\" % (dfR)) #24 df (n-1)"
   ]
  },
  {
   "cell_type": "markdown",
   "metadata": {
    "id": "HH4dxNRsSvO1"
   },
   "source": [
    "**TB3) Perform the appropriate t test to evaluate the hypotheses for significance level $\\alpha = 0.05$. You must show your calculations, i.e., calculate the result analytically, but you may use the appropriate scipy.stats method to check your results.**"
   ]
  },
  {
   "cell_type": "code",
   "execution_count": 9,
   "metadata": {
    "colab": {
     "base_uri": "https://localhost:8080/"
    },
    "executionInfo": {
     "elapsed": 2167,
     "status": "ok",
     "timestamp": 1615272409383,
     "user": {
      "displayName": "Simos Gerasimou",
      "photoUrl": "https://lh3.googleusercontent.com/a-/AOh14GiyuWEDBGgnFKbsa3BAO5bWW-MwC5_V7MnUQz5JiA=s64",
      "userId": "13902192774339425778"
     },
     "user_tz": 0
    },
    "id": "tKf6wY6tSkVm",
    "outputId": "835676b3-3e57-42df-d79d-14437d3e8160"
   },
   "outputs": [
    {
     "name": "stdout",
     "output_type": "stream",
     "text": [
      "T value analytically: 1.222\n",
      "T value using scipy: 1.222\n",
      "T critical:1.711\n",
      "t(24)=1.222 < 1.711=t_crit -> H0 is not rejected (not exceeding the critical value) \n",
      "p=0.117 > 0.050=α -> H0 is not rejected (not lower than α) \n"
     ]
    }
   ],
   "source": [
    "#Using t formula\n",
    "mu = 170\n",
    "alpha = 0.05\n",
    "t1 = (np.mean(rate) - mu) / (np.std(rate, ddof=1)/np.sqrt(len(rate)))\n",
    "\n",
    "#Using library\n",
    "t2=stats.ttest_1samp(rate, mu)\n",
    "\n",
    "print(\"T value analytically: %.3f\" % (t1))\n",
    "print(\"T value using scipy: %.3f\"  % (t2.statistic))\n",
    "\n",
    "#Because we want > => the rejection region lies on upper tail of the t-Distribution (upper-tailed)\n",
    "#The ppf gives the lower tail probability, so we subtract from 1 to get the upper tail\n",
    "t_crit = stats.t.ppf(1-alpha, df=dfR)\n",
    "print(\"T critical:%.3f\" % (t_crit))\n",
    "\n",
    "\n",
    "#Using the t value\n",
    "print(\"t(%d)=%.3f < %.3f=t_crit -> H0 is not rejected (not exceeding the critical value) \" %\n",
    "      (dfR, np.abs(t1), np.abs(t_crit)))\n",
    "\n",
    "#Using the p value and alpha significance level\n",
    "#According to the Scipy documentation, the pvalue is for a two-tailed t-test, so we must divide the p by 2 for one-tailed tests\n",
    "#This is the easiest way to convert a two-tailed test into a one-tailed test\n",
    "print(\"p=%.3f > %.3f=α -> H0 is not rejected (not lower than α) \" %(t2.pvalue/2, alpha))"
   ]
  },
  {
   "cell_type": "code",
   "execution_count": 10,
   "metadata": {
    "colab": {
     "base_uri": "https://localhost:8080/",
     "height": 410
    },
    "executionInfo": {
     "elapsed": 2711,
     "status": "ok",
     "timestamp": 1615272409937,
     "user": {
      "displayName": "Simos Gerasimou",
      "photoUrl": "https://lh3.googleusercontent.com/a-/AOh14GiyuWEDBGgnFKbsa3BAO5bWW-MwC5_V7MnUQz5JiA=s64",
      "userId": "13902192774339425778"
     },
     "user_tz": 0
    },
    "id": "rDR7hhS2kCqJ",
    "outputId": "4a3850ee-e0cf-42ae-f095-08672d34b6ba"
   },
   "outputs": [
    {
     "data": {
      "image/png": "[encoded data removed]",
      "text/plain": [
       "<Figure size 500x400 with 1 Axes>"
      ]
     },
     "metadata": {
      "needs_background": "light"
     },
     "output_type": "display_data"
    }
   ],
   "source": [
    "plotKDE(dfR, t1, \"Heart rate\", \"Rate\", type='right-tailed')"
   ]
  },
  {
   "cell_type": "markdown",
   "metadata": {
    "id": "tGp7132dTEf2"
   },
   "source": [
    "## **Part C**\n",
    "\n",
    "A biologist is interested in determining whether sunflower seedlings treated with a special extract results in a lower average height of sunflower seedlings than the standard height of 15.7 cm. The biologist treated a random sample of n = 33 seedlings with the extract and subsequently obtained the following heights: [11.5, 11.8, 15.7, 16.1, 14.1, 10.5, 9.3, 15.0, 11.1, 15.2, 19.0, 12.8, 12.4, 19.2, 13.5, 12.2, 13.3, 16.5, 13.5, 14.4, 16.7, 10.9, 13.0, 10.3, 15.8, 15.1, 17.1, 13.3, 12.4, 8.5, 14.3, 12.9, 13.5]"
   ]
  },
  {
   "cell_type": "markdown",
   "metadata": {
    "id": "YCo5q4ldTOzC"
   },
   "source": [
    "**TC1) State the Null and Alternative hypotheses**"
   ]
  },
  {
   "cell_type": "code",
   "execution_count": 11,
   "metadata": {
    "executionInfo": {
     "elapsed": 2702,
     "status": "ok",
     "timestamp": 1615272409938,
     "user": {
      "displayName": "Simos Gerasimou",
      "photoUrl": "https://lh3.googleusercontent.com/a-/AOh14GiyuWEDBGgnFKbsa3BAO5bWW-MwC5_V7MnUQz5JiA=s64",
      "userId": "13902192774339425778"
     },
     "user_tz": 0
    },
    "id": "fRsJ0AjPTDiB"
   },
   "outputs": [],
   "source": [
    "#One-tailed (less)\n",
    "#H0 : μ = 15.7\n",
    "#H1: μ < 15.7"
   ]
  },
  {
   "cell_type": "markdown",
   "metadata": {
    "id": "gURc4lWwTVwa"
   },
   "source": [
    "**TC2) Calculate the degrees of freedom**"
   ]
  },
  {
   "cell_type": "code",
   "execution_count": 12,
   "metadata": {
    "colab": {
     "base_uri": "https://localhost:8080/"
    },
    "executionInfo": {
     "elapsed": 2699,
     "status": "ok",
     "timestamp": 1615272409938,
     "user": {
      "displayName": "Simos Gerasimou",
      "photoUrl": "https://lh3.googleusercontent.com/a-/AOh14GiyuWEDBGgnFKbsa3BAO5bWW-MwC5_V7MnUQz5JiA=s64",
      "userId": "13902192774339425778"
     },
     "user_tz": 0
    },
    "id": "OAydz4h7S8xE",
    "outputId": "4d6287cd-fa41-4ea5-94cb-3b2e9f6a39e7"
   },
   "outputs": [
    {
     "name": "stdout",
     "output_type": "stream",
     "text": [
      "There are 32 degrees of freedom\n"
     ]
    }
   ],
   "source": [
    "flower = [11.5, 11.8, 15.7, 16.1, 14.1, 10.5, 9.3, 15.0, 11.1, 15.2, 19.0, 12.8, 12.4, 19.2, 13.5, 12.2, 13.3, 16.5, 13.5, 14.4, 16.7, 10.9, 13.0, 10.3, 15.8, 15.1, 17.1, 13.3, 12.4, 8.5, 14.3, 12.9, 13.5]\n",
    "dfL = len(flower) -1\n",
    "print(\"There are %d degrees of freedom\" % (dfL)) #32 df (n-1)"
   ]
  },
  {
   "cell_type": "markdown",
   "metadata": {
    "id": "jzc5iQk3Tg3H"
   },
   "source": [
    "**TC3) Perform the appropriate t test to evaluate the hypotheses for significance level $\\alpha = 0.05$. You must show your calculations, i.e., calculate the result analytically, but you may use the appropriate scipy.stats method to check your results.**"
   ]
  },
  {
   "cell_type": "code",
   "execution_count": 13,
   "metadata": {
    "colab": {
     "base_uri": "https://localhost:8080/"
    },
    "executionInfo": {
     "elapsed": 2692,
     "status": "ok",
     "timestamp": 1615272409940,
     "user": {
      "displayName": "Simos Gerasimou",
      "photoUrl": "https://lh3.googleusercontent.com/a-/AOh14GiyuWEDBGgnFKbsa3BAO5bWW-MwC5_V7MnUQz5JiA=s64",
      "userId": "13902192774339425778"
     },
     "user_tz": 0
    },
    "id": "KY4WtqA7Tc2R",
    "outputId": "064a9313-33e2-412d-c0b8-4353b9e91666"
   },
   "outputs": [
    {
     "name": "stdout",
     "output_type": "stream",
     "text": [
      "T value analytically: -4.599\n",
      "T value using scipy: -4.599\n",
      "T critical:-1.694\n",
      "t(32)=4.599 > 1.694=t_crit -> REJECT H0 (t statistic exceeds the critical value) \n",
      "p=0.000032 < 0.050=α -> H0 is REJECTED (lower than α) \n"
     ]
    }
   ],
   "source": [
    "#Using t formula\n",
    "mu = 15.7\n",
    "alpha = 0.05\n",
    "t1 = (np.mean(flower) - mu) / (np.std(flower, ddof=1)/np.sqrt(len(flower)))\n",
    "\n",
    "#Using library\n",
    "t2=stats.ttest_1samp(flower, mu)\n",
    "\n",
    "print(\"T value analytically: %.3f\" % (t1))\n",
    "print(\"T value using scipy: %.3f\"  % (t2.statistic))\n",
    "\n",
    "#Because we want <15.7 => the rejection region lies on lower tail of the t-Distribution (lower-tailed)\n",
    "#The ppf gives the lower tail probability, so we subtract from 1 to get the upper tail\n",
    "t_crit = stats.t.ppf(alpha, df=dfL)\n",
    "print(\"T critical:%.3f\" % (t_crit))\n",
    "\n",
    "#Using the t value\n",
    "print(\"t(%d)=%.3f > %.3f=t_crit -> REJECT H0 (t statistic exceeds the critical value) \" %\n",
    "      (dfL, np.abs(t1), np.abs(t_crit)))\n",
    "\n",
    "#Using the p value and alpha significance level\n",
    "#According to the Scipy documentation, the pvalue is for a two-tailed t-test, so we must divide the p by 2 for one-tailed tests\n",
    "#This is the easiest way to convert a two-tailed test into a one-tailed test\n",
    "print(\"p=%.6f < %.3f=α -> H0 is REJECTED (lower than α) \" %(t2.pvalue/2, alpha))"
   ]
  },
  {
   "cell_type": "code",
   "execution_count": 14,
   "metadata": {
    "colab": {
     "base_uri": "https://localhost:8080/",
     "height": 410
    },
    "executionInfo": {
     "elapsed": 3363,
     "status": "ok",
     "timestamp": 1615272410621,
     "user": {
      "displayName": "Simos Gerasimou",
      "photoUrl": "https://lh3.googleusercontent.com/a-/AOh14GiyuWEDBGgnFKbsa3BAO5bWW-MwC5_V7MnUQz5JiA=s64",
      "userId": "13902192774339425778"
     },
     "user_tz": 0
    },
    "id": "ZHn6x5TEkSkQ",
    "outputId": "ede9d3a9-6ca2-4e20-eec0-4adc755e44bc"
   },
   "outputs": [
    {
     "data": {
      "image/png": "[encoded data removed]",
      "text/plain": [
       "<Figure size 500x400 with 1 Axes>"
      ]
     },
     "metadata": {
      "needs_background": "light"
     },
     "output_type": "display_data"
    }
   ],
   "source": [
    "plotKDE(dfL, t1, \"Flowers\", \"Flower height\", type='left-tailed')"
   ]
  },
  {
   "cell_type": "markdown",
   "metadata": {
    "id": "_-s82b5_VUHn"
   },
   "source": [
    "## **Part D**\n",
    "\n",
    "The board of directors at Netflix believes that \"Displaying better artwork will result in greater engagement by members\". To test this hypothesis the data science team carries out an experiment in which they show to two groups different artworks and measure their engangement rate. The team collected the following data:\n",
    "\n",
    "Group Control: [-0.5, 3.3, -9.3, 11.3, -5.4, 0, 12.3, -1, -2, -10.6, -10.2, -4.6, -12.2, -6.7, 11.6, 2.8,-7.1, 0.3, 6.2, 1.8, -0.2, 3.7, -9.2, 15.9, 8.3,-10.2]\n",
    "\n",
    "Group Art: [11.4, 9, 11, 3.9, 5.5, 5.7, 9.4, 10.7, 13.6, -2.9, -0.1, 7.4, 21.5, -5.3, -3.8, 13.4, 13.1]\n",
    "\n",
    "**Perform the appropriate t test to evaluate the hypotheses for significance level 𝛼=0.05 . You must show your calculations, i.e., calculate the result analytically, but you may use the appropriate scipy.stats method to check your results. State explicitly the hypothesis and the degrees of freedom**"
   ]
  },
  {
   "cell_type": "code",
   "execution_count": 15,
   "metadata": {
    "executionInfo": {
     "elapsed": 3357,
     "status": "ok",
     "timestamp": 1615272410623,
     "user": {
      "displayName": "Simos Gerasimou",
      "photoUrl": "https://lh3.googleusercontent.com/a-/AOh14GiyuWEDBGgnFKbsa3BAO5bWW-MwC5_V7MnUQz5JiA=s64",
      "userId": "13902192774339425778"
     },
     "user_tz": 0
    },
    "id": "mKSRBBvwViJl"
   },
   "outputs": [],
   "source": [
    "#H0: μc = μa\n",
    "#H1: μc != μa"
   ]
  },
  {
   "cell_type": "code",
   "execution_count": 16,
   "metadata": {
    "colab": {
     "base_uri": "https://localhost:8080/"
    },
    "executionInfo": {
     "elapsed": 3353,
     "status": "ok",
     "timestamp": 1615272410624,
     "user": {
      "displayName": "Simos Gerasimou",
      "photoUrl": "https://lh3.googleusercontent.com/a-/AOh14GiyuWEDBGgnFKbsa3BAO5bWW-MwC5_V7MnUQz5JiA=s64",
      "userId": "13902192774339425778"
     },
     "user_tz": 0
    },
    "id": "GCMwdVywV0Bi",
    "outputId": "daf2bf60-3685-42fd-ead5-f03640b237c9"
   },
   "outputs": [
    {
     "name": "stdout",
     "output_type": "stream",
     "text": [
      "There are 41 degrees of freedom\n"
     ]
    }
   ],
   "source": [
    "con = np.array([-0.5, 3.3, -9.3, 11.3, -5.4, 0, 12.3, -1, -2, -10.6, -10.2, -4.6, -12.2, -6.7, 11.6, 2.8,-7.1, 0.3, 6.2, 1.8, -0.2, 3.7, -9.2, 15.9, 8.3,-10.2])\n",
    "art = np.array([11.4, 9, 11, 3.9, 5.5, 5.7, 9.4, 10.7, 13.6, -2.9, -0.1, 7.4, 21.5, -5.3, -3.8, 13.4, 13.1])\n",
    "\n",
    "dfN = len(con) + len(art) - 2\n",
    "print(\"There are %d degrees of freedom\" % (dfN))"
   ]
  },
  {
   "cell_type": "code",
   "execution_count": 17,
   "metadata": {
    "colab": {
     "base_uri": "https://localhost:8080/"
    },
    "executionInfo": {
     "elapsed": 3342,
     "status": "ok",
     "timestamp": 1615272410625,
     "user": {
      "displayName": "Simos Gerasimou",
      "photoUrl": "https://lh3.googleusercontent.com/a-/AOh14GiyuWEDBGgnFKbsa3BAO5bWW-MwC5_V7MnUQz5JiA=s64",
      "userId": "13902192774339425778"
     },
     "user_tz": 0
    },
    "id": "HtMLDarqTrAh",
    "outputId": "8a07204b-570f-42c8-ee58-c756002fffd6"
   },
   "outputs": [
    {
     "name": "stdout",
     "output_type": "stream",
     "text": [
      "Pooled variance SP = 58.906\n",
      "T value analytically: -3.223\n",
      "T value using scipy: -3.223\n",
      "T critical:-2.020\n",
      "t(41)=3.223 > 2.020=t_crit -> REJECT H0 (t statistic exceeds the critical value) \n",
      "p=0.0025 < 0.050=α -> H0 is REJECTED (lower than α) \n"
     ]
    }
   ],
   "source": [
    "mCon = np.mean(con)\n",
    "mArt= np.mean(art)\n",
    "stdCon = np.std(con, ddof=1)\n",
    "stdArt = np.std(art, ddof=1)\n",
    "alpha=0.05\n",
    "\n",
    "#Calculate pool variance\n",
    "sp  =( (len(con)-1) * np.power(stdCon,2) + (len(art)-1) * np.power(stdArt,2) ) / (len(con) + len(art) - 2)\n",
    "print(\"Pooled variance SP = %.3f\" % (sp))\n",
    "\n",
    "#Analytically\n",
    "t1 = (mCon - mArt) / np.sqrt( (sp/len(con)) + (sp/len(art)) )\n",
    "\n",
    "#Using Scipy\n",
    "t2 = stats.ttest_ind(con, art)\n",
    "\n",
    "print(\"T value analytically: %.3f\" % (t1))\n",
    "print(\"T value using scipy: %.3f\"  % (t2.statistic))\n",
    "\n",
    "#Because it is a two-tailed probability, we need to assing half of alpha on each tail of the t distribution\n",
    "t_crit = stats.t.ppf(alpha/2, df=dfN)\n",
    "print(\"T critical:%.3f\" % (t_crit))\n",
    "\n",
    "#Using the t value\n",
    "print(\"t(%d)=%.3f > %.3f=t_crit -> REJECT H0 (t statistic exceeds the critical value) \" %\n",
    "      (dfN, np.abs(t1), np.abs(t_crit)))\n",
    "\n",
    "#Using the p value and alpha significance level\n",
    "print(\"p=%.4f < %.3f=α -> H0 is REJECTED (lower than α) \" %(t2.pvalue, alpha))\n",
    "\n",
    "#We can reject H0, There is sufficient evidence that displaying better artwork results in different member engagement"
   ]
  },
  {
   "cell_type": "code",
   "execution_count": 18,
   "metadata": {
    "colab": {
     "base_uri": "https://localhost:8080/",
     "height": 410
    },
    "executionInfo": {
     "elapsed": 3333,
     "status": "ok",
     "timestamp": 1615272410626,
     "user": {
      "displayName": "Simos Gerasimou",
      "photoUrl": "https://lh3.googleusercontent.com/a-/AOh14GiyuWEDBGgnFKbsa3BAO5bWW-MwC5_V7MnUQz5JiA=s64",
      "userId": "13902192774339425778"
     },
     "user_tz": 0
    },
    "id": "IDSHzTbik41w",
    "outputId": "ac3d794c-b651-4c78-bdf1-984ab427feca"
   },
   "outputs": [
    {
     "data": {
      "image/png": "[encoded data removed]",
      "text/plain": [
       "<Figure size 500x400 with 1 Axes>"
      ]
     },
     "metadata": {
      "needs_background": "light"
     },
     "output_type": "display_data"
    }
   ],
   "source": [
    "plotKDE(dfN, t1, \"Netflix\", \"Engagement delta\", type='two-tailed')"
   ]
  },
  {
   "cell_type": "markdown",
   "metadata": {
    "id": "BsNMPkorWppe"
   },
   "source": [
    "## **Part E**\n",
    "\n",
    "As a coffee lover, John Doe wants to know whether the price of coffee is significantly different between a sample of coffee shops in York and Leeds. To validate this, he collects the following data from various neighbourhoods in York and Leeds\n",
    "\n",
    "**York**: [1.5 , 1.5 , 1.79, 1.79, 1.79, 1.79, 1.85, 1.85, 1.85, 1.85, 1.85,\n",
    "        1.99, 1.99, 1.99, 1.99, 1.99, 1.99, 1.99, 2.  , 2.  , 2.  , 2.19,\n",
    "        2.19, 2.29, 2.29, 2.29, 2.29, 2.29, 2.5 , 2.5 ]\n",
    "        \n",
    "**Leeds**: [1.99, 1.99, 2.29, 2.29, 2.29, 2.29, 2.49, 2.49, 2.49, 2.49, 2.49,\n",
    "        2.49, 2.49, 2.49, 2.49, 2.79, 2.79, 2.79, 2.79, 2.79, 2.79, 2.79,\n",
    "        2.95, 2.95, 2.95, 2.95, 2.95, 2.95, 2.99, 2.99, 2.99, 2.99, 3.49,\n",
    "        3.49, 3.49]\n",
    "        \n",
    "\n",
    "**Perform the appropriate t test to evaluate the hypotheses for significance level 𝛼=0.05 . You must show your calculations, i.e., calculate the result analytically, but you may use the appropriate scipy.stats method to check your results. State explicitly the hypothesis and the degrees of freedom**"
   ]
  },
  {
   "cell_type": "code",
   "execution_count": 19,
   "metadata": {
    "executionInfo": {
     "elapsed": 3325,
     "status": "ok",
     "timestamp": 1615272410628,
     "user": {
      "displayName": "Simos Gerasimou",
      "photoUrl": "https://lh3.googleusercontent.com/a-/AOh14GiyuWEDBGgnFKbsa3BAO5bWW-MwC5_V7MnUQz5JiA=s64",
      "userId": "13902192774339425778"
     },
     "user_tz": 0
    },
    "id": "ACRs9-HJVfGP"
   },
   "outputs": [],
   "source": [
    "#H0: μY = μL\n",
    "#H1: μY != μL"
   ]
  },
  {
   "cell_type": "code",
   "execution_count": 20,
   "metadata": {
    "colab": {
     "base_uri": "https://localhost:8080/"
    },
    "executionInfo": {
     "elapsed": 3321,
     "status": "ok",
     "timestamp": 1615272410628,
     "user": {
      "displayName": "Simos Gerasimou",
      "photoUrl": "https://lh3.googleusercontent.com/a-/AOh14GiyuWEDBGgnFKbsa3BAO5bWW-MwC5_V7MnUQz5JiA=s64",
      "userId": "13902192774339425778"
     },
     "user_tz": 0
    },
    "id": "MBto5C3sXAAo",
    "outputId": "f1a74e10-f12f-4f02-899f-f335d614c881"
   },
   "outputs": [
    {
     "name": "stdout",
     "output_type": "stream",
     "text": [
      "There are 63 degrees of freedom\n"
     ]
    }
   ],
   "source": [
    "coffeePriceY = [1.5]*2 + [1.79]*4 + [1.85]*5 + [1.99]*7 + [2]*3 + [2.19]*2 + [2.29]*5 + [2.5]*2\n",
    "coffeePriceL = [1.99]*2 + [2.29]*4 + [2.49]*9 + [2.79]*7 + [2.95]*6 + [2.99]*4 + [3.49]*3\n",
    "\n",
    "dfC = len(coffeePriceY) + len(coffeePriceL) - 2\n",
    "print(\"There are %d degrees of freedom\" % (dfC))"
   ]
  },
  {
   "cell_type": "code",
   "execution_count": 21,
   "metadata": {
    "colab": {
     "base_uri": "https://localhost:8080/"
    },
    "executionInfo": {
     "elapsed": 3312,
     "status": "ok",
     "timestamp": 1615272410629,
     "user": {
      "displayName": "Simos Gerasimou",
      "photoUrl": "https://lh3.googleusercontent.com/a-/AOh14GiyuWEDBGgnFKbsa3BAO5bWW-MwC5_V7MnUQz5JiA=s64",
      "userId": "13902192774339425778"
     },
     "user_tz": 0
    },
    "id": "5Q_pymF5XGMu",
    "outputId": "bcd5711c-87d2-45d1-b65d-dc12d48c6a8f"
   },
   "outputs": [
    {
     "name": "stdout",
     "output_type": "stream",
     "text": [
      "Pooled variance SP = 0.103\n",
      "T value analytically: -8.952\n",
      "T value using scipy: -8.952\n",
      "T critical:-1.998\n",
      "t(63)=8.952 > 1.998=t_crit -> REJECT H0 (t statistic exceeds the critical value) \n",
      "p=0.000000 < 0.050=α -> H0 is REJECTED (lower than α) \n"
     ]
    }
   ],
   "source": [
    "mYork    = np.mean(coffeePriceY)\n",
    "mLeeds   = np.mean(coffeePriceL)\n",
    "stdYork  = np.std(coffeePriceY, ddof=1)\n",
    "stdLeeds = np.std(coffeePriceL, ddof=1)\n",
    "\n",
    "alpha = 0.05\n",
    "\n",
    "#Calculate pool variance\n",
    "sp  =( (len(coffeePriceY)-1) * np.power(stdYork,2) + (len(coffeePriceL)-1) * np.power(stdLeeds,2) ) / (len(coffeePriceY) + len(coffeePriceL) - 2)\n",
    "print(\"Pooled variance SP = %.3f\" % (sp))\n",
    "\n",
    "#Analytically\n",
    "t1 = (mYork - mLeeds) / np.sqrt( (sp/len(coffeePriceY)) + (sp/len(coffeePriceL)) )\n",
    "\n",
    "#Using Scipy\n",
    "t2 = stats.ttest_ind(coffeePriceY, coffeePriceL)\n",
    "\n",
    "print(\"T value analytically: %.3f\" % (t1))\n",
    "print(\"T value using scipy: %.3f\"  % (t2.statistic))\n",
    "\n",
    "#Because it is a two-tailed probability, we need to assing half of alpha on each tail of the t distribution\n",
    "t_crit = stats.t.ppf(alpha/2, df=dfC)\n",
    "print(\"T critical:%.3f\" % (t_crit))\n",
    "\n",
    "#Using the t value\n",
    "print(\"t(%d)=%.3f > %.3f=t_crit -> REJECT H0 (t statistic exceeds the critical value) \" %\n",
    "      (dfC, np.abs(t1), np.abs(t_crit)))\n",
    "\n",
    "#Using the p value and alpha significance level\n",
    "print(\"p=%.6f < %.3f=α -> H0 is REJECTED (lower than α) \" %(t2.pvalue, alpha))"
   ]
  },
  {
   "cell_type": "code",
   "execution_count": 22,
   "metadata": {
    "colab": {
     "base_uri": "https://localhost:8080/",
     "height": 410
    },
    "executionInfo": {
     "elapsed": 4278,
     "status": "ok",
     "timestamp": 1615272411603,
     "user": {
      "displayName": "Simos Gerasimou",
      "photoUrl": "https://lh3.googleusercontent.com/a-/AOh14GiyuWEDBGgnFKbsa3BAO5bWW-MwC5_V7MnUQz5JiA=s64",
      "userId": "13902192774339425778"
     },
     "user_tz": 0
    },
    "id": "pUgFikz3l6Pd",
    "outputId": "86f111ad-e2a1-44ae-bec9-1f58bedd2be7"
   },
   "outputs": [
    {
     "data": {
      "image/png": "[encoded data removed]",
      "text/plain": [
       "<Figure size 500x400 with 1 Axes>"
      ]
     },
     "metadata": {
      "needs_background": "light"
     },
     "output_type": "display_data"
    }
   ],
   "source": [
    "plotKDE(dfC, t1, \"Coffee\", \"Price\", type='two-tailed')"
   ]
  },
  {
   "cell_type": "markdown",
   "metadata": {
    "id": "gisSz8D0fsbu"
   },
   "source": [
    "## **Part F**\n",
    "\n",
    "DataVision has been commissioned by the York City Council to analyse a set of data regarding citizens of Yorkshire and extract actionable knowledge.\n",
    "\n",
    "The dataset for Yorkhire citizens is available on VLE (look for yorkshire.csv in the Practicals section)\n",
    "\n",
    "Before doing the tasks below, you may want to explore the dataset using a spreadsheet editor (e.g., Excel) to get a high-level view of the dataset."
   ]
  },
  {
   "cell_type": "markdown",
   "metadata": {
    "id": "YDCH9Lm4gOB_"
   },
   "source": [
    "**TF1) Load the Yorkshire dataset using Pandas**"
   ]
  },
  {
   "cell_type": "code",
   "execution_count": 23,
   "metadata": {
    "colab": {
     "base_uri": "https://localhost:8080/",
     "height": 206
    },
    "executionInfo": {
     "elapsed": 4268,
     "status": "ok",
     "timestamp": 1615272411605,
     "user": {
      "displayName": "Simos Gerasimou",
      "photoUrl": "https://lh3.googleusercontent.com/a-/AOh14GiyuWEDBGgnFKbsa3BAO5bWW-MwC5_V7MnUQz5JiA=s64",
      "userId": "13902192774339425778"
     },
     "user_tz": 0
    },
    "id": "RlF-jDGEdzCf",
    "outputId": "407de7eb-9eaf-4c6b-a12e-54c832ca8043"
   },
   "outputs": [
    {
     "data": {
      "text/html": [
       "<div>\n",
       "<style scoped>\n",
       "    .dataframe tbody tr th:only-of-type {\n",
       "        vertical-align: middle;\n",
       "    }\n",
       "\n",
       "    .dataframe tbody tr th {\n",
       "        vertical-align: top;\n",
       "    }\n",
       "\n",
       "    .dataframe thead th {\n",
       "        text-align: right;\n",
       "    }\n",
       "</style>\n",
       "<table border=\"1\" class=\"dataframe\">\n",
       "  <thead>\n",
       "    <tr style=\"text-align: right;\">\n",
       "      <th></th>\n",
       "      <th>id</th>\n",
       "      <th>age</th>\n",
       "      <th>gender</th>\n",
       "      <th>region</th>\n",
       "      <th>income</th>\n",
       "      <th>married</th>\n",
       "      <th>children</th>\n",
       "      <th>car</th>\n",
       "      <th>mortgage</th>\n",
       "    </tr>\n",
       "  </thead>\n",
       "  <tbody>\n",
       "    <tr>\n",
       "      <th>0</th>\n",
       "      <td>ID12101</td>\n",
       "      <td>48</td>\n",
       "      <td>FEMALE</td>\n",
       "      <td>INNER_CITY</td>\n",
       "      <td>17546.000000</td>\n",
       "      <td>NO</td>\n",
       "      <td>1</td>\n",
       "      <td>NO</td>\n",
       "      <td>NO</td>\n",
       "    </tr>\n",
       "    <tr>\n",
       "      <th>1</th>\n",
       "      <td>ID12102</td>\n",
       "      <td>40</td>\n",
       "      <td>MALE</td>\n",
       "      <td>TOWN</td>\n",
       "      <td>30085.100000</td>\n",
       "      <td>YES</td>\n",
       "      <td>3</td>\n",
       "      <td>YES</td>\n",
       "      <td>YES</td>\n",
       "    </tr>\n",
       "    <tr>\n",
       "      <th>2</th>\n",
       "      <td>ID12103</td>\n",
       "      <td>51</td>\n",
       "      <td>FEMALE</td>\n",
       "      <td>INNER_CITY</td>\n",
       "      <td>16575.400000</td>\n",
       "      <td>YES</td>\n",
       "      <td>0</td>\n",
       "      <td>YES</td>\n",
       "      <td>NO</td>\n",
       "    </tr>\n",
       "    <tr>\n",
       "      <th>3</th>\n",
       "      <td>ID12104</td>\n",
       "      <td>23</td>\n",
       "      <td>FEMALE</td>\n",
       "      <td>TOWN</td>\n",
       "      <td>20375.400000</td>\n",
       "      <td>YES</td>\n",
       "      <td>3</td>\n",
       "      <td>NO</td>\n",
       "      <td>NO</td>\n",
       "    </tr>\n",
       "    <tr>\n",
       "      <th>4</th>\n",
       "      <td>ID12105</td>\n",
       "      <td>57</td>\n",
       "      <td>FEMALE</td>\n",
       "      <td>RURAL</td>\n",
       "      <td>15944.690366</td>\n",
       "      <td>YES</td>\n",
       "      <td>0</td>\n",
       "      <td>NO</td>\n",
       "      <td>NO</td>\n",
       "    </tr>\n",
       "  </tbody>\n",
       "</table>\n",
       "</div>"
      ],
      "text/plain": [
       "        id  age  gender      region        income married  children  car  \\\n",
       "0  ID12101   48  FEMALE  INNER_CITY  17546.000000      NO         1   NO   \n",
       "1  ID12102   40    MALE        TOWN  30085.100000     YES         3  YES   \n",
       "2  ID12103   51  FEMALE  INNER_CITY  16575.400000     YES         0  YES   \n",
       "3  ID12104   23  FEMALE        TOWN  20375.400000     YES         3   NO   \n",
       "4  ID12105   57  FEMALE       RURAL  15944.690366     YES         0   NO   \n",
       "\n",
       "  mortgage  \n",
       "0       NO  \n",
       "1      YES  \n",
       "2       NO  \n",
       "3       NO  \n",
       "4       NO  "
      ]
     },
     "execution_count": 23,
     "metadata": {},
     "output_type": "execute_result"
    }
   ],
   "source": [
    "df = pd.read_csv(\"yorkshire.csv\")\n",
    "df.head()"
   ]
  },
  {
   "cell_type": "markdown",
   "metadata": {
    "id": "AJJ9lWTLgdsw"
   },
   "source": [
    "**TF2) Explore the dataset and try to understand the meaning of each variable (column). Identify which variables are categorical and which are numerical.**"
   ]
  },
  {
   "cell_type": "code",
   "execution_count": 24,
   "metadata": {
    "executionInfo": {
     "elapsed": 4261,
     "status": "ok",
     "timestamp": 1615272411608,
     "user": {
      "displayName": "Simos Gerasimou",
      "photoUrl": "https://lh3.googleusercontent.com/a-/AOh14GiyuWEDBGgnFKbsa3BAO5bWW-MwC5_V7MnUQz5JiA=s64",
      "userId": "13902192774339425778"
     },
     "user_tz": 0
    },
    "id": "OO7oxtFAgTjk"
   },
   "outputs": [],
   "source": [
    "#id:        citizen ID (text)\n",
    "#age:       citizen age (numerical - discrete)\n",
    "#gender:    citizen gender (categorical - nominal; male/female)\n",
    "#region:    inner city/suburban/town/rural (categorical - nomina.)\n",
    "#income:    amount of income per year (numerical - continuous)\n",
    "#married:   yes/no (categorical - nominal)\n",
    "#children:  number of children (numerical - discrete)\n",
    "#car:       yes/no (does the citizen have a car); (categorical - nominal)\n",
    "#mortgage:  yes/no (does the citizen have a mortgage); (categorical - nominal)"
   ]
  },
  {
   "cell_type": "markdown",
   "metadata": {
    "id": "Io0oAY92g2el"
   },
   "source": [
    "**TF3) Get the shape of the dataframe**"
   ]
  },
  {
   "cell_type": "code",
   "execution_count": 25,
   "metadata": {
    "colab": {
     "base_uri": "https://localhost:8080/"
    },
    "executionInfo": {
     "elapsed": 4257,
     "status": "ok",
     "timestamp": 1615272411609,
     "user": {
      "displayName": "Simos Gerasimou",
      "photoUrl": "https://lh3.googleusercontent.com/a-/AOh14GiyuWEDBGgnFKbsa3BAO5bWW-MwC5_V7MnUQz5JiA=s64",
      "userId": "13902192774339425778"
     },
     "user_tz": 0
    },
    "id": "kxO-uY3eg0eX",
    "outputId": "7c0d0e39-efcb-40c2-e287-ae98aa6980a9"
   },
   "outputs": [
    {
     "data": {
      "text/plain": [
       "(330, 9)"
      ]
     },
     "execution_count": 25,
     "metadata": {},
     "output_type": "execute_result"
    }
   ],
   "source": [
    "df.shape"
   ]
  },
  {
   "cell_type": "markdown",
   "metadata": {
    "id": "kbEsguhfg79Q"
   },
   "source": [
    "**TF4) Get the columns name of the dataframe. If you think any column renaming is needed, please do it.**"
   ]
  },
  {
   "cell_type": "code",
   "execution_count": 26,
   "metadata": {
    "colab": {
     "base_uri": "https://localhost:8080/"
    },
    "executionInfo": {
     "elapsed": 4252,
     "status": "ok",
     "timestamp": 1615272411610,
     "user": {
      "displayName": "Simos Gerasimou",
      "photoUrl": "https://lh3.googleusercontent.com/a-/AOh14GiyuWEDBGgnFKbsa3BAO5bWW-MwC5_V7MnUQz5JiA=s64",
      "userId": "13902192774339425778"
     },
     "user_tz": 0
    },
    "id": "ClH7HgHog4_G",
    "outputId": "e009b090-8944-4485-b66e-79969ce5f66c"
   },
   "outputs": [
    {
     "data": {
      "text/plain": [
       "Index(['id', 'age', 'gender', 'region', 'income', 'married', 'children', 'car',\n",
       "       'mortgage'],\n",
       "      dtype='object')"
      ]
     },
     "execution_count": 26,
     "metadata": {},
     "output_type": "execute_result"
    }
   ],
   "source": [
    "df.columns"
   ]
  },
  {
   "cell_type": "markdown",
   "metadata": {
    "id": "hq-af6AliFwH"
   },
   "source": [
    "**The Council is interested in assessing whether there is any discrimination in annual income between genders.**\n",
    "\n",
    "**TF5) State the Null and Alternative hypotheses**"
   ]
  },
  {
   "cell_type": "code",
   "execution_count": 27,
   "metadata": {
    "executionInfo": {
     "elapsed": 4246,
     "status": "ok",
     "timestamp": 1615272411611,
     "user": {
      "displayName": "Simos Gerasimou",
      "photoUrl": "https://lh3.googleusercontent.com/a-/AOh14GiyuWEDBGgnFKbsa3BAO5bWW-MwC5_V7MnUQz5JiA=s64",
      "userId": "13902192774339425778"
     },
     "user_tz": 0
    },
    "id": "69pgKJG8iReD"
   },
   "outputs": [],
   "source": [
    "# x_m: annual income of male citizens\n",
    "# x_f: annual income of female citizens\n",
    "#H0: x_m = x_f\n",
    "#H1: x_m != x_f"
   ]
  },
  {
   "cell_type": "markdown",
   "metadata": {
    "id": "36qZwhw8iaLi"
   },
   "source": [
    "**TF6) Calculate the degrees of freedom**"
   ]
  },
  {
   "cell_type": "code",
   "execution_count": 28,
   "metadata": {
    "colab": {
     "base_uri": "https://localhost:8080/"
    },
    "executionInfo": {
     "elapsed": 4242,
     "status": "ok",
     "timestamp": 1615272411612,
     "user": {
      "displayName": "Simos Gerasimou",
      "photoUrl": "https://lh3.googleusercontent.com/a-/AOh14GiyuWEDBGgnFKbsa3BAO5bWW-MwC5_V7MnUQz5JiA=s64",
      "userId": "13902192774339425778"
     },
     "user_tz": 0
    },
    "id": "7KGr21_biclL",
    "outputId": "5d36396b-9da2-4797-ad74-dcd2b105611b"
   },
   "outputs": [
    {
     "name": "stdout",
     "output_type": "stream",
     "text": [
      "There are 328 degrees of freedom\n"
     ]
    }
   ],
   "source": [
    "dfM = df[df['gender']==\"MALE\"]\n",
    "dfF = df[df['gender']==\"FEMALE\"]\n",
    "dof = len(dfM) + len(dfF) - 2\n",
    "\n",
    "print(\"There are %d degrees of freedom\" % (dof))"
   ]
  },
  {
   "cell_type": "markdown",
   "metadata": {
    "id": "fFM_U4ecivBC"
   },
   "source": [
    "**TF7) Find the critical value for a two-tailed test with significance level α=0.05**\n",
    "\n",
    "**Hint**:\n",
    "\n",
    "* t table http://www.ttable.org\n",
    "* Confirm that the value is correct using the appropriate statistical test method from scipy.stats.t"
   ]
  },
  {
   "cell_type": "code",
   "execution_count": 29,
   "metadata": {
    "colab": {
     "base_uri": "https://localhost:8080/"
    },
    "executionInfo": {
     "elapsed": 4237,
     "status": "ok",
     "timestamp": 1615272411614,
     "user": {
      "displayName": "Simos Gerasimou",
      "photoUrl": "https://lh3.googleusercontent.com/a-/AOh14GiyuWEDBGgnFKbsa3BAO5bWW-MwC5_V7MnUQz5JiA=s64",
      "userId": "13902192774339425778"
     },
     "user_tz": 0
    },
    "id": "Ty6seISOiciy",
    "outputId": "1c202609-d35d-4d15-fdde-744c71c643b9"
   },
   "outputs": [
    {
     "name": "stdout",
     "output_type": "stream",
     "text": [
      "Negative side critical value: -1.9672228266462515\n",
      "Positive side critical value: 1.967222826646251\n"
     ]
    }
   ],
   "source": [
    "alpha = 0.05\n",
    "t_crit_neg = stats.t.ppf(alpha/2, dof)\n",
    "t_crit_pos = stats.t.ppf(1-alpha/2, dof)\n",
    "print(\"Negative side critical value:\", t_crit_neg)\n",
    "print(\"Positive side critical value:\", t_crit_pos)"
   ]
  },
  {
   "cell_type": "markdown",
   "metadata": {
    "id": "R0Aa_it-jKLD"
   },
   "source": [
    "**TF8) Perform the appropriate t test to evaluate the hypotheses for significance level $\\alpha=0.05$. You must show your calculations, i.e., calculate the result analytically, but you may use the appropriate scipy.stats method to check your results.**"
   ]
  },
  {
   "cell_type": "code",
   "execution_count": 30,
   "metadata": {
    "colab": {
     "base_uri": "https://localhost:8080/"
    },
    "executionInfo": {
     "elapsed": 4227,
     "status": "ok",
     "timestamp": 1615272411615,
     "user": {
      "displayName": "Simos Gerasimou",
      "photoUrl": "https://lh3.googleusercontent.com/a-/AOh14GiyuWEDBGgnFKbsa3BAO5bWW-MwC5_V7MnUQz5JiA=s64",
      "userId": "13902192774339425778"
     },
     "user_tz": 0
    },
    "id": "LI8ngfhmicgX",
    "outputId": "5a1e96b4-ad9c-4739-9fbe-7ce2cf3b48d7"
   },
   "outputs": [
    {
     "name": "stdout",
     "output_type": "stream",
     "text": [
      "Pooled variance SP = 158533309.152\n",
      "T value analytically: 0.353\n",
      "T value using scipy: 0.353\n",
      "T critical:-1.967\n",
      "t(328)=0.353 < 1.967=t_crit -> H0 is not rejected (not exceeding the critical value)\n",
      "p=0.7245 > 0.050=α -> H0 is not rejected (not lower than α) \n"
     ]
    }
   ],
   "source": [
    "incomeM = np.mean(dfM[\"income\"])\n",
    "incomeF = np.mean(dfF[\"income\"])\n",
    "stdIncM = np.std(dfM[\"income\"],ddof=1)\n",
    "stdIncF = np.std(dfF[\"income\"], ddof=1)\n",
    "\n",
    "#Calculate pool variance\n",
    "sp  =( ((len(dfM[\"income\"])-1) * np.power(stdIncM,2)) + ((len(dfF[\"income\"])-1) * np.power(stdIncF,2)) ) / (len(dfM[\"income\"]) + len(dfF[\"income\"]) - 2)\n",
    "print(\"Pooled variance SP = %.3f\" % (sp))\n",
    "\n",
    "#Analytically\n",
    "t1 = (incomeM - incomeF) / np.sqrt( (sp/len(dfM[\"income\"])) + (sp/len(dfF[\"income\"])) )\n",
    "\n",
    "#Using Scipy\n",
    "t2, pValue = stats.ttest_ind(dfM[\"income\"], dfF[\"income\"])\n",
    "\n",
    "print(\"T value analytically: %.3f\" % (t1))\n",
    "print(\"T value using scipy: %.3f\"  % (t2))\n",
    "\n",
    "#Because it is a two-tailed probability, we need to assing half of alpha on each tail of the t distribution\n",
    "t_crit = stats.t.ppf(alpha/2, df=dof)\n",
    "print(\"T critical:%.3f\" % (t_crit))\n",
    "\n",
    "#Using the t value\n",
    "print(\"t(%d)=%.3f < %.3f=t_crit -> H0 is not rejected (not exceeding the critical value)\" %\n",
    "      (dof, np.abs(t1), np.abs(t_crit_pos)))\n",
    "\n",
    "#Using the p value and alpha significance level\n",
    "print(\"p=%.4f > %.3f=α -> H0 is not rejected (not lower than α) \" %(pValue, alpha))"
   ]
  },
  {
   "cell_type": "code",
   "execution_count": 31,
   "metadata": {
    "colab": {
     "base_uri": "https://localhost:8080/",
     "height": 410
    },
    "executionInfo": {
     "elapsed": 5042,
     "status": "ok",
     "timestamp": 1615272412440,
     "user": {
      "displayName": "Simos Gerasimou",
      "photoUrl": "https://lh3.googleusercontent.com/a-/AOh14GiyuWEDBGgnFKbsa3BAO5bWW-MwC5_V7MnUQz5JiA=s64",
      "userId": "13902192774339425778"
     },
     "user_tz": 0
    },
    "id": "Uu5WfU-Smr3O",
    "outputId": "a0f12ad5-3b82-496f-c09c-2f75bafda4ac"
   },
   "outputs": [
    {
     "data": {
      "image/png": "[encoded data removed]",
      "text/plain": [
       "<Figure size 500x400 with 1 Axes>"
      ]
     },
     "metadata": {
      "needs_background": "light"
     },
     "output_type": "display_data"
    }
   ],
   "source": [
    "plotKDE(dof, t1, \"Yorkshire\", \"Income\", type='two-tailed')"
   ]
  },
  {
   "cell_type": "code",
   "execution_count": 32,
   "metadata": {
    "colab": {
     "base_uri": "https://localhost:8080/",
     "height": 335
    },
    "executionInfo": {
     "elapsed": 5033,
     "status": "ok",
     "timestamp": 1615272412442,
     "user": {
      "displayName": "Simos Gerasimou",
      "photoUrl": "https://lh3.googleusercontent.com/a-/AOh14GiyuWEDBGgnFKbsa3BAO5bWW-MwC5_V7MnUQz5JiA=s64",
      "userId": "13902192774339425778"
     },
     "user_tz": 0
    },
    "id": "JZMOF8abicd5",
    "outputId": "deb46adf-9f17-4c03-915b-99a46ef1002a"
   },
   "outputs": [
    {
     "data": {
      "image/png": "[encoded data removed]",
      "text/plain": [
       "<Figure size 400x300 with 1 Axes>"
      ]
     },
     "metadata": {
      "needs_background": "light"
     },
     "output_type": "display_data"
    }
   ],
   "source": [
    "fig, ax = plt.subplots(figsize=(4,3), dpi=100)\n",
    "\n",
    "sns.kdeplot(dfM[\"income\"], ax=ax, shade=True, color=\"blue\", label=\"Male\")\n",
    "sns.kdeplot(dfF[\"income\"], ax=ax, shade=True, color=\"red\", label=\"Female\")\n",
    "\n",
    "plt.title('Yorkshire citizens incomce')\n",
    "ax.set_xlabel('Income',fontsize=15) # set x label\n",
    "ax.set_ylabel('pdf(x)',fontsize=15,rotation=90) # set y label\n",
    "plt.legend();"
   ]
  },
  {
   "cell_type": "markdown",
   "metadata": {
    "id": "ntgLa9fPlhgQ"
   },
   "source": [
    "**The Council is interested in assessing whether there is any discrimination in annual income between married and single citizens, and specifically whether married citizens are being paid more**"
   ]
  },
  {
   "cell_type": "markdown",
   "metadata": {
    "id": "2BchcTH4lstl"
   },
   "source": [
    "**TF9) State the Null and Alternative hypotheses**"
   ]
  },
  {
   "cell_type": "code",
   "execution_count": 33,
   "metadata": {
    "executionInfo": {
     "elapsed": 5026,
     "status": "ok",
     "timestamp": 1615272412443,
     "user": {
      "displayName": "Simos Gerasimou",
      "photoUrl": "https://lh3.googleusercontent.com/a-/AOh14GiyuWEDBGgnFKbsa3BAO5bWW-MwC5_V7MnUQz5JiA=s64",
      "userId": "13902192774339425778"
     },
     "user_tz": 0
    },
    "id": "LwbDU41LicbX"
   },
   "outputs": [],
   "source": [
    "# x_m: annual income of married citizens\n",
    "# x_s: annual income of single citizens\n",
    "#H0: x_m <= x_s\n",
    "#H1: x_m > x_s"
   ]
  },
  {
   "cell_type": "markdown",
   "metadata": {
    "id": "UaTLx09Cl632"
   },
   "source": [
    "**TF10) Calculate the degrees of freedom**"
   ]
  },
  {
   "cell_type": "code",
   "execution_count": 34,
   "metadata": {
    "colab": {
     "base_uri": "https://localhost:8080/"
    },
    "executionInfo": {
     "elapsed": 5022,
     "status": "ok",
     "timestamp": 1615272412444,
     "user": {
      "displayName": "Simos Gerasimou",
      "photoUrl": "https://lh3.googleusercontent.com/a-/AOh14GiyuWEDBGgnFKbsa3BAO5bWW-MwC5_V7MnUQz5JiA=s64",
      "userId": "13902192774339425778"
     },
     "user_tz": 0
    },
    "id": "Q6KEkMTEicY3",
    "outputId": "a1e0fe06-2dc0-4bdb-b0e8-e7996843f964"
   },
   "outputs": [
    {
     "name": "stdout",
     "output_type": "stream",
     "text": [
      "Married: 214\n",
      "Single: 116\n",
      "There are 328 degrees of freedom\n"
     ]
    }
   ],
   "source": [
    "dfMar = df[df['married']==\"YES\"]\n",
    "dfSin = df[df['married']==\"NO\"]\n",
    "dof = len(dfMar) + len(dfSin) - 2\n",
    "\n",
    "print(\"Married:\", len(dfMar))\n",
    "print(\"Single:\", len(dfSin))\n",
    "print(\"There are %d degrees of freedom\" % (dof))"
   ]
  },
  {
   "cell_type": "markdown",
   "metadata": {
    "id": "5ZB8VOWcmOel"
   },
   "source": [
    "**TF11) Find the critical value for the test with significance level $\\alpha =0.05$**"
   ]
  },
  {
   "cell_type": "code",
   "execution_count": 35,
   "metadata": {
    "colab": {
     "base_uri": "https://localhost:8080/"
    },
    "executionInfo": {
     "elapsed": 5015,
     "status": "ok",
     "timestamp": 1615272412445,
     "user": {
      "displayName": "Simos Gerasimou",
      "photoUrl": "https://lh3.googleusercontent.com/a-/AOh14GiyuWEDBGgnFKbsa3BAO5bWW-MwC5_V7MnUQz5JiA=s64",
      "userId": "13902192774339425778"
     },
     "user_tz": 0
    },
    "id": "TFaCXJJbicWC",
    "outputId": "49542363-d6c6-44c6-c430-627287051e94"
   },
   "outputs": [
    {
     "data": {
      "text/plain": [
       "1.6495124933663257"
      ]
     },
     "execution_count": 35,
     "metadata": {},
     "output_type": "execute_result"
    }
   ],
   "source": [
    "#Because we want > => the rejection region lies on upper tail of the t-Distribution (upper-tailed)\n",
    "#The ppf gives the lower tail probability, so we subtract from 1 to get the upper tail\n",
    "t_crit = stats.t.ppf(1-alpha, dof)#0.95\n",
    "t_crit"
   ]
  },
  {
   "cell_type": "markdown",
   "metadata": {
    "id": "2SkhqMWOnxCt"
   },
   "source": [
    "**TF12) Perform the appropriate t test to evaluate the hypotheses for significance level 𝛼=0.05 . You must show your calculations, i.e., calculate the result analytically, but you may use the appropriate scipy.stats method to check your results.**"
   ]
  },
  {
   "cell_type": "code",
   "execution_count": 36,
   "metadata": {
    "colab": {
     "base_uri": "https://localhost:8080/"
    },
    "executionInfo": {
     "elapsed": 5009,
     "status": "ok",
     "timestamp": 1615272412446,
     "user": {
      "displayName": "Simos Gerasimou",
      "photoUrl": "https://lh3.googleusercontent.com/a-/AOh14GiyuWEDBGgnFKbsa3BAO5bWW-MwC5_V7MnUQz5JiA=s64",
      "userId": "13902192774339425778"
     },
     "user_tz": 0
    },
    "id": "wUsT3GwuicTH",
    "outputId": "7b026207-0d73-4f45-f34c-f4990bd6de7a"
   },
   "outputs": [
    {
     "name": "stdout",
     "output_type": "stream",
     "text": [
      "Pooled variance SP = 158561804.212\n",
      "T value analytically: 0.256\n",
      "T value using scipy: 0.256\n",
      "T critical:1.650\n",
      "t(328)=0.256 < 1.650=t_crit -> H0 is not rejected (not exceeding the critical value)\n",
      "p=0.3991 > 0.050=α -> H0 is not rejected (not lower than α) \n"
     ]
    }
   ],
   "source": [
    "incomeMar = np.mean(dfMar[\"income\"])\n",
    "incomeSin = np.mean(dfSin[\"income\"])\n",
    "stdIncMar = np.std(dfMar[\"income\"],ddof=1)\n",
    "stdIncSin = np.std(dfSin[\"income\"], ddof=1)\n",
    "\n",
    "#Calculate pool variance\n",
    "sp  =( ((len(dfMar[\"income\"])-1) * np.power(stdIncMar,2)) + ((len(dfSin[\"income\"])-1) * np.power(stdIncSin,2)) ) / (len(dfMar[\"income\"]) + len(dfSin[\"income\"]) - 2)\n",
    "print(\"Pooled variance SP = %.3f\" % (sp))\n",
    "\n",
    "#Analytically\n",
    "t1 = (incomeMar - incomeSin) / np.sqrt( (sp/len(dfMar[\"income\"])) + (sp/len(dfSin[\"income\"])) )\n",
    "\n",
    "#Using Scipy\n",
    "t2, pValue = stats.ttest_ind(dfMar[\"income\"], dfSin[\"income\"])\n",
    "\n",
    "print(\"T value analytically: %.3f\" % (t1))\n",
    "print(\"T value using scipy: %.3f\"  % (t2))\n",
    "\n",
    "print(\"T critical:%.3f\" % (t_crit))\n",
    "\n",
    "#Using the t value\n",
    "print(\"t(%d)=%.3f < %.3f=t_crit -> H0 is not rejected (not exceeding the critical value)\" %\n",
    "      (dof, np.abs(t1), np.abs(t_crit)))\n",
    "\n",
    "#Using the p value and alpha significance level\n",
    "print(\"p=%.4f > %.3f=α -> H0 is not rejected (not lower than α) \" %(pValue/2, alpha))"
   ]
  },
  {
   "cell_type": "markdown",
   "metadata": {
    "id": "OyLz7N8piRWk"
   },
   "source": [
    "**TF13) Plot the two distributions of income for married and single citizens**"
   ]
  },
  {
   "cell_type": "code",
   "execution_count": 37,
   "metadata": {
    "colab": {
     "base_uri": "https://localhost:8080/",
     "height": 335
    },
    "executionInfo": {
     "elapsed": 5002,
     "status": "ok",
     "timestamp": 1615272412448,
     "user": {
      "displayName": "Simos Gerasimou",
      "photoUrl": "https://lh3.googleusercontent.com/a-/AOh14GiyuWEDBGgnFKbsa3BAO5bWW-MwC5_V7MnUQz5JiA=s64",
      "userId": "13902192774339425778"
     },
     "user_tz": 0
    },
    "id": "vxAxBVBhoxdR",
    "outputId": "a62c1b77-c7ab-4d78-e21d-ddf4bc118ea8"
   },
   "outputs": [
    {
     "data": {
      "image/png": "[encoded data removed]",
      "text/plain": [
       "<Figure size 400x300 with 1 Axes>"
      ]
     },
     "metadata": {
      "needs_background": "light"
     },
     "output_type": "display_data"
    }
   ],
   "source": [
    "fig, ax = plt.subplots(figsize=(4,3), dpi=100)\n",
    "\n",
    "sns.kdeplot(dfMar[\"income\"], ax=ax, shade=True, color=\"blue\", label=\"Married\")\n",
    "sns.kdeplot(dfSin[\"income\"], ax=ax, shade=True, color=\"red\", label=\"Single\")\n",
    "\n",
    "plt.title('Yorkshire citizens incomce')\n",
    "ax.set_xlabel('Income',fontsize=15) # set x label\n",
    "ax.set_ylabel('pdf(x)',fontsize=15,rotation=90) # set y label\n",
    "plt.legend();"
   ]
  },
  {
   "cell_type": "markdown",
   "metadata": {
    "id": "6YIBm5jAiQ8F"
   },
   "source": [
    "**The Council is also interested in assessing whether there is any statistically significant difference in income depending on the region citizens live. They want to give equal opportunities to all Yorkies irrespective of where they live.**"
   ]
  },
  {
   "cell_type": "markdown",
   "metadata": {
    "id": "C8momaMrpXQi"
   },
   "source": [
    "**TF14) State the Null and Alternative hypotheses that will enable the Council to check whether there is any discrimination in income depending on location**"
   ]
  },
  {
   "cell_type": "markdown",
   "metadata": {
    "id": "B9ucH2pQprJs"
   },
   "source": [
    "$H_0: \\overline{X}_{inner} = \\overline{X}_{town} = \\overline{X}_{sub} = \\overline{X}_{rural}$\n",
    "\n",
    "$H_1: \\exists i,j \\in \\{inner, town, sub, rural\\} \\bullet (i \\neq j) \\land (\\overline{X}_{i} \\neq \\overline{X}_{j})$\n"
   ]
  },
  {
   "cell_type": "markdown",
   "metadata": {
    "id": "pWqDs-MPpx1e"
   },
   "source": [
    "**TF15) Calculate the degrees of freedom**"
   ]
  },
  {
   "cell_type": "code",
   "execution_count": 38,
   "metadata": {
    "colab": {
     "base_uri": "https://localhost:8080/"
    },
    "executionInfo": {
     "elapsed": 4995,
     "status": "ok",
     "timestamp": 1615272412449,
     "user": {
      "displayName": "Simos Gerasimou",
      "photoUrl": "https://lh3.googleusercontent.com/a-/AOh14GiyuWEDBGgnFKbsa3BAO5bWW-MwC5_V7MnUQz5JiA=s64",
      "userId": "13902192774339425778"
     },
     "user_tz": 0
    },
    "id": "7QMMxlXviQBf",
    "outputId": "e760b18f-14f8-462f-e34d-684b9c197b99"
   },
   "outputs": [
    {
     "name": "stdout",
     "output_type": "stream",
     "text": [
      "dof_M: 3\n",
      "dof_R: 326\n"
     ]
    }
   ],
   "source": [
    "groups = 4\n",
    "total_size = df.shape[0]\n",
    "\n",
    "dof_M = groups-1     #4-1 \n",
    "dof_R = total_size-groups   #330-4 \n",
    "\n",
    "print(\"dof_M:\", dof_M)\n",
    "print(\"dof_R:\", dof_R)"
   ]
  },
  {
   "cell_type": "markdown",
   "metadata": {
    "id": "R7dvUQr1qcZH"
   },
   "source": [
    "**TF16) Find the critical value for a test with significance level α=0.05**"
   ]
  },
  {
   "cell_type": "code",
   "execution_count": 39,
   "metadata": {
    "colab": {
     "base_uri": "https://localhost:8080/"
    },
    "executionInfo": {
     "elapsed": 4988,
     "status": "ok",
     "timestamp": 1615272412450,
     "user": {
      "displayName": "Simos Gerasimou",
      "photoUrl": "https://lh3.googleusercontent.com/a-/AOh14GiyuWEDBGgnFKbsa3BAO5bWW-MwC5_V7MnUQz5JiA=s64",
      "userId": "13902192774339425778"
     },
     "user_tz": 0
    },
    "id": "l4BFIEz_qKwl",
    "outputId": "dc627f94-3d78-494b-d8ff-64a7885509ce"
   },
   "outputs": [
    {
     "data": {
      "text/plain": [
       "2.6323096448361603"
      ]
     },
     "execution_count": 39,
     "metadata": {},
     "output_type": "execute_result"
    }
   ],
   "source": [
    "#We want the critical region for alpha = 0.05\n",
    "#However, the percent point function f.ppf gives the lower tail probability\n",
    "#So to find the critical value of F we need to do \n",
    "#https://www.yumpu.com/en/document/read/32835010/f-table\n",
    "f_crit = stats.f.ppf(1-alpha, dof_M, dof_R)\n",
    "f_crit"
   ]
  },
  {
   "cell_type": "markdown",
   "metadata": {
    "id": "SLJhqrhltd3_"
   },
   "source": [
    "**TF17) Perform the appropriate test to evaluate the hypotheses for significance level $\\alpha = 0.05$. You must show your calculations, i.e., calculate the result analytically, but you may use the appropriate scipy.stats method to check your results.**"
   ]
  },
  {
   "cell_type": "code",
   "execution_count": 40,
   "metadata": {
    "colab": {
     "base_uri": "https://localhost:8080/"
    },
    "executionInfo": {
     "elapsed": 4981,
     "status": "ok",
     "timestamp": 1615272412451,
     "user": {
      "displayName": "Simos Gerasimou",
      "photoUrl": "https://lh3.googleusercontent.com/a-/AOh14GiyuWEDBGgnFKbsa3BAO5bWW-MwC5_V7MnUQz5JiA=s64",
      "userId": "13902192774339425778"
     },
     "user_tz": 0
    },
    "id": "rLilrPHQsNZp",
    "outputId": "6f0fb670-2c98-4a59-f5fb-08ca36119501"
   },
   "outputs": [
    {
     "name": "stdout",
     "output_type": "stream",
     "text": [
      "F value analytically: 0.284\n",
      "F value using scipy: 0.284\n",
      "F critical:2.632\n",
      "f(3,326)=0.284 < 2.632=f_crit -> H0 is not rejected (not exceeding the critical value)\n",
      "p=0.8372 > 0.050=α -> H0 is not rejected (not lower than α) \n"
     ]
    }
   ],
   "source": [
    "#Analytically\n",
    "dfInner  = df[df[\"region\"]==\"INNER_CITY\"][\"income\"]\n",
    "dfTown   = df[df[\"region\"]==\"TOWN\"][\"income\"]\n",
    "dfRURAL  = df[df[\"region\"]==\"RURAL\"][\"income\"]\n",
    "dfSub    = df[df[\"region\"]==\"SUBURBAN\"][\"income\"]\n",
    "\n",
    "X_N = np.mean(np.mean(df[\"income\"]))\n",
    "X_G = [np.mean(dfInner), np.mean(dfTown), np.mean(dfRURAL), np.mean(dfSub)]\n",
    "\n",
    "SS_M = 0; SS_R = 0; SS_T=0\n",
    "\n",
    "SS_M += len(dfInner) * np.power(np.mean(dfInner) - X_N,2)\n",
    "SS_M += len(dfTown) * np.power(np.mean(dfTown) - X_N,2)\n",
    "SS_M += len(dfRURAL) * np.power(np.mean(dfRURAL) - X_N,2)\n",
    "SS_M += len(dfSub) * np.power(np.mean(dfSub) - X_N,2)\n",
    "\n",
    "SS_R += (len(dfInner)-1) * np.var(dfInner, ddof=1)\n",
    "SS_R += (len(dfTown)-1) * np.var(dfTown, ddof=1)\n",
    "SS_R += (len(dfRURAL)-1) * np.var(dfRURAL, ddof=1)\n",
    "SS_R += (len(dfSub)-1) * np.var(dfSub, ddof=1)\n",
    "    \n",
    "SS_T = (len(df[\"income\"]) -1) * np.var(df[\"income\"], ddof=1)\n",
    "\n",
    "# print(SS_T, SS_R, SS_M)                                          \n",
    "                                          \n",
    "F1 = (SS_M/(groups-1))/\\\n",
    "    (SS_R/(np.count_nonzero(df['income'])-groups))\n",
    "\n",
    "# #Using Scipy library\n",
    "F2, pValue = stats.f_oneway(dfInner, dfTown, dfRURAL, dfSub)\n",
    "\n",
    "print(\"F value analytically: %.3f\" % (F1))\n",
    "print(\"F value using scipy: %.3f\"  % (F2))\n",
    "\n",
    "print(\"F critical:%.3f\" % (f_crit))\n",
    "\n",
    "#Using the f value\n",
    "print(\"f(%d,%d)=%.3f < %.3f=f_crit -> H0 is not rejected (not exceeding the critical value)\" %\n",
    "      (dof_M, dof_R, np.abs(F1), np.abs(f_crit)))\n",
    "\n",
    "#Using the p value and alpha significance level\n",
    "print(\"p=%.4f > %.3f=α -> H0 is not rejected (not lower than α) \" %(pValue, alpha))"
   ]
  },
  {
   "cell_type": "markdown",
   "metadata": {
    "id": "E4HZJTm2uRMT"
   },
   "source": [
    "**TF18) Plot a boxplot showing the income per region. Dooes the boxplot confirm your findings in task TF17?**"
   ]
  },
  {
   "cell_type": "code",
   "execution_count": 41,
   "metadata": {
    "colab": {
     "base_uri": "https://localhost:8080/",
     "height": 530
    },
    "executionInfo": {
     "elapsed": 5982,
     "status": "ok",
     "timestamp": 1615272413460,
     "user": {
      "displayName": "Simos Gerasimou",
      "photoUrl": "https://lh3.googleusercontent.com/a-/AOh14GiyuWEDBGgnFKbsa3BAO5bWW-MwC5_V7MnUQz5JiA=s64",
      "userId": "13902192774339425778"
     },
     "user_tz": 0
    },
    "id": "i3aZkc_QsQBh",
    "outputId": "cbb9b0f9-b793-49c4-c413-338c286e9a2f"
   },
   "outputs": [
    {
     "data": {
      "text/plain": [
       "<AxesSubplot:>"
      ]
     },
     "execution_count": 41,
     "metadata": {},
     "output_type": "execute_result"
    },
    {
     "data": {
      "image/png": "[encoded data removed]",
      "text/plain": [
       "<Figure size 700x600 with 1 Axes>"
      ]
     },
     "metadata": {
      "needs_background": "light"
     },
     "output_type": "display_data"
    }
   ],
   "source": [
    "regions = pd.DataFrame(data={\"inner\":dfInner, \"town\":dfTown, \"rural\":dfRURAL, \"sub\":dfSub})\n",
    "plt.subplots(figsize=(7,6), dpi=100)\n",
    "sns.boxplot(data=regions)"
   ]
  },
  {
   "cell_type": "markdown",
   "metadata": {
    "id": "oXtzSyVNuv8g"
   },
   "source": [
    "**The Council is also interested in assessing whether there is any statistically significant difference in income depending on the age of citizens. The Council considers the following age groups [17-29], [30,41], [42,53], [54,67]**"
   ]
  },
  {
   "cell_type": "markdown",
   "metadata": {
    "id": "Ch3wjFq1uxXE"
   },
   "source": [
    "**TF19) State the Null and Alternative hypotheses that will enable the Council to check whether there is any discrimination in income depending on these age groups**"
   ]
  },
  {
   "cell_type": "markdown",
   "metadata": {
    "id": "MgqUcTkvu35J"
   },
   "source": [
    "$H_0: \\overline{X}_{G1} = \\overline{X}_{G2} = \\overline{X}_{G3} = \\overline{X}_{G4}$\n",
    "\n",
    "$H_1: \\exists i,j \\in \\{G1, G2, G3, G4\\} \\bullet (i \\neq j) \\land (\\overline{X}_{i} \\neq \\overline{X}_{j})$\n"
   ]
  },
  {
   "cell_type": "markdown",
   "metadata": {
    "id": "P6guGhbPu96t"
   },
   "source": [
    "**TF20) Calculate the degrees of freedom**"
   ]
  },
  {
   "cell_type": "code",
   "execution_count": 42,
   "metadata": {
    "colab": {
     "base_uri": "https://localhost:8080/"
    },
    "executionInfo": {
     "elapsed": 5976,
     "status": "ok",
     "timestamp": 1615272413463,
     "user": {
      "displayName": "Simos Gerasimou",
      "photoUrl": "https://lh3.googleusercontent.com/a-/AOh14GiyuWEDBGgnFKbsa3BAO5bWW-MwC5_V7MnUQz5JiA=s64",
      "userId": "13902192774339425778"
     },
     "user_tz": 0
    },
    "id": "TbN0vAxcuU_1",
    "outputId": "225e25d5-b726-414c-fa26-14b58bcedf92"
   },
   "outputs": [
    {
     "name": "stdout",
     "output_type": "stream",
     "text": [
      "dof_M: 3\n",
      "dof_R: 326\n"
     ]
    }
   ],
   "source": [
    "groups = 4\n",
    "total_size = df.shape[0]\n",
    "\n",
    "dof_M = groups-1     #4-1 \n",
    "dof_R = total_size-groups   #330-4 \n",
    "\n",
    "print(\"dof_M:\", dof_M)\n",
    "print(\"dof_R:\", dof_R)"
   ]
  },
  {
   "cell_type": "markdown",
   "metadata": {
    "id": "COJl2J2zvHBR"
   },
   "source": [
    "**TF21)  Perform the appropriate test to evaluate the hypotheses for significance level $\\alpha =0.05$. You may use the appropriate scipy.stats method.**"
   ]
  },
  {
   "cell_type": "code",
   "execution_count": 43,
   "metadata": {
    "colab": {
     "base_uri": "https://localhost:8080/"
    },
    "executionInfo": {
     "elapsed": 5971,
     "status": "ok",
     "timestamp": 1615272413466,
     "user": {
      "displayName": "Simos Gerasimou",
      "photoUrl": "https://lh3.googleusercontent.com/a-/AOh14GiyuWEDBGgnFKbsa3BAO5bWW-MwC5_V7MnUQz5JiA=s64",
      "userId": "13902192774339425778"
     },
     "user_tz": 0
    },
    "id": "j_1VFgyPvCiK",
    "outputId": "f9171509-bd8c-4219-ed32-082a7a98c6d7"
   },
   "outputs": [
    {
     "name": "stdout",
     "output_type": "stream",
     "text": [
      "f(3,326)=60.504 > 2.632=f_crit -> H0 is REJECTED (exceeding the critical value)\n",
      "p=0.000000 < 0.050=α -> H0 is REJECTED (lower than α) \n"
     ]
    }
   ],
   "source": [
    "dfG1  = df[df[\"age\"]<30][\"income\"]\n",
    "dfG2   = df[(df[\"age\"]>=30) & (df[\"age\"]<42)][\"income\"]\n",
    "dfG3  = df[(df[\"age\"]>=42) & (df[\"age\"]<54)][\"income\"]\n",
    "dfG4    = df[(df[\"age\"]>=54)][\"income\"]\n",
    "\n",
    "alpha = 0.05\n",
    "\n",
    "f1, pValue = stats.f_oneway(dfG1, dfG2, dfG3, dfG4)\n",
    "f_crit = stats.f.ppf(0.95, dof_M, dof_R)\n",
    "\n",
    "#Using the f value\n",
    "print(\"f(%d,%d)=%.3f > %.3f=f_crit -> H0 is REJECTED (exceeding the critical value)\" %\n",
    "      (dof_M, dof_R, np.abs(f1), np.abs(f_crit)))\n",
    "\n",
    "#Using the p value and alpha significance level\n",
    "print(\"p=%.6f < %.3f=α -> H0 is REJECTED (lower than α) \" %(pValue, alpha))\n"
   ]
  },
  {
   "cell_type": "markdown",
   "metadata": {
    "id": "cnDeNcEywDnM"
   },
   "source": [
    "**TF22) Plot the distributions for the four age groups**"
   ]
  },
  {
   "cell_type": "code",
   "execution_count": 44,
   "metadata": {
    "colab": {
     "base_uri": "https://localhost:8080/",
     "height": 410
    },
    "executionInfo": {
     "elapsed": 5962,
     "status": "ok",
     "timestamp": 1615272413467,
     "user": {
      "displayName": "Simos Gerasimou",
      "photoUrl": "https://lh3.googleusercontent.com/a-/AOh14GiyuWEDBGgnFKbsa3BAO5bWW-MwC5_V7MnUQz5JiA=s64",
      "userId": "13902192774339425778"
     },
     "user_tz": 0
    },
    "id": "qwHwQ2jdvdZc",
    "outputId": "8529cb03-09e3-4766-f5ec-24bd5a899351"
   },
   "outputs": [
    {
     "data": {
      "image/png": "[encoded data removed]",
      "text/plain": [
       "<Figure size 500x400 with 1 Axes>"
      ]
     },
     "metadata": {
      "needs_background": "light"
     },
     "output_type": "display_data"
    }
   ],
   "source": [
    "fig, ax = plt.subplots(figsize=(5,4), dpi=100)\n",
    "\n",
    "sns.kdeplot(dfG1, ax=ax, shade=True, color=\"blue\", label=\"[17-29]\")\n",
    "sns.kdeplot(dfG2, ax=ax, shade=True, color=\"pink\", label=\"[30,41]\")\n",
    "sns.kdeplot(dfG3, ax=ax, shade=True, color=\"orange\", label=\"[42,53]\")\n",
    "sns.kdeplot(dfG4, ax=ax, shade=True, color=\"green\", label=\"[54,67)\")\n",
    "\n",
    "plt.title('Yorkshire citizens incomce')\n",
    "ax.set_xlabel('Income',fontsize=15) # set x label\n",
    "ax.set_ylabel('pdf(x)',fontsize=15,rotation=90) # set y label\n",
    "plt.legend();"
   ]
  },
  {
   "cell_type": "markdown",
   "metadata": {
    "id": "TvfM2cUCwz2u"
   },
   "source": [
    "**TF23) Perform a post hoc analysis using the Bonferroni correction to identify the pairs which exhibit statistically significant difference**"
   ]
  },
  {
   "cell_type": "code",
   "execution_count": 45,
   "metadata": {
    "colab": {
     "base_uri": "https://localhost:8080/"
    },
    "executionInfo": {
     "elapsed": 5952,
     "status": "ok",
     "timestamp": 1615272413468,
     "user": {
      "displayName": "Simos Gerasimou",
      "photoUrl": "https://lh3.googleusercontent.com/a-/AOh14GiyuWEDBGgnFKbsa3BAO5bWW-MwC5_V7MnUQz5JiA=s64",
      "userId": "13902192774339425778"
     },
     "user_tz": 0
    },
    "id": "oE_yOrf7vmAP",
    "outputId": "81379615-8689-41a9-c667-66669e544261"
   },
   "outputs": [
    {
     "name": "stdout",
     "output_type": "stream",
     "text": [
      "Adjusted p crit : 0.0042\n",
      "ComptG12: 0.0000\n",
      "ComptG13: 0.0000\n",
      "ComptG14: 0.0000\n",
      "ComptG23: 0.0187\n",
      "ComptG24: 0.0000\n",
      "ComptG34: 0.0000\n"
     ]
    }
   ],
   "source": [
    "bonf = 0.05/6\n",
    "tG12 = stats.ttest_ind(dfG1, dfG2)\n",
    "tG13 = stats.ttest_ind(dfG1, dfG3)\n",
    "tG14 = stats.ttest_ind(dfG1, dfG4)\n",
    "tG23 = stats.ttest_ind(dfG2, dfG3)\n",
    "tG24 = stats.ttest_ind(dfG2, dfG4)\n",
    "tG34 = stats.ttest_ind(dfG3, dfG4)\n",
    "\n",
    "print(\"Adjusted p crit : {:.4f}\".format(bonf/2))\n",
    "print(\"ComptG12: {:.4f}\".format(tG12[1]))\n",
    "print(\"ComptG13: {:.4f}\".format(tG13[1]))\n",
    "print(\"ComptG14: {:.4f}\".format(tG14[1]))\n",
    "print(\"ComptG23: {:.4f}\".format(tG23[1]))\n",
    "print(\"ComptG24: {:.4f}\".format(tG24[1]))\n",
    "print(\"ComptG34: {:.4f}\".format(tG34[1]))\n",
    "\n",
    "#All have differences except groups 2 and 3 (30-41, 42-53)"
   ]
  },
  {
   "cell_type": "markdown",
   "metadata": {
    "id": "dANJ7N6_w95Z"
   },
   "source": [
    "**TF24) Plot a boxplot showing the income per age group**"
   ]
  },
  {
   "cell_type": "code",
   "execution_count": 46,
   "metadata": {
    "colab": {
     "base_uri": "https://localhost:8080/",
     "height": 530
    },
    "executionInfo": {
     "elapsed": 6648,
     "status": "ok",
     "timestamp": 1615272414173,
     "user": {
      "displayName": "Simos Gerasimou",
      "photoUrl": "https://lh3.googleusercontent.com/a-/AOh14GiyuWEDBGgnFKbsa3BAO5bWW-MwC5_V7MnUQz5JiA=s64",
      "userId": "13902192774339425778"
     },
     "user_tz": 0
    },
    "id": "C_6u8fW-w3fa",
    "outputId": "b6ba589a-e673-4b48-86fb-c774ad1c03a3"
   },
   "outputs": [
    {
     "data": {
      "text/plain": [
       "<AxesSubplot:>"
      ]
     },
     "execution_count": 46,
     "metadata": {},
     "output_type": "execute_result"
    },
    {
     "data": {
      "image/png": "[encoded data removed]",
      "text/plain": [
       "<Figure size 700x600 with 1 Axes>"
      ]
     },
     "metadata": {
      "needs_background": "light"
     },
     "output_type": "display_data"
    }
   ],
   "source": [
    "ages = pd.DataFrame(data={\"G1\":dfG1, \"G2\":dfG2, \"G3\":dfG3, \"G4\":dfG4})\n",
    "plt.subplots(figsize=(7,6), dpi=100)\n",
    "sns.boxplot(data=ages)"
   ]
  },
  {
   "cell_type": "markdown",
   "metadata": {
    "id": "pJmXr25fxLHF"
   },
   "source": [
    "***\n",
    "\n",
    "## Should you want to practice at home, you could\n",
    "\n",
    "* Go back to the previous practicals and run some statistical tests\n",
    "\n",
    "* The formula for sample standard deviation is $s = \\sqrt{\\frac{\\sum_{i=1}^{n}(x_i-\\overline{x})^2}{n-1}}$\n",
    "  Think about how you can demonstrate through simulation why $n-1$ (in the denominator) is appropriate; i.e., why not $n-2$, $n-3$ etc? For your information, this is called the Bessel's Correction.\n"
   ]
  }
 ],
 "metadata": {
  "colab": {
   "authorship_tag": "ABX9TyOzOwm9v/FVmczxFMdRFhLj",
   "name": "DAT1-Practical8-ModelAnswers.ipynb",
   "provenance": []
  },
  "kernelspec": {
   "display_name": "Python 3",
   "language": "python",
   "name": "python3"
  },
  "language_info": {
   "codemirror_mode": {
    "name": "ipython",
    "version": 3
   },
   "file_extension": ".py",
   "mimetype": "text/x-python",
   "name": "python",
   "nbconvert_exporter": "python",
   "pygments_lexer": "ipython3",
   "version": "3.8.3"
  }
 },
 "nbformat": 4,
 "nbformat_minor": 1
}
