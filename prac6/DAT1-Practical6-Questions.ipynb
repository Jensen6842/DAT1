{
 "cells": [
  {
   "cell_type": "markdown",
   "metadata": {
    "id": "kV24DAQJwimv"
   },
   "source": [
    "# DATA 1 Practical 6\n",
    "\n",
    "Simos Gerasimou\n",
    "\n",
    "\n",
    "## A Data Journey Through The Titanic\n",
    "\n",
    "On April 15, 1912, during her maiden voyage from Southampton to New York, the widely considered “unsinkable” RMS Titanic sank after colliding with an iceberg ([Wikipedia](https://en.wikipedia.org/wiki/RMS_Titanic)). As it was considered “unsinkable”, the Titanic did not carry enough lifeboats for everyone onboard, resulting in the death of 1502 out of 2224 passengers and crew.\n",
    "\n",
    "**DataVision** has been commissioned by Her Majesty The Queen to investigate the conditions in which people survived and whether this was because of luck or whether some groups were more likely to survive than others. If discrimination due to gender or socio-economic class is identified, the Queen intends to use this information to change the cruise policies accordinly. \n",
    "\n",
    "#### Your tasks are to explore this dataset and generade some actionable knowledge. \n",
    "\n",
    "\n",
    "#### This Jupyter Notebook will be presented to  the House of Commons  who have limited knowledge about data science. So, your findings should be complemented by a suitable justification explaining what you observe and, when applicable, what does this observation  mean and, possibly, why it occurs.\n",
    "\n",
    "* For each question (task) a description is provided accompanied (most of the time) by two cells: one for writing the Python code and another for providing the justification. Feel free to add more cells if you feel they are needed, but keep the cells corresponding to the same question close by.\n",
    "\n",
    "#### Note: You are advised to use Pandas. For the visualisation, you can use Pandas, Matplotlib or Seaborn.\n",
    "\n",
    "To answer these exercises, you should first read:\n",
    "\n",
    "(1)  Chapter 3: Dapa Manipulation with Pandas from the Python Data Science Handbook** (https://jakevdp.github.io/PythonDataScienceHandbook/03.00-introduction-to-pandas.html)\n",
    "\n",
    "(2) Chapter 4: Visualization with Matplotlib (https://jakevdp.github.io/PythonDataScienceHandbook/04.00-introduction-to-matplotlib.html)\n",
    "\n",
    "\n",
    "\n",
    "* Seaborn API: https://seaborn.pydata.org/api.html\n",
    "\n",
    "***"
   ]
  },
  {
   "cell_type": "markdown",
   "metadata": {
    "id": "iShbV1mtwim6"
   },
   "source": [
    "### Part 1: Reading dataset\n",
    "\n",
    "\n",
    "The Titanic dataset is available on VLE (look for titanicFull.csv in the Practicals section)\n",
    "\n",
    "Before doing the tasks below, you may want to explore the dataset using a spreadsheet editor (e.g., Excel) to get a high-level view of the dataset.\n",
    "\n",
    "**T1) Load the Titanic dataset using Pandas**\n",
    "\n",
    "**Note**: You have to download the dataset on your local machine and then load it onto the Jupyter Notebook"
   ]
  },
  {
   "cell_type": "code",
   "execution_count": 2,
   "metadata": {
    "id": "rmIPL4IUwim8"
   },
   "outputs": [],
   "source": [
    "import pandas as pd \n",
    "import numpy as np\n",
    "import seaborn as sns\n",
    "import matplotlib.pyplot as plt\n",
    "\n",
    "file = \"titanicFull.csv\"\n",
    "df = pd.read_csv(file) "
   ]
  },
  {
   "cell_type": "markdown",
   "metadata": {
    "id": "XUHLphn2wim_"
   },
   "source": [
    "***\n",
    "\n",
    "### Part 2: Cleaning the dataset\n",
    "\n",
    "**T2i) Print the first 4 records of the dataset**"
   ]
  },
  {
   "cell_type": "code",
   "execution_count": 3,
   "metadata": {
    "id": "dIKF54rGwinA"
   },
   "outputs": [
    {
     "data": {
      "text/html": [
       "<div>\n",
       "<style scoped>\n",
       "    .dataframe tbody tr th:only-of-type {\n",
       "        vertical-align: middle;\n",
       "    }\n",
       "\n",
       "    .dataframe tbody tr th {\n",
       "        vertical-align: top;\n",
       "    }\n",
       "\n",
       "    .dataframe thead th {\n",
       "        text-align: right;\n",
       "    }\n",
       "</style>\n",
       "<table border=\"1\" class=\"dataframe\">\n",
       "  <thead>\n",
       "    <tr style=\"text-align: right;\">\n",
       "      <th></th>\n",
       "      <th>pclass</th>\n",
       "      <th>survived</th>\n",
       "      <th>name</th>\n",
       "      <th>sex</th>\n",
       "      <th>age</th>\n",
       "      <th>sibsp</th>\n",
       "      <th>parch</th>\n",
       "      <th>ticket</th>\n",
       "      <th>fare</th>\n",
       "      <th>cabin</th>\n",
       "      <th>embarked</th>\n",
       "    </tr>\n",
       "  </thead>\n",
       "  <tbody>\n",
       "    <tr>\n",
       "      <th>0</th>\n",
       "      <td>1</td>\n",
       "      <td>1</td>\n",
       "      <td>Allen, Miss. Elisabeth Walton</td>\n",
       "      <td>female</td>\n",
       "      <td>29.00</td>\n",
       "      <td>0</td>\n",
       "      <td>0</td>\n",
       "      <td>24160</td>\n",
       "      <td>211.3375</td>\n",
       "      <td>B5</td>\n",
       "      <td>S</td>\n",
       "    </tr>\n",
       "    <tr>\n",
       "      <th>1</th>\n",
       "      <td>1</td>\n",
       "      <td>1</td>\n",
       "      <td>Allison, Master. Hudson Trevor</td>\n",
       "      <td>male</td>\n",
       "      <td>0.92</td>\n",
       "      <td>1</td>\n",
       "      <td>2</td>\n",
       "      <td>113781</td>\n",
       "      <td>151.5500</td>\n",
       "      <td>C22 C26</td>\n",
       "      <td>S</td>\n",
       "    </tr>\n",
       "    <tr>\n",
       "      <th>2</th>\n",
       "      <td>1</td>\n",
       "      <td>0</td>\n",
       "      <td>Allison, Miss. Helen Loraine</td>\n",
       "      <td>female</td>\n",
       "      <td>2.00</td>\n",
       "      <td>1</td>\n",
       "      <td>2</td>\n",
       "      <td>113781</td>\n",
       "      <td>151.5500</td>\n",
       "      <td>C22 C26</td>\n",
       "      <td>S</td>\n",
       "    </tr>\n",
       "    <tr>\n",
       "      <th>3</th>\n",
       "      <td>1</td>\n",
       "      <td>0</td>\n",
       "      <td>Allison, Mr. Hudson Joshua Creighton</td>\n",
       "      <td>male</td>\n",
       "      <td>30.00</td>\n",
       "      <td>1</td>\n",
       "      <td>2</td>\n",
       "      <td>113781</td>\n",
       "      <td>151.5500</td>\n",
       "      <td>C22 C26</td>\n",
       "      <td>S</td>\n",
       "    </tr>\n",
       "  </tbody>\n",
       "</table>\n",
       "</div>"
      ],
      "text/plain": [
       "   pclass  survived                                  name     sex    age  \\\n",
       "0       1         1         Allen, Miss. Elisabeth Walton  female  29.00   \n",
       "1       1         1        Allison, Master. Hudson Trevor    male   0.92   \n",
       "2       1         0          Allison, Miss. Helen Loraine  female   2.00   \n",
       "3       1         0  Allison, Mr. Hudson Joshua Creighton    male  30.00   \n",
       "\n",
       "   sibsp  parch  ticket      fare    cabin embarked  \n",
       "0      0      0   24160  211.3375       B5        S  \n",
       "1      1      2  113781  151.5500  C22 C26        S  \n",
       "2      1      2  113781  151.5500  C22 C26        S  \n",
       "3      1      2  113781  151.5500  C22 C26        S  "
      ]
     },
     "execution_count": 3,
     "metadata": {},
     "output_type": "execute_result"
    }
   ],
   "source": [
    "df.head(4)"
   ]
  },
  {
   "cell_type": "markdown",
   "metadata": {
    "id": "CWvp1eYsyIHF"
   },
   "source": [
    "**T2ii) Print the last 6 records of the dataset**"
   ]
  },
  {
   "cell_type": "code",
   "execution_count": 4,
   "metadata": {
    "id": "ToGRzpWsyGIp"
   },
   "outputs": [
    {
     "data": {
      "text/html": [
       "<div>\n",
       "<style scoped>\n",
       "    .dataframe tbody tr th:only-of-type {\n",
       "        vertical-align: middle;\n",
       "    }\n",
       "\n",
       "    .dataframe tbody tr th {\n",
       "        vertical-align: top;\n",
       "    }\n",
       "\n",
       "    .dataframe thead th {\n",
       "        text-align: right;\n",
       "    }\n",
       "</style>\n",
       "<table border=\"1\" class=\"dataframe\">\n",
       "  <thead>\n",
       "    <tr style=\"text-align: right;\">\n",
       "      <th></th>\n",
       "      <th>pclass</th>\n",
       "      <th>survived</th>\n",
       "      <th>name</th>\n",
       "      <th>sex</th>\n",
       "      <th>age</th>\n",
       "      <th>sibsp</th>\n",
       "      <th>parch</th>\n",
       "      <th>ticket</th>\n",
       "      <th>fare</th>\n",
       "      <th>cabin</th>\n",
       "      <th>embarked</th>\n",
       "    </tr>\n",
       "  </thead>\n",
       "  <tbody>\n",
       "    <tr>\n",
       "      <th>1303</th>\n",
       "      <td>3</td>\n",
       "      <td>0</td>\n",
       "      <td>Yousseff, Mr. Gerious</td>\n",
       "      <td>male</td>\n",
       "      <td>NaN</td>\n",
       "      <td>0</td>\n",
       "      <td>0</td>\n",
       "      <td>2627</td>\n",
       "      <td>14.4583</td>\n",
       "      <td>NaN</td>\n",
       "      <td>C</td>\n",
       "    </tr>\n",
       "    <tr>\n",
       "      <th>1304</th>\n",
       "      <td>3</td>\n",
       "      <td>0</td>\n",
       "      <td>Zabour, Miss. Hileni</td>\n",
       "      <td>female</td>\n",
       "      <td>14.5</td>\n",
       "      <td>1</td>\n",
       "      <td>0</td>\n",
       "      <td>2665</td>\n",
       "      <td>14.4542</td>\n",
       "      <td>NaN</td>\n",
       "      <td>C</td>\n",
       "    </tr>\n",
       "    <tr>\n",
       "      <th>1305</th>\n",
       "      <td>3</td>\n",
       "      <td>0</td>\n",
       "      <td>Zabour, Miss. Thamine</td>\n",
       "      <td>female</td>\n",
       "      <td>NaN</td>\n",
       "      <td>1</td>\n",
       "      <td>0</td>\n",
       "      <td>2665</td>\n",
       "      <td>14.4542</td>\n",
       "      <td>NaN</td>\n",
       "      <td>C</td>\n",
       "    </tr>\n",
       "    <tr>\n",
       "      <th>1306</th>\n",
       "      <td>3</td>\n",
       "      <td>0</td>\n",
       "      <td>Zakarian, Mr. Mapriededer</td>\n",
       "      <td>male</td>\n",
       "      <td>26.5</td>\n",
       "      <td>0</td>\n",
       "      <td>0</td>\n",
       "      <td>2656</td>\n",
       "      <td>7.2250</td>\n",
       "      <td>NaN</td>\n",
       "      <td>C</td>\n",
       "    </tr>\n",
       "    <tr>\n",
       "      <th>1307</th>\n",
       "      <td>3</td>\n",
       "      <td>0</td>\n",
       "      <td>Zakarian, Mr. Ortin</td>\n",
       "      <td>male</td>\n",
       "      <td>27.0</td>\n",
       "      <td>0</td>\n",
       "      <td>0</td>\n",
       "      <td>2670</td>\n",
       "      <td>7.2250</td>\n",
       "      <td>NaN</td>\n",
       "      <td>C</td>\n",
       "    </tr>\n",
       "    <tr>\n",
       "      <th>1308</th>\n",
       "      <td>3</td>\n",
       "      <td>0</td>\n",
       "      <td>Zimmerman, Mr. Leo</td>\n",
       "      <td>male</td>\n",
       "      <td>29.0</td>\n",
       "      <td>0</td>\n",
       "      <td>0</td>\n",
       "      <td>315082</td>\n",
       "      <td>7.8750</td>\n",
       "      <td>NaN</td>\n",
       "      <td>S</td>\n",
       "    </tr>\n",
       "  </tbody>\n",
       "</table>\n",
       "</div>"
      ],
      "text/plain": [
       "      pclass  survived                       name     sex   age  sibsp  parch  \\\n",
       "1303       3         0      Yousseff, Mr. Gerious    male   NaN      0      0   \n",
       "1304       3         0       Zabour, Miss. Hileni  female  14.5      1      0   \n",
       "1305       3         0      Zabour, Miss. Thamine  female   NaN      1      0   \n",
       "1306       3         0  Zakarian, Mr. Mapriededer    male  26.5      0      0   \n",
       "1307       3         0        Zakarian, Mr. Ortin    male  27.0      0      0   \n",
       "1308       3         0         Zimmerman, Mr. Leo    male  29.0      0      0   \n",
       "\n",
       "      ticket     fare cabin embarked  \n",
       "1303    2627  14.4583   NaN        C  \n",
       "1304    2665  14.4542   NaN        C  \n",
       "1305    2665  14.4542   NaN        C  \n",
       "1306    2656   7.2250   NaN        C  \n",
       "1307    2670   7.2250   NaN        C  \n",
       "1308  315082   7.8750   NaN        S  "
      ]
     },
     "execution_count": 4,
     "metadata": {},
     "output_type": "execute_result"
    }
   ],
   "source": [
    "df.tail(6)"
   ]
  },
  {
   "cell_type": "markdown",
   "metadata": {
    "id": "-PUneqDNwinH"
   },
   "source": [
    "**T3) Get general info about the dataset**"
   ]
  },
  {
   "cell_type": "code",
   "execution_count": 5,
   "metadata": {
    "id": "4_KXpJ5AwinH"
   },
   "outputs": [
    {
     "name": "stdout",
     "output_type": "stream",
     "text": [
      "<class 'pandas.core.frame.DataFrame'>\n",
      "RangeIndex: 1309 entries, 0 to 1308\n",
      "Data columns (total 11 columns):\n",
      " #   Column    Non-Null Count  Dtype  \n",
      "---  ------    --------------  -----  \n",
      " 0   pclass    1309 non-null   int64  \n",
      " 1   survived  1309 non-null   int64  \n",
      " 2   name      1309 non-null   object \n",
      " 3   sex       1309 non-null   object \n",
      " 4   age       1046 non-null   float64\n",
      " 5   sibsp     1309 non-null   int64  \n",
      " 6   parch     1309 non-null   int64  \n",
      " 7   ticket    1309 non-null   object \n",
      " 8   fare      1308 non-null   float64\n",
      " 9   cabin     295 non-null    object \n",
      " 10  embarked  1307 non-null   object \n",
      "dtypes: float64(2), int64(4), object(5)\n",
      "memory usage: 112.6+ KB\n"
     ]
    }
   ],
   "source": [
    "df.info()"
   ]
  },
  {
   "cell_type": "markdown",
   "metadata": {
    "id": "LP6mFyy3winJ"
   },
   "source": [
    "**T4) Explore the dataset and try to understand the meaning of each variable (column). Identify which variables are categorical and which are numerical.**\n",
    "\n",
    "**Note**: Inferring the meaning of variables 'Pclass', 'SibSp', 'Parch' could be challenging; think of what is missing from the dataset and what types of people were travelling on the Titanic. If you find it more difficult, the answer is at the end of this notebook"
   ]
  },
  {
   "cell_type": "markdown",
   "metadata": {
    "id": "g20Nt3ZOwinK"
   },
   "source": [
    "pclass = passenger's class\n",
    "survived = survival\n",
    "name = passenger's name\n",
    "sex = passenger's sex\n",
    "age = passenger's age\n",
    "sibsp = passenger's no. of siblings/spouses on board\n",
    "parch = passenger's no. of parents/children on board\n",
    "ticket = passenger's ticket no.\n",
    "fare = passenger's fare\n",
    "cabin = passenger's cabin no.\n",
    "embarked = passenger's port of embarkation"
   ]
  },
  {
   "cell_type": "markdown",
   "metadata": {
    "id": "AQk0CJtRwinL"
   },
   "source": [
    "**T5) Get the shape of the dataframe**"
   ]
  },
  {
   "cell_type": "code",
   "execution_count": 7,
   "metadata": {
    "id": "4-eMH1zFwinO"
   },
   "outputs": [
    {
     "data": {
      "text/plain": [
       "(1309, 11)"
      ]
     },
     "execution_count": 7,
     "metadata": {},
     "output_type": "execute_result"
    }
   ],
   "source": [
    "df.shape"
   ]
  },
  {
   "cell_type": "markdown",
   "metadata": {
    "id": "r71faaJCwinQ"
   },
   "source": [
    "**T6) Get the name of the columns for the dataframe**"
   ]
  },
  {
   "cell_type": "code",
   "execution_count": 8,
   "metadata": {
    "id": "ViBfkXXrwinS"
   },
   "outputs": [
    {
     "data": {
      "text/plain": [
       "Index(['pclass', 'survived', 'name', 'sex', 'age', 'sibsp', 'parch', 'ticket',\n",
       "       'fare', 'cabin', 'embarked'],\n",
       "      dtype='object')"
      ]
     },
     "execution_count": 8,
     "metadata": {},
     "output_type": "execute_result"
    }
   ],
   "source": [
    "df.columns"
   ]
  },
  {
   "cell_type": "markdown",
   "metadata": {
    "id": "ao4aKaOQwinT"
   },
   "source": [
    "**T7) Do you think the columns (variables) need to be more readable? In particular, those that you might have found difficult to understand in T4**"
   ]
  },
  {
   "cell_type": "code",
   "execution_count": 9,
   "metadata": {
    "id": "MIqSbMPFwinU"
   },
   "outputs": [
    {
     "data": {
      "text/plain": [
       "Index(['ticketClass', 'survived', 'name', 'sex', 'age', 'siblingsSpouses',\n",
       "       'parentsChildren', 'ticket', 'fare', 'cabin', 'embarked'],\n",
       "      dtype='object')"
      ]
     },
     "execution_count": 9,
     "metadata": {},
     "output_type": "execute_result"
    }
   ],
   "source": [
    "df.rename(index=str, columns={\"pclass\":\"ticketClass\", \"sibsp\":\"siblingsSpouses\", \"parch\":\"parentsChildren\"}, inplace=True)\n",
    "df.columns"
   ]
  },
  {
   "cell_type": "markdown",
   "metadata": {
    "id": "iOTaqUp4winU"
   },
   "source": [
    "**T8) Are there any duplicated records?**"
   ]
  },
  {
   "cell_type": "code",
   "execution_count": 10,
   "metadata": {
    "id": "jn7kiPk1winV"
   },
   "outputs": [
    {
     "name": "stdout",
     "output_type": "stream",
     "text": [
      "0\n"
     ]
    }
   ],
   "source": [
    "duplicated = df.duplicated().sum()\n",
    "print(duplicated)"
   ]
  },
  {
   "cell_type": "markdown",
   "metadata": {
    "id": "HnWvzNGYwinW"
   },
   "source": [
    "**T9) Copy the dataset so that you manipulate the copied dataset and leave the original unaffected**\n",
    "\n",
    "**Hint**: Check the pandas documentation for help on how to copy the dataframe"
   ]
  },
  {
   "cell_type": "code",
   "execution_count": 11,
   "metadata": {
    "id": "UK8sXx9JwinX"
   },
   "outputs": [],
   "source": [
    "dff = df.copy()"
   ]
  },
  {
   "cell_type": "markdown",
   "metadata": {
    "id": "7BQPH4YiwinY"
   },
   "source": [
    "**T10) Create a new dataframe in which**\n",
    "* **a Missing variable (column) indicates the number of missing data for each variable in the titanic dataset**\n",
    "* **a Percentage variable indicates the percentage of the missing data over the size of the titanic dataset**\n",
    "\n",
    "**Print the records in this new dataframe sorted in descending order**"
   ]
  },
  {
   "cell_type": "code",
   "execution_count": 13,
   "metadata": {
    "id": "JxkcNsAIwinZ"
   },
   "outputs": [
    {
     "data": {
      "text/html": [
       "<div>\n",
       "<style scoped>\n",
       "    .dataframe tbody tr th:only-of-type {\n",
       "        vertical-align: middle;\n",
       "    }\n",
       "\n",
       "    .dataframe tbody tr th {\n",
       "        vertical-align: top;\n",
       "    }\n",
       "\n",
       "    .dataframe thead th {\n",
       "        text-align: right;\n",
       "    }\n",
       "</style>\n",
       "<table border=\"1\" class=\"dataframe\">\n",
       "  <thead>\n",
       "    <tr style=\"text-align: right;\">\n",
       "      <th></th>\n",
       "      <th>Missing</th>\n",
       "      <th>Percentage</th>\n",
       "    </tr>\n",
       "  </thead>\n",
       "  <tbody>\n",
       "    <tr>\n",
       "      <th>cabin</th>\n",
       "      <td>1014</td>\n",
       "      <td>0.774637</td>\n",
       "    </tr>\n",
       "    <tr>\n",
       "      <th>age</th>\n",
       "      <td>263</td>\n",
       "      <td>0.200917</td>\n",
       "    </tr>\n",
       "    <tr>\n",
       "      <th>embarked</th>\n",
       "      <td>2</td>\n",
       "      <td>0.001528</td>\n",
       "    </tr>\n",
       "    <tr>\n",
       "      <th>fare</th>\n",
       "      <td>1</td>\n",
       "      <td>0.000764</td>\n",
       "    </tr>\n",
       "    <tr>\n",
       "      <th>ticketClass</th>\n",
       "      <td>0</td>\n",
       "      <td>0.000000</td>\n",
       "    </tr>\n",
       "    <tr>\n",
       "      <th>survived</th>\n",
       "      <td>0</td>\n",
       "      <td>0.000000</td>\n",
       "    </tr>\n",
       "    <tr>\n",
       "      <th>name</th>\n",
       "      <td>0</td>\n",
       "      <td>0.000000</td>\n",
       "    </tr>\n",
       "    <tr>\n",
       "      <th>sex</th>\n",
       "      <td>0</td>\n",
       "      <td>0.000000</td>\n",
       "    </tr>\n",
       "    <tr>\n",
       "      <th>siblingsSpouses</th>\n",
       "      <td>0</td>\n",
       "      <td>0.000000</td>\n",
       "    </tr>\n",
       "    <tr>\n",
       "      <th>parentsChildren</th>\n",
       "      <td>0</td>\n",
       "      <td>0.000000</td>\n",
       "    </tr>\n",
       "    <tr>\n",
       "      <th>ticket</th>\n",
       "      <td>0</td>\n",
       "      <td>0.000000</td>\n",
       "    </tr>\n",
       "  </tbody>\n",
       "</table>\n",
       "</div>"
      ],
      "text/plain": [
       "                 Missing  Percentage\n",
       "cabin               1014    0.774637\n",
       "age                  263    0.200917\n",
       "embarked               2    0.001528\n",
       "fare                   1    0.000764\n",
       "ticketClass            0    0.000000\n",
       "survived               0    0.000000\n",
       "name                   0    0.000000\n",
       "sex                    0    0.000000\n",
       "siblingsSpouses        0    0.000000\n",
       "parentsChildren        0    0.000000\n",
       "ticket                 0    0.000000"
      ]
     },
     "execution_count": 13,
     "metadata": {},
     "output_type": "execute_result"
    }
   ],
   "source": [
    "missingDataSummary    = dff.isna().sum()\n",
    "missingDataPercentage = (dff.isna().sum()/dff.shape[0])\n",
    "missingData = pd.concat([missingDataSummary, missingDataPercentage], axis=1, keys=['Missing', 'Percentage'])\n",
    "missingData.sort_values(ascending=False, by='Missing')"
   ]
  },
  {
   "cell_type": "markdown",
   "metadata": {
    "id": "s4tV7izywinb"
   },
   "source": [
    "**T11) What should we do with the variable with the highest number of missing data. Consider the amount of missing data compared to the total number of available data.**"
   ]
  },
  {
   "cell_type": "code",
   "execution_count": 14,
   "metadata": {
    "id": "0MmFgIQowinb"
   },
   "outputs": [
    {
     "data": {
      "text/plain": [
       "age                263\n",
       "embarked             2\n",
       "fare                 1\n",
       "ticket               0\n",
       "parentsChildren      0\n",
       "siblingsSpouses      0\n",
       "sex                  0\n",
       "name                 0\n",
       "survived             0\n",
       "ticketClass          0\n",
       "dtype: int64"
      ]
     },
     "execution_count": 14,
     "metadata": {},
     "output_type": "execute_result"
    }
   ],
   "source": [
    "dffClean = dff.drop(columns='cabin')\n",
    "dffClean.isna().sum().sort_values(ascending=False)"
   ]
  },
  {
   "cell_type": "markdown",
   "metadata": {
    "id": "G8c6doK8winc"
   },
   "source": [
    "**T12) Impute the categorical variable (just one) with the mode value**\n"
   ]
  },
  {
   "cell_type": "code",
   "execution_count": 15,
   "metadata": {
    "id": "-qoDbNNFwine"
   },
   "outputs": [
    {
     "data": {
      "text/plain": [
       "age                263\n",
       "fare                 1\n",
       "embarked             0\n",
       "ticket               0\n",
       "parentsChildren      0\n",
       "siblingsSpouses      0\n",
       "sex                  0\n",
       "name                 0\n",
       "survived             0\n",
       "ticketClass          0\n",
       "dtype: int64"
      ]
     },
     "execution_count": 15,
     "metadata": {},
     "output_type": "execute_result"
    }
   ],
   "source": [
    "dffClean['embarked'] = dffClean['embarked'].fillna(dffClean['embarked'].mode()[0])\n",
    "dffClean.isna().sum().sort_values(ascending=False)"
   ]
  },
  {
   "cell_type": "markdown",
   "metadata": {
    "id": "YJwMWxefwinf"
   },
   "source": [
    "**T13i) Plot the histogram of the numeric variable with the largest number of missing data so as to determine the best value to fill in the missing data. Add suitable title and axis names.**\n",
    "\n",
    "**Note: You may want to use the native Pandas visualisation, matplotlib or seaborn**\n",
    "\n",
    "**Hint**: Check the relevant section from the Python Data Science Handbook (https://jakevdp.github.io/PythonDataScienceHandbook/04.05-histograms-and-binnings.html) or the Pandas documentation (https://pandas.pydata.org/pandas-docs/stable/reference/api/pandas.DataFrame.plot.hist.html)"
   ]
  },
  {
   "cell_type": "code",
   "execution_count": 23,
   "metadata": {
    "id": "HXQx78O-ICLz"
   },
   "outputs": [
    {
     "name": "stderr",
     "output_type": "stream",
     "text": [
      "C:\\Users\\jense\\anaconda3\\lib\\site-packages\\numpy\\lib\\histograms.py:839: RuntimeWarning: invalid value encountered in greater_equal\n",
      "  keep = (tmp_a >= first_edge)\n",
      "C:\\Users\\jense\\anaconda3\\lib\\site-packages\\numpy\\lib\\histograms.py:840: RuntimeWarning: invalid value encountered in less_equal\n",
      "  keep &= (tmp_a <= last_edge)\n"
     ]
    },
    {
     "data": {
      "text/plain": [
       "Text(0, 0.5, 'Age (Count)')"
      ]
     },
     "execution_count": 23,
     "metadata": {},
     "output_type": "execute_result"
    },
    {
     "data": {
      "image/png": "[encoded data removed]",
      "text/plain": [
       "<Figure size 400x300 with 1 Axes>"
      ]
     },
     "metadata": {
      "needs_background": "light"
     },
     "output_type": "display_data"
    }
   ],
   "source": [
    "plt.figure(figsize=(4,3), dpi=100)\n",
    "plt.hist(dffClean['age'], bins=20, density=False, alpha = 0.5,\n",
    "         histtype='stepfilled', color='darkorchid', edgecolor='black')\n",
    "\n",
    "plt.title(\"Histogram for age variable\",fontsize=16)\n",
    "plt.xlabel('Age',fontsize=16)                  # set x label\n",
    "plt.ylabel('Age (Count)',fontsize=16,rotation=90) # set y label"
   ]
  },
  {
   "cell_type": "markdown",
   "metadata": {
    "id": "tXWOUl3Mwinh"
   },
   "source": [
    "**T13ii) Impute the numeric variable (just one) with an appropriate value**\n",
    "\n",
    "* What value does it make sense to impute for this variable?\n"
   ]
  },
  {
   "cell_type": "code",
   "execution_count": 24,
   "metadata": {
    "id": "u6C_pF_rwini"
   },
   "outputs": [
    {
     "data": {
      "text/plain": [
       "fare               1\n",
       "embarked           0\n",
       "ticket             0\n",
       "parentsChildren    0\n",
       "siblingsSpouses    0\n",
       "age                0\n",
       "sex                0\n",
       "name               0\n",
       "survived           0\n",
       "ticketClass        0\n",
       "dtype: int64"
      ]
     },
     "execution_count": 24,
     "metadata": {},
     "output_type": "execute_result"
    }
   ],
   "source": [
    "dffClean['age'] = dffClean['age'].fillna(dffClean['age'].median())\n",
    "dffClean.isna().sum().sort_values(ascending=False)"
   ]
  },
  {
   "cell_type": "markdown",
   "metadata": {
    "id": "qCF3DhY89Us6"
   },
   "source": [
    "**T13iii) Plot the histogram again for the variable from task T13 after imputation and observe how the distribution has changed.**"
   ]
  },
  {
   "cell_type": "code",
   "execution_count": 25,
   "metadata": {
    "id": "arQA1Mss9hbE"
   },
   "outputs": [
    {
     "data": {
      "text/plain": [
       "Text(0, 0.5, 'Age (Count)')"
      ]
     },
     "execution_count": 25,
     "metadata": {},
     "output_type": "execute_result"
    },
    {
     "data": {
      "image/png": "[encoded data removed]",
      "text/plain": [
       "<Figure size 400x300 with 1 Axes>"
      ]
     },
     "metadata": {
      "needs_background": "light"
     },
     "output_type": "display_data"
    }
   ],
   "source": [
    "plt.figure(figsize=(4,3), dpi=100)\n",
    "plt.hist(dffClean['age'], bins=20, density=False, alpha = 0.5,\n",
    "         histtype='stepfilled', color='darkorchid', edgecolor='black')\n",
    "\n",
    "plt.title(\"Histogram for age variable\",fontsize=16)\n",
    "plt.xlabel('Age',fontsize=16)                  # set x label\n",
    "plt.ylabel('Age (Count)',fontsize=16,rotation=90) # set y label"
   ]
  },
  {
   "cell_type": "markdown",
   "metadata": {
    "id": "ILKMISMv31Am"
   },
   "source": [
    "**T14) What should you do about the missing value (one) of the final variable? Select the best imputation strategy and apply it**\n",
    "\n",
    "**Hint:** You may want to consider additional factors and use a more sophisticated imputation strategy"
   ]
  },
  {
   "cell_type": "code",
   "execution_count": 26,
   "metadata": {
    "id": "0-vrP4Ch4Rh_"
   },
   "outputs": [],
   "source": [
    "ticketClass = dffClean[dffClean['fare'].isna()]['ticketClass']\n",
    "if (len(ticketClass)>0):\n",
    "  fareMedian = dffClean[dffClean['ticketClass']==ticketClass[0]]['fare'].median()\n",
    "  dffClean['fare'] = dffClean['fare'].fillna(fareMedian)"
   ]
  },
  {
   "cell_type": "markdown",
   "metadata": {
    "id": "degfQun2ImKo"
   },
   "source": [
    "**T15i) Save the cleaned dataframe as a csv file with name \"titanicClean.csv\"**\n",
    "\n",
    "**Hint: Check the Pandas to_csv function**"
   ]
  },
  {
   "cell_type": "code",
   "execution_count": 27,
   "metadata": {
    "id": "7yT9x83IIw21"
   },
   "outputs": [],
   "source": [
    "file = \"titanicClean.csv\"\n",
    "dffClean.to_csv(file, index=False)"
   ]
  },
  {
   "cell_type": "markdown",
   "metadata": {
    "id": "tbF7KvIiI3ss"
   },
   "source": [
    "**T15ii) Load the cleaned dataset into a new dataframe**"
   ]
  },
  {
   "cell_type": "code",
   "execution_count": 28,
   "metadata": {
    "id": "48IsS8R2I3Xu"
   },
   "outputs": [],
   "source": [
    "titanicClean = pd.read_csv(file)"
   ]
  },
  {
   "cell_type": "markdown",
   "metadata": {
    "id": "BhTCKfTXXcrK"
   },
   "source": [
    "***\n",
    "\n",
    "### Part 3: Analysing the dataset"
   ]
  },
  {
   "cell_type": "markdown",
   "metadata": {
    "id": "oK_WEXU-winj"
   },
   "source": [
    "**T16) Get some descriptive statistics for the dataset selecting only the variables for which the descriptive statistics make sense**"
   ]
  },
  {
   "cell_type": "code",
   "execution_count": 29,
   "metadata": {
    "id": "0XkLltM6wink"
   },
   "outputs": [
    {
     "data": {
      "text/html": [
       "<div>\n",
       "<style scoped>\n",
       "    .dataframe tbody tr th:only-of-type {\n",
       "        vertical-align: middle;\n",
       "    }\n",
       "\n",
       "    .dataframe tbody tr th {\n",
       "        vertical-align: top;\n",
       "    }\n",
       "\n",
       "    .dataframe thead th {\n",
       "        text-align: right;\n",
       "    }\n",
       "</style>\n",
       "<table border=\"1\" class=\"dataframe\">\n",
       "  <thead>\n",
       "    <tr style=\"text-align: right;\">\n",
       "      <th></th>\n",
       "      <th>survived</th>\n",
       "      <th>age</th>\n",
       "      <th>siblingsSpouses</th>\n",
       "      <th>parentsChildren</th>\n",
       "      <th>fare</th>\n",
       "    </tr>\n",
       "  </thead>\n",
       "  <tbody>\n",
       "    <tr>\n",
       "      <th>count</th>\n",
       "      <td>1309.000000</td>\n",
       "      <td>1309.000000</td>\n",
       "      <td>1309.000000</td>\n",
       "      <td>1309.000000</td>\n",
       "      <td>1309.000000</td>\n",
       "    </tr>\n",
       "    <tr>\n",
       "      <th>mean</th>\n",
       "      <td>0.381971</td>\n",
       "      <td>29.503186</td>\n",
       "      <td>0.498854</td>\n",
       "      <td>0.385027</td>\n",
       "      <td>33.276193</td>\n",
       "    </tr>\n",
       "    <tr>\n",
       "      <th>std</th>\n",
       "      <td>0.486055</td>\n",
       "      <td>12.905241</td>\n",
       "      <td>1.041658</td>\n",
       "      <td>0.865560</td>\n",
       "      <td>51.743584</td>\n",
       "    </tr>\n",
       "    <tr>\n",
       "      <th>min</th>\n",
       "      <td>0.000000</td>\n",
       "      <td>0.170000</td>\n",
       "      <td>0.000000</td>\n",
       "      <td>0.000000</td>\n",
       "      <td>0.000000</td>\n",
       "    </tr>\n",
       "    <tr>\n",
       "      <th>25%</th>\n",
       "      <td>0.000000</td>\n",
       "      <td>22.000000</td>\n",
       "      <td>0.000000</td>\n",
       "      <td>0.000000</td>\n",
       "      <td>7.895800</td>\n",
       "    </tr>\n",
       "    <tr>\n",
       "      <th>50%</th>\n",
       "      <td>0.000000</td>\n",
       "      <td>28.000000</td>\n",
       "      <td>0.000000</td>\n",
       "      <td>0.000000</td>\n",
       "      <td>14.454200</td>\n",
       "    </tr>\n",
       "    <tr>\n",
       "      <th>75%</th>\n",
       "      <td>1.000000</td>\n",
       "      <td>35.000000</td>\n",
       "      <td>1.000000</td>\n",
       "      <td>0.000000</td>\n",
       "      <td>31.275000</td>\n",
       "    </tr>\n",
       "    <tr>\n",
       "      <th>max</th>\n",
       "      <td>1.000000</td>\n",
       "      <td>80.000000</td>\n",
       "      <td>8.000000</td>\n",
       "      <td>9.000000</td>\n",
       "      <td>512.329200</td>\n",
       "    </tr>\n",
       "  </tbody>\n",
       "</table>\n",
       "</div>"
      ],
      "text/plain": [
       "          survived          age  siblingsSpouses  parentsChildren         fare\n",
       "count  1309.000000  1309.000000      1309.000000      1309.000000  1309.000000\n",
       "mean      0.381971    29.503186         0.498854         0.385027    33.276193\n",
       "std       0.486055    12.905241         1.041658         0.865560    51.743584\n",
       "min       0.000000     0.170000         0.000000         0.000000     0.000000\n",
       "25%       0.000000    22.000000         0.000000         0.000000     7.895800\n",
       "50%       0.000000    28.000000         0.000000         0.000000    14.454200\n",
       "75%       1.000000    35.000000         1.000000         0.000000    31.275000\n",
       "max       1.000000    80.000000         8.000000         9.000000   512.329200"
      ]
     },
     "execution_count": 29,
     "metadata": {},
     "output_type": "execute_result"
    }
   ],
   "source": [
    "titanicClean[['survived', 'age', 'siblingsSpouses', 'parentsChildren', 'fare']].describe()"
   ]
  },
  {
   "cell_type": "markdown",
   "metadata": {
    "id": "2Tp8OBlRwinm"
   },
   "source": [
    "**T17i) For each passenger, find out how many family members she/he has in total and store this information as a new variable in the dataframe**"
   ]
  },
  {
   "cell_type": "code",
   "execution_count": 30,
   "metadata": {
    "id": "xbrMiwNdwinn"
   },
   "outputs": [],
   "source": [
    "titanicClean[\"familySize\"] = titanicClean[\"siblingsSpouses\"] + titanicClean[\"parentsChildren\"] + 1"
   ]
  },
  {
   "cell_type": "markdown",
   "metadata": {
    "id": "gcyoZXSo_J24"
   },
   "source": [
    "**T17ii) Print the records for the family with surname \"Palsson\" and confirm that the result from task T17i is correct**"
   ]
  },
  {
   "cell_type": "code",
   "execution_count": 31,
   "metadata": {
    "id": "gfF97y5Z_JKu"
   },
   "outputs": [
    {
     "data": {
      "text/html": [
       "<div>\n",
       "<style scoped>\n",
       "    .dataframe tbody tr th:only-of-type {\n",
       "        vertical-align: middle;\n",
       "    }\n",
       "\n",
       "    .dataframe tbody tr th {\n",
       "        vertical-align: top;\n",
       "    }\n",
       "\n",
       "    .dataframe thead th {\n",
       "        text-align: right;\n",
       "    }\n",
       "</style>\n",
       "<table border=\"1\" class=\"dataframe\">\n",
       "  <thead>\n",
       "    <tr style=\"text-align: right;\">\n",
       "      <th></th>\n",
       "      <th>ticketClass</th>\n",
       "      <th>survived</th>\n",
       "      <th>name</th>\n",
       "      <th>sex</th>\n",
       "      <th>age</th>\n",
       "      <th>siblingsSpouses</th>\n",
       "      <th>parentsChildren</th>\n",
       "      <th>ticket</th>\n",
       "      <th>fare</th>\n",
       "      <th>embarked</th>\n",
       "      <th>familySize</th>\n",
       "    </tr>\n",
       "  </thead>\n",
       "  <tbody>\n",
       "    <tr>\n",
       "      <th>1096</th>\n",
       "      <td>3</td>\n",
       "      <td>0</td>\n",
       "      <td>Palsson, Master. Gosta Leonard</td>\n",
       "      <td>male</td>\n",
       "      <td>2.0</td>\n",
       "      <td>3</td>\n",
       "      <td>1</td>\n",
       "      <td>349909</td>\n",
       "      <td>21.075</td>\n",
       "      <td>S</td>\n",
       "      <td>5</td>\n",
       "    </tr>\n",
       "    <tr>\n",
       "      <th>1097</th>\n",
       "      <td>3</td>\n",
       "      <td>0</td>\n",
       "      <td>Palsson, Master. Paul Folke</td>\n",
       "      <td>male</td>\n",
       "      <td>6.0</td>\n",
       "      <td>3</td>\n",
       "      <td>1</td>\n",
       "      <td>349909</td>\n",
       "      <td>21.075</td>\n",
       "      <td>S</td>\n",
       "      <td>5</td>\n",
       "    </tr>\n",
       "    <tr>\n",
       "      <th>1098</th>\n",
       "      <td>3</td>\n",
       "      <td>0</td>\n",
       "      <td>Palsson, Miss. Stina Viola</td>\n",
       "      <td>female</td>\n",
       "      <td>3.0</td>\n",
       "      <td>3</td>\n",
       "      <td>1</td>\n",
       "      <td>349909</td>\n",
       "      <td>21.075</td>\n",
       "      <td>S</td>\n",
       "      <td>5</td>\n",
       "    </tr>\n",
       "    <tr>\n",
       "      <th>1099</th>\n",
       "      <td>3</td>\n",
       "      <td>0</td>\n",
       "      <td>Palsson, Miss. Torborg Danira</td>\n",
       "      <td>female</td>\n",
       "      <td>8.0</td>\n",
       "      <td>3</td>\n",
       "      <td>1</td>\n",
       "      <td>349909</td>\n",
       "      <td>21.075</td>\n",
       "      <td>S</td>\n",
       "      <td>5</td>\n",
       "    </tr>\n",
       "    <tr>\n",
       "      <th>1100</th>\n",
       "      <td>3</td>\n",
       "      <td>0</td>\n",
       "      <td>Palsson, Mrs. Nils (Alma Cornelia Berglund)</td>\n",
       "      <td>female</td>\n",
       "      <td>29.0</td>\n",
       "      <td>0</td>\n",
       "      <td>4</td>\n",
       "      <td>349909</td>\n",
       "      <td>21.075</td>\n",
       "      <td>S</td>\n",
       "      <td>5</td>\n",
       "    </tr>\n",
       "  </tbody>\n",
       "</table>\n",
       "</div>"
      ],
      "text/plain": [
       "      ticketClass  survived                                         name  \\\n",
       "1096            3         0               Palsson, Master. Gosta Leonard   \n",
       "1097            3         0                  Palsson, Master. Paul Folke   \n",
       "1098            3         0                   Palsson, Miss. Stina Viola   \n",
       "1099            3         0                Palsson, Miss. Torborg Danira   \n",
       "1100            3         0  Palsson, Mrs. Nils (Alma Cornelia Berglund)   \n",
       "\n",
       "         sex   age  siblingsSpouses  parentsChildren  ticket    fare embarked  \\\n",
       "1096    male   2.0                3                1  349909  21.075        S   \n",
       "1097    male   6.0                3                1  349909  21.075        S   \n",
       "1098  female   3.0                3                1  349909  21.075        S   \n",
       "1099  female   8.0                3                1  349909  21.075        S   \n",
       "1100  female  29.0                0                4  349909  21.075        S   \n",
       "\n",
       "      familySize  \n",
       "1096           5  \n",
       "1097           5  \n",
       "1098           5  \n",
       "1099           5  \n",
       "1100           5  "
      ]
     },
     "execution_count": 31,
     "metadata": {},
     "output_type": "execute_result"
    }
   ],
   "source": [
    "titanicClean[titanicClean['name'].str.contains(\"Palsson\")]"
   ]
  },
  {
   "cell_type": "markdown",
   "metadata": {
    "id": "6J1X_vQqwinn"
   },
   "source": [
    "**T18): Find out and print the details of the biggest family on board**\n",
    "\n",
    "**Hint: You may want to check https://en.wikipedia.org/wiki/Passengers_of_the_Titanic or https://titanicfacts.net/titanic-passenger-list**\n",
    "\n",
    "Also read: https://en.wikipedia.org/wiki/Passengers_of_the_Titanic#Third_class"
   ]
  },
  {
   "cell_type": "code",
   "execution_count": 32,
   "metadata": {
    "id": "A6TR2qp3wino"
   },
   "outputs": [
    {
     "data": {
      "text/html": [
       "<div>\n",
       "<style scoped>\n",
       "    .dataframe tbody tr th:only-of-type {\n",
       "        vertical-align: middle;\n",
       "    }\n",
       "\n",
       "    .dataframe tbody tr th {\n",
       "        vertical-align: top;\n",
       "    }\n",
       "\n",
       "    .dataframe thead th {\n",
       "        text-align: right;\n",
       "    }\n",
       "</style>\n",
       "<table border=\"1\" class=\"dataframe\">\n",
       "  <thead>\n",
       "    <tr style=\"text-align: right;\">\n",
       "      <th></th>\n",
       "      <th>ticketClass</th>\n",
       "      <th>survived</th>\n",
       "      <th>name</th>\n",
       "      <th>sex</th>\n",
       "      <th>age</th>\n",
       "      <th>siblingsSpouses</th>\n",
       "      <th>parentsChildren</th>\n",
       "      <th>ticket</th>\n",
       "      <th>fare</th>\n",
       "      <th>embarked</th>\n",
       "      <th>familySize</th>\n",
       "    </tr>\n",
       "  </thead>\n",
       "  <tbody>\n",
       "    <tr>\n",
       "      <th>1170</th>\n",
       "      <td>3</td>\n",
       "      <td>0</td>\n",
       "      <td>Sage, Master. Thomas Henry</td>\n",
       "      <td>male</td>\n",
       "      <td>28.0</td>\n",
       "      <td>8</td>\n",
       "      <td>2</td>\n",
       "      <td>CA. 2343</td>\n",
       "      <td>69.55</td>\n",
       "      <td>S</td>\n",
       "      <td>11</td>\n",
       "    </tr>\n",
       "    <tr>\n",
       "      <th>1171</th>\n",
       "      <td>3</td>\n",
       "      <td>0</td>\n",
       "      <td>Sage, Master. William Henry</td>\n",
       "      <td>male</td>\n",
       "      <td>14.5</td>\n",
       "      <td>8</td>\n",
       "      <td>2</td>\n",
       "      <td>CA. 2343</td>\n",
       "      <td>69.55</td>\n",
       "      <td>S</td>\n",
       "      <td>11</td>\n",
       "    </tr>\n",
       "    <tr>\n",
       "      <th>1172</th>\n",
       "      <td>3</td>\n",
       "      <td>0</td>\n",
       "      <td>Sage, Miss. Ada</td>\n",
       "      <td>female</td>\n",
       "      <td>28.0</td>\n",
       "      <td>8</td>\n",
       "      <td>2</td>\n",
       "      <td>CA. 2343</td>\n",
       "      <td>69.55</td>\n",
       "      <td>S</td>\n",
       "      <td>11</td>\n",
       "    </tr>\n",
       "    <tr>\n",
       "      <th>1173</th>\n",
       "      <td>3</td>\n",
       "      <td>0</td>\n",
       "      <td>Sage, Miss. Constance Gladys</td>\n",
       "      <td>female</td>\n",
       "      <td>28.0</td>\n",
       "      <td>8</td>\n",
       "      <td>2</td>\n",
       "      <td>CA. 2343</td>\n",
       "      <td>69.55</td>\n",
       "      <td>S</td>\n",
       "      <td>11</td>\n",
       "    </tr>\n",
       "    <tr>\n",
       "      <th>1174</th>\n",
       "      <td>3</td>\n",
       "      <td>0</td>\n",
       "      <td>Sage, Miss. Dorothy Edith \"Dolly\"</td>\n",
       "      <td>female</td>\n",
       "      <td>28.0</td>\n",
       "      <td>8</td>\n",
       "      <td>2</td>\n",
       "      <td>CA. 2343</td>\n",
       "      <td>69.55</td>\n",
       "      <td>S</td>\n",
       "      <td>11</td>\n",
       "    </tr>\n",
       "    <tr>\n",
       "      <th>1175</th>\n",
       "      <td>3</td>\n",
       "      <td>0</td>\n",
       "      <td>Sage, Miss. Stella Anna</td>\n",
       "      <td>female</td>\n",
       "      <td>28.0</td>\n",
       "      <td>8</td>\n",
       "      <td>2</td>\n",
       "      <td>CA. 2343</td>\n",
       "      <td>69.55</td>\n",
       "      <td>S</td>\n",
       "      <td>11</td>\n",
       "    </tr>\n",
       "    <tr>\n",
       "      <th>1176</th>\n",
       "      <td>3</td>\n",
       "      <td>0</td>\n",
       "      <td>Sage, Mr. Douglas Bullen</td>\n",
       "      <td>male</td>\n",
       "      <td>28.0</td>\n",
       "      <td>8</td>\n",
       "      <td>2</td>\n",
       "      <td>CA. 2343</td>\n",
       "      <td>69.55</td>\n",
       "      <td>S</td>\n",
       "      <td>11</td>\n",
       "    </tr>\n",
       "    <tr>\n",
       "      <th>1177</th>\n",
       "      <td>3</td>\n",
       "      <td>0</td>\n",
       "      <td>Sage, Mr. Frederick</td>\n",
       "      <td>male</td>\n",
       "      <td>28.0</td>\n",
       "      <td>8</td>\n",
       "      <td>2</td>\n",
       "      <td>CA. 2343</td>\n",
       "      <td>69.55</td>\n",
       "      <td>S</td>\n",
       "      <td>11</td>\n",
       "    </tr>\n",
       "    <tr>\n",
       "      <th>1178</th>\n",
       "      <td>3</td>\n",
       "      <td>0</td>\n",
       "      <td>Sage, Mr. George John Jr</td>\n",
       "      <td>male</td>\n",
       "      <td>28.0</td>\n",
       "      <td>8</td>\n",
       "      <td>2</td>\n",
       "      <td>CA. 2343</td>\n",
       "      <td>69.55</td>\n",
       "      <td>S</td>\n",
       "      <td>11</td>\n",
       "    </tr>\n",
       "    <tr>\n",
       "      <th>1179</th>\n",
       "      <td>3</td>\n",
       "      <td>0</td>\n",
       "      <td>Sage, Mr. John George</td>\n",
       "      <td>male</td>\n",
       "      <td>28.0</td>\n",
       "      <td>1</td>\n",
       "      <td>9</td>\n",
       "      <td>CA. 2343</td>\n",
       "      <td>69.55</td>\n",
       "      <td>S</td>\n",
       "      <td>11</td>\n",
       "    </tr>\n",
       "    <tr>\n",
       "      <th>1180</th>\n",
       "      <td>3</td>\n",
       "      <td>0</td>\n",
       "      <td>Sage, Mrs. John (Annie Bullen)</td>\n",
       "      <td>female</td>\n",
       "      <td>28.0</td>\n",
       "      <td>1</td>\n",
       "      <td>9</td>\n",
       "      <td>CA. 2343</td>\n",
       "      <td>69.55</td>\n",
       "      <td>S</td>\n",
       "      <td>11</td>\n",
       "    </tr>\n",
       "  </tbody>\n",
       "</table>\n",
       "</div>"
      ],
      "text/plain": [
       "      ticketClass  survived                               name     sex   age  \\\n",
       "1170            3         0         Sage, Master. Thomas Henry    male  28.0   \n",
       "1171            3         0        Sage, Master. William Henry    male  14.5   \n",
       "1172            3         0                    Sage, Miss. Ada  female  28.0   \n",
       "1173            3         0       Sage, Miss. Constance Gladys  female  28.0   \n",
       "1174            3         0  Sage, Miss. Dorothy Edith \"Dolly\"  female  28.0   \n",
       "1175            3         0            Sage, Miss. Stella Anna  female  28.0   \n",
       "1176            3         0           Sage, Mr. Douglas Bullen    male  28.0   \n",
       "1177            3         0                Sage, Mr. Frederick    male  28.0   \n",
       "1178            3         0           Sage, Mr. George John Jr    male  28.0   \n",
       "1179            3         0              Sage, Mr. John George    male  28.0   \n",
       "1180            3         0     Sage, Mrs. John (Annie Bullen)  female  28.0   \n",
       "\n",
       "      siblingsSpouses  parentsChildren    ticket   fare embarked  familySize  \n",
       "1170                8                2  CA. 2343  69.55        S          11  \n",
       "1171                8                2  CA. 2343  69.55        S          11  \n",
       "1172                8                2  CA. 2343  69.55        S          11  \n",
       "1173                8                2  CA. 2343  69.55        S          11  \n",
       "1174                8                2  CA. 2343  69.55        S          11  \n",
       "1175                8                2  CA. 2343  69.55        S          11  \n",
       "1176                8                2  CA. 2343  69.55        S          11  \n",
       "1177                8                2  CA. 2343  69.55        S          11  \n",
       "1178                8                2  CA. 2343  69.55        S          11  \n",
       "1179                1                9  CA. 2343  69.55        S          11  \n",
       "1180                1                9  CA. 2343  69.55        S          11  "
      ]
     },
     "execution_count": 32,
     "metadata": {},
     "output_type": "execute_result"
    }
   ],
   "source": [
    "titanicClean[titanicClean['familySize']==max(titanicClean[\"familySize\"])]"
   ]
  },
  {
   "cell_type": "markdown",
   "metadata": {
    "id": "PZHejf2mwinx"
   },
   "source": [
    "**T19i) How was the ticket fare for class 1 distributed? Generate a boxplot and investigate whether there are any interesting insights**\n",
    "\n",
    "**Hint**: You may want to check: https://pandas.pydata.org/pandas-docs/stable/reference/api/pandas.DataFrame.boxplot.html"
   ]
  },
  {
   "cell_type": "code",
   "execution_count": 37,
   "metadata": {
    "id": "EvTRglKiLo-l"
   },
   "outputs": [
    {
     "data": {
      "image/png": "[encoded data removed]",
      "text/plain": [
       "<Figure size 100x500 with 1 Axes>"
      ]
     },
     "metadata": {
      "needs_background": "light"
     },
     "output_type": "display_data"
    }
   ],
   "source": [
    "plt.figure(figsize=(1,5), dpi=100)\n",
    "ax = titanicClean[titanicClean['ticketClass']==1].boxplot(column='fare')\n",
    "ax.set_title(\"Boxplot for ticket fares of class 1\")\n",
    "ax.set_ylabel('Fare',fontsize=16,rotation=90) # set y label\n",
    "ax.set_xlabel('Class 1',fontsize=16)\n",
    "ax.grid(False)"
   ]
  },
  {
   "cell_type": "markdown",
   "metadata": {
    "id": "qXmGbrimEyfp"
   },
   "source": [
    "**T19ii) Do you see any weird fare values? Check if there are any outliers for the ticket fares of class 1 using the standard deviation method.**"
   ]
  },
  {
   "cell_type": "code",
   "execution_count": 39,
   "metadata": {
    "id": "U-isW7-kEx_y"
   },
   "outputs": [
    {
     "name": "stdout",
     "output_type": "stream",
     "text": [
      "49     512.3292\n",
      "50     512.3292\n",
      "183    512.3292\n",
      "302    512.3292\n",
      "Name: fare, dtype: float64\n"
     ]
    }
   ],
   "source": [
    "fareClass1 = titanicClean[titanicClean['ticketClass']==1]['fare']\n",
    "\n",
    "fareStd   = np.std(fareClass1)\n",
    "fareMean  = np.mean(fareClass1) \n",
    "\n",
    "fareOutliers = fareClass1[(fareClass1 > fareMean + 3 *fareStd) | (fareClass1 < fareMean - 3 *fareStd)]\n",
    "print(fareOutliers)"
   ]
  },
  {
   "cell_type": "markdown",
   "metadata": {
    "id": "DfSnDjQYOATY"
   },
   "source": [
    "**T19iii) Print the information for those passengers**\n",
    "\n",
    "You can read the interesting story of the passengers and their families at:\n",
    "- https://www.encyclopedia-titanica.org/titanic-survivor/charlotte-cardeza.html\n",
    "- https://www.encyclopedia-titanica.org/titanic-survivor/annie-moore-ward.html\n"
   ]
  },
  {
   "cell_type": "code",
   "execution_count": 40,
   "metadata": {
    "id": "VOtEI_cdOGkh"
   },
   "outputs": [
    {
     "data": {
      "text/html": [
       "<div>\n",
       "<style scoped>\n",
       "    .dataframe tbody tr th:only-of-type {\n",
       "        vertical-align: middle;\n",
       "    }\n",
       "\n",
       "    .dataframe tbody tr th {\n",
       "        vertical-align: top;\n",
       "    }\n",
       "\n",
       "    .dataframe thead th {\n",
       "        text-align: right;\n",
       "    }\n",
       "</style>\n",
       "<table border=\"1\" class=\"dataframe\">\n",
       "  <thead>\n",
       "    <tr style=\"text-align: right;\">\n",
       "      <th></th>\n",
       "      <th>ticketClass</th>\n",
       "      <th>survived</th>\n",
       "      <th>name</th>\n",
       "      <th>sex</th>\n",
       "      <th>age</th>\n",
       "      <th>siblingsSpouses</th>\n",
       "      <th>parentsChildren</th>\n",
       "      <th>ticket</th>\n",
       "      <th>fare</th>\n",
       "      <th>embarked</th>\n",
       "      <th>familySize</th>\n",
       "    </tr>\n",
       "  </thead>\n",
       "  <tbody>\n",
       "    <tr>\n",
       "      <th>49</th>\n",
       "      <td>1</td>\n",
       "      <td>1</td>\n",
       "      <td>Cardeza, Mr. Thomas Drake Martinez</td>\n",
       "      <td>male</td>\n",
       "      <td>36.0</td>\n",
       "      <td>0</td>\n",
       "      <td>1</td>\n",
       "      <td>PC 17755</td>\n",
       "      <td>512.3292</td>\n",
       "      <td>C</td>\n",
       "      <td>2</td>\n",
       "    </tr>\n",
       "    <tr>\n",
       "      <th>50</th>\n",
       "      <td>1</td>\n",
       "      <td>1</td>\n",
       "      <td>Cardeza, Mrs. James Warburton Martinez (Charlo...</td>\n",
       "      <td>female</td>\n",
       "      <td>58.0</td>\n",
       "      <td>0</td>\n",
       "      <td>1</td>\n",
       "      <td>PC 17755</td>\n",
       "      <td>512.3292</td>\n",
       "      <td>C</td>\n",
       "      <td>2</td>\n",
       "    </tr>\n",
       "    <tr>\n",
       "      <th>183</th>\n",
       "      <td>1</td>\n",
       "      <td>1</td>\n",
       "      <td>Lesurer, Mr. Gustave J</td>\n",
       "      <td>male</td>\n",
       "      <td>35.0</td>\n",
       "      <td>0</td>\n",
       "      <td>0</td>\n",
       "      <td>PC 17755</td>\n",
       "      <td>512.3292</td>\n",
       "      <td>C</td>\n",
       "      <td>1</td>\n",
       "    </tr>\n",
       "    <tr>\n",
       "      <th>302</th>\n",
       "      <td>1</td>\n",
       "      <td>1</td>\n",
       "      <td>Ward, Miss. Anna</td>\n",
       "      <td>female</td>\n",
       "      <td>35.0</td>\n",
       "      <td>0</td>\n",
       "      <td>0</td>\n",
       "      <td>PC 17755</td>\n",
       "      <td>512.3292</td>\n",
       "      <td>C</td>\n",
       "      <td>1</td>\n",
       "    </tr>\n",
       "  </tbody>\n",
       "</table>\n",
       "</div>"
      ],
      "text/plain": [
       "     ticketClass  survived                                               name  \\\n",
       "49             1         1                 Cardeza, Mr. Thomas Drake Martinez   \n",
       "50             1         1  Cardeza, Mrs. James Warburton Martinez (Charlo...   \n",
       "183            1         1                             Lesurer, Mr. Gustave J   \n",
       "302            1         1                                   Ward, Miss. Anna   \n",
       "\n",
       "        sex   age  siblingsSpouses  parentsChildren    ticket      fare  \\\n",
       "49     male  36.0                0                1  PC 17755  512.3292   \n",
       "50   female  58.0                0                1  PC 17755  512.3292   \n",
       "183    male  35.0                0                0  PC 17755  512.3292   \n",
       "302  female  35.0                0                0  PC 17755  512.3292   \n",
       "\n",
       "    embarked  familySize  \n",
       "49         C           2  \n",
       "50         C           2  \n",
       "183        C           1  \n",
       "302        C           1  "
      ]
     },
     "execution_count": 40,
     "metadata": {},
     "output_type": "execute_result"
    }
   ],
   "source": [
    "titanicClean[titanicClean['fare']==fareOutliers.iloc[0]]"
   ]
  },
  {
   "cell_type": "markdown",
   "metadata": {
    "id": "5AKAmMTywino"
   },
   "source": [
    "**T20) Given that Titanic stopped in three ports (C = Cherbourg, Q = Queenstown, S = Southampton) before departing from the UK, can we identify any patterns regarding the ports at which passengers embarked on the Titanic? Produce a bar plot to illustrate this**\n",
    "\n",
    "**Hint:** You may want to check: https://pandas.pydata.org/pandas-docs/stable/reference/api/pandas.DataFrame.plot.bar.html"
   ]
  },
  {
   "cell_type": "code",
   "execution_count": 43,
   "metadata": {
    "id": "_1ZqwcWcQCfb"
   },
   "outputs": [
    {
     "data": {
      "image/png": "[encoded data removed]",
      "text/plain": [
       "<Figure size 400x300 with 1 Axes>"
      ]
     },
     "metadata": {
      "needs_background": "light"
     },
     "output_type": "display_data"
    }
   ],
   "source": [
    "embarked = titanicClean.groupby('embarked').count()['ticketClass']\n",
    "plt.figure(figsize=(4,3), dpi=100)\n",
    "\n",
    "plt.bar(embarked.index, embarked, color='darkorchid', alpha = 0.5, edgecolor='black')\n",
    "plt.title(\"Barplot based on embarked port\", fontsize=16)\n",
    "plt.xlabel('Port',fontsize=16) # set x label\n",
    "plt.ylabel('embarked',fontsize=16,rotation=90) # set y label\n",
    "ax.grid(False)"
   ]
  },
  {
   "cell_type": "markdown",
   "metadata": {
    "id": "RsmCLDVdwin-"
   },
   "source": [
    "### Brain Teaser\n",
    "**Generate a new column 'Title' that includes the title of each passenger and has only the following entries:**\n",
    "* Master, Miss, Mr, Mss \n",
    "\n",
    "where\n",
    "* Miss includes also Mlle and Ms\n",
    "* Mme includes also Mrs\n",
    "* all the remaining titles become Rare"
   ]
  },
  {
   "cell_type": "code",
   "execution_count": null,
   "metadata": {
    "id": "Wa51iqb1win_"
   },
   "outputs": [],
   "source": [
    "#Write your answer here\n"
   ]
  },
  {
   "cell_type": "code",
   "execution_count": null,
   "metadata": {
    "id": "xpppXTAHwioC"
   },
   "outputs": [],
   "source": [
    "# Answers to T4\n",
    "# - Pclass     Ticket class\t     \n",
    "# - SibSp      # of siblings/spouses aboard the Titanic\n",
    "# - Parch      # of parents / children aboard the Titanic"
   ]
  }
 ],
 "metadata": {
  "colab": {
   "collapsed_sections": [],
   "name": "DAT1-Practical6-Questions.ipynb",
   "provenance": []
  },
  "kernelspec": {
   "display_name": "Python 3",
   "language": "python",
   "name": "python3"
  },
  "language_info": {
   "codemirror_mode": {
    "name": "ipython",
    "version": 3
   },
   "file_extension": ".py",
   "mimetype": "text/x-python",
   "name": "python",
   "nbconvert_exporter": "python",
   "pygments_lexer": "ipython3",
   "version": "3.8.3"
  }
 },
 "nbformat": 4,
 "nbformat_minor": 1
}
